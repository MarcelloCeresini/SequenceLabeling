{
 "cells": [
  {
   "cell_type": "code",
   "execution_count": 1,
   "metadata": {
    "colab": {
     "base_uri": "https://localhost:8080/"
    },
    "id": "3Xub2I7wmsiQ",
    "outputId": "df2ad6ac-5aa6-4234-8799-90d6fee69c15"
   },
   "outputs": [],
   "source": [
    "# COLAB ONLY CELLS\n",
    "try:\n",
    "    import google.colab\n",
    "    IN_COLAB = True\n",
    "    !pip install -U gensim  # Install gensim 4\n",
    "    !nvidia-smi             # Check which GPU has been chosen for us\n",
    "    !rm -rf logs\n",
    "except:\n",
    "    IN_COLAB = False"
   ]
  },
  {
   "cell_type": "markdown",
   "metadata": {
    "id": "dPBWIBPLmsiV"
   },
   "source": [
    "# Assignment 1"
   ]
  },
  {
   "cell_type": "markdown",
   "metadata": {
    "id": "1F0Pk2VGmsiW"
   },
   "source": [
    "## Data Preprocessing"
   ]
  },
  {
   "cell_type": "markdown",
   "metadata": {
    "id": "6bAbU4mxmsiX"
   },
   "source": [
    "### Imports"
   ]
  },
  {
   "cell_type": "code",
   "execution_count": 2,
   "metadata": {
    "colab": {
     "base_uri": "https://localhost:8080/"
    },
    "id": "3mSNOKGVmsiX",
    "outputId": "a2b3248b-38c1-4774-9a85-70f375afef94"
   },
   "outputs": [],
   "source": [
    "%load_ext tensorboard\n",
    "\n",
    "import os\n",
    "import requests\n",
    "import zipfile\n",
    "from tqdm import tqdm\n",
    "import time\n",
    "import random\n",
    "import datetime\n",
    "from IPython.display import display\n",
    "from functools import partial\n",
    "\n",
    "from typing import List, Dict, Callable, Sequence, Tuple\n",
    "\n",
    "from sklearn.metrics import f1_score, confusion_matrix, ConfusionMatrixDisplay\n",
    "\n",
    "import json\n",
    "import numpy as np\n",
    "import pandas as pd\n",
    "import matplotlib.pyplot as plt\n",
    "import tensorflow as tf\n",
    "from tensorflow import keras\n",
    "from tensorflow.keras import layers\n",
    "\n",
    "import gensim\n",
    "import gensim.downloader as gloader\n",
    "assert int(gensim.__version__.split('.')[0]) >= 4, \"Install gensim 4.x.x or above (pip install -U gensim)\"\n",
    "\n",
    "%matplotlib inline\n",
    "\n",
    "BATCH_SIZE = 128\n",
    "\n",
    "# Fix random seed for reproducibility\n",
    "RANDOM_SEED = 128\n",
    "np.random.seed(RANDOM_SEED)\n",
    "random.seed(RANDOM_SEED)\n",
    "tf.random.set_seed(RANDOM_SEED)"
   ]
  },
  {
   "cell_type": "markdown",
   "metadata": {
    "id": "GxKZ6fP2msiY"
   },
   "source": [
    "### Downloading the Dataset"
   ]
  },
  {
   "cell_type": "code",
   "execution_count": 3,
   "metadata": {
    "id": "69s_G1OAmsiZ"
   },
   "outputs": [],
   "source": [
    "ROOT_PATH = os.path.dirname(os.getcwd())\n",
    "DATA_PATH = os.path.join(ROOT_PATH, 'data')\n",
    "\n",
    "def save_response_content(response, destination):\n",
    "    CHUNK_SIZE = 32768\n",
    "\n",
    "    with open(destination, \"wb\") as f:\n",
    "        for chunk in response.iter_content(CHUNK_SIZE):\n",
    "            if chunk: # filter out keep-alive new chunks\n",
    "                f.write(chunk)\n",
    "\n",
    "def download_data(data_path):\n",
    "    final_path = os.path.join(data_path, 'dependency_treebank.zip')\n",
    "    url = \"https://raw.githubusercontent.com/nltk/nltk_data/gh-pages/packages/corpora/dependency_treebank.zip\"\n",
    "\n",
    "    if not os.path.exists(data_path):\n",
    "        os.makedirs(data_path)\n",
    "\n",
    "    if not os.path.exists(final_path):\n",
    "        print(\"Downloading dataset...\")\n",
    "        with requests.Session() as current_session:\n",
    "            response = current_session.get(url, stream=True)\n",
    "        save_response_content(response, final_path)\n",
    "        print(\"Download completed!\")\n",
    "\n",
    "        print(\"Extracting dataset...\")\n",
    "        with zipfile.ZipFile(final_path) as loaded_zip:\n",
    "            loaded_zip.extractall(data_path)\n",
    "        print(\"Extraction completed!\")\n",
    "\n",
    "download_data(DATA_PATH)\n",
    "\n",
    "# The new data path is:\n",
    "DATA_PATH = os.path.join(DATA_PATH, 'dependency_treebank')"
   ]
  },
  {
   "cell_type": "markdown",
   "metadata": {
    "id": "1Yyndfu4msia"
   },
   "source": [
    "### Dataset Exploration"
   ]
  },
  {
   "cell_type": "markdown",
   "metadata": {
    "id": "Ck7V80VUmsib"
   },
   "source": [
    "The dataset is composed of several files whose naming convention is `wsj_{num}.dp`. We explore the content of the first file:"
   ]
  },
  {
   "cell_type": "code",
   "execution_count": 4,
   "metadata": {
    "colab": {
     "base_uri": "https://localhost:8080/"
    },
    "id": "UyweYwjimsib",
    "outputId": "9f5dd131-e288-438f-d955-18b4576aefb8"
   },
   "outputs": [
    {
     "name": "stdout",
     "output_type": "stream",
     "text": [
      "['Pierre\\tNNP\\t2', 'Vinken\\tNNP\\t8', ',\\t,\\t2', '61\\tCD\\t5', 'years\\tNNS\\t6', 'old\\tJJ\\t2', ',\\t,\\t2', 'will\\tMD\\t0', 'join\\tVB\\t8', 'the\\tDT\\t11', 'board\\tNN\\t9', 'as\\tIN\\t9', 'a\\tDT\\t15', 'nonexecutive\\tJJ\\t15', 'director\\tNN\\t12', 'Nov.\\tNNP\\t9', '29\\tCD\\t16', '.\\t.\\t8', '', 'Mr.\\tNNP\\t2', 'Vinken\\tNNP\\t3', 'is\\tVBZ\\t0', 'chairman\\tNN\\t3', 'of\\tIN\\t4', 'Elsevier\\tNNP\\t7', 'N.V.\\tNNP\\t12', ',\\t,\\t12', 'the\\tDT\\t12', 'Dutch\\tNNP\\t12', 'publishing\\tVBG\\t12', 'group\\tNN\\t5', '.\\t.\\t3']\n"
     ]
    }
   ],
   "source": [
    "with open(os.path.join(DATA_PATH, 'wsj_0001.dp'), 'r') as f:\n",
    "    lines = [l.rstrip() for l in f.readlines()]\n",
    "\n",
    "print(lines)"
   ]
  },
  {
   "cell_type": "markdown",
   "metadata": {
    "id": "PkqNpaA6msic"
   },
   "source": [
    "Each file contains a paragraph of text, optionally composed of multiple sentences. \n",
    "\n",
    "The paragraph is structured as a sequence of lines, each line containing a word, a tag and a number separated by `\\t` tags. We don't care about the number, so we ignore the third element.\n",
    "\n",
    "We can define a function that given a file processes its content and returns a Pandas `DataFrame` for each sentence extracted from the file."
   ]
  },
  {
   "cell_type": "code",
   "execution_count": 30,
   "metadata": {
    "colab": {
     "base_uri": "https://localhost:8080/",
     "height": 1000
    },
    "id": "Pk6Ua-Fdmsid",
    "outputId": "63a64af9-d796-4027-ca3e-a284c7890f51"
   },
   "outputs": [
    {
     "data": {
      "text/html": [
       "<div>\n",
       "<style scoped>\n",
       "    .dataframe tbody tr th:only-of-type {\n",
       "        vertical-align: middle;\n",
       "    }\n",
       "\n",
       "    .dataframe tbody tr th {\n",
       "        vertical-align: top;\n",
       "    }\n",
       "\n",
       "    .dataframe thead th {\n",
       "        text-align: right;\n",
       "    }\n",
       "</style>\n",
       "<table border=\"1\" class=\"dataframe\">\n",
       "  <thead>\n",
       "    <tr style=\"text-align: right;\">\n",
       "      <th></th>\n",
       "      <th>word</th>\n",
       "      <th>tag</th>\n",
       "    </tr>\n",
       "  </thead>\n",
       "  <tbody>\n",
       "    <tr>\n",
       "      <th>0</th>\n",
       "      <td>Pierre</td>\n",
       "      <td>NNP</td>\n",
       "    </tr>\n",
       "    <tr>\n",
       "      <th>1</th>\n",
       "      <td>Vinken</td>\n",
       "      <td>NNP</td>\n",
       "    </tr>\n",
       "    <tr>\n",
       "      <th>2</th>\n",
       "      <td>,</td>\n",
       "      <td>,</td>\n",
       "    </tr>\n",
       "    <tr>\n",
       "      <th>3</th>\n",
       "      <td>61</td>\n",
       "      <td>CD</td>\n",
       "    </tr>\n",
       "    <tr>\n",
       "      <th>4</th>\n",
       "      <td>years</td>\n",
       "      <td>NNS</td>\n",
       "    </tr>\n",
       "    <tr>\n",
       "      <th>5</th>\n",
       "      <td>old</td>\n",
       "      <td>JJ</td>\n",
       "    </tr>\n",
       "    <tr>\n",
       "      <th>6</th>\n",
       "      <td>,</td>\n",
       "      <td>,</td>\n",
       "    </tr>\n",
       "    <tr>\n",
       "      <th>7</th>\n",
       "      <td>will</td>\n",
       "      <td>MD</td>\n",
       "    </tr>\n",
       "    <tr>\n",
       "      <th>8</th>\n",
       "      <td>join</td>\n",
       "      <td>VB</td>\n",
       "    </tr>\n",
       "    <tr>\n",
       "      <th>9</th>\n",
       "      <td>the</td>\n",
       "      <td>DT</td>\n",
       "    </tr>\n",
       "    <tr>\n",
       "      <th>10</th>\n",
       "      <td>board</td>\n",
       "      <td>NN</td>\n",
       "    </tr>\n",
       "    <tr>\n",
       "      <th>11</th>\n",
       "      <td>as</td>\n",
       "      <td>IN</td>\n",
       "    </tr>\n",
       "    <tr>\n",
       "      <th>12</th>\n",
       "      <td>a</td>\n",
       "      <td>DT</td>\n",
       "    </tr>\n",
       "    <tr>\n",
       "      <th>13</th>\n",
       "      <td>nonexecutive</td>\n",
       "      <td>JJ</td>\n",
       "    </tr>\n",
       "    <tr>\n",
       "      <th>14</th>\n",
       "      <td>director</td>\n",
       "      <td>NN</td>\n",
       "    </tr>\n",
       "    <tr>\n",
       "      <th>15</th>\n",
       "      <td>Nov.</td>\n",
       "      <td>NNP</td>\n",
       "    </tr>\n",
       "    <tr>\n",
       "      <th>16</th>\n",
       "      <td>29</td>\n",
       "      <td>CD</td>\n",
       "    </tr>\n",
       "    <tr>\n",
       "      <th>17</th>\n",
       "      <td>.</td>\n",
       "      <td>.</td>\n",
       "    </tr>\n",
       "  </tbody>\n",
       "</table>\n",
       "</div>"
      ],
      "text/plain": [
       "            word  tag\n",
       "0         Pierre  NNP\n",
       "1         Vinken  NNP\n",
       "2              ,    ,\n",
       "3             61   CD\n",
       "4          years  NNS\n",
       "5            old   JJ\n",
       "6              ,    ,\n",
       "7           will   MD\n",
       "8           join   VB\n",
       "9            the   DT\n",
       "10         board   NN\n",
       "11            as   IN\n",
       "12             a   DT\n",
       "13  nonexecutive   JJ\n",
       "14      director   NN\n",
       "15          Nov.  NNP\n",
       "16            29   CD\n",
       "17             .    ."
      ]
     },
     "metadata": {},
     "output_type": "display_data"
    },
    {
     "data": {
      "text/html": [
       "<div>\n",
       "<style scoped>\n",
       "    .dataframe tbody tr th:only-of-type {\n",
       "        vertical-align: middle;\n",
       "    }\n",
       "\n",
       "    .dataframe tbody tr th {\n",
       "        vertical-align: top;\n",
       "    }\n",
       "\n",
       "    .dataframe thead th {\n",
       "        text-align: right;\n",
       "    }\n",
       "</style>\n",
       "<table border=\"1\" class=\"dataframe\">\n",
       "  <thead>\n",
       "    <tr style=\"text-align: right;\">\n",
       "      <th></th>\n",
       "      <th>word</th>\n",
       "      <th>tag</th>\n",
       "    </tr>\n",
       "  </thead>\n",
       "  <tbody>\n",
       "    <tr>\n",
       "      <th>18</th>\n",
       "      <td>Mr.</td>\n",
       "      <td>NNP</td>\n",
       "    </tr>\n",
       "    <tr>\n",
       "      <th>19</th>\n",
       "      <td>Vinken</td>\n",
       "      <td>NNP</td>\n",
       "    </tr>\n",
       "    <tr>\n",
       "      <th>20</th>\n",
       "      <td>is</td>\n",
       "      <td>VBZ</td>\n",
       "    </tr>\n",
       "    <tr>\n",
       "      <th>21</th>\n",
       "      <td>chairman</td>\n",
       "      <td>NN</td>\n",
       "    </tr>\n",
       "    <tr>\n",
       "      <th>22</th>\n",
       "      <td>of</td>\n",
       "      <td>IN</td>\n",
       "    </tr>\n",
       "    <tr>\n",
       "      <th>23</th>\n",
       "      <td>Elsevier</td>\n",
       "      <td>NNP</td>\n",
       "    </tr>\n",
       "    <tr>\n",
       "      <th>24</th>\n",
       "      <td>N.V.</td>\n",
       "      <td>NNP</td>\n",
       "    </tr>\n",
       "    <tr>\n",
       "      <th>25</th>\n",
       "      <td>,</td>\n",
       "      <td>,</td>\n",
       "    </tr>\n",
       "    <tr>\n",
       "      <th>26</th>\n",
       "      <td>the</td>\n",
       "      <td>DT</td>\n",
       "    </tr>\n",
       "    <tr>\n",
       "      <th>27</th>\n",
       "      <td>Dutch</td>\n",
       "      <td>NNP</td>\n",
       "    </tr>\n",
       "    <tr>\n",
       "      <th>28</th>\n",
       "      <td>publishing</td>\n",
       "      <td>VBG</td>\n",
       "    </tr>\n",
       "    <tr>\n",
       "      <th>29</th>\n",
       "      <td>group</td>\n",
       "      <td>NN</td>\n",
       "    </tr>\n",
       "    <tr>\n",
       "      <th>30</th>\n",
       "      <td>.</td>\n",
       "      <td>.</td>\n",
       "    </tr>\n",
       "  </tbody>\n",
       "</table>\n",
       "</div>"
      ],
      "text/plain": [
       "          word  tag\n",
       "18         Mr.  NNP\n",
       "19      Vinken  NNP\n",
       "20          is  VBZ\n",
       "21    chairman   NN\n",
       "22          of   IN\n",
       "23    Elsevier  NNP\n",
       "24        N.V.  NNP\n",
       "25           ,    ,\n",
       "26         the   DT\n",
       "27       Dutch  NNP\n",
       "28  publishing  VBG\n",
       "29       group   NN\n",
       "30           .    ."
      ]
     },
     "metadata": {},
     "output_type": "display_data"
    }
   ],
   "source": [
    "def process_file(filepath: str):\n",
    "    with open(filepath, 'r') as f:\n",
    "        # They are not technically csv files, but they are text files\n",
    "        # so we can still use the same function.\n",
    "        df = pd.read_csv(f, sep='\\t', names=['word','tag','drop'])\n",
    "    # Drop the last column\n",
    "    df = df.drop(['drop'], axis=1)\n",
    "    # Find indices of the dataframe categorized as points\n",
    "    # meaning we have found the beginning of a new sentence.\n",
    "    points_indices = df.index[df['tag'] == '.']\n",
    "    \n",
    "    # Split dataframes based on those indices\n",
    "    sentences = []\n",
    "    last_index = 0\n",
    "    for idx in points_indices:\n",
    "        sentences.append(df.iloc[last_index:idx+1])\n",
    "        last_index = idx+1\n",
    "    return sentences\n",
    "\n",
    "# Example:\n",
    "test_sentences = process_file(os.path.join(DATA_PATH, 'wsj_0001.dp'))\n",
    "for sentence in test_sentences:\n",
    "    display(sentence)"
   ]
  },
  {
   "cell_type": "markdown",
   "metadata": {
    "id": "xHAoWvFbmsie"
   },
   "source": [
    "### Dataset splits"
   ]
  },
  {
   "cell_type": "markdown",
   "metadata": {
    "id": "cTROSjwVmsie"
   },
   "source": [
    "We are required to split the dataset using:\n",
    "- Documents 1-100 as the train set.\n",
    "- Documents 101-150 as the validation set.\n",
    "- Documents 151-199 as the test set."
   ]
  },
  {
   "cell_type": "markdown",
   "metadata": {
    "id": "nK9JytVEmsif"
   },
   "source": [
    "First, we compute all filenames for the splits."
   ]
  },
  {
   "cell_type": "code",
   "execution_count": 31,
   "metadata": {
    "id": "fkl-ux9Xmsif"
   },
   "outputs": [],
   "source": [
    "train_filenames = [ os.path.join(DATA_PATH, 'wsj_{:04d}.dp'.format(x)) for x in range(1  , 101) ] \n",
    "val_filenames   = [ os.path.join(DATA_PATH, 'wsj_{:04d}.dp'.format(x)) for x in range(101, 151) ]\n",
    "test_filenames  = [ os.path.join(DATA_PATH, 'wsj_{:04d}.dp'.format(x)) for x in range(151, 200) ]"
   ]
  },
  {
   "cell_type": "markdown",
   "metadata": {
    "id": "Ai0O8wbqmsif"
   },
   "source": [
    "Then, we translate the filenames into dataframes."
   ]
  },
  {
   "cell_type": "code",
   "execution_count": 32,
   "metadata": {
    "id": "-dYnf69zmsif"
   },
   "outputs": [],
   "source": [
    "train_sentences = [ sentence for file in train_filenames for sentence in process_file(file) ]\n",
    "val_sentences   = [ sentence for file in val_filenames   for sentence in process_file(file) ]\n",
    "test_sentences  = [ sentence for file in test_filenames  for sentence in process_file(file) ]"
   ]
  },
  {
   "cell_type": "markdown",
   "metadata": {
    "id": "9mW6RwH-msig"
   },
   "source": [
    "Here we define some utility functions that we can use to obtain sentences in other forms."
   ]
  },
  {
   "cell_type": "code",
   "execution_count": 33,
   "metadata": {
    "colab": {
     "base_uri": "https://localhost:8080/"
    },
    "id": "YgVdhAbtmsig",
    "outputId": "fb601969-a069-4e41-f793-d8297281fa08"
   },
   "outputs": [
    {
     "name": "stdout",
     "output_type": "stream",
     "text": [
      "['Mr.', 'Vinken', 'is', 'chairman', 'of', 'Elsevier', 'N.V.', ',', 'the', 'Dutch', 'publishing', 'group', '.']\n",
      "Mr. Vinken is chairman of Elsevier N.V. , the Dutch publishing group .\n"
     ]
    }
   ],
   "source": [
    "def get_list_of_words_from_sentence(sentence: pd.DataFrame):\n",
    "    return list(sentence['word'])\n",
    "\n",
    "def get_natural_language_sentence(sentence):\n",
    "    if isinstance(sentence, pd.DataFrame):\n",
    "        sentence = get_list_of_words_from_sentence(sentence)\n",
    "    return \" \".join(sentence)\n",
    "\n",
    "sen_test = train_sentences[1]\n",
    "print(get_list_of_words_from_sentence(sen_test))\n",
    "print(get_natural_language_sentence(sen_test))"
   ]
  },
  {
   "cell_type": "markdown",
   "metadata": {
    "id": "SEsvKnKImsig"
   },
   "source": [
    "### Dataset Analysis"
   ]
  },
  {
   "cell_type": "markdown",
   "metadata": {
    "id": "F0hhKwOYmsig"
   },
   "source": [
    "We study the distribution of the sentences and the tags."
   ]
  },
  {
   "cell_type": "code",
   "execution_count": 34,
   "metadata": {
    "colab": {
     "base_uri": "https://localhost:8080/",
     "height": 333
    },
    "id": "vSCotC1Ymsih",
    "outputId": "63435b87-ffb1-4ad4-f5d0-30c3310b660c"
   },
   "outputs": [
    {
     "name": "stdout",
     "output_type": "stream",
     "text": [
      "There are 1959 training sentences\n",
      "There are 1277 validation sentences\n",
      "There are 638 test sentences\n"
     ]
    },
    {
     "data": {
      "image/png": "[encoded data removed]",
      "text/plain": [
       "<Figure size 576x288 with 1 Axes>"
      ]
     },
     "metadata": {
      "needs_background": "light"
     },
     "output_type": "display_data"
    }
   ],
   "source": [
    "def plot_instances(train_size, val_size, test_size):\n",
    "    x_values = [train_size, val_size, test_size]\n",
    "    y_values = [\"Training instances\", \"Validation instances\", \"Test instances\"]\n",
    "    y_axis = np.arange(1, 4, 1)\n",
    "    plt.figure(figsize=(8,4))\n",
    "    plt.title(\"Instances distribution on the 3 splits\")\n",
    "    plt.barh(y_axis, x_values, align='center')\n",
    "    plt.yticks(y_axis, y_values)\n",
    "    plt.show()\n",
    "\n",
    "train_size = len(train_sentences)\n",
    "val_size = len(val_sentences)\n",
    "test_size = len(test_sentences)\n",
    "print(\"There are {} training sentences\".format(train_size))\n",
    "print(\"There are {} validation sentences\".format(val_size))\n",
    "print(\"There are {} test sentences\".format(test_size))\n",
    "\n",
    "plot_instances(train_size, val_size, test_size)"
   ]
  },
  {
   "cell_type": "markdown",
   "metadata": {
    "id": "z_ss4uzMmsih"
   },
   "source": [
    "Let's compute the average sentence length."
   ]
  },
  {
   "cell_type": "code",
   "execution_count": 35,
   "metadata": {
    "colab": {
     "base_uri": "https://localhost:8080/",
     "height": 430
    },
    "id": "YVclnunXmsih",
    "outputId": "5e7edc1f-85c2-4624-a19f-dd18ff59d4e8"
   },
   "outputs": [
    {
     "name": "stdout",
     "output_type": "stream",
     "text": [
      "The average sentence length in the training set is 24.17203 with an std of 12.66482 and a max of 250\n",
      "The average sentence length in the validation set is 24.41895 with an std of 11.68467 and a max of 80\n",
      "The average sentence length in the test set is 24.36520 with an std of 10.05751 and a max of 80\n"
     ]
    },
    {
     "data": {
      "image/png": "[encoded data removed]",
      "text/plain": [
       "<Figure size 504x360 with 1 Axes>"
      ]
     },
     "metadata": {
      "needs_background": "light"
     },
     "output_type": "display_data"
    }
   ],
   "source": [
    "len_train = [len(sentence) for sentence in train_sentences]\n",
    "len_val   = [len(sentence) for sentence in val_sentences  ]\n",
    "len_test  = [len(sentence) for sentence in test_sentences ]\n",
    "\n",
    "mean_train, std_train, max_train = np.mean(len_train), np.std(len_train), np.max(len_train)\n",
    "mean_val, std_val, max_val = np.mean(len_val), np.std(len_val), np.max(len_val)\n",
    "mean_test, std_test, max_test = np.mean(len_test), np.std(len_test), np.max(len_test)\n",
    "\n",
    "print(\"The average sentence length in the training set is {:.5f} with an std of {:.5f} and a max of {}\".format(\n",
    "    mean_train, std_train, max_train\n",
    "))\n",
    "print(\"The average sentence length in the validation set is {:.5f} with an std of {:.5f} and a max of {}\".format(\n",
    "    mean_val, std_val, max_val\n",
    "))\n",
    "print(\"The average sentence length in the test set is {:.5f} with an std of {:.5f} and a max of {}\".format(\n",
    "    mean_test, std_test, max_test\n",
    "))\n",
    "\n",
    "len_dict = {'Training sentences':    len_train, \n",
    "            'Validation sentences':  len_val, \n",
    "            'Test sentences':        len_test}\n",
    "\n",
    "fig, ax = plt.subplots(figsize=(7,5));\n",
    "ax.boxplot(len_dict.values());\n",
    "ax.set_xticklabels(len_dict.keys());\n",
    "ax.set_ylim(0, 120)\n",
    "ax.set_ylabel(\"Sentence lengths\")\n",
    "ax.grid()"
   ]
  },
  {
   "cell_type": "markdown",
   "metadata": {
    "id": "KXSouFICmsii"
   },
   "source": [
    "The sentences seem to have approximately the same distribution between the three splits, but there are some clear outliers in the training set.\n",
    "\n",
    "We also compute the distribution of the tags."
   ]
  },
  {
   "cell_type": "code",
   "execution_count": 36,
   "metadata": {
    "colab": {
     "base_uri": "https://localhost:8080/",
     "height": 1000
    },
    "id": "ouJ-MLbjmsii",
    "outputId": "ca8986f0-a702-40da-f5ed-67d9a0089e9f"
   },
   "outputs": [
    {
     "data": {
      "text/html": [
       "<div>\n",
       "<style scoped>\n",
       "    .dataframe tbody tr th:only-of-type {\n",
       "        vertical-align: middle;\n",
       "    }\n",
       "\n",
       "    .dataframe tbody tr th {\n",
       "        vertical-align: top;\n",
       "    }\n",
       "\n",
       "    .dataframe thead th {\n",
       "        text-align: right;\n",
       "    }\n",
       "</style>\n",
       "<table border=\"1\" class=\"dataframe\">\n",
       "  <thead>\n",
       "    <tr style=\"text-align: right;\">\n",
       "      <th></th>\n",
       "      <th>word</th>\n",
       "    </tr>\n",
       "    <tr>\n",
       "      <th>tag</th>\n",
       "      <th></th>\n",
       "    </tr>\n",
       "  </thead>\n",
       "  <tbody>\n",
       "    <tr>\n",
       "      <th>NN</th>\n",
       "      <td>13166</td>\n",
       "    </tr>\n",
       "    <tr>\n",
       "      <th>IN</th>\n",
       "      <td>9857</td>\n",
       "    </tr>\n",
       "    <tr>\n",
       "      <th>NNP</th>\n",
       "      <td>9408</td>\n",
       "    </tr>\n",
       "    <tr>\n",
       "      <th>DT</th>\n",
       "      <td>8165</td>\n",
       "    </tr>\n",
       "    <tr>\n",
       "      <th>NNS</th>\n",
       "      <td>6047</td>\n",
       "    </tr>\n",
       "    <tr>\n",
       "      <th>JJ</th>\n",
       "      <td>5834</td>\n",
       "    </tr>\n",
       "    <tr>\n",
       "      <th>,</th>\n",
       "      <td>4886</td>\n",
       "    </tr>\n",
       "    <tr>\n",
       "      <th>.</th>\n",
       "      <td>3874</td>\n",
       "    </tr>\n",
       "    <tr>\n",
       "      <th>CD</th>\n",
       "      <td>3546</td>\n",
       "    </tr>\n",
       "    <tr>\n",
       "      <th>VBD</th>\n",
       "      <td>3043</td>\n",
       "    </tr>\n",
       "    <tr>\n",
       "      <th>RB</th>\n",
       "      <td>2822</td>\n",
       "    </tr>\n",
       "    <tr>\n",
       "      <th>VB</th>\n",
       "      <td>2554</td>\n",
       "    </tr>\n",
       "    <tr>\n",
       "      <th>CC</th>\n",
       "      <td>2265</td>\n",
       "    </tr>\n",
       "    <tr>\n",
       "      <th>TO</th>\n",
       "      <td>2179</td>\n",
       "    </tr>\n",
       "    <tr>\n",
       "      <th>VBN</th>\n",
       "      <td>2134</td>\n",
       "    </tr>\n",
       "    <tr>\n",
       "      <th>VBZ</th>\n",
       "      <td>2125</td>\n",
       "    </tr>\n",
       "    <tr>\n",
       "      <th>PRP</th>\n",
       "      <td>1716</td>\n",
       "    </tr>\n",
       "    <tr>\n",
       "      <th>VBG</th>\n",
       "      <td>1460</td>\n",
       "    </tr>\n",
       "    <tr>\n",
       "      <th>VBP</th>\n",
       "      <td>1321</td>\n",
       "    </tr>\n",
       "    <tr>\n",
       "      <th>MD</th>\n",
       "      <td>927</td>\n",
       "    </tr>\n",
       "  </tbody>\n",
       "</table>\n",
       "</div>"
      ],
      "text/plain": [
       "      word\n",
       "tag       \n",
       "NN   13166\n",
       "IN    9857\n",
       "NNP   9408\n",
       "DT    8165\n",
       "NNS   6047\n",
       "JJ    5834\n",
       ",     4886\n",
       ".     3874\n",
       "CD    3546\n",
       "VBD   3043\n",
       "RB    2822\n",
       "VB    2554\n",
       "CC    2265\n",
       "TO    2179\n",
       "VBN   2134\n",
       "VBZ   2125\n",
       "PRP   1716\n",
       "VBG   1460\n",
       "VBP   1321\n",
       "MD     927"
      ]
     },
     "metadata": {},
     "output_type": "display_data"
    },
    {
     "name": "stdout",
     "output_type": "stream",
     "text": [
      "Total number of tags:  94081\n"
     ]
    },
    {
     "data": {
      "image/png": "[encoded data removed]",
      "text/plain": [
       "<Figure size 1080x360 with 1 Axes>"
      ]
     },
     "metadata": {
      "needs_background": "light"
     },
     "output_type": "display_data"
    }
   ],
   "source": [
    "tags_distribution = pd.concat(train_sentences + val_sentences + test_sentences, axis=0).groupby(['tag']).count()\n",
    "\n",
    "sorted_tags_distribution = tags_distribution.sort_values(by='word', ascending=False)\n",
    "ax = sorted_tags_distribution.plot(kind='bar', figsize=(15, 5))\n",
    "ax.set_xticklabels(sorted_tags_distribution.index)\n",
    "display(sorted_tags_distribution.head(20))\n",
    "print(\"Total number of tags: \", tags_distribution['word'].sum())"
   ]
  },
  {
   "cell_type": "markdown",
   "metadata": {
    "id": "9IakOCuMmsii"
   },
   "source": [
    "Note: see [here](https://www.ling.upenn.edu/courses/Fall_2003/ling001/penn_treebank_pos.html) for the explanation of each tag. Some of the tags simply indicate punctuation."
   ]
  },
  {
   "cell_type": "code",
   "execution_count": 37,
   "metadata": {
    "colab": {
     "base_uri": "https://localhost:8080/"
    },
    "id": "TvRhoTwomsij",
    "outputId": "788e49da-dcf5-41f0-dd55-c3f77cb33892"
   },
   "outputs": [
    {
     "name": "stdout",
     "output_type": "stream",
     "text": [
      "There are 11715 punctuation tags in the dataset\n"
     ]
    }
   ],
   "source": [
    "PUNCTUATION_TAGS = [\"#\", \"$\", \"''\", \",\", \".\", \":\", \"``\", \"-LRB-\", \"-RRB-\", \"SYM\"]\n",
    "print(\"There are {} punctuation tags in the dataset\".format(\n",
    "    sum([ tags_distribution.loc[pun] for pun in PUNCTUATION_TAGS ])['word']\n",
    "))"
   ]
  },
  {
   "cell_type": "markdown",
   "metadata": {
    "id": "DAvmh1SKmsij"
   },
   "source": [
    "### Data Preprocessing"
   ]
  },
  {
   "cell_type": "markdown",
   "metadata": {
    "id": "YTC9_Mwwmsij"
   },
   "source": [
    "In this task, we don't want to remove words because we should provide a one-to-one mapping from words to tags.\n",
    "\n",
    "Therefore, the only sensible preprocessing we can do on the sentences is to bring everything to lowercase."
   ]
  },
  {
   "cell_type": "code",
   "execution_count": 39,
   "metadata": {
    "colab": {
     "base_uri": "https://localhost:8080/",
     "height": 457
    },
    "id": "oqEnrK-Tmsij",
    "outputId": "fcd04b22-5e58-4b41-cc35-92c26efab275"
   },
   "outputs": [
    {
     "data": {
      "text/html": [
       "<div>\n",
       "<style scoped>\n",
       "    .dataframe tbody tr th:only-of-type {\n",
       "        vertical-align: middle;\n",
       "    }\n",
       "\n",
       "    .dataframe tbody tr th {\n",
       "        vertical-align: top;\n",
       "    }\n",
       "\n",
       "    .dataframe thead th {\n",
       "        text-align: right;\n",
       "    }\n",
       "</style>\n",
       "<table border=\"1\" class=\"dataframe\">\n",
       "  <thead>\n",
       "    <tr style=\"text-align: right;\">\n",
       "      <th></th>\n",
       "      <th>word</th>\n",
       "      <th>tag</th>\n",
       "    </tr>\n",
       "  </thead>\n",
       "  <tbody>\n",
       "    <tr>\n",
       "      <th>18</th>\n",
       "      <td>mr.</td>\n",
       "      <td>NNP</td>\n",
       "    </tr>\n",
       "    <tr>\n",
       "      <th>19</th>\n",
       "      <td>vinken</td>\n",
       "      <td>NNP</td>\n",
       "    </tr>\n",
       "    <tr>\n",
       "      <th>20</th>\n",
       "      <td>is</td>\n",
       "      <td>VBZ</td>\n",
       "    </tr>\n",
       "    <tr>\n",
       "      <th>21</th>\n",
       "      <td>chairman</td>\n",
       "      <td>NN</td>\n",
       "    </tr>\n",
       "    <tr>\n",
       "      <th>22</th>\n",
       "      <td>of</td>\n",
       "      <td>IN</td>\n",
       "    </tr>\n",
       "    <tr>\n",
       "      <th>23</th>\n",
       "      <td>elsevier</td>\n",
       "      <td>NNP</td>\n",
       "    </tr>\n",
       "    <tr>\n",
       "      <th>24</th>\n",
       "      <td>n.v.</td>\n",
       "      <td>NNP</td>\n",
       "    </tr>\n",
       "    <tr>\n",
       "      <th>25</th>\n",
       "      <td>,</td>\n",
       "      <td>,</td>\n",
       "    </tr>\n",
       "    <tr>\n",
       "      <th>26</th>\n",
       "      <td>the</td>\n",
       "      <td>DT</td>\n",
       "    </tr>\n",
       "    <tr>\n",
       "      <th>27</th>\n",
       "      <td>dutch</td>\n",
       "      <td>NNP</td>\n",
       "    </tr>\n",
       "    <tr>\n",
       "      <th>28</th>\n",
       "      <td>publishing</td>\n",
       "      <td>VBG</td>\n",
       "    </tr>\n",
       "    <tr>\n",
       "      <th>29</th>\n",
       "      <td>group</td>\n",
       "      <td>NN</td>\n",
       "    </tr>\n",
       "    <tr>\n",
       "      <th>30</th>\n",
       "      <td>.</td>\n",
       "      <td>.</td>\n",
       "    </tr>\n",
       "  </tbody>\n",
       "</table>\n",
       "</div>"
      ],
      "text/plain": [
       "          word  tag\n",
       "18         mr.  NNP\n",
       "19      vinken  NNP\n",
       "20          is  VBZ\n",
       "21    chairman   NN\n",
       "22          of   IN\n",
       "23    elsevier  NNP\n",
       "24        n.v.  NNP\n",
       "25           ,    ,\n",
       "26         the   DT\n",
       "27       dutch  NNP\n",
       "28  publishing  VBG\n",
       "29       group   NN\n",
       "30           .    ."
      ]
     },
     "execution_count": 39,
     "metadata": {},
     "output_type": "execute_result"
    }
   ],
   "source": [
    "def to_lower(word: str):\n",
    "    return word.lower()\n",
    "\n",
    "for sentence_group in [train_sentences, val_sentences, test_sentences]:\n",
    "    for sentence in sentence_group:\n",
    "        sentence['word'] = sentence['word'].apply(to_lower)\n",
    "\n",
    "train_sentences[1]"
   ]
  },
  {
   "cell_type": "markdown",
   "metadata": {
    "id": "Bxs4ye7emsij"
   },
   "source": [
    "## Embeddings"
   ]
  },
  {
   "cell_type": "markdown",
   "metadata": {
    "id": "M0-k8lW9msik"
   },
   "source": [
    "We download GloVe's pretrained embeddings with dimension 100 using the Gensim library."
   ]
  },
  {
   "cell_type": "code",
   "execution_count": 40,
   "metadata": {
    "id": "TVitF6xtmsik"
   },
   "outputs": [],
   "source": [
    "def load_embedding_model(embedding_dimension: int = 50) -> gensim.models.keyedvectors.KeyedVectors:\n",
    "    \"\"\"\n",
    "    Loads GloVe pre-trained word embedding model via gensim library.\n",
    "\n",
    "    Parameters:\n",
    "    - embedding_dimension: size of the embedding space to consider\n",
    "\n",
    "    Returns:\n",
    "        - pre-trained word embedding model (gensim KeyedVectors object)\n",
    "    \"\"\"\n",
    "    assert embedding_dimension in {50,100,200,300}, \"Embedding dimension must be one of 50,100,200,300\"\n",
    "    download_path = \"glove-wiki-gigaword-{}\".format(embedding_dimension)\n",
    "    try:\n",
    "        emb_model = gloader.load(download_path)\n",
    "    except:\n",
    "        print(\"ERROR: No Internet connection available\")\n",
    "        return None\n",
    "    return emb_model\n",
    "\n",
    "EMBEDDING_DIMENSION = 100\n",
    "embedding_model = load_embedding_model(EMBEDDING_DIMENSION)"
   ]
  },
  {
   "cell_type": "markdown",
   "metadata": {
    "id": "dIGGxzfdmsik"
   },
   "source": [
    "### GloVe's vocabulary"
   ]
  },
  {
   "cell_type": "markdown",
   "metadata": {
    "id": "_41gyIUemsil"
   },
   "source": [
    "We use as initial vocabulary the vocabulary of GloVe's pretrained embeddings."
   ]
  },
  {
   "cell_type": "code",
   "execution_count": 41,
   "metadata": {
    "colab": {
     "base_uri": "https://localhost:8080/"
    },
    "id": "KHHlMun5msil",
    "outputId": "528e1b95-ece6-459c-e7c2-68f2c5b48081"
   },
   "outputs": [
    {
     "name": "stdout",
     "output_type": "stream",
     "text": [
      "Starting vocabulary contains 400000 words.\n"
     ]
    }
   ],
   "source": [
    "embedding_vocabulary = set(embedding_model.index_to_key)\n",
    "print(\"Starting vocabulary contains {} words.\".format(len(embedding_vocabulary)))"
   ]
  },
  {
   "cell_type": "markdown",
   "metadata": {
    "id": "QMI3gAoymsil"
   },
   "source": [
    "The vocabulary of the embeddings may not contain all the words that are used in our sentences, so we need to create sensible encodings for OOV words and add them to the vocabulary.\n",
    "\n",
    "A smart idea to create OOV embeddings is to obtain the mean and standard deviation of the GloVe embeddings and to sample new random vectors from a reduced uniform distribution with those parameters. In this way, we make sure that OOV embeddings are at least similar to the real embeddings."
   ]
  },
  {
   "cell_type": "code",
   "execution_count": 42,
   "metadata": {
    "colab": {
     "base_uri": "https://localhost:8080/"
    },
    "id": "6Ervhk-Lmsim",
    "outputId": "97dfd7cb-05e5-40cb-97a0-289470d6e7be"
   },
   "outputs": [
    {
     "name": "stderr",
     "output_type": "stream",
     "text": [
      "100%|███████████████████████████████████████████████████████████████████████| 400000/400000 [00:00<00:00, 573670.84it/s]\n"
     ]
    },
    {
     "name": "stdout",
     "output_type": "stream",
     "text": [
      "Mean embedding vector: 0.004451991990208626\n",
      "Std of embedding vectors: 0.4081574082374573\n"
     ]
    }
   ],
   "source": [
    "# Create an empty matrix that should hold all the embeddings of GloVe's vocabulary\n",
    "def create_embedding_matrix(embedding_model: gensim.models.keyedvectors.KeyedVectors):\n",
    "    embedding_vocabulary = set(embedding_model.index_to_key)\n",
    "    embedding_matrix = np.zeros((len(embedding_vocabulary), EMBEDDING_DIMENSION), dtype=np.float32)\n",
    "\n",
    "    # Loop through the words of the vocabulary\n",
    "    for idx, word in tqdm(enumerate(embedding_model.index_to_key), total=len(embedding_vocabulary)):\n",
    "        try:\n",
    "            # Get the vector representation of the word according to the embedding model\n",
    "            embedding_vector = embedding_model[word]\n",
    "            # Set the corresponding row to the embedding vector\n",
    "            embedding_matrix[idx] = embedding_vector\n",
    "        except (KeyError, TypeError):\n",
    "            pass\n",
    "    \n",
    "    return embedding_matrix\n",
    "\n",
    "embedding_matrix = create_embedding_matrix(embedding_model)\n",
    "\n",
    "# Calculate mean and standard deviation\n",
    "glove_mean = embedding_matrix.mean()\n",
    "glove_std = embedding_matrix.std()\n",
    "\n",
    "print(\"Mean embedding vector: {}\".format(glove_mean))\n",
    "print(\"Std of embedding vectors: {}\".format(glove_std))"
   ]
  },
  {
   "cell_type": "markdown",
   "metadata": {
    "id": "qQqHlAdLmsim"
   },
   "source": [
    "Then we can define a function to create random embeddings for OOV words."
   ]
  },
  {
   "cell_type": "code",
   "execution_count": 43,
   "metadata": {
    "id": "ttz0S50Zmsim"
   },
   "outputs": [],
   "source": [
    "def get_random_embedding():\n",
    "    return np.random.uniform(low=glove_mean-glove_std/10, \n",
    "        high=glove_mean+glove_std/10, size=EMBEDDING_DIMENSION\n",
    "    )"
   ]
  },
  {
   "cell_type": "markdown",
   "metadata": {
    "id": "0QXf68trmsim"
   },
   "source": [
    "### OOV terms"
   ]
  },
  {
   "cell_type": "markdown",
   "metadata": {
    "id": "TPPR-M-Kmsim"
   },
   "source": [
    "We find all OOV terms in the splits independently and build our vocabularies and embedding matrix. "
   ]
  },
  {
   "cell_type": "markdown",
   "metadata": {
    "id": "YWO9W0s9msin"
   },
   "source": [
    "#### Training OOV terms"
   ]
  },
  {
   "cell_type": "code",
   "execution_count": 44,
   "metadata": {
    "id": "naRp9bJymsin"
   },
   "outputs": [],
   "source": [
    "# Step 1: Obtain a set of words (vocabulary) used in each split\n",
    "def get_set_of_words_for_sentences(sentence_seq: Sequence[pd.DataFrame]):\n",
    "    return set(\n",
    "        pd.concat(sentence_seq, axis=0).    # Concatenate all sentences together\n",
    "        groupby(['word']).                  # Group by words\n",
    "        indices.keys()                      # Obtain the sequence of words\n",
    "    )             \n",
    "\n",
    "train_vocabulary = get_set_of_words_for_sentences(train_sentences)\n",
    "val_vocabulary = get_set_of_words_for_sentences(val_sentences)\n",
    "test_vocabulary = get_set_of_words_for_sentences(test_sentences)"
   ]
  },
  {
   "cell_type": "code",
   "execution_count": 45,
   "metadata": {
    "colab": {
     "base_uri": "https://localhost:8080/"
    },
    "id": "rxpVA-R1msin",
    "outputId": "2b33bef3-e9a2-4831-c8b1-8d67b576981d"
   },
   "outputs": [
    {
     "name": "stdout",
     "output_type": "stream",
     "text": [
      "DEBUG: Training set has 359 OOV terms over 7402 total terms (4.85%)\n",
      "Some OOV terms:\n",
      "['family-planning', 'red-blooded', 'flightiness', 'test-prep', 'gingl', 'erbamont', 'trading-company', 'rubinfien', '14,821', 'more-efficient', 'test-preparation', 'food-shop', 'social-studies', 'program-trading', 'market-share', 'sub-markets', '18,444', '278.7', 'mouth-up', 'detective-story', 'savings-and-loan', 'government-certified', 'ingersoll-rand', '497.34', '2645.90', 'macmillan\\\\/mcgraw', '142.85', 'solaia', 'pre-1933', 'secilia']\n"
     ]
    }
   ],
   "source": [
    "# Step 2: Find OOV words with respect to some vocabulary\n",
    "def get_OOV_terms(vocab_1: set, vocab_2: set):\n",
    "    return vocab_1.difference(vocab_2)\n",
    "\n",
    "oov_train = get_OOV_terms(train_vocabulary, embedding_vocabulary)\n",
    "\n",
    "print(\"DEBUG: Training set has {} OOV terms over {} total terms ({:.2f}%)\".format(\n",
    "    len(oov_train), len(train_vocabulary), len(oov_train)/len(train_vocabulary)*100\n",
    "))\n",
    "print(\"Some OOV terms:\")\n",
    "print(list(oov_train)[:30])"
   ]
  },
  {
   "cell_type": "markdown",
   "metadata": {
    "id": "L4RD0ubumsin"
   },
   "source": [
    "OOVs (for the training set) seem to mostly be: \n",
    "- hyphenated compound words\n",
    "- numbers\n",
    "- foreign words\n",
    "- other uncommon words"
   ]
  },
  {
   "cell_type": "markdown",
   "metadata": {
    "id": "UJ4iC_O6msin"
   },
   "source": [
    "We update the vocabulary adding these OOV words."
   ]
  },
  {
   "cell_type": "code",
   "execution_count": 46,
   "metadata": {
    "colab": {
     "base_uri": "https://localhost:8080/"
    },
    "id": "tfj4idjBmsio",
    "outputId": "718477d5-9336-4748-8ea1-1a78735e7353"
   },
   "outputs": [
    {
     "name": "stdout",
     "output_type": "stream",
     "text": [
      "New length of the embedding model: 400359\n"
     ]
    }
   ],
   "source": [
    "embedding_model.add_vectors(list(oov_train), \n",
    "    np.stack([get_random_embedding() for _ in range(len(oov_train))])\n",
    ")\n",
    "train_embedding_vocabulary = set(embedding_model.index_to_key)\n",
    "\n",
    "print(\"New length of the embedding model: {}\".format(len(train_embedding_vocabulary)))"
   ]
  },
  {
   "cell_type": "markdown",
   "metadata": {
    "id": "UCnNvNe4msio"
   },
   "source": [
    "We repeat the process for the evaluation and test sets."
   ]
  },
  {
   "cell_type": "markdown",
   "metadata": {
    "id": "MY5eXFyEmsio"
   },
   "source": [
    "#### Validation OOV terms"
   ]
  },
  {
   "cell_type": "code",
   "execution_count": 47,
   "metadata": {
    "colab": {
     "base_uri": "https://localhost:8080/"
    },
    "id": "hZKNVi4qmsir",
    "outputId": "17e6938a-40c8-423a-924e-623d71d9f3ec"
   },
   "outputs": [
    {
     "name": "stdout",
     "output_type": "stream",
     "text": [
      "DEBUG: Validation set has 189 OOV terms over 5420 total terms (3.49%)\n",
      "Some OOV terms:\n",
      "['cup-tote', 'liquid-nitrogen', 'anti-program', 'triple-a-rated', 'million-a-year', 'airline-related', 'mega-stadium', 'rey\\\\/fawcett', 'car-care', 'new-car', 'single-lot', '7\\\\/16', 'boogieman', 'lightning-fast', 'non-callable', 'parts-engineering', 'pricings', '3,250,000', 'investment-grade', 'bank-backed', '5.435', '30,537', 'super-absorbent', 'high-polluting', 'crystal-lattice', 'foldability', 'lynch-mob', 'tire-kickers', 'multi-crystal', 'yttrium-containing']\n",
      "New length of the embedding model: 400548\n"
     ]
    }
   ],
   "source": [
    "# Find OOV words\n",
    "oov_val = get_OOV_terms(val_vocabulary, train_embedding_vocabulary)\n",
    "print(\"DEBUG: Validation set has {} OOV terms over {} total terms ({:.2f}%)\".format(\n",
    "    len(oov_val), len(val_vocabulary), len(oov_val)/len(val_vocabulary)*100\n",
    "))\n",
    "print(\"Some OOV terms:\")\n",
    "print(list(oov_val)[:30])\n",
    "\n",
    "# Update the model\n",
    "embedding_model.add_vectors(list(oov_val), \n",
    "    np.stack([get_random_embedding() for _ in range(len(oov_val))])\n",
    ")\n",
    "val_embedding_vocabulary = set(embedding_model.index_to_key)\n",
    "\n",
    "print(\"New length of the embedding model: {}\".format(len(val_embedding_vocabulary)))"
   ]
  },
  {
   "cell_type": "markdown",
   "metadata": {
    "id": "Aro5MtR9msis"
   },
   "source": [
    "#### Test OOV terms"
   ]
  },
  {
   "cell_type": "code",
   "execution_count": 48,
   "metadata": {
    "colab": {
     "base_uri": "https://localhost:8080/"
    },
    "id": "JLWrkLgwmsis",
    "outputId": "395b6c01-46ce-487e-958d-631be1812715"
   },
   "outputs": [
    {
     "name": "stdout",
     "output_type": "stream",
     "text": [
      "DEBUG: Test set has 128 OOV terms over 3407 total terms (3.76%)\n",
      "Some OOV terms:\n",
      "['372.14', 'weapons-modernization', 'waertsilae', '38.875', 'nofzinger', 'louisiana-pacific', 'yoshihashi', '45-a-share', '34.625', 'above-market', 'cash-and-stock', '11,390,000', 'heavy-truck', 'sewing-machine', 'tete-a-tete', 'computer-services', '292.32', 'near-limit', 'copper-rich', 'constitutional-law', 'johnson-era', 'acquisition-minded', 'cents-a-unit', 'shareholder-rights', '1206.26', 'mariotta', 'launch-vehicle', '87-store', 'lentjes', 'g.m.b']\n",
      "New length of the embedding model: 400676\n"
     ]
    }
   ],
   "source": [
    "# Find OOV words\n",
    "oov_test = get_OOV_terms(test_vocabulary, val_embedding_vocabulary)\n",
    "print(\"DEBUG: Test set has {} OOV terms over {} total terms ({:.2f}%)\".format(\n",
    "    len(oov_test), len(test_vocabulary), len(oov_test)/len(test_vocabulary)*100\n",
    "))\n",
    "print(\"Some OOV terms:\")\n",
    "print(list(oov_test)[:30])\n",
    "\n",
    "# Update the model\n",
    "embedding_model.add_vectors(list(oov_test), \n",
    "    np.stack([get_random_embedding() for _ in range(len(oov_test))])\n",
    ")\n",
    "test_embedding_vocabulary = set(embedding_model.index_to_key)\n",
    "\n",
    "print(\"New length of the embedding model: {}\".format(len(test_embedding_vocabulary)))"
   ]
  },
  {
   "cell_type": "markdown",
   "metadata": {
    "id": "M6Dzyz8Qmsis"
   },
   "source": [
    "#### Summary"
   ]
  },
  {
   "cell_type": "markdown",
   "metadata": {
    "id": "9vSvZCtFmsis"
   },
   "source": [
    "In general, we notice the same pattern we have exposed for training OOV terms also in the OOV of the other splits. \n",
    "\n",
    "Additionally, we report that the number of OOV terms is always less than 5% in all splits, so they shouldn't be a big problem."
   ]
  },
  {
   "cell_type": "markdown",
   "metadata": {
    "id": "h0EGV1zSmsit"
   },
   "source": [
    "### Padding"
   ]
  },
  {
   "cell_type": "markdown",
   "metadata": {
    "id": "I52t-QEjmsit"
   },
   "source": [
    "It's time to think some steps ahead: when we feed our sentences to the model, we usually provide mini-batches of data (for example, a set of 128 sentences at a time). This makes training faster and more stable.\n",
    "\n",
    "A mini-batch of data should be \"rectangular\", meaning that sentences should all have the same number of words. Usually, this translates to using **padding** in the sentences, filling the vectors representing the sentences with zeroes up to a predetermined size."
   ]
  },
  {
   "cell_type": "code",
   "execution_count": 49,
   "metadata": {
    "colab": {
     "base_uri": "https://localhost:8080/"
    },
    "id": "VyPYXTkEmsit",
    "outputId": "340b113a-bb66-4a52-d27f-5ba536357262"
   },
   "outputs": [
    {
     "name": "stderr",
     "output_type": "stream",
     "text": [
      "/home/volpepe/Desktop/SequenceLabeling/.env/lib/python3.8/site-packages/gensim/models/keyedvectors.py:478: UserWarning: Adding single vectors to a KeyedVectors which grows by one each time can be costly. Consider adding in batches or preallocating to the required size.\n",
      "  warnings.warn(\n"
     ]
    }
   ],
   "source": [
    "embedding_model.add_vector('<PAD>', np.zeros(EMBEDDING_DIMENSION)); # The embedding is a vector of zeroes"
   ]
  },
  {
   "cell_type": "markdown",
   "metadata": {
    "id": "0Jr7H1MNmsit"
   },
   "source": [
    "We should check what the index of the padding vector is."
   ]
  },
  {
   "cell_type": "code",
   "execution_count": 50,
   "metadata": {
    "colab": {
     "base_uri": "https://localhost:8080/"
    },
    "id": "kGmOOM_-msit",
    "outputId": "c8c2661f-441d-4d3e-a6e7-0cd77cdb7c39"
   },
   "outputs": [
    {
     "data": {
      "text/plain": [
       "400676"
      ]
     },
     "execution_count": 50,
     "metadata": {},
     "output_type": "execute_result"
    }
   ],
   "source": [
    "PADDING_IDX = embedding_model.key_to_index['<PAD>']\n",
    "PADDING_IDX"
   ]
  },
  {
   "cell_type": "markdown",
   "metadata": {
    "id": "2nbXaIyimsit"
   },
   "source": [
    "We would like to have the padding token as element 0 (because it can be automatically masked when using [Keras's Embedding Layer](https://keras.io/api/layers/core_layers/embedding/))."
   ]
  },
  {
   "cell_type": "markdown",
   "metadata": {
    "id": "fjgYsRNtmsiu"
   },
   "source": [
    "### Final embedding matrix"
   ]
  },
  {
   "cell_type": "code",
   "execution_count": 51,
   "metadata": {
    "colab": {
     "base_uri": "https://localhost:8080/"
    },
    "id": "mi9MeILrmsiu",
    "outputId": "33078d83-17a5-4b07-e926-caba7b416316"
   },
   "outputs": [
    {
     "name": "stderr",
     "output_type": "stream",
     "text": [
      "100%|███████████████████████████████████████████████████████████████████████| 400677/400677 [00:00<00:00, 638351.00it/s]"
     ]
    },
    {
     "name": "stdout",
     "output_type": "stream",
     "text": [
      "DEBUG: Embedding matrix shape: (400677, 100)\n"
     ]
    },
    {
     "name": "stderr",
     "output_type": "stream",
     "text": [
      "\n"
     ]
    }
   ],
   "source": [
    "embedding_matrix = create_embedding_matrix(embedding_model)\n",
    "# We need to move the row where the padding index is at the first row and shift the rest of the matrix by 1\n",
    "embedding_matrix = np.append(embedding_matrix[-1:, :], embedding_matrix[:-1, :], axis=0)\n",
    "print(\"DEBUG: Embedding matrix shape: {}\".format(embedding_matrix.shape))"
   ]
  },
  {
   "cell_type": "markdown",
   "metadata": {
    "id": "YbOZWtYzmsiu"
   },
   "source": [
    "## Baseline model"
   ]
  },
  {
   "cell_type": "markdown",
   "metadata": {
    "id": "gohO82zRmsiu"
   },
   "source": [
    "In this section, we will transform our data so that it's easier to process for our models and build our first baseline model."
   ]
  },
  {
   "cell_type": "markdown",
   "metadata": {
    "id": "QLn_xlXfmsiu"
   },
   "source": [
    "### Dataset processing pipeline"
   ]
  },
  {
   "cell_type": "markdown",
   "metadata": {
    "id": "Op2JqU8xmsiu"
   },
   "source": [
    "First of all, we should provide some utility functions to facilitate inputting data to the networks.\n",
    "\n",
    "We have decided to use TensorFlow's [Dataset](https://www.tensorflow.org/api_docs/python/tf/data/Dataset) class, since it provides many useful functions for dealing with batches and building efficient data preprocessing pipelines."
   ]
  },
  {
   "cell_type": "code",
   "execution_count": 52,
   "metadata": {
    "colab": {
     "base_uri": "https://localhost:8080/"
    },
    "id": "uDygByXwmsiv",
    "outputId": "78126d66-9b27-4487-aada-758d28876dc3"
   },
   "outputs": [
    {
     "name": "stdout",
     "output_type": "stream",
     "text": [
      "DEBUG: indexes for sentence 'mr. vinken is chairman of elsevier n.v. , the dutch publishing group .':\n"
     ]
    },
    {
     "data": {
      "text/plain": [
       "[1996, 400183, 15, 664, 4, 43651, 60024, 2, 1, 1693, 3649, 130, 3]"
      ]
     },
     "execution_count": 52,
     "metadata": {},
     "output_type": "execute_result"
    }
   ],
   "source": [
    "# A function that converts a sentence to a list of indices indexing the created vocabulary model\n",
    "def sentence_to_idxs(sentence: pd.DataFrame):\n",
    "    sentence_list = get_list_of_words_from_sentence(sentence)\n",
    "    return [ embedding_model.key_to_index[word] + 1 for word in sentence_list ] # +1 for padding\n",
    "\n",
    "print(\"DEBUG: indexes for sentence '{}':\".format(get_natural_language_sentence(train_sentences[1])))\n",
    "sentence_to_idxs(train_sentences[1])"
   ]
  },
  {
   "cell_type": "markdown",
   "metadata": {
    "id": "F-aQovf6msiv"
   },
   "source": [
    "We apply this function to the entire dataset splits."
   ]
  },
  {
   "cell_type": "code",
   "execution_count": 53,
   "metadata": {
    "id": "HdDY3phemsiv"
   },
   "outputs": [],
   "source": [
    "X_train = [ sentence_to_idxs(sentence) for sentence in train_sentences ]\n",
    "X_val   = [ sentence_to_idxs(sentence) for sentence in val_sentences   ]\n",
    "X_test  = [ sentence_to_idxs(sentence) for sentence in test_sentences  ]"
   ]
  },
  {
   "cell_type": "markdown",
   "metadata": {
    "id": "G8Tuu18omsiv"
   },
   "source": [
    "We use [a Tensorflow function](https://www.tensorflow.org/api_docs/python/tf/keras/preprocessing/sequence/pad_sequences) to automatically apply padding to the sequences.\n",
    "\n",
    "In theory, padding should bring all tensors to have as many elements as the longest sentence. We have analyzed before that the training set has some outliers and the longest sequence contains 250 elements, but bringing all sequences to have 250 elements is clearly a waste of memory.\n",
    "\n",
    "Instead, we choose to fix a maximum length similar to the other splits. This will cut a part of the outlier training sentences, but since they are only used for training it shouldn't be a big problem."
   ]
  },
  {
   "cell_type": "code",
   "execution_count": 54,
   "metadata": {
    "colab": {
     "base_uri": "https://localhost:8080/"
    },
    "id": "argIjLIXmsiv",
    "outputId": "0ae51f9a-2c39-44db-9c32-6d5046756ffe"
   },
   "outputs": [
    {
     "name": "stdout",
     "output_type": "stream",
     "text": [
      "Max length in training set: 250\n",
      "Max length in validation set: 80\n",
      "Max length in test set: 80\n"
     ]
    }
   ],
   "source": [
    "print(\"Max length in training set: {}\".format(max_train))\n",
    "print(\"Max length in validation set: {}\".format(max_val))\n",
    "print(\"Max length in test set: {}\".format(max_test))"
   ]
  },
  {
   "cell_type": "code",
   "execution_count": 55,
   "metadata": {
    "colab": {
     "base_uri": "https://localhost:8080/"
    },
    "id": "8TjNQCyGmsiw",
    "outputId": "ad923b9d-385a-4661-ff66-309212348aa9"
   },
   "outputs": [
    {
     "name": "stdout",
     "output_type": "stream",
     "text": [
      "We choose 80 as maximum length\n"
     ]
    }
   ],
   "source": [
    "SEQ_MAX_LEN = max(max_val, max_test)\n",
    "print(\"We choose {} as maximum length\".format(SEQ_MAX_LEN))"
   ]
  },
  {
   "cell_type": "markdown",
   "metadata": {
    "id": "VTvhsxS3msiw"
   },
   "source": [
    "If we choose 88 as maximum length for all sequences, only a very small part of the training sentences are cut."
   ]
  },
  {
   "cell_type": "code",
   "execution_count": 56,
   "metadata": {
    "colab": {
     "base_uri": "https://localhost:8080/"
    },
    "id": "zeI0USCNmsiw",
    "outputId": "b642a2c3-9d2c-4516-dd88-9c3860f7db77"
   },
   "outputs": [
    {
     "name": "stdout",
     "output_type": "stream",
     "text": [
      "We keep 1954/1959 (over 99.7448%) of the training sentences\n"
     ]
    }
   ],
   "source": [
    "kept_sentences = np.sum(len_train < SEQ_MAX_LEN)\n",
    "total_sentences = len(len_train)\n",
    "print(\"We keep {}/{} (over {:.4f}%) of the training sentences\".format(\n",
    "    kept_sentences, total_sentences, \n",
    "    kept_sentences / total_sentences * 100\n",
    "))"
   ]
  },
  {
   "cell_type": "code",
   "execution_count": 57,
   "metadata": {
    "id": "4idbFhlEmsiw"
   },
   "outputs": [],
   "source": [
    "X_train = keras.preprocessing.sequence.pad_sequences(\n",
    "    X_train, maxlen=SEQ_MAX_LEN, truncating='post',   # truncating='post' means that we cut the last part of the sentence\n",
    "    padding='post'\n",
    ")\n",
    "\n",
    "X_val = keras.preprocessing.sequence.pad_sequences(X_val, padding='post', maxlen=SEQ_MAX_LEN) # No cutting\n",
    "X_test = keras.preprocessing.sequence.pad_sequences(X_test, padding='post', maxlen=SEQ_MAX_LEN) # No cutting"
   ]
  },
  {
   "cell_type": "markdown",
   "metadata": {
    "id": "ZYzHwk-ymsiw"
   },
   "source": [
    "Then, we also need to encode labels as numbers. Of course, since we padded our sentences, we also need to pad the labels for batch processing. We use 0 as the *padding label* and use the previous structure computed for visualizing the tags distribution for the rest of the list."
   ]
  },
  {
   "cell_type": "code",
   "execution_count": 58,
   "metadata": {
    "colab": {
     "base_uri": "https://localhost:8080/"
    },
    "id": "fEzHwSS4msiw",
    "outputId": "4f159b19-35e1-4e96-9795-f53fc8fa0322"
   },
   "outputs": [
    {
     "name": "stdout",
     "output_type": "stream",
     "text": [
      "DEBUG: index 0 --> label <PAD> --> index 0\n"
     ]
    }
   ],
   "source": [
    "LABELS = ['<PAD>'] + list(tags_distribution.index)\n",
    "\n",
    "def labels_to_idx(label: str):\n",
    "    return LABELS.index(label)\n",
    "\n",
    "def idx_to_label(idx: int):\n",
    "    return LABELS[idx]\n",
    "\n",
    "print(\"DEBUG: index 0 --> label {} --> index {}\".format(idx_to_label(0), labels_to_idx(idx_to_label(0))))"
   ]
  },
  {
   "cell_type": "markdown",
   "metadata": {
    "id": "Vh2rJnfQmsix"
   },
   "source": [
    "With these functions we can convert labels into proper targets for our neural network to learn."
   ]
  },
  {
   "cell_type": "code",
   "execution_count": 59,
   "metadata": {
    "id": "Z6o-UOpBmsix"
   },
   "outputs": [],
   "source": [
    "y_train = [ seq['tag'].apply(labels_to_idx) for seq in train_sentences]\n",
    "y_val   = [ seq['tag'].apply(labels_to_idx) for seq in val_sentences  ]\n",
    "y_test  = [ seq['tag'].apply(labels_to_idx) for seq in test_sentences ]"
   ]
  },
  {
   "cell_type": "markdown",
   "metadata": {
    "id": "G9QVGq7Cmsix"
   },
   "source": [
    "Then, we apply padding."
   ]
  },
  {
   "cell_type": "code",
   "execution_count": 60,
   "metadata": {
    "id": "LtdqPmOFmsix"
   },
   "outputs": [],
   "source": [
    "y_train = keras.preprocessing.sequence.pad_sequences(\n",
    "    y_train, maxlen=SEQ_MAX_LEN, truncating='post',   # truncating='post' means that we cut the last part of the sentence's labels\n",
    "    padding='post'\n",
    ")\n",
    "\n",
    "y_val = keras.preprocessing.sequence.pad_sequences(y_val, padding='post', maxlen=SEQ_MAX_LEN) # No cutting\n",
    "y_test = keras.preprocessing.sequence.pad_sequences(y_test, padding='post', maxlen=SEQ_MAX_LEN) # No cutting"
   ]
  },
  {
   "cell_type": "markdown",
   "metadata": {
    "id": "oANhnXqXmsix"
   },
   "source": [
    "Finally, we can easily create the Dataset object using Keras's functionalities."
   ]
  },
  {
   "cell_type": "code",
   "execution_count": 62,
   "metadata": {
    "colab": {
     "base_uri": "https://localhost:8080/"
    },
    "id": "RyrxVPEmmsix",
    "outputId": "4a3110b3-9294-47fd-bf07-33e5a9d24325"
   },
   "outputs": [
    {
     "name": "stdout",
     "output_type": "stream",
     "text": [
      "Train dataset is: <BatchDataset shapes: ((None, 80), (None, 80)), types: (tf.int32, tf.int32)>\n",
      "Train dataset is: <BatchDataset shapes: ((None, 80), (None, 80)), types: (tf.int32, tf.int32)>\n",
      "Train dataset is: <BatchDataset shapes: ((None, 80), (None, 80)), types: (tf.int32, tf.int32)>\n"
     ]
    }
   ],
   "source": [
    "train_dataset = tf.data.Dataset.from_tensor_slices((X_train, y_train)).batch(BATCH_SIZE)\n",
    "val_dataset = tf.data.Dataset.from_tensor_slices((X_val, y_val)).batch(BATCH_SIZE)\n",
    "test_dataset = tf.data.Dataset.from_tensor_slices((X_test, y_test)).batch(BATCH_SIZE)\n",
    "\n",
    "print(\"Train dataset is: {}\".format(train_dataset))\n",
    "print(\"Train dataset is: {}\".format(val_dataset  ))\n",
    "print(\"Train dataset is: {}\".format(test_dataset ))"
   ]
  },
  {
   "cell_type": "markdown",
   "metadata": {
    "id": "iyWUaXqumsiy"
   },
   "source": [
    "### Building the baseline model"
   ]
  },
  {
   "cell_type": "markdown",
   "metadata": {
    "id": "p_CksLtrmsiy"
   },
   "source": [
    "Now that we have our dataset splits, we can start building our baseline model.\n"
   ]
  },
  {
   "cell_type": "markdown",
   "metadata": {
    "id": "LMdsT5wCmsiy"
   },
   "source": [
    "As a baseline model, we create a network composed by a (non-trainable) Embedding layer, a single Bidirectional LSTM layer and a Time-Distributed Dense layer on top.\n",
    "\n",
    "We need the [Time-Distributed](https://keras.io/api/layers/recurrent_layers/time_distributed/) Dense Layer to produce sequences of outputs of the same length of the input. "
   ]
  },
  {
   "cell_type": "code",
   "execution_count": 64,
   "metadata": {
    "id": "sV4pHpNzmsiy"
   },
   "outputs": [],
   "source": [
    "def build_baseline_model(compiling_info:Dict,\n",
    "                         embedding_matrix:np.array=embedding_matrix, \n",
    "                         lstm_size:int=128, \n",
    "                         out_size:int=len(LABELS),\n",
    "                         verbose:bool=True\n",
    "                         ) -> keras.Model:\n",
    "    inputs = layers.Input(shape=(SEQ_MAX_LEN, ), name=\"input\")\n",
    "    # Step 1: The embedding layer\n",
    "    embeddings = layers.Embedding(\n",
    "        input_dim=embedding_matrix.shape[0],\n",
    "        output_dim=embedding_matrix.shape[1],\n",
    "        mask_zero=True,             # Produces masks for padding tokens so that later layers (eg. recurrent layers) will ignore them.\n",
    "        input_length=SEQ_MAX_LEN,\n",
    "        weights=[embedding_matrix], # Set the weights of the layer using our pre-build embedding matrix.\n",
    "        name=\"embedding_layer\",\n",
    "        trainable=False             # Set trainable to False: the embeddings must be completely static.\n",
    "    )(inputs)\n",
    "    # Step 2: Bidirectional LSTM\n",
    "    x = layers.Bidirectional(layers.LSTM(lstm_size, return_sequences=True), # Produce all output sequences\n",
    "        merge_mode='concat',         # Concatenate the outputs from the two directions\n",
    "        name='bidirectional_lstm'\n",
    "    )(embeddings)\n",
    "    # Step 3: Time-Distributed Dense Layer\n",
    "    logits = layers.TimeDistributed(\n",
    "        layers.Dense(out_size),      # We use one-hot encoding, so the output size must be equal to the number of tokens.\n",
    "        name=\"time_distributed_dense\"\n",
    "    )(x)\n",
    "    outputs = layers.Activation('softmax', name='softmax')(logits)  # Apply softmax to produce a proper probability distribution\n",
    "    model = keras.Model(inputs, outputs, name=\"baseline_model\")     # Instantiate the model using Keras's functional API\n",
    "    if verbose:\n",
    "        model.summary()                 # Produce a summary of the model\n",
    "    model.compile(**compiling_info) # Compile the model using the chosen compilation parameters\n",
    "    return model"
   ]
  },
  {
   "cell_type": "markdown",
   "metadata": {
    "id": "fageoN5cmsiy"
   },
   "source": [
    "The model outputs a sequence of probability distributions (eg. `[80, 46]` tensors, with a tensor of 46 probabilities for each of the 80 tokens in the sentence), so to compare this with our labels we need to either:\n",
    "- Transform the labels into one-hot encoded labels\n",
    "- Transform the probability distribution into a single value by taking the $argmax$\n",
    "    - In reality, we can instead use the `SparseCategoricalCrossentropy` loss function by Keras that works by passing indexes rather than one-hot encoded labels.\n",
    "\n",
    "Between the two, we choose the second alternative because it's more efficient."
   ]
  },
  {
   "cell_type": "code",
   "execution_count": 65,
   "metadata": {
    "colab": {
     "base_uri": "https://localhost:8080/"
    },
    "id": "Vk-OhngWmsiy",
    "outputId": "bcab96d0-6c4c-4be6-b166-953299f4aa79"
   },
   "outputs": [
    {
     "name": "stdout",
     "output_type": "stream",
     "text": [
      "Model: \"baseline_model\"\n",
      "_________________________________________________________________\n",
      " Layer (type)                Output Shape              Param #   \n",
      "=================================================================\n",
      " input (InputLayer)          [(None, 80)]              0         \n",
      "                                                                 \n",
      " embedding_layer (Embedding)  (None, 80, 100)          40067700  \n",
      "                                                                 \n",
      " bidirectional_lstm (Bidirec  (None, 80, 256)          234496    \n",
      " tional)                                                         \n",
      "                                                                 \n",
      " time_distributed_dense (Tim  (None, 80, 46)           11822     \n",
      " eDistributed)                                                   \n",
      "                                                                 \n",
      " softmax (Activation)        (None, 80, 46)            0         \n",
      "                                                                 \n",
      "=================================================================\n",
      "Total params: 40,314,018\n",
      "Trainable params: 246,318\n",
      "Non-trainable params: 40,067,700\n",
      "_________________________________________________________________\n"
     ]
    }
   ],
   "source": [
    "COMPILING_INFO = {\n",
    "    'optimizer': keras.optimizers.Adam(learning_rate=1e-3), # Adam optimizer\n",
    "    'loss': 'sparse_categorical_crossentropy',              # Categorical crossentropy between probability distributions\n",
    "    'metrics': [keras.metrics.SparseCategoricalAccuracy()],\n",
    "}\n",
    "\n",
    "baseline_model = build_baseline_model(COMPILING_INFO)"
   ]
  },
  {
   "cell_type": "markdown",
   "metadata": {
    "id": "JSNQp57bmsiz"
   },
   "source": [
    "We run two epochs of training to check that everything is working properly."
   ]
  },
  {
   "cell_type": "code",
   "execution_count": 66,
   "metadata": {
    "colab": {
     "base_uri": "https://localhost:8080/"
    },
    "id": "pUFbPVt_msiz",
    "outputId": "8de738aa-098c-415a-b484-6dec2801f197"
   },
   "outputs": [
    {
     "name": "stdout",
     "output_type": "stream",
     "text": [
      "Epoch 1/2\n"
     ]
    },
    {
     "name": "stderr",
     "output_type": "stream",
     "text": [
      "2021-12-17 15:20:35.617395: I tensorflow/stream_executor/cuda/cuda_dnn.cc:366] Loaded cuDNN version 8301\n",
      "Could not load symbol cublasGetSmCountTarget from libcublas.so.11. Error: /usr/local/cuda-11.2/targets/x86_64-linux/lib/libcublas.so.11: undefined symbol: cublasGetSmCountTarget\n",
      "2021-12-17 15:20:35.712910: I tensorflow/stream_executor/cuda/cuda_blas.cc:1774] TensorFloat-32 will be used for the matrix multiplication. This will only be logged once.\n"
     ]
    },
    {
     "name": "stdout",
     "output_type": "stream",
     "text": [
      "16/16 [==============================] - 6s 107ms/step - loss: 0.9609 - sparse_categorical_accuracy: 0.1733 - val_loss: 0.8433 - val_sparse_categorical_accuracy: 0.3794\n",
      "Epoch 2/2\n",
      "16/16 [==============================] - 0s 13ms/step - loss: 0.7612 - sparse_categorical_accuracy: 0.3773 - val_loss: 0.6975 - val_sparse_categorical_accuracy: 0.4472\n"
     ]
    },
    {
     "data": {
      "text/plain": [
       "<keras.callbacks.History at 0x7f04eb6f7550>"
      ]
     },
     "execution_count": 66,
     "metadata": {},
     "output_type": "execute_result"
    }
   ],
   "source": [
    "baseline_model.fit(\n",
    "    train_dataset, \n",
    "    batch_size=BATCH_SIZE, \n",
    "    epochs=2, \n",
    "    validation_data=val_dataset, \n",
    "    shuffle=True,\n",
    "    verbose=1\n",
    ")"
   ]
  },
  {
   "cell_type": "markdown",
   "metadata": {
    "id": "-_AwgXE0msiz"
   },
   "source": [
    "The loss is decreasing and the accuracy is growing as it should. We can move on and experiment with some more architectures."
   ]
  },
  {
   "cell_type": "markdown",
   "metadata": {
    "id": "bUb_4hftmsiz"
   },
   "source": [
    "## Experiments"
   ]
  },
  {
   "cell_type": "markdown",
   "metadata": {
    "id": "LVchP-22msiz"
   },
   "source": [
    "### Architectural Experiments"
   ]
  },
  {
   "cell_type": "markdown",
   "metadata": {
    "id": "QJAOpIvKmsi0"
   },
   "source": [
    "We try some variants of this baseline architecture, namely:\n",
    "- We try to use a GRU instead of an LSTM\n",
    "- We try adding an additional LSTM layer\n",
    "- We try to add an additional dense layer"
   ]
  },
  {
   "cell_type": "markdown",
   "metadata": {
    "id": "qrhc4sOOmsi0"
   },
   "source": [
    "#### 1. GRU"
   ]
  },
  {
   "cell_type": "markdown",
   "metadata": {
    "id": "s6AFho7amsi0"
   },
   "source": [
    "We try to use a different recurrent cell architecture: the [GRU](https://arxiv.org/abs/1406.1078)."
   ]
  },
  {
   "cell_type": "code",
   "execution_count": 67,
   "metadata": {
    "id": "pPxFRVLHmsi0"
   },
   "outputs": [],
   "source": [
    "def build_GRU_model(compiling_info: Dict,\n",
    "                    embedding_matrix:np.array=embedding_matrix, \n",
    "                    gru_size:int=128, \n",
    "                    out_size:int=len(LABELS),\n",
    "                    verbose:bool=True\n",
    "                    ) -> keras.Model:\n",
    "    # The structure is pretty much the same, up until the Bidirectional layer\n",
    "    inputs = layers.Input(shape=(SEQ_MAX_LEN, ), name=\"input\")\n",
    "    embeddings = layers.Embedding(\n",
    "        input_dim=embedding_matrix.shape[0],\n",
    "        output_dim=embedding_matrix.shape[1],\n",
    "        mask_zero=True,             \n",
    "        input_length=SEQ_MAX_LEN,\n",
    "        weights=[embedding_matrix],\n",
    "        name=\"embedding_layer\",\n",
    "        trainable=False\n",
    "    )(inputs)\n",
    "    # DIFFERENCE: Bidirectional GRU\n",
    "    x = layers.Bidirectional(layers.GRU(gru_size, return_sequences=True), # Keras has pretty much the same API for all RNNs\n",
    "        merge_mode='concat',\n",
    "        name='bidirectional_gru'\n",
    "    )(embeddings)\n",
    "    logits = layers.TimeDistributed(\n",
    "        layers.Dense(out_size),\n",
    "        name=\"time_distributed_dense\"\n",
    "    )(x)\n",
    "    outputs = layers.Activation('softmax', name='softmax')(logits)\n",
    "    \n",
    "    model = keras.Model(inputs, outputs, name=\"gru_model\") \n",
    "    \n",
    "    if verbose:\n",
    "        model.summary()                 # Produce a summary of the model\n",
    "    model.compile(**compiling_info) # Compile the model using the chosen compilation parameters\n",
    "\n",
    "    return model"
   ]
  },
  {
   "cell_type": "markdown",
   "metadata": {
    "id": "00ftF0ylmsi0"
   },
   "source": [
    "#### 2. Additional Dense Layer"
   ]
  },
  {
   "cell_type": "markdown",
   "metadata": {
    "id": "PylHPyRrmsi0"
   },
   "source": [
    "We try to make the classification part of the model a little deeper."
   ]
  },
  {
   "cell_type": "code",
   "execution_count": 68,
   "metadata": {
    "id": "3tcv7ZSTmsi1"
   },
   "outputs": [],
   "source": [
    "def build_densex2_model(compiling_info: Dict,\n",
    "                        embedding_matrix:np.array=embedding_matrix, \n",
    "                        lstm_size:int=128, \n",
    "                        dense_1_size:int=128,\n",
    "                        out_size:int=len(LABELS),\n",
    "                        verbose:bool=True\n",
    "                        ) -> keras.Model:\n",
    "    # The structure is pretty much the same, up until the classificator part\n",
    "    inputs = layers.Input(shape=(SEQ_MAX_LEN, ), name=\"input\")\n",
    "    embeddings = layers.Embedding(\n",
    "        input_dim=embedding_matrix.shape[0],\n",
    "        output_dim=embedding_matrix.shape[1],\n",
    "        mask_zero=True,             \n",
    "        input_length=SEQ_MAX_LEN,\n",
    "        weights=[embedding_matrix],\n",
    "        name=\"embedding_layer\",\n",
    "        trainable=False\n",
    "    )(inputs)\n",
    "    x = layers.Bidirectional(layers.LSTM(lstm_size, return_sequences=True),\n",
    "        merge_mode='concat',\n",
    "        name='bidirectional_lstm'\n",
    "    )(embeddings)\n",
    "    x = layers.TimeDistributed(\n",
    "        layers.Dense(dense_1_size),     # We reduce the RNN representation to 128 before dropping down to the final probability distribution \n",
    "        name=\"time_distributed_dense_1\"\n",
    "    )(x)\n",
    "    logits = layers.TimeDistributed(\n",
    "        layers.Dense(out_size),\n",
    "        name=\"time_distributed_dense_2\"\n",
    "    )(x)\n",
    "    outputs = layers.Activation('softmax', name='softmax')(logits)\n",
    "\n",
    "    model = keras.Model(inputs, outputs, name=\"deeper_classification_model\") \n",
    "\n",
    "    if verbose:\n",
    "        model.summary()                 # Produce a summary of the model\n",
    "    model.compile(**compiling_info) # Compile the model using the chosen compilation parameters\n",
    "\n",
    "    return model"
   ]
  },
  {
   "cell_type": "markdown",
   "metadata": {
    "id": "4FWDgT57msi1"
   },
   "source": [
    "#### 3. Additional LSTM layer"
   ]
  },
  {
   "cell_type": "markdown",
   "metadata": {
    "id": "9-Gwgfummsi1"
   },
   "source": [
    "We try to make the recurrent part of the network a little deeper."
   ]
  },
  {
   "cell_type": "code",
   "execution_count": 69,
   "metadata": {
    "id": "YnIKNXJzmsi1"
   },
   "outputs": [],
   "source": [
    "def build_lstmx2_model( compiling_info: Dict,\n",
    "                        embedding_matrix:np.array=embedding_matrix, \n",
    "                        lstm_1_size:int=128, \n",
    "                        lstm_2_size:int=64,\n",
    "                        out_size:int=len(LABELS),\n",
    "                        verbose:bool=True\n",
    "                        ) -> keras.Model:\n",
    "    # The structure is pretty much the same, but we have two bidirectional LSTM layers\n",
    "    inputs = layers.Input(shape=(SEQ_MAX_LEN, ), name=\"input\")\n",
    "    embeddings = layers.Embedding(\n",
    "        input_dim=embedding_matrix.shape[0],\n",
    "        output_dim=embedding_matrix.shape[1],\n",
    "        mask_zero=True,             \n",
    "        input_length=SEQ_MAX_LEN,\n",
    "        weights=[embedding_matrix],\n",
    "        name=\"embedding_layer\",\n",
    "        trainable=False\n",
    "    )(inputs)\n",
    "    x = layers.Bidirectional(layers.LSTM(lstm_1_size, return_sequences=True),\n",
    "        merge_mode='concat',\n",
    "        name='bidirectional_lstm_1'\n",
    "    )(embeddings)\n",
    "    # We add an additional Bidirectional LSTM layer with reduced output size\n",
    "    x = layers.Bidirectional(layers.LSTM(lstm_2_size, return_sequences=True),\n",
    "        merge_mode='concat',\n",
    "        name='bidirectional_lstm_2'\n",
    "    )(x)\n",
    "    logits = layers.TimeDistributed(\n",
    "        layers.Dense(out_size),\n",
    "        name=\"time_distributed_dense\"\n",
    "    )(x)\n",
    "    outputs = layers.Activation('softmax', name='softmax')(logits)\n",
    "\n",
    "    model = keras.Model(inputs, outputs, name=\"deeper_rnn_model\") \n",
    "\n",
    "    if verbose:\n",
    "        model.summary()                 # Produce a summary of the model\n",
    "    model.compile(**compiling_info) # Compile the model using the chosen compilation parameters\n",
    "    \n",
    "    return model"
   ]
  },
  {
   "cell_type": "markdown",
   "metadata": {
    "id": "aCXnQU8hmsi1"
   },
   "source": [
    "### Evaluation of the architectural changes"
   ]
  },
  {
   "cell_type": "markdown",
   "metadata": {
    "id": "CtHFJcBEmsi1"
   },
   "source": [
    "We explore which architectural change was more successful with respect to the baseline performance. To do this, we set up a checkpoint management pipeline, that is luckily handled by [Keras's callbacks](https://keras.io/api/callbacks/)(https://www.tensorflow.org/tensorboard)."
   ]
  },
  {
   "cell_type": "markdown",
   "metadata": {
    "id": "l7R5utl7msi2"
   },
   "source": [
    "Here we define our training pipeline. In particular:\n",
    "- We use the [`EarlyStopping`](https://keras.io/api/callbacks/early_stopping/) callback to dynamically stop trainings whenever the validation categorical accuracy does not increase after 10 epochs\n",
    "- We save model weights into the `training` folder\n",
    "- Model weights are saved automatically by the [`ModelCheckpoint`](https://keras.io/api/callbacks/model_checkpoint/) callback\n",
    "- Note: we wanted to use TensorBoard for visualization, but for some reason it uses so much RAM that Colab crashes and our home PCs slow down. Some comments online suggest that it's a possible memory leak in the Keras version we have used, but we're not completely sure. For now, the callback has been commented out. "
   ]
  },
  {
   "cell_type": "code",
   "execution_count": 70,
   "metadata": {
    "id": "vzl8QKaxmsi2"
   },
   "outputs": [],
   "source": [
    "EPOCHS = 70\n",
    "histories = {}\n",
    "\n",
    "def train_all(models_to_train: List[partial]):\n",
    "    '''\n",
    "    Trains models from a list of functions returning model (for efficiency)\n",
    "    It also manages TensorBoard logs and saves the best obtained weights.\n",
    "\n",
    "    Inputs:\n",
    "    - models_to_train: A List of models to be trained.\n",
    "\n",
    "    Side-Effects:\n",
    "    - TensorBoard saves logs into the \"logs/fit\" folder. If it doesn't exist, the folder is created automatically.\n",
    "    - The \"training\" folder is created and a Keras callback stores the best weights obtaind for the model in it.\n",
    "        - Note: models are saved by their names, so give expressive names to different models!\n",
    "    - The \"histories.json\" file is created at the end of the training procedure, containing the history of metrics for the training.\n",
    "    '''\n",
    "    # Creates the logs/fit folder if needed\n",
    "    os.makedirs('logs/fit', exist_ok=True)\n",
    "    # Creates the training folder if needed\n",
    "    os.makedirs('training', exist_ok=True)\n",
    "    for model_func in models_to_train:\n",
    "        model = model_func()\n",
    "        name = model.name\n",
    "        print(\"Training model {}\".format(name))\n",
    "        # Store the logs inside different subdirectories\n",
    "        log_dir = os.path.join(\"logs\", \"fit\", name + datetime.datetime.now().strftime(\"%Y%m%d-%H%M%S\"))\n",
    "        tensorboard_callback = keras.callbacks.TensorBoard(log_dir=log_dir, histogram_freq=1)\n",
    "        # Save checkpoints of models\n",
    "        checkpoint_path = os.path.join(\"training\", model.name, \"cp-{epoch:04d}.ckpt\")\n",
    "        cp_callback = tf.keras.callbacks.ModelCheckpoint(filepath=checkpoint_path,\n",
    "            monitor='val_sparse_categorical_accuracy',\n",
    "            save_weights_only=True,\n",
    "            save_best_only=True,\n",
    "            verbose=1)\n",
    "        # Early stopping callback to avoid overfitting\n",
    "        early_stopping_callback = tf.keras.callbacks.EarlyStopping(\n",
    "            monitor=\"val_sparse_categorical_accuracy\",\n",
    "            patience=10,\n",
    "            verbose=1,\n",
    "            restore_best_weights=True\n",
    "        )\n",
    "        # We save the initial model weights...\n",
    "        model.save_weights(checkpoint_path.format(epoch=0))\n",
    "        # ...and then fit the model\n",
    "        history = model.fit(train_dataset, \n",
    "            epochs=EPOCHS, \n",
    "            batch_size=BATCH_SIZE,\n",
    "            validation_data=val_dataset, \n",
    "            shuffle=True,\n",
    "            callbacks=[\n",
    "                early_stopping_callback,\n",
    "                cp_callback\n",
    "                #tensorboard_callback,     # Seems to have problems, disabling for now.\n",
    "            ],\n",
    "            verbose=1\n",
    "        )\n",
    "\n",
    "        histories[name] = history.history\n",
    "\n",
    "    # Save histories\n",
    "    with open('histories.json', 'w') as file:\n",
    "        json.dump(histories, file)  "
   ]
  },
  {
   "cell_type": "markdown",
   "metadata": {
    "id": "wlyBF9F3msi2"
   },
   "source": [
    "Then we are ready to create and fit our models."
   ]
  },
  {
   "cell_type": "code",
   "execution_count": 71,
   "metadata": {
    "id": "HqpMdeUjmsi2"
   },
   "outputs": [],
   "source": [
    "models_to_train = [\n",
    "    partial(build_baseline_model, COMPILING_INFO),\n",
    "    partial(build_GRU_model, COMPILING_INFO),\n",
    "    partial(build_densex2_model, COMPILING_INFO),\n",
    "    partial(build_lstmx2_model, COMPILING_INFO)\n",
    "]"
   ]
  },
  {
   "cell_type": "code",
   "execution_count": 72,
   "metadata": {
    "colab": {
     "base_uri": "https://localhost:8080/"
    },
    "id": "m2YdVJs3msi2",
    "outputId": "4b466518-c9d5-4771-f238-7122c589421b",
    "scrolled": true,
    "tags": []
   },
   "outputs": [
    {
     "name": "stdout",
     "output_type": "stream",
     "text": [
      "Model: \"baseline_model\"\n",
      "_________________________________________________________________\n",
      " Layer (type)                Output Shape              Param #   \n",
      "=================================================================\n",
      " input (InputLayer)          [(None, 80)]              0         \n",
      "                                                                 \n",
      " embedding_layer (Embedding)  (None, 80, 100)          40067700  \n",
      "                                                                 \n",
      " bidirectional_lstm (Bidirec  (None, 80, 256)          234496    \n",
      " tional)                                                         \n",
      "                                                                 \n",
      " time_distributed_dense (Tim  (None, 80, 46)           11822     \n",
      " eDistributed)                                                   \n",
      "                                                                 \n",
      " softmax (Activation)        (None, 80, 46)            0         \n",
      "                                                                 \n",
      "=================================================================\n",
      "Total params: 40,314,018\n",
      "Trainable params: 246,318\n",
      "Non-trainable params: 40,067,700\n",
      "_________________________________________________________________\n",
      "Training model baseline_model\n",
      "Epoch 1/70\n",
      "11/16 [===================>..........] - ETA: 0s - loss: 0.9974 - sparse_categorical_accuracy: 0.2809 \n",
      "Epoch 00001: val_sparse_categorical_accuracy improved from -inf to 0.35507, saving model to training/baseline_model/cp-0001.ckpt\n",
      "16/16 [==============================] - 7s 172ms/step - loss: 0.9567 - sparse_categorical_accuracy: 0.2848 - val_loss: 0.8207 - val_sparse_categorical_accuracy: 0.3551\n",
      "Epoch 2/70\n",
      "12/16 [=====================>........] - ETA: 0s - loss: 0.7354 - sparse_categorical_accuracy: 0.3871\n",
      "Epoch 00002: val_sparse_categorical_accuracy improved from 0.35507 to 0.48937, saving model to training/baseline_model/cp-0002.ckpt\n",
      "16/16 [==============================] - 1s 70ms/step - loss: 0.7192 - sparse_categorical_accuracy: 0.4084 - val_loss: 0.6296 - val_sparse_categorical_accuracy: 0.4894\n",
      "Epoch 3/70\n",
      "12/16 [=====================>........] - ETA: 0s - loss: 0.5499 - sparse_categorical_accuracy: 0.5354\n",
      "Epoch 00003: val_sparse_categorical_accuracy improved from 0.48937 to 0.60831, saving model to training/baseline_model/cp-0003.ckpt\n",
      "16/16 [==============================] - 1s 64ms/step - loss: 0.5345 - sparse_categorical_accuracy: 0.5527 - val_loss: 0.4627 - val_sparse_categorical_accuracy: 0.6083\n",
      "Epoch 4/70\n",
      "13/16 [=======================>......] - ETA: 0s - loss: 0.3994 - sparse_categorical_accuracy: 0.6644\n",
      "Epoch 00004: val_sparse_categorical_accuracy improved from 0.60831 to 0.70551, saving model to training/baseline_model/cp-0004.ckpt\n",
      "16/16 [==============================] - 1s 68ms/step - loss: 0.3923 - sparse_categorical_accuracy: 0.6743 - val_loss: 0.3567 - val_sparse_categorical_accuracy: 0.7055\n",
      "Epoch 5/70\n",
      "16/16 [==============================] - ETA: 0s - loss: 0.3063 - sparse_categorical_accuracy: 0.7469\n",
      "Epoch 00005: val_sparse_categorical_accuracy improved from 0.70551 to 0.75208, saving model to training/baseline_model/cp-0005.ckpt\n",
      "16/16 [==============================] - 1s 68ms/step - loss: 0.3063 - sparse_categorical_accuracy: 0.7469 - val_loss: 0.2930 - val_sparse_categorical_accuracy: 0.7521\n",
      "Epoch 6/70\n",
      "12/16 [=====================>........] - ETA: 0s - loss: 0.2581 - sparse_categorical_accuracy: 0.7848\n",
      "Epoch 00006: val_sparse_categorical_accuracy improved from 0.75208 to 0.78238, saving model to training/baseline_model/cp-0006.ckpt\n",
      "16/16 [==============================] - 1s 73ms/step - loss: 0.2549 - sparse_categorical_accuracy: 0.7879 - val_loss: 0.2531 - val_sparse_categorical_accuracy: 0.7824\n",
      "Epoch 7/70\n",
      "12/16 [=====================>........] - ETA: 0s - loss: 0.2235 - sparse_categorical_accuracy: 0.8094\n",
      "Epoch 00007: val_sparse_categorical_accuracy improved from 0.78238 to 0.80788, saving model to training/baseline_model/cp-0007.ckpt\n",
      "16/16 [==============================] - 1s 69ms/step - loss: 0.2213 - sparse_categorical_accuracy: 0.8129 - val_loss: 0.2255 - val_sparse_categorical_accuracy: 0.8079\n",
      "Epoch 8/70\n",
      "13/16 [=======================>......] - ETA: 0s - loss: 0.1997 - sparse_categorical_accuracy: 0.8296\n",
      "Epoch 00008: val_sparse_categorical_accuracy improved from 0.80788 to 0.82744, saving model to training/baseline_model/cp-0008.ckpt\n",
      "16/16 [==============================] - 1s 75ms/step - loss: 0.1972 - sparse_categorical_accuracy: 0.8345 - val_loss: 0.2049 - val_sparse_categorical_accuracy: 0.8274\n",
      "Epoch 9/70\n",
      "16/16 [==============================] - ETA: 0s - loss: 0.1790 - sparse_categorical_accuracy: 0.8506\n",
      "Epoch 00009: val_sparse_categorical_accuracy improved from 0.82744 to 0.84055, saving model to training/baseline_model/cp-0009.ckpt\n",
      "16/16 [==============================] - 1s 66ms/step - loss: 0.1790 - sparse_categorical_accuracy: 0.8506 - val_loss: 0.1890 - val_sparse_categorical_accuracy: 0.8406\n",
      "Epoch 10/70\n",
      "13/16 [=======================>......] - ETA: 0s - loss: 0.1668 - sparse_categorical_accuracy: 0.8592\n",
      "Epoch 00010: val_sparse_categorical_accuracy improved from 0.84055 to 0.85053, saving model to training/baseline_model/cp-0010.ckpt\n",
      "16/16 [==============================] - 1s 65ms/step - loss: 0.1648 - sparse_categorical_accuracy: 0.8631 - val_loss: 0.1767 - val_sparse_categorical_accuracy: 0.8505\n",
      "Epoch 11/70\n",
      "11/16 [===================>..........] - ETA: 0s - loss: 0.1553 - sparse_categorical_accuracy: 0.8682\n",
      "Epoch 00011: val_sparse_categorical_accuracy improved from 0.85053 to 0.85668, saving model to training/baseline_model/cp-0011.ckpt\n",
      "16/16 [==============================] - 1s 73ms/step - loss: 0.1533 - sparse_categorical_accuracy: 0.8709 - val_loss: 0.1669 - val_sparse_categorical_accuracy: 0.8567\n",
      "Epoch 12/70\n",
      "11/16 [===================>..........] - ETA: 0s - loss: 0.1457 - sparse_categorical_accuracy: 0.8745\n",
      "Epoch 00012: val_sparse_categorical_accuracy improved from 0.85668 to 0.86191, saving model to training/baseline_model/cp-0012.ckpt\n",
      "16/16 [==============================] - 1s 67ms/step - loss: 0.1439 - sparse_categorical_accuracy: 0.8770 - val_loss: 0.1587 - val_sparse_categorical_accuracy: 0.8619\n",
      "Epoch 13/70\n",
      "12/16 [=====================>........] - ETA: 0s - loss: 0.1367 - sparse_categorical_accuracy: 0.8809\n",
      "Epoch 00013: val_sparse_categorical_accuracy improved from 0.86191 to 0.86643, saving model to training/baseline_model/cp-0013.ckpt\n",
      "16/16 [==============================] - 1s 69ms/step - loss: 0.1359 - sparse_categorical_accuracy: 0.8827 - val_loss: 0.1518 - val_sparse_categorical_accuracy: 0.8664\n",
      "Epoch 14/70\n",
      "11/16 [===================>..........] - ETA: 0s - loss: 0.1306 - sparse_categorical_accuracy: 0.8849\n",
      "Epoch 00014: val_sparse_categorical_accuracy improved from 0.86643 to 0.87028, saving model to training/baseline_model/cp-0014.ckpt\n",
      "16/16 [==============================] - 1s 69ms/step - loss: 0.1290 - sparse_categorical_accuracy: 0.8871 - val_loss: 0.1460 - val_sparse_categorical_accuracy: 0.8703\n",
      "Epoch 15/70\n",
      "12/16 [=====================>........] - ETA: 0s - loss: 0.1236 - sparse_categorical_accuracy: 0.8892\n",
      "Epoch 00015: val_sparse_categorical_accuracy improved from 0.87028 to 0.87323, saving model to training/baseline_model/cp-0015.ckpt\n",
      "16/16 [==============================] - 1s 67ms/step - loss: 0.1229 - sparse_categorical_accuracy: 0.8911 - val_loss: 0.1409 - val_sparse_categorical_accuracy: 0.8732\n",
      "Epoch 16/70\n",
      "12/16 [=====================>........] - ETA: 0s - loss: 0.1181 - sparse_categorical_accuracy: 0.8936\n",
      "Epoch 00016: val_sparse_categorical_accuracy improved from 0.87323 to 0.87593, saving model to training/baseline_model/cp-0016.ckpt\n",
      "16/16 [==============================] - 1s 69ms/step - loss: 0.1175 - sparse_categorical_accuracy: 0.8953 - val_loss: 0.1365 - val_sparse_categorical_accuracy: 0.8759\n",
      "Epoch 17/70\n",
      "13/16 [=======================>......] - ETA: 0s - loss: 0.1142 - sparse_categorical_accuracy: 0.8970\n",
      "Epoch 00017: val_sparse_categorical_accuracy improved from 0.87593 to 0.87923, saving model to training/baseline_model/cp-0017.ckpt\n",
      "16/16 [==============================] - 1s 65ms/step - loss: 0.1126 - sparse_categorical_accuracy: 0.8998 - val_loss: 0.1326 - val_sparse_categorical_accuracy: 0.8792\n",
      "Epoch 18/70\n",
      "12/16 [=====================>........] - ETA: 0s - loss: 0.1087 - sparse_categorical_accuracy: 0.9020\n",
      "Epoch 00018: val_sparse_categorical_accuracy improved from 0.87923 to 0.88208, saving model to training/baseline_model/cp-0018.ckpt\n",
      "16/16 [==============================] - 1s 70ms/step - loss: 0.1082 - sparse_categorical_accuracy: 0.9038 - val_loss: 0.1291 - val_sparse_categorical_accuracy: 0.8821\n",
      "Epoch 19/70\n",
      "11/16 [===================>..........] - ETA: 0s - loss: 0.1053 - sparse_categorical_accuracy: 0.9051\n",
      "Epoch 00019: val_sparse_categorical_accuracy improved from 0.88208 to 0.88465, saving model to training/baseline_model/cp-0019.ckpt\n",
      "16/16 [==============================] - 1s 66ms/step - loss: 0.1041 - sparse_categorical_accuracy: 0.9072 - val_loss: 0.1260 - val_sparse_categorical_accuracy: 0.8846\n",
      "Epoch 20/70\n",
      "12/16 [=====================>........] - ETA: 0s - loss: 0.1008 - sparse_categorical_accuracy: 0.9090\n",
      "Epoch 00020: val_sparse_categorical_accuracy improved from 0.88465 to 0.88728, saving model to training/baseline_model/cp-0020.ckpt\n",
      "16/16 [==============================] - 1s 65ms/step - loss: 0.1002 - sparse_categorical_accuracy: 0.9107 - val_loss: 0.1233 - val_sparse_categorical_accuracy: 0.8873\n",
      "Epoch 21/70\n",
      "12/16 [=====================>........] - ETA: 0s - loss: 0.0972 - sparse_categorical_accuracy: 0.9123\n",
      "Epoch 00021: val_sparse_categorical_accuracy improved from 0.88728 to 0.88965, saving model to training/baseline_model/cp-0021.ckpt\n",
      "16/16 [==============================] - 1s 68ms/step - loss: 0.0967 - sparse_categorical_accuracy: 0.9139 - val_loss: 0.1208 - val_sparse_categorical_accuracy: 0.8897\n",
      "Epoch 22/70\n",
      "12/16 [=====================>........] - ETA: 0s - loss: 0.0938 - sparse_categorical_accuracy: 0.9148\n",
      "Epoch 00022: val_sparse_categorical_accuracy improved from 0.88965 to 0.89145, saving model to training/baseline_model/cp-0022.ckpt\n",
      "16/16 [==============================] - 1s 69ms/step - loss: 0.0934 - sparse_categorical_accuracy: 0.9163 - val_loss: 0.1186 - val_sparse_categorical_accuracy: 0.8914\n",
      "Epoch 23/70\n",
      "13/16 [=======================>......] - ETA: 0s - loss: 0.0915 - sparse_categorical_accuracy: 0.9173\n",
      "Epoch 00023: val_sparse_categorical_accuracy improved from 0.89145 to 0.89276, saving model to training/baseline_model/cp-0023.ckpt\n",
      "16/16 [==============================] - 1s 68ms/step - loss: 0.0902 - sparse_categorical_accuracy: 0.9197 - val_loss: 0.1166 - val_sparse_categorical_accuracy: 0.8928\n",
      "Epoch 24/70\n",
      "12/16 [=====================>........] - ETA: 0s - loss: 0.0877 - sparse_categorical_accuracy: 0.9213\n",
      "Epoch 00024: val_sparse_categorical_accuracy improved from 0.89276 to 0.89379, saving model to training/baseline_model/cp-0024.ckpt\n",
      "16/16 [==============================] - 1s 67ms/step - loss: 0.0872 - sparse_categorical_accuracy: 0.9226 - val_loss: 0.1149 - val_sparse_categorical_accuracy: 0.8938\n",
      "Epoch 25/70\n",
      "13/16 [=======================>......] - ETA: 0s - loss: 0.0856 - sparse_categorical_accuracy: 0.9232\n",
      "Epoch 00025: val_sparse_categorical_accuracy improved from 0.89379 to 0.89526, saving model to training/baseline_model/cp-0025.ckpt\n",
      "16/16 [==============================] - 1s 65ms/step - loss: 0.0844 - sparse_categorical_accuracy: 0.9254 - val_loss: 0.1132 - val_sparse_categorical_accuracy: 0.8953\n",
      "Epoch 26/70\n",
      "16/16 [==============================] - ETA: 0s - loss: 0.0816 - sparse_categorical_accuracy: 0.9281\n",
      "Epoch 00026: val_sparse_categorical_accuracy improved from 0.89526 to 0.89658, saving model to training/baseline_model/cp-0026.ckpt\n",
      "16/16 [==============================] - 1s 73ms/step - loss: 0.0816 - sparse_categorical_accuracy: 0.9281 - val_loss: 0.1118 - val_sparse_categorical_accuracy: 0.8966\n",
      "Epoch 27/70\n",
      "11/16 [===================>..........] - ETA: 0s - loss: 0.0800 - sparse_categorical_accuracy: 0.9298\n",
      "Epoch 00027: val_sparse_categorical_accuracy improved from 0.89658 to 0.89696, saving model to training/baseline_model/cp-0027.ckpt\n",
      "16/16 [==============================] - 1s 69ms/step - loss: 0.0790 - sparse_categorical_accuracy: 0.9309 - val_loss: 0.1104 - val_sparse_categorical_accuracy: 0.8970\n",
      "Epoch 28/70\n",
      "13/16 [=======================>......] - ETA: 0s - loss: 0.0776 - sparse_categorical_accuracy: 0.9315\n",
      "Epoch 00028: val_sparse_categorical_accuracy improved from 0.89696 to 0.89757, saving model to training/baseline_model/cp-0028.ckpt\n",
      "16/16 [==============================] - 1s 67ms/step - loss: 0.0765 - sparse_categorical_accuracy: 0.9334 - val_loss: 0.1092 - val_sparse_categorical_accuracy: 0.8976\n",
      "Epoch 29/70\n",
      "16/16 [==============================] - ETA: 0s - loss: 0.0741 - sparse_categorical_accuracy: 0.9353\n",
      "Epoch 00029: val_sparse_categorical_accuracy improved from 0.89757 to 0.89857, saving model to training/baseline_model/cp-0029.ckpt\n",
      "16/16 [==============================] - 1s 70ms/step - loss: 0.0741 - sparse_categorical_accuracy: 0.9353 - val_loss: 0.1081 - val_sparse_categorical_accuracy: 0.8986\n",
      "Epoch 30/70\n",
      "16/16 [==============================] - ETA: 0s - loss: 0.0717 - sparse_categorical_accuracy: 0.9377\n",
      "Epoch 00030: val_sparse_categorical_accuracy improved from 0.89857 to 0.89924, saving model to training/baseline_model/cp-0030.ckpt\n",
      "16/16 [==============================] - 1s 68ms/step - loss: 0.0717 - sparse_categorical_accuracy: 0.9377 - val_loss: 0.1071 - val_sparse_categorical_accuracy: 0.8992\n",
      "Epoch 31/70\n",
      "13/16 [=======================>......] - ETA: 0s - loss: 0.0705 - sparse_categorical_accuracy: 0.9384\n",
      "Epoch 00031: val_sparse_categorical_accuracy improved from 0.89924 to 0.89975, saving model to training/baseline_model/cp-0031.ckpt\n",
      "16/16 [==============================] - 1s 67ms/step - loss: 0.0694 - sparse_categorical_accuracy: 0.9402 - val_loss: 0.1063 - val_sparse_categorical_accuracy: 0.8998\n",
      "Epoch 32/70\n",
      "16/16 [==============================] - ETA: 0s - loss: 0.0672 - sparse_categorical_accuracy: 0.9421\n",
      "Epoch 00032: val_sparse_categorical_accuracy improved from 0.89975 to 0.89998, saving model to training/baseline_model/cp-0032.ckpt\n",
      "16/16 [==============================] - 1s 71ms/step - loss: 0.0672 - sparse_categorical_accuracy: 0.9421 - val_loss: 0.1055 - val_sparse_categorical_accuracy: 0.9000\n",
      "Epoch 33/70\n",
      "12/16 [=====================>........] - ETA: 0s - loss: 0.0655 - sparse_categorical_accuracy: 0.9438\n",
      "Epoch 00033: val_sparse_categorical_accuracy improved from 0.89998 to 0.90014, saving model to training/baseline_model/cp-0033.ckpt\n",
      "16/16 [==============================] - 1s 68ms/step - loss: 0.0651 - sparse_categorical_accuracy: 0.9443 - val_loss: 0.1048 - val_sparse_categorical_accuracy: 0.9001\n",
      "Epoch 34/70\n",
      "12/16 [=====================>........] - ETA: 0s - loss: 0.0634 - sparse_categorical_accuracy: 0.9456\n",
      "Epoch 00034: val_sparse_categorical_accuracy improved from 0.90014 to 0.90052, saving model to training/baseline_model/cp-0034.ckpt\n",
      "16/16 [==============================] - 1s 65ms/step - loss: 0.0631 - sparse_categorical_accuracy: 0.9461 - val_loss: 0.1042 - val_sparse_categorical_accuracy: 0.9005\n",
      "Epoch 35/70\n",
      "16/16 [==============================] - ETA: 0s - loss: 0.0611 - sparse_categorical_accuracy: 0.9480\n",
      "Epoch 00035: val_sparse_categorical_accuracy improved from 0.90052 to 0.90075, saving model to training/baseline_model/cp-0035.ckpt\n",
      "16/16 [==============================] - 1s 74ms/step - loss: 0.0611 - sparse_categorical_accuracy: 0.9480 - val_loss: 0.1036 - val_sparse_categorical_accuracy: 0.9007\n",
      "Epoch 36/70\n",
      "12/16 [=====================>........] - ETA: 0s - loss: 0.0595 - sparse_categorical_accuracy: 0.9499\n",
      "Epoch 00036: val_sparse_categorical_accuracy improved from 0.90075 to 0.90145, saving model to training/baseline_model/cp-0036.ckpt\n",
      "16/16 [==============================] - 1s 65ms/step - loss: 0.0593 - sparse_categorical_accuracy: 0.9500 - val_loss: 0.1033 - val_sparse_categorical_accuracy: 0.9015\n",
      "Epoch 37/70\n",
      "12/16 [=====================>........] - ETA: 0s - loss: 0.0579 - sparse_categorical_accuracy: 0.9507\n",
      "Epoch 00037: val_sparse_categorical_accuracy did not improve from 0.90145\n",
      "16/16 [==============================] - 0s 13ms/step - loss: 0.0578 - sparse_categorical_accuracy: 0.9507 - val_loss: 0.1097 - val_sparse_categorical_accuracy: 0.8936\n",
      "Epoch 38/70\n",
      "12/16 [=====================>........] - ETA: 0s - loss: 0.0587 - sparse_categorical_accuracy: 0.9482\n",
      "Epoch 00038: val_sparse_categorical_accuracy improved from 0.90145 to 0.90213, saving model to training/baseline_model/cp-0038.ckpt\n",
      "16/16 [==============================] - 1s 67ms/step - loss: 0.0581 - sparse_categorical_accuracy: 0.9490 - val_loss: 0.1028 - val_sparse_categorical_accuracy: 0.9021\n",
      "Epoch 39/70\n",
      "12/16 [=====================>........] - ETA: 0s - loss: 0.0569 - sparse_categorical_accuracy: 0.9509\n",
      "Epoch 00039: val_sparse_categorical_accuracy did not improve from 0.90213\n",
      "16/16 [==============================] - 0s 13ms/step - loss: 0.0568 - sparse_categorical_accuracy: 0.9508 - val_loss: 0.1052 - val_sparse_categorical_accuracy: 0.8977\n",
      "Epoch 40/70\n",
      "13/16 [=======================>......] - ETA: 0s - loss: 0.0560 - sparse_categorical_accuracy: 0.9507\n",
      "Epoch 00040: val_sparse_categorical_accuracy did not improve from 0.90213\n",
      "16/16 [==============================] - 0s 13ms/step - loss: 0.0550 - sparse_categorical_accuracy: 0.9522 - val_loss: 0.1020 - val_sparse_categorical_accuracy: 0.9007\n",
      "Epoch 41/70\n",
      "11/16 [===================>..........] - ETA: 0s - loss: 0.0526 - sparse_categorical_accuracy: 0.9552\n",
      "Epoch 00041: val_sparse_categorical_accuracy improved from 0.90213 to 0.90444, saving model to training/baseline_model/cp-0041.ckpt\n",
      "16/16 [==============================] - 1s 68ms/step - loss: 0.0520 - sparse_categorical_accuracy: 0.9560 - val_loss: 0.1006 - val_sparse_categorical_accuracy: 0.9044\n",
      "Epoch 42/70\n",
      "12/16 [=====================>........] - ETA: 0s - loss: 0.0503 - sparse_categorical_accuracy: 0.9587\n",
      "Epoch 00042: val_sparse_categorical_accuracy did not improve from 0.90444\n",
      "16/16 [==============================] - 0s 13ms/step - loss: 0.0501 - sparse_categorical_accuracy: 0.9588 - val_loss: 0.1010 - val_sparse_categorical_accuracy: 0.9032\n",
      "Epoch 43/70\n",
      "13/16 [=======================>......] - ETA: 0s - loss: 0.0489 - sparse_categorical_accuracy: 0.9601\n",
      "Epoch 00043: val_sparse_categorical_accuracy did not improve from 0.90444\n",
      "16/16 [==============================] - 0s 12ms/step - loss: 0.0483 - sparse_categorical_accuracy: 0.9609 - val_loss: 0.1010 - val_sparse_categorical_accuracy: 0.9022\n",
      "Epoch 44/70\n",
      "13/16 [=======================>......] - ETA: 0s - loss: 0.0476 - sparse_categorical_accuracy: 0.9612\n",
      "Epoch 00044: val_sparse_categorical_accuracy did not improve from 0.90444\n",
      "16/16 [==============================] - 0s 13ms/step - loss: 0.0470 - sparse_categorical_accuracy: 0.9621 - val_loss: 0.1004 - val_sparse_categorical_accuracy: 0.9037\n",
      "Epoch 45/70\n",
      "12/16 [=====================>........] - ETA: 0s - loss: 0.0459 - sparse_categorical_accuracy: 0.9631\n",
      "Epoch 00045: val_sparse_categorical_accuracy did not improve from 0.90444\n",
      "16/16 [==============================] - 0s 13ms/step - loss: 0.0457 - sparse_categorical_accuracy: 0.9632 - val_loss: 0.1004 - val_sparse_categorical_accuracy: 0.9040\n",
      "Epoch 46/70\n",
      "12/16 [=====================>........] - ETA: 0s - loss: 0.0445 - sparse_categorical_accuracy: 0.9649\n",
      "Epoch 00046: val_sparse_categorical_accuracy did not improve from 0.90444\n",
      "16/16 [==============================] - 0s 13ms/step - loss: 0.0444 - sparse_categorical_accuracy: 0.9648 - val_loss: 0.1015 - val_sparse_categorical_accuracy: 0.9024\n",
      "Epoch 47/70\n",
      "12/16 [=====================>........] - ETA: 0s - loss: 0.0432 - sparse_categorical_accuracy: 0.9668\n",
      "Epoch 00047: val_sparse_categorical_accuracy did not improve from 0.90444\n",
      "16/16 [==============================] - 0s 13ms/step - loss: 0.0433 - sparse_categorical_accuracy: 0.9663 - val_loss: 0.1008 - val_sparse_categorical_accuracy: 0.9035\n",
      "Epoch 48/70\n",
      "12/16 [=====================>........] - ETA: 0s - loss: 0.0423 - sparse_categorical_accuracy: 0.9677\n",
      "Epoch 00048: val_sparse_categorical_accuracy did not improve from 0.90444\n",
      "16/16 [==============================] - 0s 13ms/step - loss: 0.0425 - sparse_categorical_accuracy: 0.9670 - val_loss: 0.0994 - val_sparse_categorical_accuracy: 0.9041\n",
      "Epoch 49/70\n",
      "13/16 [=======================>......] - ETA: 0s - loss: 0.0437 - sparse_categorical_accuracy: 0.9638\n",
      "Epoch 00049: val_sparse_categorical_accuracy did not improve from 0.90444\n",
      "16/16 [==============================] - 0s 13ms/step - loss: 0.0430 - sparse_categorical_accuracy: 0.9646 - val_loss: 0.0982 - val_sparse_categorical_accuracy: 0.9043\n",
      "Epoch 50/70\n",
      "12/16 [=====================>........] - ETA: 0s - loss: 0.0439 - sparse_categorical_accuracy: 0.9622\n",
      "Epoch 00050: val_sparse_categorical_accuracy did not improve from 0.90444\n",
      "16/16 [==============================] - 0s 13ms/step - loss: 0.0439 - sparse_categorical_accuracy: 0.9625 - val_loss: 0.1109 - val_sparse_categorical_accuracy: 0.8931\n",
      "Epoch 51/70\n",
      "13/16 [=======================>......] - ETA: 0s - loss: 0.0488 - sparse_categorical_accuracy: 0.9547Restoring model weights from the end of the best epoch: 41.\n",
      "\n",
      "Epoch 00051: val_sparse_categorical_accuracy did not improve from 0.90444\n",
      "16/16 [==============================] - 0s 17ms/step - loss: 0.0483 - sparse_categorical_accuracy: 0.9557 - val_loss: 0.0984 - val_sparse_categorical_accuracy: 0.9038\n",
      "Epoch 00051: early stopping\n",
      "Model: \"gru_model\"\n",
      "_________________________________________________________________\n",
      " Layer (type)                Output Shape              Param #   \n",
      "=================================================================\n",
      " input (InputLayer)          [(None, 80)]              0         \n",
      "                                                                 \n",
      " embedding_layer (Embedding)  (None, 80, 100)          40067700  \n",
      "                                                                 \n",
      " bidirectional_gru (Bidirect  (None, 80, 256)          176640    \n",
      " ional)                                                          \n",
      "                                                                 \n",
      " time_distributed_dense (Tim  (None, 80, 46)           11822     \n",
      " eDistributed)                                                   \n",
      "                                                                 \n",
      " softmax (Activation)        (None, 80, 46)            0         \n",
      "                                                                 \n",
      "=================================================================\n",
      "Total params: 40,256,162\n",
      "Trainable params: 188,462\n",
      "Non-trainable params: 40,067,700\n",
      "_________________________________________________________________\n",
      "Training model gru_model\n",
      "Epoch 1/70\n",
      "13/16 [=======================>......] - ETA: 0s - loss: 0.7407 - sparse_categorical_accuracy: 0.6103 \n",
      "Epoch 00001: val_sparse_categorical_accuracy improved from -inf to 0.67181, saving model to training/gru_model/cp-0001.ckpt\n",
      "16/16 [==============================] - 7s 170ms/step - loss: 0.6909 - sparse_categorical_accuracy: 0.6154 - val_loss: 0.3643 - val_sparse_categorical_accuracy: 0.6718\n",
      "Epoch 2/70\n",
      "12/16 [=====================>........] - ETA: 0s - loss: 0.2717 - sparse_categorical_accuracy: 0.7528\n",
      "Epoch 00002: val_sparse_categorical_accuracy improved from 0.67181 to 0.81269, saving model to training/gru_model/cp-0002.ckpt\n",
      "16/16 [==============================] - 1s 67ms/step - loss: 0.2574 - sparse_categorical_accuracy: 0.7677 - val_loss: 0.2076 - val_sparse_categorical_accuracy: 0.8127\n",
      "Epoch 3/70\n",
      "13/16 [=======================>......] - ETA: 0s - loss: 0.1699 - sparse_categorical_accuracy: 0.8422\n",
      "Epoch 00003: val_sparse_categorical_accuracy improved from 0.81269 to 0.85354, saving model to training/gru_model/cp-0003.ckpt\n",
      "16/16 [==============================] - 1s 68ms/step - loss: 0.1654 - sparse_categorical_accuracy: 0.8482 - val_loss: 0.1601 - val_sparse_categorical_accuracy: 0.8535\n",
      "Epoch 4/70\n",
      "13/16 [=======================>......] - ETA: 0s - loss: 0.1358 - sparse_categorical_accuracy: 0.8726\n",
      "Epoch 00004: val_sparse_categorical_accuracy improved from 0.85354 to 0.87265, saving model to training/gru_model/cp-0004.ckpt\n",
      "16/16 [==============================] - 1s 65ms/step - loss: 0.1329 - sparse_categorical_accuracy: 0.8770 - val_loss: 0.1390 - val_sparse_categorical_accuracy: 0.8727\n",
      "Epoch 5/70\n",
      "13/16 [=======================>......] - ETA: 0s - loss: 0.1177 - sparse_categorical_accuracy: 0.8888\n",
      "Epoch 00005: val_sparse_categorical_accuracy improved from 0.87265 to 0.88163, saving model to training/gru_model/cp-0005.ckpt\n",
      "16/16 [==============================] - 1s 67ms/step - loss: 0.1153 - sparse_categorical_accuracy: 0.8927 - val_loss: 0.1271 - val_sparse_categorical_accuracy: 0.8816\n",
      "Epoch 6/70\n",
      "13/16 [=======================>......] - ETA: 0s - loss: 0.1058 - sparse_categorical_accuracy: 0.9014\n",
      "Epoch 00006: val_sparse_categorical_accuracy improved from 0.88163 to 0.88936, saving model to training/gru_model/cp-0006.ckpt\n",
      "16/16 [==============================] - 1s 70ms/step - loss: 0.1036 - sparse_categorical_accuracy: 0.9045 - val_loss: 0.1185 - val_sparse_categorical_accuracy: 0.8894\n",
      "Epoch 7/70\n",
      "12/16 [=====================>........] - ETA: 0s - loss: 0.0959 - sparse_categorical_accuracy: 0.9114\n",
      "Epoch 00007: val_sparse_categorical_accuracy improved from 0.88936 to 0.89421, saving model to training/gru_model/cp-0007.ckpt\n",
      "16/16 [==============================] - 1s 66ms/step - loss: 0.0947 - sparse_categorical_accuracy: 0.9130 - val_loss: 0.1124 - val_sparse_categorical_accuracy: 0.8942\n",
      "Epoch 8/70\n",
      "13/16 [=======================>......] - ETA: 0s - loss: 0.0892 - sparse_categorical_accuracy: 0.9175\n",
      "Epoch 00008: val_sparse_categorical_accuracy improved from 0.89421 to 0.89716, saving model to training/gru_model/cp-0008.ckpt\n",
      "16/16 [==============================] - 1s 66ms/step - loss: 0.0875 - sparse_categorical_accuracy: 0.9200 - val_loss: 0.1079 - val_sparse_categorical_accuracy: 0.8972\n",
      "Epoch 9/70\n",
      "13/16 [=======================>......] - ETA: 0s - loss: 0.0831 - sparse_categorical_accuracy: 0.9234\n",
      "Epoch 00009: val_sparse_categorical_accuracy improved from 0.89716 to 0.89927, saving model to training/gru_model/cp-0009.ckpt\n",
      "16/16 [==============================] - 1s 68ms/step - loss: 0.0815 - sparse_categorical_accuracy: 0.9257 - val_loss: 0.1045 - val_sparse_categorical_accuracy: 0.8993\n",
      "Epoch 10/70\n",
      "13/16 [=======================>......] - ETA: 0s - loss: 0.0778 - sparse_categorical_accuracy: 0.9275\n",
      "Epoch 00010: val_sparse_categorical_accuracy improved from 0.89927 to 0.89998, saving model to training/gru_model/cp-0010.ckpt\n",
      "16/16 [==============================] - 1s 68ms/step - loss: 0.0763 - sparse_categorical_accuracy: 0.9298 - val_loss: 0.1023 - val_sparse_categorical_accuracy: 0.9000\n",
      "Epoch 11/70\n",
      "13/16 [=======================>......] - ETA: 0s - loss: 0.0732 - sparse_categorical_accuracy: 0.9316\n",
      "Epoch 00011: val_sparse_categorical_accuracy improved from 0.89998 to 0.90068, saving model to training/gru_model/cp-0011.ckpt\n",
      "16/16 [==============================] - 1s 63ms/step - loss: 0.0717 - sparse_categorical_accuracy: 0.9337 - val_loss: 0.1007 - val_sparse_categorical_accuracy: 0.9007\n",
      "Epoch 12/70\n",
      "13/16 [=======================>......] - ETA: 0s - loss: 0.0690 - sparse_categorical_accuracy: 0.9354\n",
      "Epoch 00012: val_sparse_categorical_accuracy improved from 0.90068 to 0.90376, saving model to training/gru_model/cp-0012.ckpt\n",
      "16/16 [==============================] - 1s 71ms/step - loss: 0.0677 - sparse_categorical_accuracy: 0.9376 - val_loss: 0.0976 - val_sparse_categorical_accuracy: 0.9038\n",
      "Epoch 13/70\n",
      "13/16 [=======================>......] - ETA: 0s - loss: 0.0650 - sparse_categorical_accuracy: 0.9401\n",
      "Epoch 00013: val_sparse_categorical_accuracy improved from 0.90376 to 0.90748, saving model to training/gru_model/cp-0013.ckpt\n",
      "16/16 [==============================] - 1s 66ms/step - loss: 0.0638 - sparse_categorical_accuracy: 0.9419 - val_loss: 0.0947 - val_sparse_categorical_accuracy: 0.9075\n",
      "Epoch 14/70\n",
      "13/16 [=======================>......] - ETA: 0s - loss: 0.0613 - sparse_categorical_accuracy: 0.9440\n",
      "Epoch 00014: val_sparse_categorical_accuracy improved from 0.90748 to 0.90783, saving model to training/gru_model/cp-0014.ckpt\n",
      "16/16 [==============================] - 1s 66ms/step - loss: 0.0602 - sparse_categorical_accuracy: 0.9456 - val_loss: 0.0938 - val_sparse_categorical_accuracy: 0.9078\n",
      "Epoch 15/70\n",
      "13/16 [=======================>......] - ETA: 0s - loss: 0.0579 - sparse_categorical_accuracy: 0.9469\n",
      "Epoch 00015: val_sparse_categorical_accuracy improved from 0.90783 to 0.91056, saving model to training/gru_model/cp-0015.ckpt\n",
      "16/16 [==============================] - 1s 69ms/step - loss: 0.0569 - sparse_categorical_accuracy: 0.9482 - val_loss: 0.0913 - val_sparse_categorical_accuracy: 0.9106\n",
      "Epoch 16/70\n",
      "13/16 [=======================>......] - ETA: 0s - loss: 0.0546 - sparse_categorical_accuracy: 0.9501\n",
      "Epoch 00016: val_sparse_categorical_accuracy did not improve from 0.91056\n",
      "16/16 [==============================] - 0s 12ms/step - loss: 0.0537 - sparse_categorical_accuracy: 0.9512 - val_loss: 0.0923 - val_sparse_categorical_accuracy: 0.9090\n",
      "Epoch 17/70\n",
      "13/16 [=======================>......] - ETA: 0s - loss: 0.0521 - sparse_categorical_accuracy: 0.9531\n",
      "Epoch 00017: val_sparse_categorical_accuracy did not improve from 0.91056\n",
      "16/16 [==============================] - 0s 12ms/step - loss: 0.0512 - sparse_categorical_accuracy: 0.9546 - val_loss: 0.0914 - val_sparse_categorical_accuracy: 0.9092\n",
      "Epoch 18/70\n",
      "13/16 [=======================>......] - ETA: 0s - loss: 0.0491 - sparse_categorical_accuracy: 0.9564\n",
      "Epoch 00018: val_sparse_categorical_accuracy improved from 0.91056 to 0.91136, saving model to training/gru_model/cp-0018.ckpt\n",
      "16/16 [==============================] - 1s 65ms/step - loss: 0.0483 - sparse_categorical_accuracy: 0.9577 - val_loss: 0.0889 - val_sparse_categorical_accuracy: 0.9114\n",
      "Epoch 19/70\n",
      "13/16 [=======================>......] - ETA: 0s - loss: 0.0461 - sparse_categorical_accuracy: 0.9598\n",
      "Epoch 00019: val_sparse_categorical_accuracy improved from 0.91136 to 0.91322, saving model to training/gru_model/cp-0019.ckpt\n",
      "16/16 [==============================] - 0s 31ms/step - loss: 0.0453 - sparse_categorical_accuracy: 0.9608 - val_loss: 0.0876 - val_sparse_categorical_accuracy: 0.9132\n",
      "Epoch 20/70\n",
      "13/16 [=======================>......] - ETA: 0s - loss: 0.0434 - sparse_categorical_accuracy: 0.9619\n",
      "Epoch 00020: val_sparse_categorical_accuracy did not improve from 0.91322\n",
      "16/16 [==============================] - 0s 12ms/step - loss: 0.0426 - sparse_categorical_accuracy: 0.9629 - val_loss: 0.0901 - val_sparse_categorical_accuracy: 0.9106\n",
      "Epoch 21/70\n",
      "13/16 [=======================>......] - ETA: 0s - loss: 0.0413 - sparse_categorical_accuracy: 0.9642\n",
      "Epoch 00021: val_sparse_categorical_accuracy did not improve from 0.91322\n",
      "16/16 [==============================] - 0s 12ms/step - loss: 0.0405 - sparse_categorical_accuracy: 0.9653 - val_loss: 0.0875 - val_sparse_categorical_accuracy: 0.9129\n",
      "Epoch 22/70\n",
      "13/16 [=======================>......] - ETA: 0s - loss: 0.0387 - sparse_categorical_accuracy: 0.9673\n",
      "Epoch 00022: val_sparse_categorical_accuracy improved from 0.91322 to 0.91361, saving model to training/gru_model/cp-0022.ckpt\n",
      "16/16 [==============================] - 0s 32ms/step - loss: 0.0378 - sparse_categorical_accuracy: 0.9684 - val_loss: 0.0875 - val_sparse_categorical_accuracy: 0.9136\n",
      "Epoch 23/70\n",
      "13/16 [=======================>......] - ETA: 0s - loss: 0.0365 - sparse_categorical_accuracy: 0.9706\n",
      "Epoch 00023: val_sparse_categorical_accuracy did not improve from 0.91361\n",
      "16/16 [==============================] - 0s 12ms/step - loss: 0.0357 - sparse_categorical_accuracy: 0.9713 - val_loss: 0.0873 - val_sparse_categorical_accuracy: 0.9132\n",
      "Epoch 24/70\n",
      "13/16 [=======================>......] - ETA: 0s - loss: 0.0344 - sparse_categorical_accuracy: 0.9730\n",
      "Epoch 00024: val_sparse_categorical_accuracy did not improve from 0.91361\n",
      "16/16 [==============================] - 0s 12ms/step - loss: 0.0337 - sparse_categorical_accuracy: 0.9737 - val_loss: 0.0880 - val_sparse_categorical_accuracy: 0.9127\n",
      "Epoch 25/70\n",
      "13/16 [=======================>......] - ETA: 0s - loss: 0.0325 - sparse_categorical_accuracy: 0.9757\n",
      "Epoch 00025: val_sparse_categorical_accuracy improved from 0.91361 to 0.91412, saving model to training/gru_model/cp-0025.ckpt\n",
      "16/16 [==============================] - 0s 30ms/step - loss: 0.0318 - sparse_categorical_accuracy: 0.9762 - val_loss: 0.0869 - val_sparse_categorical_accuracy: 0.9141\n",
      "Epoch 26/70\n",
      "13/16 [=======================>......] - ETA: 0s - loss: 0.0306 - sparse_categorical_accuracy: 0.9774\n",
      "Epoch 00026: val_sparse_categorical_accuracy improved from 0.91412 to 0.91457, saving model to training/gru_model/cp-0026.ckpt\n",
      "16/16 [==============================] - 1s 68ms/step - loss: 0.0300 - sparse_categorical_accuracy: 0.9781 - val_loss: 0.0861 - val_sparse_categorical_accuracy: 0.9146\n",
      "Epoch 27/70\n",
      "13/16 [=======================>......] - ETA: 0s - loss: 0.0288 - sparse_categorical_accuracy: 0.9801\n",
      "Epoch 00027: val_sparse_categorical_accuracy did not improve from 0.91457\n",
      "16/16 [==============================] - 0s 13ms/step - loss: 0.0282 - sparse_categorical_accuracy: 0.9804 - val_loss: 0.0880 - val_sparse_categorical_accuracy: 0.9128\n",
      "Epoch 28/70\n",
      "13/16 [=======================>......] - ETA: 0s - loss: 0.0272 - sparse_categorical_accuracy: 0.9814\n",
      "Epoch 00028: val_sparse_categorical_accuracy did not improve from 0.91457\n",
      "16/16 [==============================] - 0s 12ms/step - loss: 0.0267 - sparse_categorical_accuracy: 0.9817 - val_loss: 0.0867 - val_sparse_categorical_accuracy: 0.9138\n",
      "Epoch 29/70\n",
      "13/16 [=======================>......] - ETA: 0s - loss: 0.0254 - sparse_categorical_accuracy: 0.9831\n",
      "Epoch 00029: val_sparse_categorical_accuracy did not improve from 0.91457\n",
      "16/16 [==============================] - 0s 13ms/step - loss: 0.0250 - sparse_categorical_accuracy: 0.9836 - val_loss: 0.0877 - val_sparse_categorical_accuracy: 0.9128\n",
      "Epoch 30/70\n",
      "13/16 [=======================>......] - ETA: 0s - loss: 0.0242 - sparse_categorical_accuracy: 0.9845\n",
      "Epoch 00030: val_sparse_categorical_accuracy did not improve from 0.91457\n",
      "16/16 [==============================] - 0s 13ms/step - loss: 0.0237 - sparse_categorical_accuracy: 0.9848 - val_loss: 0.0882 - val_sparse_categorical_accuracy: 0.9129\n",
      "Epoch 31/70\n",
      "13/16 [=======================>......] - ETA: 0s - loss: 0.0228 - sparse_categorical_accuracy: 0.9862\n",
      "Epoch 00031: val_sparse_categorical_accuracy did not improve from 0.91457\n",
      "16/16 [==============================] - 0s 13ms/step - loss: 0.0223 - sparse_categorical_accuracy: 0.9865 - val_loss: 0.0906 - val_sparse_categorical_accuracy: 0.9113\n",
      "Epoch 32/70\n",
      "13/16 [=======================>......] - ETA: 0s - loss: 0.0216 - sparse_categorical_accuracy: 0.9870\n",
      "Epoch 00032: val_sparse_categorical_accuracy did not improve from 0.91457\n",
      "16/16 [==============================] - 0s 13ms/step - loss: 0.0211 - sparse_categorical_accuracy: 0.9875 - val_loss: 0.0913 - val_sparse_categorical_accuracy: 0.9105\n",
      "Epoch 33/70\n",
      "12/16 [=====================>........] - ETA: 0s - loss: 0.0206 - sparse_categorical_accuracy: 0.9882\n",
      "Epoch 00033: val_sparse_categorical_accuracy did not improve from 0.91457\n",
      "16/16 [==============================] - 0s 13ms/step - loss: 0.0201 - sparse_categorical_accuracy: 0.9887 - val_loss: 0.0914 - val_sparse_categorical_accuracy: 0.9111\n",
      "Epoch 34/70\n",
      "13/16 [=======================>......] - ETA: 0s - loss: 0.0197 - sparse_categorical_accuracy: 0.9889\n",
      "Epoch 00034: val_sparse_categorical_accuracy did not improve from 0.91457\n",
      "16/16 [==============================] - 0s 13ms/step - loss: 0.0192 - sparse_categorical_accuracy: 0.9893 - val_loss: 0.0922 - val_sparse_categorical_accuracy: 0.9105\n",
      "Epoch 35/70\n",
      "13/16 [=======================>......] - ETA: 0s - loss: 0.0186 - sparse_categorical_accuracy: 0.9897\n",
      "Epoch 00035: val_sparse_categorical_accuracy did not improve from 0.91457\n",
      "16/16 [==============================] - 0s 14ms/step - loss: 0.0182 - sparse_categorical_accuracy: 0.9900 - val_loss: 0.0901 - val_sparse_categorical_accuracy: 0.9130\n",
      "Epoch 36/70\n",
      "13/16 [=======================>......] - ETA: 0s - loss: 0.0173 - sparse_categorical_accuracy: 0.9907Restoring model weights from the end of the best epoch: 26.\n",
      "\n",
      "Epoch 00036: val_sparse_categorical_accuracy did not improve from 0.91457\n",
      "16/16 [==============================] - 0s 17ms/step - loss: 0.0170 - sparse_categorical_accuracy: 0.9908 - val_loss: 0.0892 - val_sparse_categorical_accuracy: 0.9135\n",
      "Epoch 00036: early stopping\n",
      "Model: \"deeper_classification_model\"\n",
      "_________________________________________________________________\n",
      " Layer (type)                Output Shape              Param #   \n",
      "=================================================================\n",
      " input (InputLayer)          [(None, 80)]              0         \n",
      "                                                                 \n",
      " embedding_layer (Embedding)  (None, 80, 100)          40067700  \n",
      "                                                                 \n",
      " bidirectional_lstm (Bidirec  (None, 80, 256)          234496    \n",
      " tional)                                                         \n",
      "                                                                 \n",
      " time_distributed_dense_1 (T  (None, 80, 128)          32896     \n",
      " imeDistributed)                                                 \n",
      "                                                                 \n",
      " time_distributed_dense_2 (T  (None, 80, 46)           5934      \n",
      " imeDistributed)                                                 \n",
      "                                                                 \n",
      " softmax (Activation)        (None, 80, 46)            0         \n",
      "                                                                 \n",
      "=================================================================\n",
      "Total params: 40,341,026\n",
      "Trainable params: 273,326\n",
      "Non-trainable params: 40,067,700\n",
      "_________________________________________________________________\n",
      "Training model deeper_classification_model\n",
      "Epoch 1/70\n",
      "11/16 [===================>..........] - ETA: 0s - loss: 0.8498 - sparse_categorical_accuracy: 0.5666 \n",
      "Epoch 00001: val_sparse_categorical_accuracy improved from -inf to 0.62983, saving model to training/deeper_classification_model/cp-0001.ckpt\n",
      "16/16 [==============================] - 7s 172ms/step - loss: 0.7574 - sparse_categorical_accuracy: 0.5612 - val_loss: 0.4136 - val_sparse_categorical_accuracy: 0.6298\n",
      "Epoch 2/70\n",
      "12/16 [=====================>........] - ETA: 0s - loss: 0.2988 - sparse_categorical_accuracy: 0.7204\n",
      "Epoch 00002: val_sparse_categorical_accuracy improved from 0.62983 to 0.80618, saving model to training/deeper_classification_model/cp-0002.ckpt\n",
      "16/16 [==============================] - 1s 67ms/step - loss: 0.2807 - sparse_categorical_accuracy: 0.7381 - val_loss: 0.2090 - val_sparse_categorical_accuracy: 0.8062\n",
      "Epoch 3/70\n",
      "12/16 [=====================>........] - ETA: 0s - loss: 0.1695 - sparse_categorical_accuracy: 0.8400\n",
      "Epoch 00003: val_sparse_categorical_accuracy improved from 0.80618 to 0.85393, saving model to training/deeper_classification_model/cp-0003.ckpt\n",
      "16/16 [==============================] - 1s 65ms/step - loss: 0.1640 - sparse_categorical_accuracy: 0.8464 - val_loss: 0.1539 - val_sparse_categorical_accuracy: 0.8539\n",
      "Epoch 4/70\n",
      "12/16 [=====================>........] - ETA: 0s - loss: 0.1285 - sparse_categorical_accuracy: 0.8762\n",
      "Epoch 00004: val_sparse_categorical_accuracy improved from 0.85393 to 0.87686, saving model to training/deeper_classification_model/cp-0004.ckpt\n",
      "16/16 [==============================] - 1s 71ms/step - loss: 0.1257 - sparse_categorical_accuracy: 0.8799 - val_loss: 0.1301 - val_sparse_categorical_accuracy: 0.8769\n",
      "Epoch 5/70\n",
      "12/16 [=====================>........] - ETA: 0s - loss: 0.1083 - sparse_categorical_accuracy: 0.8946\n",
      "Epoch 00005: val_sparse_categorical_accuracy improved from 0.87686 to 0.88593, saving model to training/deeper_classification_model/cp-0005.ckpt\n",
      "16/16 [==============================] - 1s 69ms/step - loss: 0.1065 - sparse_categorical_accuracy: 0.8970 - val_loss: 0.1172 - val_sparse_categorical_accuracy: 0.8859\n",
      "Epoch 6/70\n",
      "11/16 [===================>..........] - ETA: 0s - loss: 0.0965 - sparse_categorical_accuracy: 0.9062\n",
      "Epoch 00006: val_sparse_categorical_accuracy improved from 0.88593 to 0.88859, saving model to training/deeper_classification_model/cp-0006.ckpt\n",
      "16/16 [==============================] - 1s 67ms/step - loss: 0.0939 - sparse_categorical_accuracy: 0.9098 - val_loss: 0.1142 - val_sparse_categorical_accuracy: 0.8886\n",
      "Epoch 7/70\n",
      "12/16 [=====================>........] - ETA: 0s - loss: 0.0857 - sparse_categorical_accuracy: 0.9165\n",
      "Epoch 00007: val_sparse_categorical_accuracy improved from 0.88859 to 0.89921, saving model to training/deeper_classification_model/cp-0007.ckpt\n",
      "16/16 [==============================] - 1s 69ms/step - loss: 0.0841 - sparse_categorical_accuracy: 0.9190 - val_loss: 0.1046 - val_sparse_categorical_accuracy: 0.8992\n",
      "Epoch 8/70\n",
      "12/16 [=====================>........] - ETA: 0s - loss: 0.0760 - sparse_categorical_accuracy: 0.9275\n",
      "Epoch 00008: val_sparse_categorical_accuracy improved from 0.89921 to 0.90248, saving model to training/deeper_classification_model/cp-0008.ckpt\n",
      "16/16 [==============================] - 1s 67ms/step - loss: 0.0747 - sparse_categorical_accuracy: 0.9294 - val_loss: 0.1009 - val_sparse_categorical_accuracy: 0.9025\n",
      "Epoch 9/70\n",
      "13/16 [=======================>......] - ETA: 0s - loss: 0.0692 - sparse_categorical_accuracy: 0.9343\n",
      "Epoch 00009: val_sparse_categorical_accuracy improved from 0.90248 to 0.90251, saving model to training/deeper_classification_model/cp-0009.ckpt\n",
      "16/16 [==============================] - 1s 70ms/step - loss: 0.0676 - sparse_categorical_accuracy: 0.9365 - val_loss: 0.1004 - val_sparse_categorical_accuracy: 0.9025\n",
      "Epoch 10/70\n",
      "13/16 [=======================>......] - ETA: 0s - loss: 0.0629 - sparse_categorical_accuracy: 0.9407\n",
      "Epoch 00010: val_sparse_categorical_accuracy improved from 0.90251 to 0.90556, saving model to training/deeper_classification_model/cp-0010.ckpt\n",
      "16/16 [==============================] - 1s 68ms/step - loss: 0.0614 - sparse_categorical_accuracy: 0.9432 - val_loss: 0.0961 - val_sparse_categorical_accuracy: 0.9056\n",
      "Epoch 11/70\n",
      "13/16 [=======================>......] - ETA: 0s - loss: 0.0566 - sparse_categorical_accuracy: 0.9470\n",
      "Epoch 00011: val_sparse_categorical_accuracy improved from 0.90556 to 0.90742, saving model to training/deeper_classification_model/cp-0011.ckpt\n",
      "16/16 [==============================] - 1s 67ms/step - loss: 0.0552 - sparse_categorical_accuracy: 0.9491 - val_loss: 0.0943 - val_sparse_categorical_accuracy: 0.9074\n",
      "Epoch 12/70\n",
      "16/16 [==============================] - ETA: 0s - loss: 0.0502 - sparse_categorical_accuracy: 0.9541\n",
      "Epoch 00012: val_sparse_categorical_accuracy did not improve from 0.90742\n",
      "16/16 [==============================] - 0s 14ms/step - loss: 0.0502 - sparse_categorical_accuracy: 0.9541 - val_loss: 0.0962 - val_sparse_categorical_accuracy: 0.9040\n",
      "Epoch 13/70\n",
      "16/16 [==============================] - ETA: 0s - loss: 0.0464 - sparse_categorical_accuracy: 0.9571\n",
      "Epoch 00013: val_sparse_categorical_accuracy did not improve from 0.90742\n",
      "16/16 [==============================] - 0s 14ms/step - loss: 0.0464 - sparse_categorical_accuracy: 0.9571 - val_loss: 0.0967 - val_sparse_categorical_accuracy: 0.9030\n",
      "Epoch 14/70\n",
      "13/16 [=======================>......] - ETA: 0s - loss: 0.0454 - sparse_categorical_accuracy: 0.9564\n",
      "Epoch 00014: val_sparse_categorical_accuracy did not improve from 0.90742\n",
      "16/16 [==============================] - 0s 12ms/step - loss: 0.0442 - sparse_categorical_accuracy: 0.9583 - val_loss: 0.1038 - val_sparse_categorical_accuracy: 0.8974\n",
      "Epoch 15/70\n",
      "12/16 [=====================>........] - ETA: 0s - loss: 0.0425 - sparse_categorical_accuracy: 0.9594\n",
      "Epoch 00015: val_sparse_categorical_accuracy did not improve from 0.90742\n",
      "16/16 [==============================] - 0s 13ms/step - loss: 0.0423 - sparse_categorical_accuracy: 0.9598 - val_loss: 0.1036 - val_sparse_categorical_accuracy: 0.8986\n",
      "Epoch 16/70\n",
      "11/16 [===================>..........] - ETA: 0s - loss: 0.0425 - sparse_categorical_accuracy: 0.9578\n",
      "Epoch 00016: val_sparse_categorical_accuracy did not improve from 0.90742\n",
      "16/16 [==============================] - 0s 14ms/step - loss: 0.0415 - sparse_categorical_accuracy: 0.9594 - val_loss: 0.1079 - val_sparse_categorical_accuracy: 0.8999\n",
      "Epoch 17/70\n",
      "15/16 [===========================>..] - ETA: 0s - loss: 0.0403 - sparse_categorical_accuracy: 0.9613\n",
      "Epoch 00017: val_sparse_categorical_accuracy did not improve from 0.90742\n",
      "16/16 [==============================] - 0s 14ms/step - loss: 0.0397 - sparse_categorical_accuracy: 0.9619 - val_loss: 0.0992 - val_sparse_categorical_accuracy: 0.9051\n",
      "Epoch 18/70\n",
      "13/16 [=======================>......] - ETA: 0s - loss: 0.0360 - sparse_categorical_accuracy: 0.9648\n",
      "Epoch 00018: val_sparse_categorical_accuracy improved from 0.90742 to 0.90979, saving model to training/deeper_classification_model/cp-0018.ckpt\n",
      "16/16 [==============================] - 0s 33ms/step - loss: 0.0349 - sparse_categorical_accuracy: 0.9665 - val_loss: 0.0962 - val_sparse_categorical_accuracy: 0.9098\n",
      "Epoch 19/70\n",
      "11/16 [===================>..........] - ETA: 0s - loss: 0.0312 - sparse_categorical_accuracy: 0.9711\n",
      "Epoch 00019: val_sparse_categorical_accuracy improved from 0.90979 to 0.91168, saving model to training/deeper_classification_model/cp-0019.ckpt\n",
      "16/16 [==============================] - 1s 96ms/step - loss: 0.0301 - sparse_categorical_accuracy: 0.9722 - val_loss: 0.0932 - val_sparse_categorical_accuracy: 0.9117\n",
      "Epoch 20/70\n",
      "13/16 [=======================>......] - ETA: 0s - loss: 0.0257 - sparse_categorical_accuracy: 0.9795\n",
      "Epoch 00020: val_sparse_categorical_accuracy did not improve from 0.91168\n",
      "16/16 [==============================] - 0s 13ms/step - loss: 0.0251 - sparse_categorical_accuracy: 0.9802 - val_loss: 0.0947 - val_sparse_categorical_accuracy: 0.9113\n",
      "Epoch 21/70\n",
      "12/16 [=====================>........] - ETA: 0s - loss: 0.0225 - sparse_categorical_accuracy: 0.9832\n",
      "Epoch 00021: val_sparse_categorical_accuracy did not improve from 0.91168\n",
      "16/16 [==============================] - 0s 13ms/step - loss: 0.0223 - sparse_categorical_accuracy: 0.9832 - val_loss: 0.0973 - val_sparse_categorical_accuracy: 0.9098\n",
      "Epoch 22/70\n",
      "12/16 [=====================>........] - ETA: 0s - loss: 0.0206 - sparse_categorical_accuracy: 0.9853\n",
      "Epoch 00022: val_sparse_categorical_accuracy improved from 0.91168 to 0.91207, saving model to training/deeper_classification_model/cp-0022.ckpt\n",
      "16/16 [==============================] - 1s 67ms/step - loss: 0.0203 - sparse_categorical_accuracy: 0.9853 - val_loss: 0.0954 - val_sparse_categorical_accuracy: 0.9121\n",
      "Epoch 23/70\n",
      "12/16 [=====================>........] - ETA: 0s - loss: 0.0181 - sparse_categorical_accuracy: 0.9883\n",
      "Epoch 00023: val_sparse_categorical_accuracy did not improve from 0.91207\n",
      "16/16 [==============================] - 0s 13ms/step - loss: 0.0181 - sparse_categorical_accuracy: 0.9882 - val_loss: 0.0996 - val_sparse_categorical_accuracy: 0.9084\n",
      "Epoch 24/70\n",
      "12/16 [=====================>........] - ETA: 0s - loss: 0.0167 - sparse_categorical_accuracy: 0.9893\n",
      "Epoch 00024: val_sparse_categorical_accuracy did not improve from 0.91207\n",
      "16/16 [==============================] - 0s 13ms/step - loss: 0.0166 - sparse_categorical_accuracy: 0.9896 - val_loss: 0.1031 - val_sparse_categorical_accuracy: 0.9065\n",
      "Epoch 25/70\n",
      "13/16 [=======================>......] - ETA: 0s - loss: 0.0158 - sparse_categorical_accuracy: 0.9896\n",
      "Epoch 00025: val_sparse_categorical_accuracy did not improve from 0.91207\n",
      "16/16 [==============================] - 0s 13ms/step - loss: 0.0155 - sparse_categorical_accuracy: 0.9899 - val_loss: 0.1062 - val_sparse_categorical_accuracy: 0.9049\n",
      "Epoch 26/70\n",
      "12/16 [=====================>........] - ETA: 0s - loss: 0.0151 - sparse_categorical_accuracy: 0.9901\n",
      "Epoch 00026: val_sparse_categorical_accuracy did not improve from 0.91207\n",
      "16/16 [==============================] - 0s 13ms/step - loss: 0.0150 - sparse_categorical_accuracy: 0.9900 - val_loss: 0.1065 - val_sparse_categorical_accuracy: 0.9062\n",
      "Epoch 27/70\n",
      "16/16 [==============================] - ETA: 0s - loss: 0.0147 - sparse_categorical_accuracy: 0.9891\n",
      "Epoch 00027: val_sparse_categorical_accuracy did not improve from 0.91207\n",
      "16/16 [==============================] - 0s 14ms/step - loss: 0.0147 - sparse_categorical_accuracy: 0.9891 - val_loss: 0.1040 - val_sparse_categorical_accuracy: 0.9091\n",
      "Epoch 28/70\n",
      "16/16 [==============================] - ETA: 0s - loss: 0.0142 - sparse_categorical_accuracy: 0.9893\n",
      "Epoch 00028: val_sparse_categorical_accuracy did not improve from 0.91207\n",
      "16/16 [==============================] - 0s 14ms/step - loss: 0.0142 - sparse_categorical_accuracy: 0.9893 - val_loss: 0.1056 - val_sparse_categorical_accuracy: 0.9097\n",
      "Epoch 29/70\n",
      "13/16 [=======================>......] - ETA: 0s - loss: 0.0119 - sparse_categorical_accuracy: 0.9921\n",
      "Epoch 00029: val_sparse_categorical_accuracy did not improve from 0.91207\n",
      "16/16 [==============================] - 0s 13ms/step - loss: 0.0116 - sparse_categorical_accuracy: 0.9925 - val_loss: 0.1110 - val_sparse_categorical_accuracy: 0.9072\n",
      "Epoch 30/70\n",
      "12/16 [=====================>........] - ETA: 0s - loss: 0.0107 - sparse_categorical_accuracy: 0.9932\n",
      "Epoch 00030: val_sparse_categorical_accuracy did not improve from 0.91207\n",
      "16/16 [==============================] - 0s 13ms/step - loss: 0.0105 - sparse_categorical_accuracy: 0.9935 - val_loss: 0.1055 - val_sparse_categorical_accuracy: 0.9120\n",
      "Epoch 31/70\n",
      "13/16 [=======================>......] - ETA: 0s - loss: 0.0086 - sparse_categorical_accuracy: 0.9961\n",
      "Epoch 00031: val_sparse_categorical_accuracy did not improve from 0.91207\n",
      "16/16 [==============================] - 0s 12ms/step - loss: 0.0084 - sparse_categorical_accuracy: 0.9962 - val_loss: 0.1072 - val_sparse_categorical_accuracy: 0.9111\n",
      "Epoch 32/70\n",
      "12/16 [=====================>........] - ETA: 0s - loss: 0.0070 - sparse_categorical_accuracy: 0.9977Restoring model weights from the end of the best epoch: 22.\n",
      "\n",
      "Epoch 00032: val_sparse_categorical_accuracy did not improve from 0.91207\n",
      "16/16 [==============================] - 0s 17ms/step - loss: 0.0070 - sparse_categorical_accuracy: 0.9977 - val_loss: 0.1081 - val_sparse_categorical_accuracy: 0.9118\n",
      "Epoch 00032: early stopping\n",
      "Model: \"deeper_rnn_model\"\n",
      "_________________________________________________________________\n",
      " Layer (type)                Output Shape              Param #   \n",
      "=================================================================\n",
      " input (InputLayer)          [(None, 80)]              0         \n",
      "                                                                 \n",
      " embedding_layer (Embedding)  (None, 80, 100)          40067700  \n",
      "                                                                 \n",
      " bidirectional_lstm_1 (Bidir  (None, 80, 256)          234496    \n",
      " ectional)                                                       \n",
      "                                                                 \n",
      " bidirectional_lstm_2 (Bidir  (None, 80, 128)          164352    \n",
      " ectional)                                                       \n",
      "                                                                 \n",
      " time_distributed_dense (Tim  (None, 80, 46)           5934      \n",
      " eDistributed)                                                   \n",
      "                                                                 \n",
      " softmax (Activation)        (None, 80, 46)            0         \n",
      "                                                                 \n",
      "=================================================================\n",
      "Total params: 40,472,482\n",
      "Trainable params: 404,782\n",
      "Non-trainable params: 40,067,700\n",
      "_________________________________________________________________\n",
      "Training model deeper_rnn_model\n",
      "Epoch 1/70\n",
      "16/16 [==============================] - ETA: 0s - loss: 0.8908 - sparse_categorical_accuracy: 0.4864\n",
      "Epoch 00001: val_sparse_categorical_accuracy improved from -inf to 0.36885, saving model to training/deeper_rnn_model/cp-0001.ckpt\n",
      "16/16 [==============================] - 12s 273ms/step - loss: 0.8908 - sparse_categorical_accuracy: 0.4864 - val_loss: 0.7474 - val_sparse_categorical_accuracy: 0.3689\n",
      "Epoch 2/70\n",
      "15/16 [===========================>..] - ETA: 0s - loss: 0.5611 - sparse_categorical_accuracy: 0.5055\n",
      "Epoch 00002: val_sparse_categorical_accuracy improved from 0.36885 to 0.63567, saving model to training/deeper_rnn_model/cp-0002.ckpt\n",
      "16/16 [==============================] - 1s 74ms/step - loss: 0.5571 - sparse_categorical_accuracy: 0.5084 - val_loss: 0.4137 - val_sparse_categorical_accuracy: 0.6357\n",
      "Epoch 3/70\n",
      "15/16 [===========================>..] - ETA: 0s - loss: 0.3247 - sparse_categorical_accuracy: 0.7133\n",
      "Epoch 00003: val_sparse_categorical_accuracy improved from 0.63567 to 0.75904, saving model to training/deeper_rnn_model/cp-0003.ckpt\n",
      "16/16 [==============================] - 1s 75ms/step - loss: 0.3227 - sparse_categorical_accuracy: 0.7142 - val_loss: 0.2741 - val_sparse_categorical_accuracy: 0.7590\n",
      "Epoch 4/70\n",
      "16/16 [==============================] - ETA: 0s - loss: 0.2235 - sparse_categorical_accuracy: 0.8075\n",
      "Epoch 00004: val_sparse_categorical_accuracy improved from 0.75904 to 0.81961, saving model to training/deeper_rnn_model/cp-0004.ckpt\n",
      "16/16 [==============================] - 1s 80ms/step - loss: 0.2235 - sparse_categorical_accuracy: 0.8075 - val_loss: 0.2085 - val_sparse_categorical_accuracy: 0.8196\n",
      "Epoch 5/70\n",
      "14/16 [=========================>....] - ETA: 0s - loss: 0.1787 - sparse_categorical_accuracy: 0.8444\n",
      "Epoch 00005: val_sparse_categorical_accuracy improved from 0.81961 to 0.85191, saving model to training/deeper_rnn_model/cp-0005.ckpt\n",
      "16/16 [==============================] - 1s 75ms/step - loss: 0.1757 - sparse_categorical_accuracy: 0.8486 - val_loss: 0.1754 - val_sparse_categorical_accuracy: 0.8519\n",
      "Epoch 6/70\n",
      "14/16 [=========================>....] - ETA: 0s - loss: 0.1494 - sparse_categorical_accuracy: 0.8706\n",
      "Epoch 00006: val_sparse_categorical_accuracy improved from 0.85191 to 0.86470, saving model to training/deeper_rnn_model/cp-0006.ckpt\n",
      "16/16 [==============================] - 1s 76ms/step - loss: 0.1470 - sparse_categorical_accuracy: 0.8737 - val_loss: 0.1543 - val_sparse_categorical_accuracy: 0.8647\n",
      "Epoch 7/70\n",
      "15/16 [===========================>..] - ETA: 0s - loss: 0.1288 - sparse_categorical_accuracy: 0.8879\n",
      "Epoch 00007: val_sparse_categorical_accuracy improved from 0.86470 to 0.87500, saving model to training/deeper_rnn_model/cp-0007.ckpt\n",
      "16/16 [==============================] - 1s 78ms/step - loss: 0.1280 - sparse_categorical_accuracy: 0.8885 - val_loss: 0.1407 - val_sparse_categorical_accuracy: 0.8750\n",
      "Epoch 8/70\n",
      "14/16 [=========================>....] - ETA: 0s - loss: 0.1166 - sparse_categorical_accuracy: 0.8976\n",
      "Epoch 00008: val_sparse_categorical_accuracy improved from 0.87500 to 0.88035, saving model to training/deeper_rnn_model/cp-0008.ckpt\n",
      "16/16 [==============================] - 1s 74ms/step - loss: 0.1146 - sparse_categorical_accuracy: 0.9000 - val_loss: 0.1317 - val_sparse_categorical_accuracy: 0.8804\n",
      "Epoch 9/70\n",
      "14/16 [=========================>....] - ETA: 0s - loss: 0.1057 - sparse_categorical_accuracy: 0.9060\n",
      "Epoch 00009: val_sparse_categorical_accuracy improved from 0.88035 to 0.88404, saving model to training/deeper_rnn_model/cp-0009.ckpt\n",
      "16/16 [==============================] - 1s 79ms/step - loss: 0.1039 - sparse_categorical_accuracy: 0.9085 - val_loss: 0.1256 - val_sparse_categorical_accuracy: 0.8840\n",
      "Epoch 10/70\n",
      "16/16 [==============================] - ETA: 0s - loss: 0.0953 - sparse_categorical_accuracy: 0.9160\n",
      "Epoch 00010: val_sparse_categorical_accuracy improved from 0.88404 to 0.88895, saving model to training/deeper_rnn_model/cp-0010.ckpt\n",
      "16/16 [==============================] - 1s 78ms/step - loss: 0.0953 - sparse_categorical_accuracy: 0.9160 - val_loss: 0.1197 - val_sparse_categorical_accuracy: 0.8889\n",
      "Epoch 11/70\n",
      "15/16 [===========================>..] - ETA: 0s - loss: 0.0896 - sparse_categorical_accuracy: 0.9199\n",
      "Epoch 00011: val_sparse_categorical_accuracy improved from 0.88895 to 0.89411, saving model to training/deeper_rnn_model/cp-0011.ckpt\n",
      "16/16 [==============================] - 1s 73ms/step - loss: 0.0889 - sparse_categorical_accuracy: 0.9203 - val_loss: 0.1144 - val_sparse_categorical_accuracy: 0.8941\n",
      "Epoch 12/70\n",
      "13/16 [=======================>......] - ETA: 0s - loss: 0.0837 - sparse_categorical_accuracy: 0.9255\n",
      "Epoch 00012: val_sparse_categorical_accuracy improved from 0.89411 to 0.89834, saving model to training/deeper_rnn_model/cp-0012.ckpt\n",
      "16/16 [==============================] - 1s 76ms/step - loss: 0.0825 - sparse_categorical_accuracy: 0.9270 - val_loss: 0.1090 - val_sparse_categorical_accuracy: 0.8983\n",
      "Epoch 13/70\n",
      "16/16 [==============================] - ETA: 0s - loss: 0.0763 - sparse_categorical_accuracy: 0.9326\n",
      "Epoch 00013: val_sparse_categorical_accuracy improved from 0.89834 to 0.90139, saving model to training/deeper_rnn_model/cp-0013.ckpt\n",
      "16/16 [==============================] - 1s 76ms/step - loss: 0.0763 - sparse_categorical_accuracy: 0.9326 - val_loss: 0.1065 - val_sparse_categorical_accuracy: 0.9014\n",
      "Epoch 14/70\n",
      "16/16 [==============================] - ETA: 0s - loss: 0.0712 - sparse_categorical_accuracy: 0.9379\n",
      "Epoch 00014: val_sparse_categorical_accuracy improved from 0.90139 to 0.90283, saving model to training/deeper_rnn_model/cp-0014.ckpt\n",
      "16/16 [==============================] - 1s 77ms/step - loss: 0.0712 - sparse_categorical_accuracy: 0.9379 - val_loss: 0.1050 - val_sparse_categorical_accuracy: 0.9028\n",
      "Epoch 15/70\n",
      "16/16 [==============================] - ETA: 0s - loss: 0.0667 - sparse_categorical_accuracy: 0.9418\n",
      "Epoch 00015: val_sparse_categorical_accuracy did not improve from 0.90283\n",
      "16/16 [==============================] - 0s 23ms/step - loss: 0.0667 - sparse_categorical_accuracy: 0.9418 - val_loss: 0.1044 - val_sparse_categorical_accuracy: 0.9022\n",
      "Epoch 16/70\n",
      "16/16 [==============================] - ETA: 0s - loss: 0.0635 - sparse_categorical_accuracy: 0.9444\n",
      "Epoch 00016: val_sparse_categorical_accuracy improved from 0.90283 to 0.90344, saving model to training/deeper_rnn_model/cp-0016.ckpt\n",
      "16/16 [==============================] - 1s 80ms/step - loss: 0.0635 - sparse_categorical_accuracy: 0.9444 - val_loss: 0.1021 - val_sparse_categorical_accuracy: 0.9034\n",
      "Epoch 17/70\n",
      "13/16 [=======================>......] - ETA: 0s - loss: 0.0618 - sparse_categorical_accuracy: 0.9451\n",
      "Epoch 00017: val_sparse_categorical_accuracy improved from 0.90344 to 0.90460, saving model to training/deeper_rnn_model/cp-0017.ckpt\n",
      "16/16 [==============================] - 1s 77ms/step - loss: 0.0608 - sparse_categorical_accuracy: 0.9467 - val_loss: 0.1010 - val_sparse_categorical_accuracy: 0.9046\n",
      "Epoch 18/70\n",
      "16/16 [==============================] - ETA: 0s - loss: 0.0585 - sparse_categorical_accuracy: 0.9477\n",
      "Epoch 00018: val_sparse_categorical_accuracy did not improve from 0.90460\n",
      "16/16 [==============================] - 0s 23ms/step - loss: 0.0585 - sparse_categorical_accuracy: 0.9477 - val_loss: 0.1039 - val_sparse_categorical_accuracy: 0.9019\n",
      "Epoch 19/70\n",
      "13/16 [=======================>......] - ETA: 0s - loss: 0.0584 - sparse_categorical_accuracy: 0.9460\n",
      "Epoch 00019: val_sparse_categorical_accuracy did not improve from 0.90460\n",
      "16/16 [==============================] - 0s 23ms/step - loss: 0.0573 - sparse_categorical_accuracy: 0.9478 - val_loss: 0.1092 - val_sparse_categorical_accuracy: 0.8978\n",
      "Epoch 20/70\n",
      "14/16 [=========================>....] - ETA: 0s - loss: 0.0576 - sparse_categorical_accuracy: 0.9469\n",
      "Epoch 00020: val_sparse_categorical_accuracy did not improve from 0.90460\n",
      "16/16 [==============================] - 0s 22ms/step - loss: 0.0561 - sparse_categorical_accuracy: 0.9489 - val_loss: 0.1021 - val_sparse_categorical_accuracy: 0.9027\n",
      "Epoch 21/70\n",
      "16/16 [==============================] - ETA: 0s - loss: 0.0507 - sparse_categorical_accuracy: 0.9555\n",
      "Epoch 00021: val_sparse_categorical_accuracy improved from 0.90460 to 0.91046, saving model to training/deeper_rnn_model/cp-0021.ckpt\n",
      "16/16 [==============================] - 1s 83ms/step - loss: 0.0507 - sparse_categorical_accuracy: 0.9555 - val_loss: 0.0943 - val_sparse_categorical_accuracy: 0.9105\n",
      "Epoch 22/70\n",
      "14/16 [=========================>....] - ETA: 0s - loss: 0.0463 - sparse_categorical_accuracy: 0.9608\n",
      "Epoch 00022: val_sparse_categorical_accuracy improved from 0.91046 to 0.91194, saving model to training/deeper_rnn_model/cp-0022.ckpt\n",
      "16/16 [==============================] - 1s 75ms/step - loss: 0.0451 - sparse_categorical_accuracy: 0.9622 - val_loss: 0.0927 - val_sparse_categorical_accuracy: 0.9119\n",
      "Epoch 23/70\n",
      "13/16 [=======================>......] - ETA: 0s - loss: 0.0424 - sparse_categorical_accuracy: 0.9652\n",
      "Epoch 00023: val_sparse_categorical_accuracy improved from 0.91194 to 0.91229, saving model to training/deeper_rnn_model/cp-0023.ckpt\n",
      "16/16 [==============================] - 1s 77ms/step - loss: 0.0417 - sparse_categorical_accuracy: 0.9662 - val_loss: 0.0916 - val_sparse_categorical_accuracy: 0.9123\n",
      "Epoch 24/70\n",
      "14/16 [=========================>....] - ETA: 0s - loss: 0.0401 - sparse_categorical_accuracy: 0.9685\n",
      "Epoch 00024: val_sparse_categorical_accuracy improved from 0.91229 to 0.91264, saving model to training/deeper_rnn_model/cp-0024.ckpt\n",
      "16/16 [==============================] - 1s 79ms/step - loss: 0.0392 - sparse_categorical_accuracy: 0.9695 - val_loss: 0.0910 - val_sparse_categorical_accuracy: 0.9126\n",
      "Epoch 25/70\n",
      "14/16 [=========================>....] - ETA: 0s - loss: 0.0378 - sparse_categorical_accuracy: 0.9703\n",
      "Epoch 00025: val_sparse_categorical_accuracy improved from 0.91264 to 0.91511, saving model to training/deeper_rnn_model/cp-0025.ckpt\n",
      "16/16 [==============================] - 1s 76ms/step - loss: 0.0369 - sparse_categorical_accuracy: 0.9713 - val_loss: 0.0895 - val_sparse_categorical_accuracy: 0.9151\n",
      "Epoch 26/70\n",
      "15/16 [===========================>..] - ETA: 0s - loss: 0.0351 - sparse_categorical_accuracy: 0.9737\n",
      "Epoch 00026: val_sparse_categorical_accuracy improved from 0.91511 to 0.91569, saving model to training/deeper_rnn_model/cp-0026.ckpt\n",
      "16/16 [==============================] - 1s 79ms/step - loss: 0.0347 - sparse_categorical_accuracy: 0.9740 - val_loss: 0.0895 - val_sparse_categorical_accuracy: 0.9157\n",
      "Epoch 27/70\n",
      "14/16 [=========================>....] - ETA: 0s - loss: 0.0333 - sparse_categorical_accuracy: 0.9756\n",
      "Epoch 00027: val_sparse_categorical_accuracy did not improve from 0.91569\n",
      "16/16 [==============================] - 0s 21ms/step - loss: 0.0325 - sparse_categorical_accuracy: 0.9762 - val_loss: 0.0901 - val_sparse_categorical_accuracy: 0.9150\n",
      "Epoch 28/70\n",
      "14/16 [=========================>....] - ETA: 0s - loss: 0.0312 - sparse_categorical_accuracy: 0.9777\n",
      "Epoch 00028: val_sparse_categorical_accuracy did not improve from 0.91569\n",
      "16/16 [==============================] - 0s 21ms/step - loss: 0.0306 - sparse_categorical_accuracy: 0.9783 - val_loss: 0.0912 - val_sparse_categorical_accuracy: 0.9141\n",
      "Epoch 29/70\n",
      "16/16 [==============================] - ETA: 0s - loss: 0.0288 - sparse_categorical_accuracy: 0.9797\n",
      "Epoch 00029: val_sparse_categorical_accuracy did not improve from 0.91569\n",
      "16/16 [==============================] - 0s 22ms/step - loss: 0.0288 - sparse_categorical_accuracy: 0.9797 - val_loss: 0.0919 - val_sparse_categorical_accuracy: 0.9137\n",
      "Epoch 30/70\n",
      "16/16 [==============================] - ETA: 0s - loss: 0.0270 - sparse_categorical_accuracy: 0.9817\n",
      "Epoch 00030: val_sparse_categorical_accuracy did not improve from 0.91569\n",
      "16/16 [==============================] - 0s 22ms/step - loss: 0.0270 - sparse_categorical_accuracy: 0.9817 - val_loss: 0.0921 - val_sparse_categorical_accuracy: 0.9132\n",
      "Epoch 31/70\n",
      "14/16 [=========================>....] - ETA: 0s - loss: 0.0261 - sparse_categorical_accuracy: 0.9826\n",
      "Epoch 00031: val_sparse_categorical_accuracy did not improve from 0.91569\n",
      "16/16 [==============================] - 0s 22ms/step - loss: 0.0254 - sparse_categorical_accuracy: 0.9833 - val_loss: 0.0917 - val_sparse_categorical_accuracy: 0.9130\n",
      "Epoch 32/70\n",
      "14/16 [=========================>....] - ETA: 0s - loss: 0.0244 - sparse_categorical_accuracy: 0.9844\n",
      "Epoch 00032: val_sparse_categorical_accuracy did not improve from 0.91569\n",
      "16/16 [==============================] - 0s 21ms/step - loss: 0.0238 - sparse_categorical_accuracy: 0.9850 - val_loss: 0.0916 - val_sparse_categorical_accuracy: 0.9136\n",
      "Epoch 33/70\n",
      "15/16 [===========================>..] - ETA: 0s - loss: 0.0226 - sparse_categorical_accuracy: 0.9866\n",
      "Epoch 00033: val_sparse_categorical_accuracy did not improve from 0.91569\n",
      "16/16 [==============================] - 0s 21ms/step - loss: 0.0222 - sparse_categorical_accuracy: 0.9868 - val_loss: 0.0920 - val_sparse_categorical_accuracy: 0.9133\n",
      "Epoch 34/70\n",
      "14/16 [=========================>....] - ETA: 0s - loss: 0.0215 - sparse_categorical_accuracy: 0.9877\n",
      "Epoch 00034: val_sparse_categorical_accuracy did not improve from 0.91569\n",
      "16/16 [==============================] - 0s 22ms/step - loss: 0.0209 - sparse_categorical_accuracy: 0.9882 - val_loss: 0.0927 - val_sparse_categorical_accuracy: 0.9128\n",
      "Epoch 35/70\n",
      "15/16 [===========================>..] - ETA: 0s - loss: 0.0201 - sparse_categorical_accuracy: 0.9891\n",
      "Epoch 00035: val_sparse_categorical_accuracy did not improve from 0.91569\n",
      "16/16 [==============================] - 0s 22ms/step - loss: 0.0198 - sparse_categorical_accuracy: 0.9892 - val_loss: 0.0936 - val_sparse_categorical_accuracy: 0.9123\n",
      "Epoch 36/70\n",
      "15/16 [===========================>..] - ETA: 0s - loss: 0.0191 - sparse_categorical_accuracy: 0.9899Restoring model weights from the end of the best epoch: 26.\n",
      "\n",
      "Epoch 00036: val_sparse_categorical_accuracy did not improve from 0.91569\n",
      "16/16 [==============================] - 0s 26ms/step - loss: 0.0188 - sparse_categorical_accuracy: 0.9901 - val_loss: 0.0939 - val_sparse_categorical_accuracy: 0.9126\n",
      "Epoch 00036: early stopping\n",
      "CPU times: user 1min 41s, sys: 29.8 s, total: 2min 11s\n",
      "Wall time: 2min 29s\n"
     ]
    }
   ],
   "source": [
    "%%time\n",
    "# COMMENT IF YOU WANT TO SKIP TRAINING\n",
    "train_all(models_to_train)"
   ]
  },
  {
   "cell_type": "markdown",
   "metadata": {
    "id": "Jd-Frtcomsi3"
   },
   "source": [
    "## Evaluation"
   ]
  },
  {
   "cell_type": "markdown",
   "metadata": {
    "id": "FTunf2iTmsi3"
   },
   "source": [
    "We can easily evaluate these models by loading their best weights and letting them predict the POS on the validation set.\n",
    "\n",
    "The main measure we are intersted on is the F1-Macro without considering punctuation classes. This kind of measure does not take label imbalance into account: it first calculates the F1 metric for each label, then averages them. Basically:\n",
    "\n",
    "$$\n",
    "\\frac{1}{N}\\sum^N_{i=0}\\operatorname{F1-Score}_i\n",
    "$$\n",
    "\n",
    "We ignore punctuation classes by only considering elements whose groundtruth label is not the `<PAD>` token or one of the following:"
   ]
  },
  {
   "cell_type": "code",
   "execution_count": 73,
   "metadata": {
    "colab": {
     "base_uri": "https://localhost:8080/"
    },
    "id": "GcHrTVvymsi3",
    "outputId": "644c8af1-5ab5-4a67-e3a7-2f5f0452a134"
   },
   "outputs": [
    {
     "data": {
      "text/plain": [
       "['#', '$', \"''\", ',', '.', ':', '``', '-LRB-', '-RRB-', 'SYM']"
      ]
     },
     "execution_count": 73,
     "metadata": {},
     "output_type": "execute_result"
    }
   ],
   "source": [
    "PUNCTUATION_TAGS"
   ]
  },
  {
   "cell_type": "markdown",
   "metadata": {
    "id": "lQADS_DStr4v"
   },
   "source": [
    "\n",
    "Note that since the embedding layer is **masking** the padding tokens, the neural network is completely ignoring them and predictions on the `<PAD>` tokens have no meaning. \n",
    "\n",
    "From our analysis we have seen that for the padding token, our model always predicts the \"dot\" class (.), probably because it has learnt that a sentence always ends with a dot. \n",
    "\n",
    "Luckily, we ignore padding tokens in our analysis, so it shouldn't be a problem, but for real applications we would need to post-process the output so to cut it at the first dot."
   ]
  },
  {
   "cell_type": "markdown",
   "metadata": {
    "id": "biqZtTYqmsi3"
   },
   "source": [
    "We use the following functions for evaluation:"
   ]
  },
  {
   "cell_type": "code",
   "execution_count": 74,
   "metadata": {
    "colab": {
     "base_uri": "https://localhost:8080/"
    },
    "id": "9YgQgFS8msi3",
    "outputId": "a32d90ba-e5de-46e1-ce4e-4a5e3f232c98"
   },
   "outputs": [],
   "source": [
    "IGNORE_IDXS = set( [ labels_to_idx(tag) for tag in PUNCTUATION_TAGS +  ['<PAD>'] ] )\n",
    "KEEP_IDXS   = set( [ labels_to_idx(L) for L in LABELS ] ).difference(IGNORE_IDXS)\n",
    "\n",
    "def obtain_best_model(model_func: partial) -> keras.Model:\n",
    "    # Instantiate the model\n",
    "    model: keras.Model = model_func(verbose=False)\n",
    "\n",
    "    # Load best available weights\n",
    "    print(\"Loading weights for model {}\".format(model.name))\n",
    "    checkpoint_path = os.path.join(\"training\", model.name, \"cp-{epoch:04d}.ckpt\")\n",
    "    checkpoint_dir = os.path.dirname(checkpoint_path)\n",
    "    latest = tf.train.latest_checkpoint(checkpoint_dir)\n",
    "    model.load_weights(latest)\n",
    "\n",
    "    return model\n",
    "\n",
    "def compute_predictions(model_func: partial, dataset: tf.data.Dataset, \n",
    "    y_split: np.array, labels: set, show_confusion_matrix=False) -> keras.Model:\n",
    "    '''\n",
    "    Evaluates a model against a dataset split (eg. validation or test) ignoring a number of labels\n",
    "    we may not be interested about. The evaluation is expressed as an F1-Score.\n",
    "    Optionally, the confusion matrix is shown. A confusion matrix is always preduced and \n",
    "    returned by this method, as well as the predictions.\n",
    "    '''\n",
    "    # Obtain model\n",
    "    model = obtain_best_model(model_func)\n",
    "\n",
    "    # Compute predictions on the dataset\n",
    "    print(\"Computing predictions using model {}\".format(model.name))\n",
    "    predictions = model.predict(dataset, \n",
    "        batch_size=BATCH_SIZE, verbose=1\n",
    "    )\n",
    "\n",
    "    # Compute evaluation for the model\n",
    "    print(\"Computing evaluation F1-Score for model {}\".format(model.name))\n",
    "    # We flatten the arrays of predictions/groundtruths so to get 1D-arrays\n",
    "    predicted_labels = np.argmax(predictions, axis=2).flatten()\n",
    "    real_labels = y_split.flatten()\n",
    "    # Compute a mask of where elements that correspond to the idxs we want to keep are\n",
    "    # in the groundtruth array\n",
    "    keep_mask = np.array([item in KEEP_IDXS for item in real_labels])\n",
    "    masked_real = real_labels[keep_mask]\n",
    "    masked_predicted = predicted_labels[keep_mask]\n",
    "    # We compute the F1-Score, instructing the scoring \n",
    "    # function to ignore the punctuation tags\n",
    "    score = f1_score(\n",
    "        y_true=real_labels, \n",
    "        y_pred=predicted_labels, \n",
    "        labels=list(labels),     # Compute only for these labels\n",
    "        average='macro'             # Macro average\n",
    "    )\n",
    "    print(\"\\tDEBUG:\")\n",
    "    print(\"\\tPredicted: {}...\".format(predicted_labels[:20]))\n",
    "    print(\"\\tReal:      {}...\".format(real_labels[:20]))\n",
    "    print(\"F1-Score (macro-weighted): {}\".format(score))\n",
    "    print()\n",
    "    if show_confusion_matrix:\n",
    "        # Display confusion matrix\n",
    "        _, ax = plt.subplots(1,1, figsize=(15,15))\n",
    "        ConfusionMatrixDisplay.from_predictions(y_true=masked_real, \n",
    "            y_pred=masked_predicted, cmap='YlGn', ax=ax)\n",
    "    \n",
    "    cmatr = confusion_matrix(y_true=masked_real, \n",
    "            y_pred=masked_predicted, labels=list(range(len(tags_distribution))))\n",
    "    \n",
    "    return predictions, cmatr"
   ]
  },
  {
   "cell_type": "code",
   "execution_count": 75,
   "metadata": {},
   "outputs": [
    {
     "name": "stdout",
     "output_type": "stream",
     "text": [
      "Loading weights for model baseline_model\n",
      "Computing predictions using model baseline_model\n",
      "10/10 [==============================] - 1s 3ms/step\n",
      "Computing evaluation F1-Score for model baseline_model\n",
      "\tDEBUG:\n",
      "\tPredicted: [11 15 20 36 15 20 14 11 20 14 16 14  2 10 10 14 15 20 14 21]...\n",
      "\tReal:      [11 21 20 36 15 23 14 11 20 14 16 14  2 10 10 14 15 20 14 21]...\n",
      "F1-Score (macro-weighted): 0.7345340754970268\n",
      "\n",
      "Loading weights for model gru_model\n",
      "Computing predictions using model gru_model\n",
      "10/10 [==============================] - 1s 3ms/step\n",
      "Computing evaluation F1-Score for model gru_model\n",
      "\tDEBUG:\n",
      "\tPredicted: [11 15 20 36 15 20 14 11 20 14 16 14  2 10 10 14 15 20 14 21]...\n",
      "\tReal:      [11 21 20 36 15 23 14 11 20 14 16 14  2 10 10 14 15 20 14 21]...\n",
      "F1-Score (macro-weighted): 0.7669479695556846\n",
      "\n",
      "Loading weights for model deeper_classification_model\n",
      "Computing predictions using model deeper_classification_model\n",
      "10/10 [==============================] - 1s 4ms/step\n",
      "Computing evaluation F1-Score for model deeper_classification_model\n",
      "\tDEBUG:\n",
      "\tPredicted: [11 15 20 36 15 15 14 11 20 14 29 14  2 10 10 14 15 20 14 21]...\n",
      "\tReal:      [11 21 20 36 15 23 14 11 20 14 16 14  2 10 10 14 15 20 14 21]...\n",
      "F1-Score (macro-weighted): 0.7551511159267298\n",
      "\n",
      "Loading weights for model deeper_rnn_model\n",
      "Computing predictions using model deeper_rnn_model\n",
      "10/10 [==============================] - 3s 6ms/step\n",
      "Computing evaluation F1-Score for model deeper_rnn_model\n",
      "\tDEBUG:\n",
      "\tPredicted: [11 15 20 36 15 23 14 11 20 14 16 14  2 10 10 14 15 20 14 21]...\n",
      "\tReal:      [11 21 20 36 15 23 14 11 20 14 16 14  2 10 10 14 15 20 14 21]...\n",
      "F1-Score (macro-weighted): 0.7208769411609427\n",
      "\n"
     ]
    }
   ],
   "source": [
    "for model_func in models_to_train:\n",
    "    compute_predictions(model_func, dataset=val_dataset, y_split=y_val, labels=KEEP_IDXS)"
   ]
  },
  {
   "cell_type": "markdown",
   "metadata": {
    "id": "QT44JUqlDEdV"
   },
   "source": [
    "It looks like the best architectural changes were:\n",
    "- Replacing the LSTM with a GRU layer (`gru_model`)\n",
    "- Deepening the classifier part of the model (`deeper_classification_model`)"
   ]
  },
  {
   "cell_type": "markdown",
   "metadata": {
    "id": "QMdq1Nmfmsi4"
   },
   "source": [
    "## Error Analysis"
   ]
  },
  {
   "cell_type": "markdown",
   "metadata": {},
   "source": [
    "We analyze the performance of the best two models we have obtained on the test set to obtain trustworthy measurements."
   ]
  },
  {
   "cell_type": "markdown",
   "metadata": {},
   "source": [
    "### Performance of the GRU model on the test set"
   ]
  },
  {
   "cell_type": "code",
   "execution_count": 76,
   "metadata": {},
   "outputs": [
    {
     "name": "stdout",
     "output_type": "stream",
     "text": [
      "Loading weights for model gru_model\n",
      "Computing predictions using model gru_model\n",
      "5/5 [==============================] - 2s 4ms/step\n",
      "Computing evaluation F1-Score for model gru_model\n",
      "\tDEBUG:\n",
      "\tPredicted: [21 21 21  4 21 21  4 21  4 36 26 36 10 10 23  4  9 28 10 20]...\n",
      "\tReal:      [21 21 21  4 21 21  4 21  4 36 26 36 10 10 23  4  9 14 10 20]...\n",
      "F1-Score (macro-weighted): 0.7333046844427186\n",
      "\n"
     ]
    },
    {
     "name": "stderr",
     "output_type": "stream",
     "text": [
      "/home/volpepe/Desktop/SequenceLabeling/.env/lib/python3.8/site-packages/sklearn/metrics/_classification.py:1570: UndefinedMetricWarning: F-score is ill-defined and being set to 0.0 in labels with no true nor predicted samples. Use `zero_division` parameter to control this behavior.\n",
      "  _warn_prf(average, \"true nor predicted\", \"F-score is\", len(true_sum))\n"
     ]
    },
    {
     "data": {
      "image/png": "[encoded data removed]",
      "text/plain": [
       "<Figure size 1080x1080 with 2 Axes>"
      ]
     },
     "metadata": {
      "needs_background": "light"
     },
     "output_type": "display_data"
    }
   ],
   "source": [
    "predictions_gru, cmatr_gru = compute_predictions(partial(build_GRU_model, COMPILING_INFO), \n",
    "    test_dataset, y_test, labels=KEEP_IDXS, show_confusion_matrix=True)"
   ]
  },
  {
   "cell_type": "markdown",
   "metadata": {},
   "source": [
    "### Performance of the deeper-classifier model on the test set"
   ]
  },
  {
   "cell_type": "code",
   "execution_count": 77,
   "metadata": {},
   "outputs": [
    {
     "name": "stdout",
     "output_type": "stream",
     "text": [
      "Loading weights for model deeper_classification_model\n",
      "Computing predictions using model deeper_classification_model\n",
      "5/5 [==============================] - 1s 3ms/step\n",
      "Computing evaluation F1-Score for model deeper_classification_model\n",
      "\tDEBUG:\n",
      "\tPredicted: [21 21 21  4 21 21  4 21  4 36 26 36 10 10 23  4  9 28 10 20]...\n",
      "\tReal:      [21 21 21  4 21 21  4 21  4 36 26 36 10 10 23  4  9 14 10 20]...\n",
      "F1-Score (macro-weighted): 0.7392925095506728\n",
      "\n"
     ]
    },
    {
     "name": "stderr",
     "output_type": "stream",
     "text": [
      "/home/volpepe/Desktop/SequenceLabeling/.env/lib/python3.8/site-packages/sklearn/metrics/_classification.py:1570: UndefinedMetricWarning: F-score is ill-defined and being set to 0.0 in labels with no true nor predicted samples. Use `zero_division` parameter to control this behavior.\n",
      "  _warn_prf(average, \"true nor predicted\", \"F-score is\", len(true_sum))\n"
     ]
    },
    {
     "data": {
      "image/png": "[encoded data removed]",
      "text/plain": [
       "<Figure size 1080x1080 with 2 Axes>"
      ]
     },
     "metadata": {
      "needs_background": "light"
     },
     "output_type": "display_data"
    }
   ],
   "source": [
    "predictions_densex2, cmatr_densex2 = compute_predictions(partial(build_densex2_model, COMPILING_INFO), \n",
    "    test_dataset, y_test, labels=KEEP_IDXS, show_confusion_matrix=True)"
   ]
  },
  {
   "cell_type": "markdown",
   "metadata": {},
   "source": [
    "### Comments"
   ]
  },
  {
   "cell_type": "markdown",
   "metadata": {},
   "source": [
    "Some of the things we observe from the previous analysis:\n",
    "- The F1-Score is similar to the scores we obtained on the validation set, so the training seems to have been successful.\n",
    "- The model sometimes (rarely) predicts some legit tokens as punctuation.\n",
    "- The largest mistakes of both our models seem to happen for labels 15, 20, 21, 23, 28, 38.\n",
    "    - Groundtruth labels 20 and 21 are sometimes interchanged by our predictor, or confused with a 15.\n",
    "    - Groundtruth labels 15 are also sometimes predicted as 20/21\n",
    "    - Groundtruth labels 23 are sometimes predicted as 20/21 and viceversa\n",
    "    - Groundtruth labels 28 are sometimes predicted as 14/15 and viceversa\n",
    "    - 38 and 15 are also confused sometimes.\n",
    "- Mistakes on the previously mentioned labels account for a great deal of the total errors. We can show this with the following code:"
   ]
  },
  {
   "cell_type": "code",
   "execution_count": 78,
   "metadata": {},
   "outputs": [
    {
     "name": "stdout",
     "output_type": "stream",
     "text": [
      "Errors for problematic labels [15, 20, 21, 23, 28, 38] in the GRU model account for 70.28% of the total errors\n",
      "Errors for problematic labels [15, 20, 21, 23, 28, 38] in the deeper dense model account for 71.75% of the total errors\n"
     ]
    }
   ],
   "source": [
    "ERR_LABELS = [15, 20, 21, 23, 28, 38]\n",
    "# Obtain the number of correct predictions by sampling on the diagonal from the \n",
    "# rows of the labels we are claiming to be full of errors.\n",
    "# NOTE: the confusion matrix returned by the compute_predictions model are not \n",
    "# the same as those plotted above: instead, they contain all labels, so we can\n",
    "# index them directly\n",
    "ok_values_gru = cmatr_gru[ERR_LABELS, ERR_LABELS]\n",
    "ok_values_dense = cmatr_densex2[ERR_LABELS, ERR_LABELS]\n",
    "# Sum the total number of values in the matrix. It is the same for both matrices.\n",
    "tot_vals = np.sum(cmatr_gru)\n",
    "# Then, obtain how many errors are there in the whole matrix. \n",
    "# We can do this by subtracting from the total amount of examined labels,\n",
    "# The sum of the labels that are on the diagonal of the matrix (the correctly\n",
    "# predicted labels)\n",
    "total_errors_gru = tot_vals - np.sum(np.diag(cmatr_gru))\n",
    "total_errors_dense = tot_vals - np.sum(np.diag(cmatr_densex2))\n",
    "# To understand how many errors are done on the rows of interest,\n",
    "# we sum over the whole rows obtaining a vector of counts for each row,\n",
    "# then we subtract the previously computed number of correct predictions\n",
    "# for that row.\n",
    "errors_gru = np.sum(np.sum(cmatr_gru[ERR_LABELS], axis=1) - ok_values_gru)\n",
    "errors_dense = np.sum(np.sum(cmatr_densex2[ERR_LABELS], axis=1) - ok_values_dense)\n",
    "# Finally, we normalize these results to obtain probabilities\n",
    "norm_errors_gru = errors_gru / total_errors_gru\n",
    "norm_errors_dense = errors_dense / total_errors_dense\n",
    "\n",
    "print(\"Errors for problematic labels {} in the GRU model account for {:.2f}% of the total errors\".format(ERR_LABELS, norm_errors_gru*100))\n",
    "print(\"Errors for problematic labels {} in the deeper dense model account for {:.2f}% of the total errors\".format(ERR_LABELS, norm_errors_dense*100))"
   ]
  },
  {
   "cell_type": "markdown",
   "metadata": {},
   "source": [
    "These 6 tags are responsible for over $70\\%$ of the mistakes of the models. To get a clearer view, these labels correspond to the following POS tags:"
   ]
  },
  {
   "cell_type": "code",
   "execution_count": 79,
   "metadata": {},
   "outputs": [
    {
     "data": {
      "text/plain": [
       "['JJ', 'NN', 'NNP', 'NNS', 'RB', 'VBN']"
      ]
     },
     "execution_count": 79,
     "metadata": {},
     "output_type": "execute_result"
    }
   ],
   "source": [
    "[idx_to_label(idx) for idx in [15, 20, 21, 23, 28, 38]]"
   ]
  },
  {
   "cell_type": "markdown",
   "metadata": {},
   "source": [
    "Where:\n",
    "- JJ (15) are Adjectives\n",
    "- NN (20) are Singular Nouns\n",
    "- NNP (21) are Proper Nouns\n",
    "- NNS (23) are Plural Nouns\n",
    "- RB (28) are Adverbs\n",
    "- VBN (38) are Verbs at past principle\n",
    "\n",
    "It makes sense that some singular nouns are confused with proper nouns, that there is some confusion between singular and plural and that the model has trouble understanding when adjectives are **actual** adjectives and when they are something else. We as humans often have the same problems!\n",
    "\n",
    "Let's explore some of the sentences where the model makes such mistakes."
   ]
  },
  {
   "cell_type": "markdown",
   "metadata": {},
   "source": [
    "#### Error Exploration"
   ]
  },
  {
   "cell_type": "markdown",
   "metadata": {},
   "source": [
    "With this utility function we can easily visualize a sentence, its groundtruth tags and the predicted tags.\n",
    "\n",
    "We use the deeper-classifier model, which is the better performing one, but the confusion matrix for the GRU model tells us that similar results would be obtained."
   ]
  },
  {
   "cell_type": "code",
   "execution_count": 86,
   "metadata": {},
   "outputs": [
    {
     "name": "stdout",
     "output_type": "stream",
     "text": [
      "Sentence: the move is part of a strategy to focus on its core metals trading , processing and plant engineering activities while shedding peripheral units , the company said .\n"
     ]
    },
    {
     "data": {
      "text/html": [
       "<div>\n",
       "<style scoped>\n",
       "    .dataframe tbody tr th:only-of-type {\n",
       "        vertical-align: middle;\n",
       "    }\n",
       "\n",
       "    .dataframe tbody tr th {\n",
       "        vertical-align: top;\n",
       "    }\n",
       "\n",
       "    .dataframe thead th {\n",
       "        text-align: right;\n",
       "    }\n",
       "</style>\n",
       "<table border=\"1\" class=\"dataframe\">\n",
       "  <thead>\n",
       "    <tr style=\"text-align: right;\">\n",
       "      <th></th>\n",
       "      <th>0</th>\n",
       "      <th>1</th>\n",
       "      <th>2</th>\n",
       "      <th>3</th>\n",
       "      <th>4</th>\n",
       "      <th>5</th>\n",
       "      <th>6</th>\n",
       "      <th>7</th>\n",
       "      <th>8</th>\n",
       "      <th>9</th>\n",
       "      <th>...</th>\n",
       "      <th>19</th>\n",
       "      <th>20</th>\n",
       "      <th>21</th>\n",
       "      <th>22</th>\n",
       "      <th>23</th>\n",
       "      <th>24</th>\n",
       "      <th>25</th>\n",
       "      <th>26</th>\n",
       "      <th>27</th>\n",
       "      <th>28</th>\n",
       "    </tr>\n",
       "  </thead>\n",
       "  <tbody>\n",
       "    <tr>\n",
       "      <th>word</th>\n",
       "      <td>the</td>\n",
       "      <td>move</td>\n",
       "      <td>is</td>\n",
       "      <td>part</td>\n",
       "      <td>of</td>\n",
       "      <td>a</td>\n",
       "      <td>strategy</td>\n",
       "      <td>to</td>\n",
       "      <td>focus</td>\n",
       "      <td>on</td>\n",
       "      <td>...</td>\n",
       "      <td>activities</td>\n",
       "      <td>while</td>\n",
       "      <td>shedding</td>\n",
       "      <td>peripheral</td>\n",
       "      <td>units</td>\n",
       "      <td>,</td>\n",
       "      <td>the</td>\n",
       "      <td>company</td>\n",
       "      <td>said</td>\n",
       "      <td>.</td>\n",
       "    </tr>\n",
       "    <tr>\n",
       "      <th>tag</th>\n",
       "      <td>DT</td>\n",
       "      <td>NN</td>\n",
       "      <td>VBZ</td>\n",
       "      <td>NN</td>\n",
       "      <td>IN</td>\n",
       "      <td>DT</td>\n",
       "      <td>NN</td>\n",
       "      <td>TO</td>\n",
       "      <td>VB</td>\n",
       "      <td>IN</td>\n",
       "      <td>...</td>\n",
       "      <td>NNS</td>\n",
       "      <td>IN</td>\n",
       "      <td>VBG</td>\n",
       "      <td>JJ</td>\n",
       "      <td>NNS</td>\n",
       "      <td>,</td>\n",
       "      <td>DT</td>\n",
       "      <td>NN</td>\n",
       "      <td>VBD</td>\n",
       "      <td>.</td>\n",
       "    </tr>\n",
       "    <tr>\n",
       "      <th>prediction</th>\n",
       "      <td>DT</td>\n",
       "      <td>NN</td>\n",
       "      <td>VBZ</td>\n",
       "      <td>NN</td>\n",
       "      <td>IN</td>\n",
       "      <td>DT</td>\n",
       "      <td>NN</td>\n",
       "      <td>TO</td>\n",
       "      <td>VB</td>\n",
       "      <td>IN</td>\n",
       "      <td>...</td>\n",
       "      <td>NNS</td>\n",
       "      <td>IN</td>\n",
       "      <td>VBG</td>\n",
       "      <td>JJ</td>\n",
       "      <td>NNS</td>\n",
       "      <td>,</td>\n",
       "      <td>DT</td>\n",
       "      <td>NN</td>\n",
       "      <td>VBD</td>\n",
       "      <td>.</td>\n",
       "    </tr>\n",
       "  </tbody>\n",
       "</table>\n",
       "<p>3 rows × 29 columns</p>\n",
       "</div>"
      ],
      "text/plain": [
       "             0     1    2     3   4   5         6   7      8   9   ...  \\\n",
       "word        the  move   is  part  of   a  strategy  to  focus  on  ...   \n",
       "tag          DT    NN  VBZ    NN  IN  DT        NN  TO     VB  IN  ...   \n",
       "prediction   DT    NN  VBZ    NN  IN  DT        NN  TO     VB  IN  ...   \n",
       "\n",
       "                    19     20        21          22     23 24   25       26  \\\n",
       "word        activities  while  shedding  peripheral  units  ,  the  company   \n",
       "tag                NNS     IN       VBG          JJ    NNS  ,   DT       NN   \n",
       "prediction         NNS     IN       VBG          JJ    NNS  ,   DT       NN   \n",
       "\n",
       "              27 28  \n",
       "word        said  .  \n",
       "tag          VBD  .  \n",
       "prediction   VBD  .  \n",
       "\n",
       "[3 rows x 29 columns]"
      ]
     },
     "execution_count": 86,
     "metadata": {},
     "output_type": "execute_result"
    }
   ],
   "source": [
    "prediction_array = np.argmax(predictions_densex2, axis=2)\n",
    "\n",
    "def get_comparison(idx=None, verbose=True):\n",
    "    # Call with no parameters to get random sentence\n",
    "    if idx is None:\n",
    "        idx = random.choice(range(len(test_sentences)))\n",
    "    if verbose:\n",
    "        print(\"Sentence: {}\".format(get_natural_language_sentence(test_sentences[idx])))\n",
    "    # Create dataframe for the comparison\n",
    "    rand_df = test_sentences[idx].reset_index().drop(['index'], axis=1).T\n",
    "    rand_pred = prediction_array[idx]\n",
    "    # Drop whatever is after the point in the prediction\n",
    "    rand_pred = rand_pred[0:np.where(rand_pred == 7)[0][0] + 1]\n",
    "    # Appen the prediction to the last line\n",
    "    rand_pred = pd.Series([ idx_to_label(idx) for idx in rand_pred ], name=\"prediction\")\n",
    "    rand_df = rand_df.append(rand_pred)\n",
    "    return rand_df\n",
    "\n",
    "# Eg. get a random comparison\n",
    "random_comparison = get_comparison()\n",
    "random_comparison"
   ]
  },
  {
   "cell_type": "markdown",
   "metadata": {},
   "source": [
    "With this function we can specify which errors we want to look for."
   ]
  },
  {
   "cell_type": "code",
   "execution_count": 87,
   "metadata": {},
   "outputs": [],
   "source": [
    "def select_comparisons_with_given_errors(check_gt_label=ERR_LABELS, \n",
    "                                         check_pred_label=ERR_LABELS, \n",
    "                                         num=5,\n",
    "                                         use_indices:list=[]):\n",
    "    count = 0\n",
    "    skip = set()\n",
    "    while count < num and len(skip) < len(test_sentences):\n",
    "        if len(use_indices) == 0:\n",
    "            # Get random comparisons until we found num satisfying the checks\n",
    "            idx = np.random.randint(0, len(test_sentences))\n",
    "        else:\n",
    "            # Use an index from the list (for showing specific examples)\n",
    "            idx = use_indices.pop(0)\n",
    "        if idx not in skip:\n",
    "            skip.add(idx)\n",
    "            comparison = get_comparison(idx, verbose=False)\n",
    "            # Translate them to indices\n",
    "            try:\n",
    "                mapped_pred = comparison.iloc[2,:].apply(labels_to_idx)\n",
    "            except ValueError:\n",
    "                display(comparison)\n",
    "            mapped_gt = comparison.iloc[1,:].apply(labels_to_idx)\n",
    "            # Obtain a map of where the predictions are wrong\n",
    "            error_map = ~(mapped_pred == mapped_gt)\n",
    "            # Check if any of the prediction is in the set of labels to be checked\n",
    "            if np.any(np.isin(mapped_pred[error_map], check_pred_label)):\n",
    "                # Check if any of the gt labels for those positions is in the set of labels to be checked\n",
    "                gt_check = [idx for idx in np.where(error_map)[0] if mapped_pred[idx] in check_pred_label]\n",
    "                if np.any(np.isin(mapped_gt[gt_check], check_gt_label)):\n",
    "                    print(\"Index {}, Sentence: {}\".format(idx, ' '.join(comparison.iloc[0, :])))\n",
    "                    print(\"Matched error at index {}\".format([idx for idx in gt_check if mapped_gt[idx] in check_gt_label]))\n",
    "                    display(comparison)\n",
    "                    count += 1"
   ]
  },
  {
   "cell_type": "markdown",
   "metadata": {},
   "source": [
    "For example, we can find some examples of the model predicting a plural noun when the word was a singular noun."
   ]
  },
  {
   "cell_type": "code",
   "execution_count": 88,
   "metadata": {},
   "outputs": [
    {
     "name": "stdout",
     "output_type": "stream",
     "text": [
      "Index 191, Sentence: sales totaled 1.916 trillion yen , climbing 17 % from 1.637 trillion yen in the year-earlier period .\n",
      "Matched error at index [12]\n"
     ]
    },
    {
     "data": {
      "text/html": [
       "<div>\n",
       "<style scoped>\n",
       "    .dataframe tbody tr th:only-of-type {\n",
       "        vertical-align: middle;\n",
       "    }\n",
       "\n",
       "    .dataframe tbody tr th {\n",
       "        vertical-align: top;\n",
       "    }\n",
       "\n",
       "    .dataframe thead th {\n",
       "        text-align: right;\n",
       "    }\n",
       "</style>\n",
       "<table border=\"1\" class=\"dataframe\">\n",
       "  <thead>\n",
       "    <tr style=\"text-align: right;\">\n",
       "      <th></th>\n",
       "      <th>0</th>\n",
       "      <th>1</th>\n",
       "      <th>2</th>\n",
       "      <th>3</th>\n",
       "      <th>4</th>\n",
       "      <th>5</th>\n",
       "      <th>6</th>\n",
       "      <th>7</th>\n",
       "      <th>8</th>\n",
       "      <th>9</th>\n",
       "      <th>10</th>\n",
       "      <th>11</th>\n",
       "      <th>12</th>\n",
       "      <th>13</th>\n",
       "      <th>14</th>\n",
       "      <th>15</th>\n",
       "      <th>16</th>\n",
       "      <th>17</th>\n",
       "    </tr>\n",
       "  </thead>\n",
       "  <tbody>\n",
       "    <tr>\n",
       "      <th>word</th>\n",
       "      <td>sales</td>\n",
       "      <td>totaled</td>\n",
       "      <td>1.916</td>\n",
       "      <td>trillion</td>\n",
       "      <td>yen</td>\n",
       "      <td>,</td>\n",
       "      <td>climbing</td>\n",
       "      <td>17</td>\n",
       "      <td>%</td>\n",
       "      <td>from</td>\n",
       "      <td>1.637</td>\n",
       "      <td>trillion</td>\n",
       "      <td>yen</td>\n",
       "      <td>in</td>\n",
       "      <td>the</td>\n",
       "      <td>year-earlier</td>\n",
       "      <td>period</td>\n",
       "      <td>.</td>\n",
       "    </tr>\n",
       "    <tr>\n",
       "      <th>tag</th>\n",
       "      <td>NNS</td>\n",
       "      <td>VBD</td>\n",
       "      <td>CD</td>\n",
       "      <td>CD</td>\n",
       "      <td>NN</td>\n",
       "      <td>,</td>\n",
       "      <td>VBG</td>\n",
       "      <td>CD</td>\n",
       "      <td>NN</td>\n",
       "      <td>IN</td>\n",
       "      <td>CD</td>\n",
       "      <td>CD</td>\n",
       "      <td>NN</td>\n",
       "      <td>IN</td>\n",
       "      <td>DT</td>\n",
       "      <td>JJ</td>\n",
       "      <td>NN</td>\n",
       "      <td>.</td>\n",
       "    </tr>\n",
       "    <tr>\n",
       "      <th>prediction</th>\n",
       "      <td>NNS</td>\n",
       "      <td>VBD</td>\n",
       "      <td>CD</td>\n",
       "      <td>CD</td>\n",
       "      <td>NN</td>\n",
       "      <td>,</td>\n",
       "      <td>VBG</td>\n",
       "      <td>CD</td>\n",
       "      <td>NN</td>\n",
       "      <td>IN</td>\n",
       "      <td>CD</td>\n",
       "      <td>CD</td>\n",
       "      <td>NNS</td>\n",
       "      <td>IN</td>\n",
       "      <td>DT</td>\n",
       "      <td>JJ</td>\n",
       "      <td>NN</td>\n",
       "      <td>.</td>\n",
       "    </tr>\n",
       "  </tbody>\n",
       "</table>\n",
       "</div>"
      ],
      "text/plain": [
       "               0        1      2         3    4  5         6   7   8     9   \\\n",
       "word        sales  totaled  1.916  trillion  yen  ,  climbing  17   %  from   \n",
       "tag           NNS      VBD     CD        CD   NN  ,       VBG  CD  NN    IN   \n",
       "prediction    NNS      VBD     CD        CD   NN  ,       VBG  CD  NN    IN   \n",
       "\n",
       "               10        11   12  13   14            15      16 17  \n",
       "word        1.637  trillion  yen  in  the  year-earlier  period  .  \n",
       "tag            CD        CD   NN  IN   DT            JJ      NN  .  \n",
       "prediction     CD        CD  NNS  IN   DT            JJ      NN  .  "
      ]
     },
     "metadata": {},
     "output_type": "display_data"
    },
    {
     "name": "stdout",
     "output_type": "stream",
     "text": [
      "Index 137, Sentence: the company also cited interest costs and amortization of goodwill as factors in the loss .\n",
      "Matched error at index [7, 9]\n"
     ]
    },
    {
     "data": {
      "text/html": [
       "<div>\n",
       "<style scoped>\n",
       "    .dataframe tbody tr th:only-of-type {\n",
       "        vertical-align: middle;\n",
       "    }\n",
       "\n",
       "    .dataframe tbody tr th {\n",
       "        vertical-align: top;\n",
       "    }\n",
       "\n",
       "    .dataframe thead th {\n",
       "        text-align: right;\n",
       "    }\n",
       "</style>\n",
       "<table border=\"1\" class=\"dataframe\">\n",
       "  <thead>\n",
       "    <tr style=\"text-align: right;\">\n",
       "      <th></th>\n",
       "      <th>0</th>\n",
       "      <th>1</th>\n",
       "      <th>2</th>\n",
       "      <th>3</th>\n",
       "      <th>4</th>\n",
       "      <th>5</th>\n",
       "      <th>6</th>\n",
       "      <th>7</th>\n",
       "      <th>8</th>\n",
       "      <th>9</th>\n",
       "      <th>10</th>\n",
       "      <th>11</th>\n",
       "      <th>12</th>\n",
       "      <th>13</th>\n",
       "      <th>14</th>\n",
       "      <th>15</th>\n",
       "    </tr>\n",
       "  </thead>\n",
       "  <tbody>\n",
       "    <tr>\n",
       "      <th>word</th>\n",
       "      <td>the</td>\n",
       "      <td>company</td>\n",
       "      <td>also</td>\n",
       "      <td>cited</td>\n",
       "      <td>interest</td>\n",
       "      <td>costs</td>\n",
       "      <td>and</td>\n",
       "      <td>amortization</td>\n",
       "      <td>of</td>\n",
       "      <td>goodwill</td>\n",
       "      <td>as</td>\n",
       "      <td>factors</td>\n",
       "      <td>in</td>\n",
       "      <td>the</td>\n",
       "      <td>loss</td>\n",
       "      <td>.</td>\n",
       "    </tr>\n",
       "    <tr>\n",
       "      <th>tag</th>\n",
       "      <td>DT</td>\n",
       "      <td>NN</td>\n",
       "      <td>RB</td>\n",
       "      <td>VBD</td>\n",
       "      <td>NN</td>\n",
       "      <td>NNS</td>\n",
       "      <td>CC</td>\n",
       "      <td>NN</td>\n",
       "      <td>IN</td>\n",
       "      <td>NN</td>\n",
       "      <td>IN</td>\n",
       "      <td>NNS</td>\n",
       "      <td>IN</td>\n",
       "      <td>DT</td>\n",
       "      <td>NN</td>\n",
       "      <td>.</td>\n",
       "    </tr>\n",
       "    <tr>\n",
       "      <th>prediction</th>\n",
       "      <td>DT</td>\n",
       "      <td>NN</td>\n",
       "      <td>RB</td>\n",
       "      <td>VBN</td>\n",
       "      <td>NN</td>\n",
       "      <td>NNS</td>\n",
       "      <td>CC</td>\n",
       "      <td>NNS</td>\n",
       "      <td>IN</td>\n",
       "      <td>NNS</td>\n",
       "      <td>IN</td>\n",
       "      <td>NNS</td>\n",
       "      <td>IN</td>\n",
       "      <td>DT</td>\n",
       "      <td>NN</td>\n",
       "      <td>.</td>\n",
       "    </tr>\n",
       "  </tbody>\n",
       "</table>\n",
       "</div>"
      ],
      "text/plain": [
       "             0        1     2      3         4      5    6             7   8   \\\n",
       "word        the  company  also  cited  interest  costs  and  amortization  of   \n",
       "tag          DT       NN    RB    VBD        NN    NNS   CC            NN  IN   \n",
       "prediction   DT       NN    RB    VBN        NN    NNS   CC           NNS  IN   \n",
       "\n",
       "                  9   10       11  12   13    14 15  \n",
       "word        goodwill  as  factors  in  the  loss  .  \n",
       "tag               NN  IN      NNS  IN   DT    NN  .  \n",
       "prediction       NNS  IN      NNS  IN   DT    NN  .  "
      ]
     },
     "metadata": {},
     "output_type": "display_data"
    },
    {
     "name": "stdout",
     "output_type": "stream",
     "text": [
      "Index 515, Sentence: ralston attributed its fourth-quarter slump partly to higher costs of ingredients in the pet food business as well as competitive pressures , which required higher advertising spending .\n",
      "Matched error at index [26]\n"
     ]
    },
    {
     "data": {
      "text/html": [
       "<div>\n",
       "<style scoped>\n",
       "    .dataframe tbody tr th:only-of-type {\n",
       "        vertical-align: middle;\n",
       "    }\n",
       "\n",
       "    .dataframe tbody tr th {\n",
       "        vertical-align: top;\n",
       "    }\n",
       "\n",
       "    .dataframe thead th {\n",
       "        text-align: right;\n",
       "    }\n",
       "</style>\n",
       "<table border=\"1\" class=\"dataframe\">\n",
       "  <thead>\n",
       "    <tr style=\"text-align: right;\">\n",
       "      <th></th>\n",
       "      <th>0</th>\n",
       "      <th>1</th>\n",
       "      <th>2</th>\n",
       "      <th>3</th>\n",
       "      <th>4</th>\n",
       "      <th>5</th>\n",
       "      <th>6</th>\n",
       "      <th>7</th>\n",
       "      <th>8</th>\n",
       "      <th>9</th>\n",
       "      <th>...</th>\n",
       "      <th>18</th>\n",
       "      <th>19</th>\n",
       "      <th>20</th>\n",
       "      <th>21</th>\n",
       "      <th>22</th>\n",
       "      <th>23</th>\n",
       "      <th>24</th>\n",
       "      <th>25</th>\n",
       "      <th>26</th>\n",
       "      <th>27</th>\n",
       "    </tr>\n",
       "  </thead>\n",
       "  <tbody>\n",
       "    <tr>\n",
       "      <th>word</th>\n",
       "      <td>ralston</td>\n",
       "      <td>attributed</td>\n",
       "      <td>its</td>\n",
       "      <td>fourth-quarter</td>\n",
       "      <td>slump</td>\n",
       "      <td>partly</td>\n",
       "      <td>to</td>\n",
       "      <td>higher</td>\n",
       "      <td>costs</td>\n",
       "      <td>of</td>\n",
       "      <td>...</td>\n",
       "      <td>as</td>\n",
       "      <td>competitive</td>\n",
       "      <td>pressures</td>\n",
       "      <td>,</td>\n",
       "      <td>which</td>\n",
       "      <td>required</td>\n",
       "      <td>higher</td>\n",
       "      <td>advertising</td>\n",
       "      <td>spending</td>\n",
       "      <td>.</td>\n",
       "    </tr>\n",
       "    <tr>\n",
       "      <th>tag</th>\n",
       "      <td>NNP</td>\n",
       "      <td>VBD</td>\n",
       "      <td>PRP$</td>\n",
       "      <td>NN</td>\n",
       "      <td>NN</td>\n",
       "      <td>RB</td>\n",
       "      <td>TO</td>\n",
       "      <td>JJR</td>\n",
       "      <td>NNS</td>\n",
       "      <td>IN</td>\n",
       "      <td>...</td>\n",
       "      <td>IN</td>\n",
       "      <td>JJ</td>\n",
       "      <td>NNS</td>\n",
       "      <td>,</td>\n",
       "      <td>WDT</td>\n",
       "      <td>VBD</td>\n",
       "      <td>JJR</td>\n",
       "      <td>NN</td>\n",
       "      <td>NN</td>\n",
       "      <td>.</td>\n",
       "    </tr>\n",
       "    <tr>\n",
       "      <th>prediction</th>\n",
       "      <td>NNP</td>\n",
       "      <td>VBD</td>\n",
       "      <td>PRP$</td>\n",
       "      <td>JJ</td>\n",
       "      <td>NN</td>\n",
       "      <td>RB</td>\n",
       "      <td>TO</td>\n",
       "      <td>JJR</td>\n",
       "      <td>NNS</td>\n",
       "      <td>IN</td>\n",
       "      <td>...</td>\n",
       "      <td>IN</td>\n",
       "      <td>JJ</td>\n",
       "      <td>NNS</td>\n",
       "      <td>,</td>\n",
       "      <td>WDT</td>\n",
       "      <td>RB</td>\n",
       "      <td>JJR</td>\n",
       "      <td>NN</td>\n",
       "      <td>NNS</td>\n",
       "      <td>.</td>\n",
       "    </tr>\n",
       "  </tbody>\n",
       "</table>\n",
       "<p>3 rows × 28 columns</p>\n",
       "</div>"
      ],
      "text/plain": [
       "                 0           1     2               3      4       5   6   \\\n",
       "word        ralston  attributed   its  fourth-quarter  slump  partly  to   \n",
       "tag             NNP         VBD  PRP$              NN     NN      RB  TO   \n",
       "prediction      NNP         VBD  PRP$              JJ     NN      RB  TO   \n",
       "\n",
       "                7      8   9   ...  18           19         20 21     22  \\\n",
       "word        higher  costs  of  ...  as  competitive  pressures  ,  which   \n",
       "tag            JJR    NNS  IN  ...  IN           JJ        NNS  ,    WDT   \n",
       "prediction     JJR    NNS  IN  ...  IN           JJ        NNS  ,    WDT   \n",
       "\n",
       "                  23      24           25        26 27  \n",
       "word        required  higher  advertising  spending  .  \n",
       "tag              VBD     JJR           NN        NN  .  \n",
       "prediction        RB     JJR           NN       NNS  .  \n",
       "\n",
       "[3 rows x 28 columns]"
      ]
     },
     "metadata": {},
     "output_type": "display_data"
    },
    {
     "name": "stdout",
     "output_type": "stream",
     "text": [
      "Index 630, Sentence: '' the two professors represent different ends of the political spectrum -- mr. kurland is a conservative and mr. tribe is a liberal .\n",
      "Matched error at index [10]\n"
     ]
    },
    {
     "data": {
      "text/html": [
       "<div>\n",
       "<style scoped>\n",
       "    .dataframe tbody tr th:only-of-type {\n",
       "        vertical-align: middle;\n",
       "    }\n",
       "\n",
       "    .dataframe tbody tr th {\n",
       "        vertical-align: top;\n",
       "    }\n",
       "\n",
       "    .dataframe thead th {\n",
       "        text-align: right;\n",
       "    }\n",
       "</style>\n",
       "<table border=\"1\" class=\"dataframe\">\n",
       "  <thead>\n",
       "    <tr style=\"text-align: right;\">\n",
       "      <th></th>\n",
       "      <th>0</th>\n",
       "      <th>1</th>\n",
       "      <th>2</th>\n",
       "      <th>3</th>\n",
       "      <th>4</th>\n",
       "      <th>5</th>\n",
       "      <th>6</th>\n",
       "      <th>7</th>\n",
       "      <th>8</th>\n",
       "      <th>9</th>\n",
       "      <th>...</th>\n",
       "      <th>14</th>\n",
       "      <th>15</th>\n",
       "      <th>16</th>\n",
       "      <th>17</th>\n",
       "      <th>18</th>\n",
       "      <th>19</th>\n",
       "      <th>20</th>\n",
       "      <th>21</th>\n",
       "      <th>22</th>\n",
       "      <th>23</th>\n",
       "    </tr>\n",
       "  </thead>\n",
       "  <tbody>\n",
       "    <tr>\n",
       "      <th>word</th>\n",
       "      <td>''</td>\n",
       "      <td>the</td>\n",
       "      <td>two</td>\n",
       "      <td>professors</td>\n",
       "      <td>represent</td>\n",
       "      <td>different</td>\n",
       "      <td>ends</td>\n",
       "      <td>of</td>\n",
       "      <td>the</td>\n",
       "      <td>political</td>\n",
       "      <td>...</td>\n",
       "      <td>is</td>\n",
       "      <td>a</td>\n",
       "      <td>conservative</td>\n",
       "      <td>and</td>\n",
       "      <td>mr.</td>\n",
       "      <td>tribe</td>\n",
       "      <td>is</td>\n",
       "      <td>a</td>\n",
       "      <td>liberal</td>\n",
       "      <td>.</td>\n",
       "    </tr>\n",
       "    <tr>\n",
       "      <th>tag</th>\n",
       "      <td>''</td>\n",
       "      <td>DT</td>\n",
       "      <td>CD</td>\n",
       "      <td>NNS</td>\n",
       "      <td>VBP</td>\n",
       "      <td>JJ</td>\n",
       "      <td>NNS</td>\n",
       "      <td>IN</td>\n",
       "      <td>DT</td>\n",
       "      <td>JJ</td>\n",
       "      <td>...</td>\n",
       "      <td>VBZ</td>\n",
       "      <td>DT</td>\n",
       "      <td>JJ</td>\n",
       "      <td>CC</td>\n",
       "      <td>NNP</td>\n",
       "      <td>NNP</td>\n",
       "      <td>VBZ</td>\n",
       "      <td>DT</td>\n",
       "      <td>NN</td>\n",
       "      <td>.</td>\n",
       "    </tr>\n",
       "    <tr>\n",
       "      <th>prediction</th>\n",
       "      <td>''</td>\n",
       "      <td>DT</td>\n",
       "      <td>CD</td>\n",
       "      <td>NNS</td>\n",
       "      <td>VBP</td>\n",
       "      <td>JJ</td>\n",
       "      <td>NN</td>\n",
       "      <td>IN</td>\n",
       "      <td>DT</td>\n",
       "      <td>JJ</td>\n",
       "      <td>...</td>\n",
       "      <td>VBZ</td>\n",
       "      <td>DT</td>\n",
       "      <td>JJ</td>\n",
       "      <td>CC</td>\n",
       "      <td>NNP</td>\n",
       "      <td>NNP</td>\n",
       "      <td>VBZ</td>\n",
       "      <td>DT</td>\n",
       "      <td>JJ</td>\n",
       "      <td>.</td>\n",
       "    </tr>\n",
       "  </tbody>\n",
       "</table>\n",
       "<p>3 rows × 24 columns</p>\n",
       "</div>"
      ],
      "text/plain": [
       "            0    1    2           3          4          5     6   7    8   \\\n",
       "word        ''  the  two  professors  represent  different  ends  of  the   \n",
       "tag         ''   DT   CD         NNS        VBP         JJ   NNS  IN   DT   \n",
       "prediction  ''   DT   CD         NNS        VBP         JJ    NN  IN   DT   \n",
       "\n",
       "                   9   ...   14  15            16   17   18     19   20  21  \\\n",
       "word        political  ...   is   a  conservative  and  mr.  tribe   is   a   \n",
       "tag                JJ  ...  VBZ  DT            JJ   CC  NNP    NNP  VBZ  DT   \n",
       "prediction         JJ  ...  VBZ  DT            JJ   CC  NNP    NNP  VBZ  DT   \n",
       "\n",
       "                 22 23  \n",
       "word        liberal  .  \n",
       "tag              NN  .  \n",
       "prediction       JJ  .  \n",
       "\n",
       "[3 rows x 24 columns]"
      ]
     },
     "metadata": {},
     "output_type": "display_data"
    }
   ],
   "source": [
    "select_comparisons_with_given_errors(check_gt_label=[20], check_pred_label=[23], num=4, use_indices=[191, 572, 595])"
   ]
  },
  {
   "cell_type": "markdown",
   "metadata": {},
   "source": [
    "The model confuses word about money for plural: it makes sense because they are predeced by plural numbers!\n",
    "\n",
    "In other examples, though, the common pattern seems to be that the model may think that abstract concepts (volatility, demand, pricing, ...) are plural."
   ]
  },
  {
   "cell_type": "markdown",
   "metadata": {},
   "source": [
    "What about Adjectives and Adverbs?"
   ]
  },
  {
   "cell_type": "code",
   "execution_count": 89,
   "metadata": {},
   "outputs": [
    {
     "name": "stdout",
     "output_type": "stream",
     "text": [
      "Index 377, Sentence: it also hopes for ultimate gains of as much as $ 300 million on equity investments in buy-outs and restructurings .\n",
      "Matched error at index [8]\n"
     ]
    },
    {
     "data": {
      "text/html": [
       "<div>\n",
       "<style scoped>\n",
       "    .dataframe tbody tr th:only-of-type {\n",
       "        vertical-align: middle;\n",
       "    }\n",
       "\n",
       "    .dataframe tbody tr th {\n",
       "        vertical-align: top;\n",
       "    }\n",
       "\n",
       "    .dataframe thead th {\n",
       "        text-align: right;\n",
       "    }\n",
       "</style>\n",
       "<table border=\"1\" class=\"dataframe\">\n",
       "  <thead>\n",
       "    <tr style=\"text-align: right;\">\n",
       "      <th></th>\n",
       "      <th>0</th>\n",
       "      <th>1</th>\n",
       "      <th>2</th>\n",
       "      <th>3</th>\n",
       "      <th>4</th>\n",
       "      <th>5</th>\n",
       "      <th>6</th>\n",
       "      <th>7</th>\n",
       "      <th>8</th>\n",
       "      <th>9</th>\n",
       "      <th>...</th>\n",
       "      <th>11</th>\n",
       "      <th>12</th>\n",
       "      <th>13</th>\n",
       "      <th>14</th>\n",
       "      <th>15</th>\n",
       "      <th>16</th>\n",
       "      <th>17</th>\n",
       "      <th>18</th>\n",
       "      <th>19</th>\n",
       "      <th>20</th>\n",
       "    </tr>\n",
       "  </thead>\n",
       "  <tbody>\n",
       "    <tr>\n",
       "      <th>word</th>\n",
       "      <td>it</td>\n",
       "      <td>also</td>\n",
       "      <td>hopes</td>\n",
       "      <td>for</td>\n",
       "      <td>ultimate</td>\n",
       "      <td>gains</td>\n",
       "      <td>of</td>\n",
       "      <td>as</td>\n",
       "      <td>much</td>\n",
       "      <td>as</td>\n",
       "      <td>...</td>\n",
       "      <td>300</td>\n",
       "      <td>million</td>\n",
       "      <td>on</td>\n",
       "      <td>equity</td>\n",
       "      <td>investments</td>\n",
       "      <td>in</td>\n",
       "      <td>buy-outs</td>\n",
       "      <td>and</td>\n",
       "      <td>restructurings</td>\n",
       "      <td>.</td>\n",
       "    </tr>\n",
       "    <tr>\n",
       "      <th>tag</th>\n",
       "      <td>PRP</td>\n",
       "      <td>RB</td>\n",
       "      <td>VBZ</td>\n",
       "      <td>IN</td>\n",
       "      <td>JJ</td>\n",
       "      <td>NNS</td>\n",
       "      <td>IN</td>\n",
       "      <td>RB</td>\n",
       "      <td>JJ</td>\n",
       "      <td>IN</td>\n",
       "      <td>...</td>\n",
       "      <td>CD</td>\n",
       "      <td>CD</td>\n",
       "      <td>IN</td>\n",
       "      <td>NN</td>\n",
       "      <td>NNS</td>\n",
       "      <td>IN</td>\n",
       "      <td>NNS</td>\n",
       "      <td>CC</td>\n",
       "      <td>NNS</td>\n",
       "      <td>.</td>\n",
       "    </tr>\n",
       "    <tr>\n",
       "      <th>prediction</th>\n",
       "      <td>PRP</td>\n",
       "      <td>RB</td>\n",
       "      <td>VBZ</td>\n",
       "      <td>IN</td>\n",
       "      <td>JJ</td>\n",
       "      <td>NN</td>\n",
       "      <td>IN</td>\n",
       "      <td>RB</td>\n",
       "      <td>RB</td>\n",
       "      <td>IN</td>\n",
       "      <td>...</td>\n",
       "      <td>CD</td>\n",
       "      <td>CD</td>\n",
       "      <td>IN</td>\n",
       "      <td>NN</td>\n",
       "      <td>NNS</td>\n",
       "      <td>IN</td>\n",
       "      <td>JJ</td>\n",
       "      <td>CC</td>\n",
       "      <td>NNS</td>\n",
       "      <td>.</td>\n",
       "    </tr>\n",
       "  </tbody>\n",
       "</table>\n",
       "<p>3 rows × 21 columns</p>\n",
       "</div>"
      ],
      "text/plain": [
       "             0     1      2    3         4      5   6   7     8   9   ...  \\\n",
       "word         it  also  hopes  for  ultimate  gains  of  as  much  as  ...   \n",
       "tag         PRP    RB    VBZ   IN        JJ    NNS  IN  RB    JJ  IN  ...   \n",
       "prediction  PRP    RB    VBZ   IN        JJ     NN  IN  RB    RB  IN  ...   \n",
       "\n",
       "             11       12  13      14           15  16        17   18  \\\n",
       "word        300  million  on  equity  investments  in  buy-outs  and   \n",
       "tag          CD       CD  IN      NN          NNS  IN       NNS   CC   \n",
       "prediction   CD       CD  IN      NN          NNS  IN        JJ   CC   \n",
       "\n",
       "                        19 20  \n",
       "word        restructurings  .  \n",
       "tag                    NNS  .  \n",
       "prediction             NNS  .  \n",
       "\n",
       "[3 rows x 21 columns]"
      ]
     },
     "metadata": {},
     "output_type": "display_data"
    },
    {
     "name": "stdout",
     "output_type": "stream",
     "text": [
      "Index 7, Sentence: '' but mr. ackerman said the buy-back , and the above-market price paid , prove that mr. edelman is running scared .\n",
      "Matched error at index [20]\n"
     ]
    },
    {
     "data": {
      "text/html": [
       "<div>\n",
       "<style scoped>\n",
       "    .dataframe tbody tr th:only-of-type {\n",
       "        vertical-align: middle;\n",
       "    }\n",
       "\n",
       "    .dataframe tbody tr th {\n",
       "        vertical-align: top;\n",
       "    }\n",
       "\n",
       "    .dataframe thead th {\n",
       "        text-align: right;\n",
       "    }\n",
       "</style>\n",
       "<table border=\"1\" class=\"dataframe\">\n",
       "  <thead>\n",
       "    <tr style=\"text-align: right;\">\n",
       "      <th></th>\n",
       "      <th>0</th>\n",
       "      <th>1</th>\n",
       "      <th>2</th>\n",
       "      <th>3</th>\n",
       "      <th>4</th>\n",
       "      <th>5</th>\n",
       "      <th>6</th>\n",
       "      <th>7</th>\n",
       "      <th>8</th>\n",
       "      <th>9</th>\n",
       "      <th>...</th>\n",
       "      <th>12</th>\n",
       "      <th>13</th>\n",
       "      <th>14</th>\n",
       "      <th>15</th>\n",
       "      <th>16</th>\n",
       "      <th>17</th>\n",
       "      <th>18</th>\n",
       "      <th>19</th>\n",
       "      <th>20</th>\n",
       "      <th>21</th>\n",
       "    </tr>\n",
       "  </thead>\n",
       "  <tbody>\n",
       "    <tr>\n",
       "      <th>word</th>\n",
       "      <td>''</td>\n",
       "      <td>but</td>\n",
       "      <td>mr.</td>\n",
       "      <td>ackerman</td>\n",
       "      <td>said</td>\n",
       "      <td>the</td>\n",
       "      <td>buy-back</td>\n",
       "      <td>,</td>\n",
       "      <td>and</td>\n",
       "      <td>the</td>\n",
       "      <td>...</td>\n",
       "      <td>paid</td>\n",
       "      <td>,</td>\n",
       "      <td>prove</td>\n",
       "      <td>that</td>\n",
       "      <td>mr.</td>\n",
       "      <td>edelman</td>\n",
       "      <td>is</td>\n",
       "      <td>running</td>\n",
       "      <td>scared</td>\n",
       "      <td>.</td>\n",
       "    </tr>\n",
       "    <tr>\n",
       "      <th>tag</th>\n",
       "      <td>''</td>\n",
       "      <td>CC</td>\n",
       "      <td>NNP</td>\n",
       "      <td>NNP</td>\n",
       "      <td>VBD</td>\n",
       "      <td>DT</td>\n",
       "      <td>NN</td>\n",
       "      <td>,</td>\n",
       "      <td>CC</td>\n",
       "      <td>DT</td>\n",
       "      <td>...</td>\n",
       "      <td>VBN</td>\n",
       "      <td>,</td>\n",
       "      <td>VBP</td>\n",
       "      <td>IN</td>\n",
       "      <td>NNP</td>\n",
       "      <td>NNP</td>\n",
       "      <td>VBZ</td>\n",
       "      <td>VBG</td>\n",
       "      <td>JJ</td>\n",
       "      <td>.</td>\n",
       "    </tr>\n",
       "    <tr>\n",
       "      <th>prediction</th>\n",
       "      <td>''</td>\n",
       "      <td>CC</td>\n",
       "      <td>NNP</td>\n",
       "      <td>NNP</td>\n",
       "      <td>VBD</td>\n",
       "      <td>DT</td>\n",
       "      <td>NN</td>\n",
       "      <td>,</td>\n",
       "      <td>CC</td>\n",
       "      <td>DT</td>\n",
       "      <td>...</td>\n",
       "      <td>VBN</td>\n",
       "      <td>,</td>\n",
       "      <td>RB</td>\n",
       "      <td>DT</td>\n",
       "      <td>NNP</td>\n",
       "      <td>NNP</td>\n",
       "      <td>VBZ</td>\n",
       "      <td>VBG</td>\n",
       "      <td>RB</td>\n",
       "      <td>.</td>\n",
       "    </tr>\n",
       "  </tbody>\n",
       "</table>\n",
       "<p>3 rows × 22 columns</p>\n",
       "</div>"
      ],
      "text/plain": [
       "            0    1    2         3     4    5         6  7    8    9   ...  \\\n",
       "word        ''  but  mr.  ackerman  said  the  buy-back  ,  and  the  ...   \n",
       "tag         ''   CC  NNP       NNP   VBD   DT        NN  ,   CC   DT  ...   \n",
       "prediction  ''   CC  NNP       NNP   VBD   DT        NN  ,   CC   DT  ...   \n",
       "\n",
       "              12 13     14    15   16       17   18       19      20 21  \n",
       "word        paid  ,  prove  that  mr.  edelman   is  running  scared  .  \n",
       "tag          VBN  ,    VBP    IN  NNP      NNP  VBZ      VBG      JJ  .  \n",
       "prediction   VBN  ,     RB    DT  NNP      NNP  VBZ      VBG      RB  .  \n",
       "\n",
       "[3 rows x 22 columns]"
      ]
     },
     "metadata": {},
     "output_type": "display_data"
    },
    {
     "name": "stdout",
     "output_type": "stream",
     "text": [
      "Index 81, Sentence: the soviets are widely believed to need additional supplies , despite running up record one-month purchases of 310 million bushels of corn in october .\n",
      "Matched error at index [13]\n"
     ]
    },
    {
     "data": {
      "text/html": [
       "<div>\n",
       "<style scoped>\n",
       "    .dataframe tbody tr th:only-of-type {\n",
       "        vertical-align: middle;\n",
       "    }\n",
       "\n",
       "    .dataframe tbody tr th {\n",
       "        vertical-align: top;\n",
       "    }\n",
       "\n",
       "    .dataframe thead th {\n",
       "        text-align: right;\n",
       "    }\n",
       "</style>\n",
       "<table border=\"1\" class=\"dataframe\">\n",
       "  <thead>\n",
       "    <tr style=\"text-align: right;\">\n",
       "      <th></th>\n",
       "      <th>0</th>\n",
       "      <th>1</th>\n",
       "      <th>2</th>\n",
       "      <th>3</th>\n",
       "      <th>4</th>\n",
       "      <th>5</th>\n",
       "      <th>6</th>\n",
       "      <th>7</th>\n",
       "      <th>8</th>\n",
       "      <th>9</th>\n",
       "      <th>...</th>\n",
       "      <th>15</th>\n",
       "      <th>16</th>\n",
       "      <th>17</th>\n",
       "      <th>18</th>\n",
       "      <th>19</th>\n",
       "      <th>20</th>\n",
       "      <th>21</th>\n",
       "      <th>22</th>\n",
       "      <th>23</th>\n",
       "      <th>24</th>\n",
       "    </tr>\n",
       "  </thead>\n",
       "  <tbody>\n",
       "    <tr>\n",
       "      <th>word</th>\n",
       "      <td>the</td>\n",
       "      <td>soviets</td>\n",
       "      <td>are</td>\n",
       "      <td>widely</td>\n",
       "      <td>believed</td>\n",
       "      <td>to</td>\n",
       "      <td>need</td>\n",
       "      <td>additional</td>\n",
       "      <td>supplies</td>\n",
       "      <td>,</td>\n",
       "      <td>...</td>\n",
       "      <td>purchases</td>\n",
       "      <td>of</td>\n",
       "      <td>310</td>\n",
       "      <td>million</td>\n",
       "      <td>bushels</td>\n",
       "      <td>of</td>\n",
       "      <td>corn</td>\n",
       "      <td>in</td>\n",
       "      <td>october</td>\n",
       "      <td>.</td>\n",
       "    </tr>\n",
       "    <tr>\n",
       "      <th>tag</th>\n",
       "      <td>DT</td>\n",
       "      <td>NNPS</td>\n",
       "      <td>VBP</td>\n",
       "      <td>RB</td>\n",
       "      <td>VBN</td>\n",
       "      <td>TO</td>\n",
       "      <td>VB</td>\n",
       "      <td>JJ</td>\n",
       "      <td>NNS</td>\n",
       "      <td>,</td>\n",
       "      <td>...</td>\n",
       "      <td>NNS</td>\n",
       "      <td>IN</td>\n",
       "      <td>CD</td>\n",
       "      <td>CD</td>\n",
       "      <td>NNS</td>\n",
       "      <td>IN</td>\n",
       "      <td>NN</td>\n",
       "      <td>IN</td>\n",
       "      <td>NNP</td>\n",
       "      <td>.</td>\n",
       "    </tr>\n",
       "    <tr>\n",
       "      <th>prediction</th>\n",
       "      <td>DT</td>\n",
       "      <td>NNS</td>\n",
       "      <td>VBP</td>\n",
       "      <td>RB</td>\n",
       "      <td>VBN</td>\n",
       "      <td>TO</td>\n",
       "      <td>VB</td>\n",
       "      <td>JJ</td>\n",
       "      <td>NNS</td>\n",
       "      <td>,</td>\n",
       "      <td>...</td>\n",
       "      <td>NNS</td>\n",
       "      <td>IN</td>\n",
       "      <td>CD</td>\n",
       "      <td>CD</td>\n",
       "      <td>NNS</td>\n",
       "      <td>IN</td>\n",
       "      <td>NN</td>\n",
       "      <td>IN</td>\n",
       "      <td>NNP</td>\n",
       "      <td>.</td>\n",
       "    </tr>\n",
       "  </tbody>\n",
       "</table>\n",
       "<p>3 rows × 25 columns</p>\n",
       "</div>"
      ],
      "text/plain": [
       "             0        1    2       3         4   5     6           7   \\\n",
       "word        the  soviets  are  widely  believed  to  need  additional   \n",
       "tag          DT     NNPS  VBP      RB       VBN  TO    VB          JJ   \n",
       "prediction   DT      NNS  VBP      RB       VBN  TO    VB          JJ   \n",
       "\n",
       "                  8  9   ...         15  16   17       18       19  20    21  \\\n",
       "word        supplies  ,  ...  purchases  of  310  million  bushels  of  corn   \n",
       "tag              NNS  ,  ...        NNS  IN   CD       CD      NNS  IN    NN   \n",
       "prediction       NNS  ,  ...        NNS  IN   CD       CD      NNS  IN    NN   \n",
       "\n",
       "            22       23 24  \n",
       "word        in  october  .  \n",
       "tag         IN      NNP  .  \n",
       "prediction  IN      NNP  .  \n",
       "\n",
       "[3 rows x 25 columns]"
      ]
     },
     "metadata": {},
     "output_type": "display_data"
    }
   ],
   "source": [
    "# Adjectives are 15 (JJ), adverbs are 28 (RB)\n",
    "select_comparisons_with_given_errors(check_gt_label=[15,28], check_pred_label=[15,28], num=3, use_indices=[532, 377])"
   ]
  },
  {
   "cell_type": "markdown",
   "metadata": {},
   "source": [
    "Much, enough, ... are all sources of problems because they can be both adjectives and adverbs depending on the context. It's a hard classification task even for humans. For example, we can see how many times the network gets the word \"much\" wrong and how:"
   ]
  },
  {
   "cell_type": "code",
   "execution_count": 90,
   "metadata": {},
   "outputs": [
    {
     "name": "stdout",
     "output_type": "stream",
     "text": [
      "JJ RB\n",
      "JJ RB\n",
      "JJ RB\n",
      "RB RB\n",
      "JJ JJ\n",
      "JJ IN\n",
      "JJ RB\n",
      "JJ RB\n",
      "JJ RB\n"
     ]
    },
    {
     "data": {
      "text/plain": [
       "<sklearn.metrics._plot.confusion_matrix.ConfusionMatrixDisplay at 0x7f04eb5e7640>"
      ]
     },
     "execution_count": 90,
     "metadata": {},
     "output_type": "execute_result"
    },
    {
     "data": {
      "image/png": "[encoded data removed]",
      "text/plain": [
       "<Figure size 432x288 with 2 Axes>"
      ]
     },
     "metadata": {
      "needs_background": "light"
     },
     "output_type": "display_data"
    }
   ],
   "source": [
    "gt_tags = []\n",
    "pred_tags = []\n",
    "\n",
    "WORD = \"much\"\n",
    "\n",
    "for i in range(len(test_sentences)):\n",
    "    comparison = get_comparison(idx=i, verbose=False)\n",
    "    for idx in np.where(comparison.T['word'].str.find(WORD) == 0)[0]:\n",
    "        comp = comparison.T.iloc[idx, :].T\n",
    "        real = comp['tag']\n",
    "        pred = comp['prediction']\n",
    "        gt_tags.append(real)\n",
    "        pred_tags.append(pred)\n",
    "        print(real, pred)\n",
    "        \n",
    "ConfusionMatrixDisplay.from_predictions(y_true=gt_tags, \n",
    "            y_pred=pred_tags, cmap='YlGn')"
   ]
  },
  {
   "cell_type": "markdown",
   "metadata": {},
   "source": [
    "What about adjectives predicted as nouns and vice-versa?"
   ]
  },
  {
   "cell_type": "code",
   "execution_count": 91,
   "metadata": {},
   "outputs": [
    {
     "name": "stdout",
     "output_type": "stream",
     "text": [
      "Index 581, Sentence: in chile , workers at two copper mines , los bronces and el soldado , which belong to the exxon-owned minera disputada , yesterday voted to begin a full strike tomorrow , an analyst said .\n",
      "Matched error at index [19]\n"
     ]
    },
    {
     "data": {
      "text/html": [
       "<div>\n",
       "<style scoped>\n",
       "    .dataframe tbody tr th:only-of-type {\n",
       "        vertical-align: middle;\n",
       "    }\n",
       "\n",
       "    .dataframe tbody tr th {\n",
       "        vertical-align: top;\n",
       "    }\n",
       "\n",
       "    .dataframe thead th {\n",
       "        text-align: right;\n",
       "    }\n",
       "</style>\n",
       "<table border=\"1\" class=\"dataframe\">\n",
       "  <thead>\n",
       "    <tr style=\"text-align: right;\">\n",
       "      <th></th>\n",
       "      <th>0</th>\n",
       "      <th>1</th>\n",
       "      <th>2</th>\n",
       "      <th>3</th>\n",
       "      <th>4</th>\n",
       "      <th>5</th>\n",
       "      <th>6</th>\n",
       "      <th>7</th>\n",
       "      <th>8</th>\n",
       "      <th>9</th>\n",
       "      <th>...</th>\n",
       "      <th>26</th>\n",
       "      <th>27</th>\n",
       "      <th>28</th>\n",
       "      <th>29</th>\n",
       "      <th>30</th>\n",
       "      <th>31</th>\n",
       "      <th>32</th>\n",
       "      <th>33</th>\n",
       "      <th>34</th>\n",
       "      <th>35</th>\n",
       "    </tr>\n",
       "  </thead>\n",
       "  <tbody>\n",
       "    <tr>\n",
       "      <th>word</th>\n",
       "      <td>in</td>\n",
       "      <td>chile</td>\n",
       "      <td>,</td>\n",
       "      <td>workers</td>\n",
       "      <td>at</td>\n",
       "      <td>two</td>\n",
       "      <td>copper</td>\n",
       "      <td>mines</td>\n",
       "      <td>,</td>\n",
       "      <td>los</td>\n",
       "      <td>...</td>\n",
       "      <td>begin</td>\n",
       "      <td>a</td>\n",
       "      <td>full</td>\n",
       "      <td>strike</td>\n",
       "      <td>tomorrow</td>\n",
       "      <td>,</td>\n",
       "      <td>an</td>\n",
       "      <td>analyst</td>\n",
       "      <td>said</td>\n",
       "      <td>.</td>\n",
       "    </tr>\n",
       "    <tr>\n",
       "      <th>tag</th>\n",
       "      <td>IN</td>\n",
       "      <td>NNP</td>\n",
       "      <td>,</td>\n",
       "      <td>NNS</td>\n",
       "      <td>IN</td>\n",
       "      <td>CD</td>\n",
       "      <td>NN</td>\n",
       "      <td>NNS</td>\n",
       "      <td>,</td>\n",
       "      <td>NNP</td>\n",
       "      <td>...</td>\n",
       "      <td>VB</td>\n",
       "      <td>DT</td>\n",
       "      <td>JJ</td>\n",
       "      <td>NN</td>\n",
       "      <td>NN</td>\n",
       "      <td>,</td>\n",
       "      <td>DT</td>\n",
       "      <td>NN</td>\n",
       "      <td>VBD</td>\n",
       "      <td>.</td>\n",
       "    </tr>\n",
       "    <tr>\n",
       "      <th>prediction</th>\n",
       "      <td>IN</td>\n",
       "      <td>NNP</td>\n",
       "      <td>,</td>\n",
       "      <td>NNS</td>\n",
       "      <td>IN</td>\n",
       "      <td>CD</td>\n",
       "      <td>NN</td>\n",
       "      <td>NNS</td>\n",
       "      <td>,</td>\n",
       "      <td>NNP</td>\n",
       "      <td>...</td>\n",
       "      <td>VB</td>\n",
       "      <td>DT</td>\n",
       "      <td>JJ</td>\n",
       "      <td>NN</td>\n",
       "      <td>NN</td>\n",
       "      <td>,</td>\n",
       "      <td>DT</td>\n",
       "      <td>NN</td>\n",
       "      <td>VBD</td>\n",
       "      <td>.</td>\n",
       "    </tr>\n",
       "  </tbody>\n",
       "</table>\n",
       "<p>3 rows × 36 columns</p>\n",
       "</div>"
      ],
      "text/plain": [
       "            0      1  2        3   4    5       6      7  8    9   ...     26  \\\n",
       "word        in  chile  ,  workers  at  two  copper  mines  ,  los  ...  begin   \n",
       "tag         IN    NNP  ,      NNS  IN   CD      NN    NNS  ,  NNP  ...     VB   \n",
       "prediction  IN    NNP  ,      NNS  IN   CD      NN    NNS  ,  NNP  ...     VB   \n",
       "\n",
       "            27    28      29        30 31  32       33    34 35  \n",
       "word         a  full  strike  tomorrow  ,  an  analyst  said  .  \n",
       "tag         DT    JJ      NN        NN  ,  DT       NN   VBD  .  \n",
       "prediction  DT    JJ      NN        NN  ,  DT       NN   VBD  .  \n",
       "\n",
       "[3 rows x 36 columns]"
      ]
     },
     "metadata": {},
     "output_type": "display_data"
    },
    {
     "name": "stdout",
     "output_type": "stream",
     "text": [
      "Index 632, Sentence: moreover , they said the first appropriations bill passed 200 years ago covered many different items , and there was no discussion of a line-item veto .\n",
      "Matched error at index [5]\n"
     ]
    },
    {
     "data": {
      "text/html": [
       "<div>\n",
       "<style scoped>\n",
       "    .dataframe tbody tr th:only-of-type {\n",
       "        vertical-align: middle;\n",
       "    }\n",
       "\n",
       "    .dataframe tbody tr th {\n",
       "        vertical-align: top;\n",
       "    }\n",
       "\n",
       "    .dataframe thead th {\n",
       "        text-align: right;\n",
       "    }\n",
       "</style>\n",
       "<table border=\"1\" class=\"dataframe\">\n",
       "  <thead>\n",
       "    <tr style=\"text-align: right;\">\n",
       "      <th></th>\n",
       "      <th>0</th>\n",
       "      <th>1</th>\n",
       "      <th>2</th>\n",
       "      <th>3</th>\n",
       "      <th>4</th>\n",
       "      <th>5</th>\n",
       "      <th>6</th>\n",
       "      <th>7</th>\n",
       "      <th>8</th>\n",
       "      <th>9</th>\n",
       "      <th>...</th>\n",
       "      <th>17</th>\n",
       "      <th>18</th>\n",
       "      <th>19</th>\n",
       "      <th>20</th>\n",
       "      <th>21</th>\n",
       "      <th>22</th>\n",
       "      <th>23</th>\n",
       "      <th>24</th>\n",
       "      <th>25</th>\n",
       "      <th>26</th>\n",
       "    </tr>\n",
       "  </thead>\n",
       "  <tbody>\n",
       "    <tr>\n",
       "      <th>word</th>\n",
       "      <td>moreover</td>\n",
       "      <td>,</td>\n",
       "      <td>they</td>\n",
       "      <td>said</td>\n",
       "      <td>the</td>\n",
       "      <td>first</td>\n",
       "      <td>appropriations</td>\n",
       "      <td>bill</td>\n",
       "      <td>passed</td>\n",
       "      <td>200</td>\n",
       "      <td>...</td>\n",
       "      <td>and</td>\n",
       "      <td>there</td>\n",
       "      <td>was</td>\n",
       "      <td>no</td>\n",
       "      <td>discussion</td>\n",
       "      <td>of</td>\n",
       "      <td>a</td>\n",
       "      <td>line-item</td>\n",
       "      <td>veto</td>\n",
       "      <td>.</td>\n",
       "    </tr>\n",
       "    <tr>\n",
       "      <th>tag</th>\n",
       "      <td>RB</td>\n",
       "      <td>,</td>\n",
       "      <td>PRP</td>\n",
       "      <td>VBD</td>\n",
       "      <td>DT</td>\n",
       "      <td>JJ</td>\n",
       "      <td>NNS</td>\n",
       "      <td>NN</td>\n",
       "      <td>VBN</td>\n",
       "      <td>CD</td>\n",
       "      <td>...</td>\n",
       "      <td>CC</td>\n",
       "      <td>EX</td>\n",
       "      <td>VBD</td>\n",
       "      <td>DT</td>\n",
       "      <td>NN</td>\n",
       "      <td>IN</td>\n",
       "      <td>DT</td>\n",
       "      <td>JJ</td>\n",
       "      <td>NN</td>\n",
       "      <td>.</td>\n",
       "    </tr>\n",
       "    <tr>\n",
       "      <th>prediction</th>\n",
       "      <td>RB</td>\n",
       "      <td>,</td>\n",
       "      <td>PRP</td>\n",
       "      <td>VBD</td>\n",
       "      <td>DT</td>\n",
       "      <td>NNP</td>\n",
       "      <td>NNP</td>\n",
       "      <td>NN</td>\n",
       "      <td>VBD</td>\n",
       "      <td>CD</td>\n",
       "      <td>...</td>\n",
       "      <td>CC</td>\n",
       "      <td>EX</td>\n",
       "      <td>VBD</td>\n",
       "      <td>DT</td>\n",
       "      <td>NN</td>\n",
       "      <td>IN</td>\n",
       "      <td>DT</td>\n",
       "      <td>JJ</td>\n",
       "      <td>NN</td>\n",
       "      <td>.</td>\n",
       "    </tr>\n",
       "  </tbody>\n",
       "</table>\n",
       "<p>3 rows × 27 columns</p>\n",
       "</div>"
      ],
      "text/plain": [
       "                  0  1     2     3    4      5               6     7       8   \\\n",
       "word        moreover  ,  they  said  the  first  appropriations  bill  passed   \n",
       "tag               RB  ,   PRP   VBD   DT     JJ             NNS    NN     VBN   \n",
       "prediction        RB  ,   PRP   VBD   DT    NNP             NNP    NN     VBD   \n",
       "\n",
       "             9   ...   17     18   19  20          21  22  23         24  \\\n",
       "word        200  ...  and  there  was  no  discussion  of   a  line-item   \n",
       "tag          CD  ...   CC     EX  VBD  DT          NN  IN  DT         JJ   \n",
       "prediction   CD  ...   CC     EX  VBD  DT          NN  IN  DT         JJ   \n",
       "\n",
       "              25 26  \n",
       "word        veto  .  \n",
       "tag           NN  .  \n",
       "prediction    NN  .  \n",
       "\n",
       "[3 rows x 27 columns]"
      ]
     },
     "metadata": {},
     "output_type": "display_data"
    },
    {
     "name": "stdout",
     "output_type": "stream",
     "text": [
      "Index 179, Sentence: old spaghetti warehouse rose 1 to 16 1\\/8 .\n",
      "Matched error at index [0]\n"
     ]
    },
    {
     "data": {
      "text/html": [
       "<div>\n",
       "<style scoped>\n",
       "    .dataframe tbody tr th:only-of-type {\n",
       "        vertical-align: middle;\n",
       "    }\n",
       "\n",
       "    .dataframe tbody tr th {\n",
       "        vertical-align: top;\n",
       "    }\n",
       "\n",
       "    .dataframe thead th {\n",
       "        text-align: right;\n",
       "    }\n",
       "</style>\n",
       "<table border=\"1\" class=\"dataframe\">\n",
       "  <thead>\n",
       "    <tr style=\"text-align: right;\">\n",
       "      <th></th>\n",
       "      <th>0</th>\n",
       "      <th>1</th>\n",
       "      <th>2</th>\n",
       "      <th>3</th>\n",
       "      <th>4</th>\n",
       "      <th>5</th>\n",
       "      <th>6</th>\n",
       "      <th>7</th>\n",
       "      <th>8</th>\n",
       "    </tr>\n",
       "  </thead>\n",
       "  <tbody>\n",
       "    <tr>\n",
       "      <th>word</th>\n",
       "      <td>old</td>\n",
       "      <td>spaghetti</td>\n",
       "      <td>warehouse</td>\n",
       "      <td>rose</td>\n",
       "      <td>1</td>\n",
       "      <td>to</td>\n",
       "      <td>16</td>\n",
       "      <td>1\\/8</td>\n",
       "      <td>.</td>\n",
       "    </tr>\n",
       "    <tr>\n",
       "      <th>tag</th>\n",
       "      <td>NNP</td>\n",
       "      <td>NNP</td>\n",
       "      <td>NNP</td>\n",
       "      <td>VBD</td>\n",
       "      <td>CD</td>\n",
       "      <td>TO</td>\n",
       "      <td>CD</td>\n",
       "      <td>CD</td>\n",
       "      <td>.</td>\n",
       "    </tr>\n",
       "    <tr>\n",
       "      <th>prediction</th>\n",
       "      <td>JJ</td>\n",
       "      <td>NN</td>\n",
       "      <td>NN</td>\n",
       "      <td>NN</td>\n",
       "      <td>CD</td>\n",
       "      <td>TO</td>\n",
       "      <td>CD</td>\n",
       "      <td>CD</td>\n",
       "      <td>.</td>\n",
       "    </tr>\n",
       "  </tbody>\n",
       "</table>\n",
       "</div>"
      ],
      "text/plain": [
       "              0          1          2     3   4   5   6     7  8\n",
       "word        old  spaghetti  warehouse  rose   1  to  16  1\\/8  .\n",
       "tag         NNP        NNP        NNP   VBD  CD  TO  CD    CD  .\n",
       "prediction   JJ         NN         NN    NN  CD  TO  CD    CD  ."
      ]
     },
     "metadata": {},
     "output_type": "display_data"
    },
    {
     "name": "stdout",
     "output_type": "stream",
     "text": [
      "Index 193, Sentence: atsushi muramatsu , executive vice president and chief financial officer of nissan , said , `` the company has experienced a remarkable turnaround in terms of profitability since the fiscal year ending march 1987 , when the sharp and rapid appreciation of the yen caused many difficulties .\n",
      "Matched error at index [7]\n"
     ]
    },
    {
     "data": {
      "text/html": [
       "<div>\n",
       "<style scoped>\n",
       "    .dataframe tbody tr th:only-of-type {\n",
       "        vertical-align: middle;\n",
       "    }\n",
       "\n",
       "    .dataframe tbody tr th {\n",
       "        vertical-align: top;\n",
       "    }\n",
       "\n",
       "    .dataframe thead th {\n",
       "        text-align: right;\n",
       "    }\n",
       "</style>\n",
       "<table border=\"1\" class=\"dataframe\">\n",
       "  <thead>\n",
       "    <tr style=\"text-align: right;\">\n",
       "      <th></th>\n",
       "      <th>0</th>\n",
       "      <th>1</th>\n",
       "      <th>2</th>\n",
       "      <th>3</th>\n",
       "      <th>4</th>\n",
       "      <th>5</th>\n",
       "      <th>6</th>\n",
       "      <th>7</th>\n",
       "      <th>8</th>\n",
       "      <th>9</th>\n",
       "      <th>...</th>\n",
       "      <th>38</th>\n",
       "      <th>39</th>\n",
       "      <th>40</th>\n",
       "      <th>41</th>\n",
       "      <th>42</th>\n",
       "      <th>43</th>\n",
       "      <th>44</th>\n",
       "      <th>45</th>\n",
       "      <th>46</th>\n",
       "      <th>47</th>\n",
       "    </tr>\n",
       "  </thead>\n",
       "  <tbody>\n",
       "    <tr>\n",
       "      <th>word</th>\n",
       "      <td>atsushi</td>\n",
       "      <td>muramatsu</td>\n",
       "      <td>,</td>\n",
       "      <td>executive</td>\n",
       "      <td>vice</td>\n",
       "      <td>president</td>\n",
       "      <td>and</td>\n",
       "      <td>chief</td>\n",
       "      <td>financial</td>\n",
       "      <td>officer</td>\n",
       "      <td>...</td>\n",
       "      <td>and</td>\n",
       "      <td>rapid</td>\n",
       "      <td>appreciation</td>\n",
       "      <td>of</td>\n",
       "      <td>the</td>\n",
       "      <td>yen</td>\n",
       "      <td>caused</td>\n",
       "      <td>many</td>\n",
       "      <td>difficulties</td>\n",
       "      <td>.</td>\n",
       "    </tr>\n",
       "    <tr>\n",
       "      <th>tag</th>\n",
       "      <td>NNP</td>\n",
       "      <td>NNP</td>\n",
       "      <td>,</td>\n",
       "      <td>JJ</td>\n",
       "      <td>NN</td>\n",
       "      <td>NN</td>\n",
       "      <td>CC</td>\n",
       "      <td>NN</td>\n",
       "      <td>JJ</td>\n",
       "      <td>NN</td>\n",
       "      <td>...</td>\n",
       "      <td>CC</td>\n",
       "      <td>JJ</td>\n",
       "      <td>NN</td>\n",
       "      <td>IN</td>\n",
       "      <td>DT</td>\n",
       "      <td>NN</td>\n",
       "      <td>VBD</td>\n",
       "      <td>JJ</td>\n",
       "      <td>NNS</td>\n",
       "      <td>.</td>\n",
       "    </tr>\n",
       "    <tr>\n",
       "      <th>prediction</th>\n",
       "      <td>NNP</td>\n",
       "      <td>NNP</td>\n",
       "      <td>,</td>\n",
       "      <td>JJ</td>\n",
       "      <td>NN</td>\n",
       "      <td>NN</td>\n",
       "      <td>CC</td>\n",
       "      <td>JJ</td>\n",
       "      <td>JJ</td>\n",
       "      <td>NN</td>\n",
       "      <td>...</td>\n",
       "      <td>CC</td>\n",
       "      <td>JJ</td>\n",
       "      <td>NN</td>\n",
       "      <td>IN</td>\n",
       "      <td>DT</td>\n",
       "      <td>NN</td>\n",
       "      <td>VBN</td>\n",
       "      <td>JJ</td>\n",
       "      <td>VBG</td>\n",
       "      <td>.</td>\n",
       "    </tr>\n",
       "  </tbody>\n",
       "</table>\n",
       "<p>3 rows × 48 columns</p>\n",
       "</div>"
      ],
      "text/plain": [
       "                 0          1  2          3     4          5    6      7   \\\n",
       "word        atsushi  muramatsu  ,  executive  vice  president  and  chief   \n",
       "tag             NNP        NNP  ,         JJ    NN         NN   CC     NN   \n",
       "prediction      NNP        NNP  ,         JJ    NN         NN   CC     JJ   \n",
       "\n",
       "                   8        9   ...   38     39            40  41   42   43  \\\n",
       "word        financial  officer  ...  and  rapid  appreciation  of  the  yen   \n",
       "tag                JJ       NN  ...   CC     JJ            NN  IN   DT   NN   \n",
       "prediction         JJ       NN  ...   CC     JJ            NN  IN   DT   NN   \n",
       "\n",
       "                44    45            46 47  \n",
       "word        caused  many  difficulties  .  \n",
       "tag            VBD    JJ           NNS  .  \n",
       "prediction     VBN    JJ           VBG  .  \n",
       "\n",
       "[3 rows x 48 columns]"
      ]
     },
     "metadata": {},
     "output_type": "display_data"
    }
   ],
   "source": [
    "select_comparisons_with_given_errors(check_gt_label=[15], check_pred_label=[20,21], num=2)\n",
    "select_comparisons_with_given_errors(check_gt_label=[20,21], check_pred_label=[15], num=2)"
   ]
  },
  {
   "cell_type": "markdown",
   "metadata": {},
   "source": [
    "We notice that some of the adjectives are pretty specific and complex, so the model may have thought they were representative enough to be nouns. Also, some adjectives are also commonly used as nouns and viceversa, causing some problems."
   ]
  }
 ],
 "metadata": {
  "accelerator": "GPU",
  "colab": {
   "name": "main.ipynb",
   "provenance": []
  },
  "interpreter": {
   "hash": "c90f87e5ee49fb7af5481158977e62ba01ae4f54defb58032c9ba197b530ea3c"
  },
  "kernelspec": {
   "display_name": "Python 3 (ipykernel)",
   "language": "python",
   "name": "python3"
  },
  "language_info": {
   "codemirror_mode": {
    "name": "ipython",
    "version": 3
   },
   "file_extension": ".py",
   "mimetype": "text/x-python",
   "name": "python",
   "nbconvert_exporter": "python",
   "pygments_lexer": "ipython3",
   "version": "3.8.10"
  }
 },
 "nbformat": 4,
 "nbformat_minor": 4
}
