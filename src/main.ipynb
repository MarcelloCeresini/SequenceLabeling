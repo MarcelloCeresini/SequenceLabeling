{
 "cells": [
  {
   "cell_type": "markdown",
   "metadata": {},
   "source": [
    "# Assignment 1"
   ]
  },
  {
   "cell_type": "markdown",
   "metadata": {},
   "source": [
    "## Data Preprocessing"
   ]
  },
  {
   "cell_type": "markdown",
   "metadata": {},
   "source": [
    "### Imports"
   ]
  },
  {
   "cell_type": "code",
   "execution_count": 1,
   "metadata": {},
   "outputs": [],
   "source": [
    "import os\n",
    "import requests\n",
    "import zipfile\n",
    "from tqdm import tqdm\n",
    "import time\n",
    "import datetime\n",
    "from IPython.display import display\n",
    "\n",
    "from typing import List, Dict, Tuple, Sequence\n",
    "\n",
    "import json\n",
    "import numpy as np\n",
    "import pandas as pd\n",
    "import matplotlib.pyplot as plt\n",
    "import tensorflow as tf\n",
    "from tensorflow import keras\n",
    "from tensorflow.keras import layers\n",
    "\n",
    "import gensim\n",
    "import gensim.downloader as gloader\n",
    "assert int(gensim.__version__.split('.')[0]) >= 4, \"Install gensim 4.x.x or above (pip install -U gensim)\"\n",
    "\n",
    "%matplotlib inline\n",
    "\n",
    "BATCH_SIZE = 128"
   ]
  },
  {
   "cell_type": "markdown",
   "metadata": {},
   "source": [
    "### Downloading the Dataset"
   ]
  },
  {
   "cell_type": "code",
   "execution_count": 2,
   "metadata": {},
   "outputs": [],
   "source": [
    "ROOT_PATH = os.path.dirname(os.getcwd())\n",
    "DATA_PATH = os.path.join(ROOT_PATH, 'data')\n",
    "\n",
    "def save_response_content(response, destination):\n",
    "    CHUNK_SIZE = 32768\n",
    "\n",
    "    with open(destination, \"wb\") as f:\n",
    "        for chunk in response.iter_content(CHUNK_SIZE):\n",
    "            if chunk: # filter out keep-alive new chunks\n",
    "                f.write(chunk)\n",
    "\n",
    "def download_data(data_path):\n",
    "    final_path = os.path.join(data_path, 'dependency_treebank.zip')\n",
    "    url = \"https://raw.githubusercontent.com/nltk/nltk_data/gh-pages/packages/corpora/dependency_treebank.zip\"\n",
    "\n",
    "    if not os.path.exists(data_path):\n",
    "        os.makedirs(data_path)\n",
    "\n",
    "    if not os.path.exists(final_path):\n",
    "        print(\"Downloading dataset...\")\n",
    "        with requests.Session() as current_session:\n",
    "            response = current_session.get(url, stream=True)\n",
    "        save_response_content(response, final_path)\n",
    "        print(\"Download completed!\")\n",
    "\n",
    "        print(\"Extracting dataset...\")\n",
    "        with zipfile.ZipFile(final_path) as loaded_zip:\n",
    "            loaded_zip.extractall(data_path)\n",
    "        print(\"Extraction completed!\")\n",
    "\n",
    "download_data(DATA_PATH)\n",
    "\n",
    "# The new data path is:\n",
    "DATA_PATH = os.path.join(DATA_PATH, 'dependency_treebank')"
   ]
  },
  {
   "cell_type": "markdown",
   "metadata": {},
   "source": [
    "### Dataset Exploration"
   ]
  },
  {
   "cell_type": "markdown",
   "metadata": {},
   "source": [
    "The dataset is composed of several files whose naming convention is `wsj_{num}.dp`. We explore the content of the first file:"
   ]
  },
  {
   "cell_type": "code",
   "execution_count": 3,
   "metadata": {},
   "outputs": [
    {
     "name": "stdout",
     "output_type": "stream",
     "text": [
      "['Pierre\\tNNP\\t2', 'Vinken\\tNNP\\t8', ',\\t,\\t2', '61\\tCD\\t5', 'years\\tNNS\\t6', 'old\\tJJ\\t2', ',\\t,\\t2', 'will\\tMD\\t0', 'join\\tVB\\t8', 'the\\tDT\\t11', 'board\\tNN\\t9', 'as\\tIN\\t9', 'a\\tDT\\t15', 'nonexecutive\\tJJ\\t15', 'director\\tNN\\t12', 'Nov.\\tNNP\\t9', '29\\tCD\\t16', '.\\t.\\t8', '', 'Mr.\\tNNP\\t2', 'Vinken\\tNNP\\t3', 'is\\tVBZ\\t0', 'chairman\\tNN\\t3', 'of\\tIN\\t4', 'Elsevier\\tNNP\\t7', 'N.V.\\tNNP\\t12', ',\\t,\\t12', 'the\\tDT\\t12', 'Dutch\\tNNP\\t12', 'publishing\\tVBG\\t12', 'group\\tNN\\t5', '.\\t.\\t3']\n"
     ]
    }
   ],
   "source": [
    "with open(os.path.join(DATA_PATH, 'wsj_0001.dp'), 'r') as f:\n",
    "    lines = [l.rstrip() for l in f.readlines()]\n",
    "\n",
    "print(lines)"
   ]
  },
  {
   "cell_type": "markdown",
   "metadata": {},
   "source": [
    "Each file contains a paragraph of text, optionally composed of multiple sentences. \n",
    "\n",
    "The paragraph is structured as a sequence of lines, each line containing a word, a tag and a number separated by `\\t` tags. We don't care about the number, so we ignore the third element.\n",
    "\n",
    "We can define a function that given a file processes its content and returns a Pandas `DataFrame` for each sentence extracted from the file."
   ]
  },
  {
   "cell_type": "code",
   "execution_count": 4,
   "metadata": {},
   "outputs": [
    {
     "data": {
      "text/html": [
       "<div>\n",
       "<style scoped>\n",
       "    .dataframe tbody tr th:only-of-type {\n",
       "        vertical-align: middle;\n",
       "    }\n",
       "\n",
       "    .dataframe tbody tr th {\n",
       "        vertical-align: top;\n",
       "    }\n",
       "\n",
       "    .dataframe thead th {\n",
       "        text-align: right;\n",
       "    }\n",
       "</style>\n",
       "<table border=\"1\" class=\"dataframe\">\n",
       "  <thead>\n",
       "    <tr style=\"text-align: right;\">\n",
       "      <th></th>\n",
       "      <th>word</th>\n",
       "      <th>tag</th>\n",
       "    </tr>\n",
       "  </thead>\n",
       "  <tbody>\n",
       "    <tr>\n",
       "      <th>0</th>\n",
       "      <td>Pierre</td>\n",
       "      <td>NNP</td>\n",
       "    </tr>\n",
       "    <tr>\n",
       "      <th>1</th>\n",
       "      <td>Vinken</td>\n",
       "      <td>NNP</td>\n",
       "    </tr>\n",
       "    <tr>\n",
       "      <th>2</th>\n",
       "      <td>,</td>\n",
       "      <td>,</td>\n",
       "    </tr>\n",
       "    <tr>\n",
       "      <th>3</th>\n",
       "      <td>61</td>\n",
       "      <td>CD</td>\n",
       "    </tr>\n",
       "    <tr>\n",
       "      <th>4</th>\n",
       "      <td>years</td>\n",
       "      <td>NNS</td>\n",
       "    </tr>\n",
       "    <tr>\n",
       "      <th>5</th>\n",
       "      <td>old</td>\n",
       "      <td>JJ</td>\n",
       "    </tr>\n",
       "    <tr>\n",
       "      <th>6</th>\n",
       "      <td>,</td>\n",
       "      <td>,</td>\n",
       "    </tr>\n",
       "    <tr>\n",
       "      <th>7</th>\n",
       "      <td>will</td>\n",
       "      <td>MD</td>\n",
       "    </tr>\n",
       "    <tr>\n",
       "      <th>8</th>\n",
       "      <td>join</td>\n",
       "      <td>VB</td>\n",
       "    </tr>\n",
       "    <tr>\n",
       "      <th>9</th>\n",
       "      <td>the</td>\n",
       "      <td>DT</td>\n",
       "    </tr>\n",
       "    <tr>\n",
       "      <th>10</th>\n",
       "      <td>board</td>\n",
       "      <td>NN</td>\n",
       "    </tr>\n",
       "    <tr>\n",
       "      <th>11</th>\n",
       "      <td>as</td>\n",
       "      <td>IN</td>\n",
       "    </tr>\n",
       "    <tr>\n",
       "      <th>12</th>\n",
       "      <td>a</td>\n",
       "      <td>DT</td>\n",
       "    </tr>\n",
       "    <tr>\n",
       "      <th>13</th>\n",
       "      <td>nonexecutive</td>\n",
       "      <td>JJ</td>\n",
       "    </tr>\n",
       "    <tr>\n",
       "      <th>14</th>\n",
       "      <td>director</td>\n",
       "      <td>NN</td>\n",
       "    </tr>\n",
       "    <tr>\n",
       "      <th>15</th>\n",
       "      <td>Nov.</td>\n",
       "      <td>NNP</td>\n",
       "    </tr>\n",
       "    <tr>\n",
       "      <th>16</th>\n",
       "      <td>29</td>\n",
       "      <td>CD</td>\n",
       "    </tr>\n",
       "    <tr>\n",
       "      <th>17</th>\n",
       "      <td>.</td>\n",
       "      <td>.</td>\n",
       "    </tr>\n",
       "  </tbody>\n",
       "</table>\n",
       "</div>"
      ],
      "text/plain": [
       "            word  tag\n",
       "0         Pierre  NNP\n",
       "1         Vinken  NNP\n",
       "2              ,    ,\n",
       "3             61   CD\n",
       "4          years  NNS\n",
       "5            old   JJ\n",
       "6              ,    ,\n",
       "7           will   MD\n",
       "8           join   VB\n",
       "9            the   DT\n",
       "10         board   NN\n",
       "11            as   IN\n",
       "12             a   DT\n",
       "13  nonexecutive   JJ\n",
       "14      director   NN\n",
       "15          Nov.  NNP\n",
       "16            29   CD\n",
       "17             .    ."
      ]
     },
     "metadata": {},
     "output_type": "display_data"
    },
    {
     "data": {
      "text/html": [
       "<div>\n",
       "<style scoped>\n",
       "    .dataframe tbody tr th:only-of-type {\n",
       "        vertical-align: middle;\n",
       "    }\n",
       "\n",
       "    .dataframe tbody tr th {\n",
       "        vertical-align: top;\n",
       "    }\n",
       "\n",
       "    .dataframe thead th {\n",
       "        text-align: right;\n",
       "    }\n",
       "</style>\n",
       "<table border=\"1\" class=\"dataframe\">\n",
       "  <thead>\n",
       "    <tr style=\"text-align: right;\">\n",
       "      <th></th>\n",
       "      <th>word</th>\n",
       "      <th>tag</th>\n",
       "    </tr>\n",
       "  </thead>\n",
       "  <tbody>\n",
       "    <tr>\n",
       "      <th>18</th>\n",
       "      <td>Mr.</td>\n",
       "      <td>NNP</td>\n",
       "    </tr>\n",
       "    <tr>\n",
       "      <th>19</th>\n",
       "      <td>Vinken</td>\n",
       "      <td>NNP</td>\n",
       "    </tr>\n",
       "    <tr>\n",
       "      <th>20</th>\n",
       "      <td>is</td>\n",
       "      <td>VBZ</td>\n",
       "    </tr>\n",
       "    <tr>\n",
       "      <th>21</th>\n",
       "      <td>chairman</td>\n",
       "      <td>NN</td>\n",
       "    </tr>\n",
       "    <tr>\n",
       "      <th>22</th>\n",
       "      <td>of</td>\n",
       "      <td>IN</td>\n",
       "    </tr>\n",
       "    <tr>\n",
       "      <th>23</th>\n",
       "      <td>Elsevier</td>\n",
       "      <td>NNP</td>\n",
       "    </tr>\n",
       "    <tr>\n",
       "      <th>24</th>\n",
       "      <td>N.V.</td>\n",
       "      <td>NNP</td>\n",
       "    </tr>\n",
       "    <tr>\n",
       "      <th>25</th>\n",
       "      <td>,</td>\n",
       "      <td>,</td>\n",
       "    </tr>\n",
       "    <tr>\n",
       "      <th>26</th>\n",
       "      <td>the</td>\n",
       "      <td>DT</td>\n",
       "    </tr>\n",
       "    <tr>\n",
       "      <th>27</th>\n",
       "      <td>Dutch</td>\n",
       "      <td>NNP</td>\n",
       "    </tr>\n",
       "    <tr>\n",
       "      <th>28</th>\n",
       "      <td>publishing</td>\n",
       "      <td>VBG</td>\n",
       "    </tr>\n",
       "    <tr>\n",
       "      <th>29</th>\n",
       "      <td>group</td>\n",
       "      <td>NN</td>\n",
       "    </tr>\n",
       "    <tr>\n",
       "      <th>30</th>\n",
       "      <td>.</td>\n",
       "      <td>.</td>\n",
       "    </tr>\n",
       "  </tbody>\n",
       "</table>\n",
       "</div>"
      ],
      "text/plain": [
       "          word  tag\n",
       "18         Mr.  NNP\n",
       "19      Vinken  NNP\n",
       "20          is  VBZ\n",
       "21    chairman   NN\n",
       "22          of   IN\n",
       "23    Elsevier  NNP\n",
       "24        N.V.  NNP\n",
       "25           ,    ,\n",
       "26         the   DT\n",
       "27       Dutch  NNP\n",
       "28  publishing  VBG\n",
       "29       group   NN\n",
       "30           .    ."
      ]
     },
     "metadata": {},
     "output_type": "display_data"
    }
   ],
   "source": [
    "def process_file(filepath: str):\n",
    "    with open(filepath, 'r') as f:\n",
    "        # They are not technically csv files, but they are text files\n",
    "        # so we can still use the same function.\n",
    "        df = pd.read_csv(f, sep='\\t', names=['word','tag','drop'])\n",
    "    # Drop the last column\n",
    "    df = df.drop(['drop'], axis=1)\n",
    "    # Find indices of the dataframe containing points, \n",
    "    # meaning we have found the beginning of a new sentence.\n",
    "    points_indices = df.index[df['word'] == '.']\n",
    "    \n",
    "    # Split dataframes based on those indices\n",
    "    sentences = []\n",
    "    last_index = 0\n",
    "    for idx in points_indices:\n",
    "        sentences.append(df.iloc[last_index:idx+1])\n",
    "        last_index = idx+1\n",
    "    return sentences\n",
    "\n",
    "# Example:\n",
    "test_sentences = process_file(os.path.join(DATA_PATH, 'wsj_0001.dp'))\n",
    "for sentence in test_sentences:\n",
    "    display(sentence)"
   ]
  },
  {
   "cell_type": "markdown",
   "metadata": {},
   "source": [
    "### Dataset splits"
   ]
  },
  {
   "cell_type": "markdown",
   "metadata": {},
   "source": [
    "We are required to split the dataset using:\n",
    "- Documents 1-100 as the train set.\n",
    "- Documents 101-150 as the validation set.\n",
    "- Documents 151-199 as the test set."
   ]
  },
  {
   "cell_type": "markdown",
   "metadata": {},
   "source": [
    "First, we compute all filenames for the splits."
   ]
  },
  {
   "cell_type": "code",
   "execution_count": 5,
   "metadata": {},
   "outputs": [],
   "source": [
    "train_filenames = [ os.path.join(DATA_PATH, 'wsj_{:04d}.dp'.format(x)) for x in range(1  , 101) ] \n",
    "val_filenames   = [ os.path.join(DATA_PATH, 'wsj_{:04d}.dp'.format(x)) for x in range(101, 151) ]\n",
    "test_filenames  = [ os.path.join(DATA_PATH, 'wsj_{:04d}.dp'.format(x)) for x in range(151, 200) ]"
   ]
  },
  {
   "cell_type": "markdown",
   "metadata": {},
   "source": [
    "Then, we translate the filenames into dataframes."
   ]
  },
  {
   "cell_type": "code",
   "execution_count": 6,
   "metadata": {},
   "outputs": [],
   "source": [
    "train_sentences = [ sentence for file in train_filenames for sentence in process_file(file) ]\n",
    "val_sentences   = [ sentence for file in val_filenames   for sentence in process_file(file) ]\n",
    "test_sentences  = [ sentence for file in test_filenames  for sentence in process_file(file) ]"
   ]
  },
  {
   "cell_type": "markdown",
   "metadata": {},
   "source": [
    "Here we define some utility functions that we can use to obtain sentences in other forms."
   ]
  },
  {
   "cell_type": "code",
   "execution_count": 7,
   "metadata": {},
   "outputs": [
    {
     "name": "stdout",
     "output_type": "stream",
     "text": [
      "['Mr.', 'Vinken', 'is', 'chairman', 'of', 'Elsevier', 'N.V.', ',', 'the', 'Dutch', 'publishing', 'group', '.']\n",
      "Mr. Vinken is chairman of Elsevier N.V. , the Dutch publishing group .\n"
     ]
    }
   ],
   "source": [
    "def get_list_of_words_from_sentence(sentence: pd.DataFrame):\n",
    "    return list(sentence['word'])\n",
    "\n",
    "def get_natural_language_sentence(sentence):\n",
    "    if isinstance(sentence, pd.DataFrame):\n",
    "        sentence = get_list_of_words_from_sentence(sentence)\n",
    "    return \" \".join(sentence)\n",
    "\n",
    "sen_test = train_sentences[1]\n",
    "print(get_list_of_words_from_sentence(sen_test))\n",
    "print(get_natural_language_sentence(sen_test))"
   ]
  },
  {
   "cell_type": "markdown",
   "metadata": {},
   "source": [
    "### Dataset Analysis"
   ]
  },
  {
   "cell_type": "markdown",
   "metadata": {},
   "source": [
    "We study the distribution of the sentences and the tags."
   ]
  },
  {
   "cell_type": "code",
   "execution_count": 8,
   "metadata": {},
   "outputs": [
    {
     "name": "stdout",
     "output_type": "stream",
     "text": [
      "There are 1936 training sentences\n",
      "There are 1256 validation sentences\n",
      "There are 636 test sentences\n"
     ]
    },
    {
     "data": {
      "image/png": "[encoded data removed]",
      "text/plain": [
       "<Figure size 576x288 with 1 Axes>"
      ]
     },
     "metadata": {
      "needs_background": "light"
     },
     "output_type": "display_data"
    }
   ],
   "source": [
    "def plot_instances(train_size, val_size, test_size):\n",
    "    x_values = [train_size, val_size, test_size]\n",
    "    y_values = [\"Training instances\", \"Validation instances\", \"Test instances\"]\n",
    "    y_axis = np.arange(1, 4, 1)\n",
    "    plt.figure(figsize=(8,4))\n",
    "    plt.title(\"Instances distribution on the 3 splits\")\n",
    "    plt.barh(y_axis, x_values, align='center')\n",
    "    plt.yticks(y_axis, y_values)\n",
    "    plt.show()\n",
    "\n",
    "train_size = len(train_sentences)\n",
    "val_size = len(val_sentences)\n",
    "test_size = len(test_sentences)\n",
    "print(\"There are {} training sentences\".format(train_size))\n",
    "print(\"There are {} validation sentences\".format(val_size))\n",
    "print(\"There are {} test sentences\".format(test_size))\n",
    "\n",
    "plot_instances(train_size, val_size, test_size)"
   ]
  },
  {
   "cell_type": "markdown",
   "metadata": {},
   "source": [
    "Let's compute the average sentence length."
   ]
  },
  {
   "cell_type": "code",
   "execution_count": 56,
   "metadata": {},
   "outputs": [
    {
     "name": "stdout",
     "output_type": "stream",
     "text": [
      "The average sentence length in the training set is 24.45919 with an std of 12.68342 and a max of 250\n",
      "The average sentence length in the validation set is 24.82723 with an std of 11.93318 and a max of 88\n",
      "The average sentence length in the test set is 24.44182 with an std of 10.02017 and a max of 80\n"
     ]
    },
    {
     "data": {
      "image/png": "[encoded data removed]",
      "text/plain": [
       "<Figure size 504x360 with 1 Axes>"
      ]
     },
     "metadata": {
      "needs_background": "light"
     },
     "output_type": "display_data"
    }
   ],
   "source": [
    "len_train = [len(sentence) for sentence in train_sentences]\n",
    "len_val   = [len(sentence) for sentence in val_sentences  ]\n",
    "len_test  = [len(sentence) for sentence in test_sentences ]\n",
    "\n",
    "mean_train, std_train, max_train = np.mean(len_train), np.std(len_train), np.max(len_train)\n",
    "mean_val, std_val, max_val = np.mean(len_val), np.std(len_val), np.max(len_val)\n",
    "mean_test, std_test, max_test = np.mean(len_test), np.std(len_test), np.max(len_test)\n",
    "\n",
    "print(\"The average sentence length in the training set is {:.5f} with an std of {:.5f} and a max of {}\".format(\n",
    "    mean_train, std_train, max_train\n",
    "))\n",
    "print(\"The average sentence length in the validation set is {:.5f} with an std of {:.5f} and a max of {}\".format(\n",
    "    mean_val, std_val, max_val\n",
    "))\n",
    "print(\"The average sentence length in the test set is {:.5f} with an std of {:.5f} and a max of {}\".format(\n",
    "    mean_test, std_test, max_test\n",
    "))\n",
    "\n",
    "len_dict = {'Training sentences':    len_train, \n",
    "            'Validation sentences':  len_val, \n",
    "            'Test sentences':        len_test}\n",
    "\n",
    "fig, ax = plt.subplots(figsize=(7,5));\n",
    "ax.boxplot(len_dict.values());\n",
    "ax.set_xticklabels(len_dict.keys());\n",
    "ax.set_ylim(0, 120)\n",
    "ax.set_ylabel(\"Sentence lengths\")\n",
    "ax.grid()"
   ]
  },
  {
   "cell_type": "markdown",
   "metadata": {},
   "source": [
    "The sentences seem to have approximately the same distribution between the three splits, but there are some clear outliers in the training set.\n",
    "\n",
    "We also compute the distribution of the tags."
   ]
  },
  {
   "cell_type": "code",
   "execution_count": 10,
   "metadata": {},
   "outputs": [
    {
     "data": {
      "text/html": [
       "<div>\n",
       "<style scoped>\n",
       "    .dataframe tbody tr th:only-of-type {\n",
       "        vertical-align: middle;\n",
       "    }\n",
       "\n",
       "    .dataframe tbody tr th {\n",
       "        vertical-align: top;\n",
       "    }\n",
       "\n",
       "    .dataframe thead th {\n",
       "        text-align: right;\n",
       "    }\n",
       "</style>\n",
       "<table border=\"1\" class=\"dataframe\">\n",
       "  <thead>\n",
       "    <tr style=\"text-align: right;\">\n",
       "      <th></th>\n",
       "      <th>word</th>\n",
       "    </tr>\n",
       "    <tr>\n",
       "      <th>tag</th>\n",
       "      <th></th>\n",
       "    </tr>\n",
       "  </thead>\n",
       "  <tbody>\n",
       "    <tr>\n",
       "      <th>#</th>\n",
       "      <td>1</td>\n",
       "    </tr>\n",
       "    <tr>\n",
       "      <th>$</th>\n",
       "      <td>342</td>\n",
       "    </tr>\n",
       "    <tr>\n",
       "      <th>''</th>\n",
       "      <td>398</td>\n",
       "    </tr>\n",
       "    <tr>\n",
       "      <th>,</th>\n",
       "      <td>2571</td>\n",
       "    </tr>\n",
       "    <tr>\n",
       "      <th>-LRB-</th>\n",
       "      <td>52</td>\n",
       "    </tr>\n",
       "    <tr>\n",
       "      <th>-RRB-</th>\n",
       "      <td>55</td>\n",
       "    </tr>\n",
       "    <tr>\n",
       "      <th>.</th>\n",
       "      <td>1959</td>\n",
       "    </tr>\n",
       "    <tr>\n",
       "      <th>:</th>\n",
       "      <td>293</td>\n",
       "    </tr>\n",
       "    <tr>\n",
       "      <th>CC</th>\n",
       "      <td>1141</td>\n",
       "    </tr>\n",
       "    <tr>\n",
       "      <th>CD</th>\n",
       "      <td>1439</td>\n",
       "    </tr>\n",
       "    <tr>\n",
       "      <th>DT</th>\n",
       "      <td>4076</td>\n",
       "    </tr>\n",
       "    <tr>\n",
       "      <th>EX</th>\n",
       "      <td>49</td>\n",
       "    </tr>\n",
       "    <tr>\n",
       "      <th>FW</th>\n",
       "      <td>2</td>\n",
       "    </tr>\n",
       "    <tr>\n",
       "      <th>IN</th>\n",
       "      <td>4952</td>\n",
       "    </tr>\n",
       "    <tr>\n",
       "      <th>JJ</th>\n",
       "      <td>2992</td>\n",
       "    </tr>\n",
       "    <tr>\n",
       "      <th>JJR</th>\n",
       "      <td>157</td>\n",
       "    </tr>\n",
       "    <tr>\n",
       "      <th>JJS</th>\n",
       "      <td>93</td>\n",
       "    </tr>\n",
       "    <tr>\n",
       "      <th>LS</th>\n",
       "      <td>10</td>\n",
       "    </tr>\n",
       "    <tr>\n",
       "      <th>MD</th>\n",
       "      <td>413</td>\n",
       "    </tr>\n",
       "    <tr>\n",
       "      <th>NN</th>\n",
       "      <td>6270</td>\n",
       "    </tr>\n",
       "    <tr>\n",
       "      <th>NNP</th>\n",
       "      <td>5200</td>\n",
       "    </tr>\n",
       "    <tr>\n",
       "      <th>NNPS</th>\n",
       "      <td>95</td>\n",
       "    </tr>\n",
       "    <tr>\n",
       "      <th>NNS</th>\n",
       "      <td>3004</td>\n",
       "    </tr>\n",
       "    <tr>\n",
       "      <th>PDT</th>\n",
       "      <td>9</td>\n",
       "    </tr>\n",
       "    <tr>\n",
       "      <th>POS</th>\n",
       "      <td>403</td>\n",
       "    </tr>\n",
       "    <tr>\n",
       "      <th>PRP</th>\n",
       "      <td>954</td>\n",
       "    </tr>\n",
       "    <tr>\n",
       "      <th>PRP$</th>\n",
       "      <td>409</td>\n",
       "    </tr>\n",
       "    <tr>\n",
       "      <th>RB</th>\n",
       "      <td>1490</td>\n",
       "    </tr>\n",
       "    <tr>\n",
       "      <th>RBR</th>\n",
       "      <td>86</td>\n",
       "    </tr>\n",
       "    <tr>\n",
       "      <th>RBS</th>\n",
       "      <td>19</td>\n",
       "    </tr>\n",
       "    <tr>\n",
       "      <th>RP</th>\n",
       "      <td>140</td>\n",
       "    </tr>\n",
       "    <tr>\n",
       "      <th>SYM</th>\n",
       "      <td>1</td>\n",
       "    </tr>\n",
       "    <tr>\n",
       "      <th>TO</th>\n",
       "      <td>1028</td>\n",
       "    </tr>\n",
       "    <tr>\n",
       "      <th>UH</th>\n",
       "      <td>1</td>\n",
       "    </tr>\n",
       "    <tr>\n",
       "      <th>VB</th>\n",
       "      <td>1195</td>\n",
       "    </tr>\n",
       "    <tr>\n",
       "      <th>VBD</th>\n",
       "      <td>1548</td>\n",
       "    </tr>\n",
       "    <tr>\n",
       "      <th>VBG</th>\n",
       "      <td>763</td>\n",
       "    </tr>\n",
       "    <tr>\n",
       "      <th>VBN</th>\n",
       "      <td>1031</td>\n",
       "    </tr>\n",
       "    <tr>\n",
       "      <th>VBP</th>\n",
       "      <td>727</td>\n",
       "    </tr>\n",
       "    <tr>\n",
       "      <th>VBZ</th>\n",
       "      <td>1133</td>\n",
       "    </tr>\n",
       "    <tr>\n",
       "      <th>WDT</th>\n",
       "      <td>204</td>\n",
       "    </tr>\n",
       "    <tr>\n",
       "      <th>WP</th>\n",
       "      <td>141</td>\n",
       "    </tr>\n",
       "    <tr>\n",
       "      <th>WP$</th>\n",
       "      <td>6</td>\n",
       "    </tr>\n",
       "    <tr>\n",
       "      <th>WRB</th>\n",
       "      <td>92</td>\n",
       "    </tr>\n",
       "    <tr>\n",
       "      <th>``</th>\n",
       "      <td>409</td>\n",
       "    </tr>\n",
       "  </tbody>\n",
       "</table>\n",
       "</div>"
      ],
      "text/plain": [
       "       word\n",
       "tag        \n",
       "#         1\n",
       "$       342\n",
       "''      398\n",
       ",      2571\n",
       "-LRB-    52\n",
       "-RRB-    55\n",
       ".      1959\n",
       ":       293\n",
       "CC     1141\n",
       "CD     1439\n",
       "DT     4076\n",
       "EX       49\n",
       "FW        2\n",
       "IN     4952\n",
       "JJ     2992\n",
       "JJR     157\n",
       "JJS      93\n",
       "LS       10\n",
       "MD      413\n",
       "NN     6270\n",
       "NNP    5200\n",
       "NNPS     95\n",
       "NNS    3004\n",
       "PDT       9\n",
       "POS     403\n",
       "PRP     954\n",
       "PRP$    409\n",
       "RB     1490\n",
       "RBR      86\n",
       "RBS      19\n",
       "RP      140\n",
       "SYM       1\n",
       "TO     1028\n",
       "UH        1\n",
       "VB     1195\n",
       "VBD    1548\n",
       "VBG     763\n",
       "VBN    1031\n",
       "VBP     727\n",
       "VBZ    1133\n",
       "WDT     204\n",
       "WP      141\n",
       "WP$       6\n",
       "WRB      92\n",
       "``      409"
      ]
     },
     "metadata": {},
     "output_type": "display_data"
    }
   ],
   "source": [
    "tags_distribution = pd.concat(train_sentences, axis=0).groupby(['tag']).count()\n",
    "display(tags_distribution)\n"
   ]
  },
  {
   "cell_type": "markdown",
   "metadata": {},
   "source": [
    "Note: see [here](https://www.ling.upenn.edu/courses/Fall_2003/ling001/penn_treebank_pos.html) for the explanation of each tag. Some of the tags simply indicate punctuation."
   ]
  },
  {
   "cell_type": "code",
   "execution_count": 11,
   "metadata": {},
   "outputs": [
    {
     "name": "stdout",
     "output_type": "stream",
     "text": [
      "There are 6081 punctuation tags in the dataset\n"
     ]
    }
   ],
   "source": [
    "PUNCTUATION_TAGS = [\"#\", \"$\", \"''\", \",\", \".\", \":\", \"``\", \"-LRB-\", \"-RRB-\", \"SYM\"]\n",
    "print(\"There are {} punctuation tags in the dataset\".format(\n",
    "    sum([ tags_distribution.loc[pun] for pun in PUNCTUATION_TAGS ])['word']\n",
    "))"
   ]
  },
  {
   "cell_type": "markdown",
   "metadata": {},
   "source": [
    "### Data Preprocessing"
   ]
  },
  {
   "cell_type": "markdown",
   "metadata": {},
   "source": [
    "In this task, we don't want to remove words because we should provide a one-to-one mapping from words to tags.\n",
    "\n",
    "Therefore, the only sensible preprocessing we can do on the sentences is to bring everything to lowercase.\n",
    "\n",
    "TODO!!"
   ]
  },
  {
   "cell_type": "code",
   "execution_count": 12,
   "metadata": {},
   "outputs": [
    {
     "data": {
      "text/html": [
       "<div>\n",
       "<style scoped>\n",
       "    .dataframe tbody tr th:only-of-type {\n",
       "        vertical-align: middle;\n",
       "    }\n",
       "\n",
       "    .dataframe tbody tr th {\n",
       "        vertical-align: top;\n",
       "    }\n",
       "\n",
       "    .dataframe thead th {\n",
       "        text-align: right;\n",
       "    }\n",
       "</style>\n",
       "<table border=\"1\" class=\"dataframe\">\n",
       "  <thead>\n",
       "    <tr style=\"text-align: right;\">\n",
       "      <th></th>\n",
       "      <th>word</th>\n",
       "      <th>tag</th>\n",
       "    </tr>\n",
       "  </thead>\n",
       "  <tbody>\n",
       "    <tr>\n",
       "      <th>18</th>\n",
       "      <td>mr.</td>\n",
       "      <td>NNP</td>\n",
       "    </tr>\n",
       "    <tr>\n",
       "      <th>19</th>\n",
       "      <td>vinken</td>\n",
       "      <td>NNP</td>\n",
       "    </tr>\n",
       "    <tr>\n",
       "      <th>20</th>\n",
       "      <td>is</td>\n",
       "      <td>VBZ</td>\n",
       "    </tr>\n",
       "    <tr>\n",
       "      <th>21</th>\n",
       "      <td>chairman</td>\n",
       "      <td>NN</td>\n",
       "    </tr>\n",
       "    <tr>\n",
       "      <th>22</th>\n",
       "      <td>of</td>\n",
       "      <td>IN</td>\n",
       "    </tr>\n",
       "    <tr>\n",
       "      <th>23</th>\n",
       "      <td>elsevier</td>\n",
       "      <td>NNP</td>\n",
       "    </tr>\n",
       "    <tr>\n",
       "      <th>24</th>\n",
       "      <td>n.v.</td>\n",
       "      <td>NNP</td>\n",
       "    </tr>\n",
       "    <tr>\n",
       "      <th>25</th>\n",
       "      <td>,</td>\n",
       "      <td>,</td>\n",
       "    </tr>\n",
       "    <tr>\n",
       "      <th>26</th>\n",
       "      <td>the</td>\n",
       "      <td>DT</td>\n",
       "    </tr>\n",
       "    <tr>\n",
       "      <th>27</th>\n",
       "      <td>dutch</td>\n",
       "      <td>NNP</td>\n",
       "    </tr>\n",
       "    <tr>\n",
       "      <th>28</th>\n",
       "      <td>publishing</td>\n",
       "      <td>VBG</td>\n",
       "    </tr>\n",
       "    <tr>\n",
       "      <th>29</th>\n",
       "      <td>group</td>\n",
       "      <td>NN</td>\n",
       "    </tr>\n",
       "    <tr>\n",
       "      <th>30</th>\n",
       "      <td>.</td>\n",
       "      <td>.</td>\n",
       "    </tr>\n",
       "  </tbody>\n",
       "</table>\n",
       "</div>"
      ],
      "text/plain": [
       "          word  tag\n",
       "18         mr.  NNP\n",
       "19      vinken  NNP\n",
       "20          is  VBZ\n",
       "21    chairman   NN\n",
       "22          of   IN\n",
       "23    elsevier  NNP\n",
       "24        n.v.  NNP\n",
       "25           ,    ,\n",
       "26         the   DT\n",
       "27       dutch  NNP\n",
       "28  publishing  VBG\n",
       "29       group   NN\n",
       "30           .    ."
      ]
     },
     "execution_count": 12,
     "metadata": {},
     "output_type": "execute_result"
    }
   ],
   "source": [
    "def to_lower(word: str):\n",
    "    return word.lower()\n",
    "\n",
    "for sentence_group in [train_sentences, val_sentences, test_sentences]:\n",
    "    for sentence in sentence_group:\n",
    "        sentence['word'] = sentence['word'].apply(to_lower)\n",
    "\n",
    "train_sentences[1]"
   ]
  },
  {
   "cell_type": "markdown",
   "metadata": {},
   "source": [
    "## Embeddings"
   ]
  },
  {
   "cell_type": "markdown",
   "metadata": {},
   "source": [
    "We download GloVe's pretrained embeddings with dimension 100 using the Gensim library."
   ]
  },
  {
   "cell_type": "code",
   "execution_count": 13,
   "metadata": {},
   "outputs": [],
   "source": [
    "def load_embedding_model(embedding_dimension: int = 50) -> gensim.models.keyedvectors.KeyedVectors:\n",
    "    \"\"\"\n",
    "    Loads GloVe pre-trained word embedding model via gensim library.\n",
    "\n",
    "    Parameters:\n",
    "    - embedding_dimension: size of the embedding space to consider\n",
    "\n",
    "    Returns:\n",
    "        - pre-trained word embedding model (gensim KeyedVectors object)\n",
    "    \"\"\"\n",
    "    assert embedding_dimension in {50,100,200,300}, \"Embedding dimension must be one of 50,100,200,300\"\n",
    "    download_path = \"glove-wiki-gigaword-{}\".format(embedding_dimension)\n",
    "    try:\n",
    "        emb_model = gloader.load(download_path)\n",
    "    except:\n",
    "        print(\"ERROR: No Internet connection available\")\n",
    "        return None\n",
    "    return emb_model\n",
    "\n",
    "EMBEDDING_DIMENSION = 100\n",
    "embedding_model = load_embedding_model(EMBEDDING_DIMENSION)"
   ]
  },
  {
   "cell_type": "markdown",
   "metadata": {},
   "source": [
    "### GloVe's vocabulary"
   ]
  },
  {
   "cell_type": "markdown",
   "metadata": {},
   "source": [
    "We use as initial vocabulary the vocabulary of GloVe's pretrained embeddings."
   ]
  },
  {
   "cell_type": "code",
   "execution_count": 14,
   "metadata": {},
   "outputs": [
    {
     "name": "stdout",
     "output_type": "stream",
     "text": [
      "Starting vocabulary contains 400000 words.\n"
     ]
    }
   ],
   "source": [
    "embedding_vocabulary = set(embedding_model.index_to_key)\n",
    "print(\"Starting vocabulary contains {} words.\".format(len(embedding_vocabulary)))"
   ]
  },
  {
   "cell_type": "markdown",
   "metadata": {},
   "source": [
    "The vocabulary of the embeddings may not contain all the words that are used in our sentences, so we need to create sensible encodings for OOV words and add them to the vocabulary.\n",
    "\n",
    "A smart idea to create OOV embeddings is to obtain the mean and standard deviation of the GloVe embeddings and to sample new random vectors from a reduced uniform distribution with those parameters. In this way, we make sure that OOV embeddings are at least similar to the real embeddings."
   ]
  },
  {
   "cell_type": "code",
   "execution_count": 15,
   "metadata": {},
   "outputs": [
    {
     "name": "stderr",
     "output_type": "stream",
     "text": [
      "100%|██████████| 400000/400000 [00:04<00:00, 94746.06it/s]\n"
     ]
    },
    {
     "name": "stdout",
     "output_type": "stream",
     "text": [
      "Mean embedding vector: 0.004451991990208626\n",
      "Std of embedding vectors: 0.4081574082374573\n"
     ]
    }
   ],
   "source": [
    "# Create an empty matrix that should hold all the embeddings of GloVe's vocabulary\n",
    "def create_embedding_matrix(embedding_model: gensim.models.keyedvectors.KeyedVectors):\n",
    "    embedding_vocabulary = set(embedding_model.index_to_key)\n",
    "    embedding_matrix = np.zeros((len(embedding_vocabulary), EMBEDDING_DIMENSION), dtype=np.float32)\n",
    "\n",
    "    # Loop through the words of the vocabulary\n",
    "    for idx, word in tqdm(enumerate(embedding_model.index_to_key), total=len(embedding_vocabulary)):\n",
    "        try:\n",
    "            # Get the vector representation of the word according to the embedding model\n",
    "            embedding_vector = embedding_model[word]\n",
    "            # Set the corresponding row to the embedding vector\n",
    "            embedding_matrix[idx] = embedding_vector\n",
    "        except (KeyError, TypeError):\n",
    "            pass\n",
    "    \n",
    "    return embedding_matrix\n",
    "\n",
    "embedding_matrix = create_embedding_matrix(embedding_model)\n",
    "\n",
    "# Calculate mean and standard deviation\n",
    "glove_mean = embedding_matrix.mean()\n",
    "glove_std = embedding_matrix.std()\n",
    "\n",
    "print(\"Mean embedding vector: {}\".format(glove_mean))\n",
    "print(\"Std of embedding vectors: {}\".format(glove_std))"
   ]
  },
  {
   "cell_type": "markdown",
   "metadata": {},
   "source": [
    "Then we can define a function to create random embeddings for OOV words."
   ]
  },
  {
   "cell_type": "code",
   "execution_count": 16,
   "metadata": {},
   "outputs": [],
   "source": [
    "def get_random_embedding():\n",
    "    return np.random.uniform(low=glove_mean-glove_std/10, \n",
    "        high=glove_mean+glove_std/10, size=EMBEDDING_DIMENSION\n",
    "    )"
   ]
  },
  {
   "cell_type": "markdown",
   "metadata": {},
   "source": [
    "### OOV terms"
   ]
  },
  {
   "cell_type": "markdown",
   "metadata": {},
   "source": [
    "We find all OOV terms in the splits independently and build our vocabularies and embedding matrix. "
   ]
  },
  {
   "cell_type": "markdown",
   "metadata": {},
   "source": [
    "#### Training OOV terms"
   ]
  },
  {
   "cell_type": "code",
   "execution_count": 17,
   "metadata": {},
   "outputs": [],
   "source": [
    "# Step 1: Obtain a set of words (vocabulary) used in each split\n",
    "def get_set_of_words_for_sentences(sentence_seq: Sequence[pd.DataFrame]):\n",
    "    return set(\n",
    "        pd.concat(sentence_seq, axis=0).    # Concatenate all sentences together\n",
    "        groupby(['word']).                  # Group by words\n",
    "        indices.keys()                      # Obtain the sequence of words\n",
    "    )             \n",
    "\n",
    "train_vocabulary = get_set_of_words_for_sentences(train_sentences)\n",
    "val_vocabulary = get_set_of_words_for_sentences(val_sentences)\n",
    "test_vocabulary = get_set_of_words_for_sentences(test_sentences)"
   ]
  },
  {
   "cell_type": "code",
   "execution_count": 18,
   "metadata": {},
   "outputs": [
    {
     "name": "stdout",
     "output_type": "stream",
     "text": [
      "DEBUG: Training set has 359 OOV terms over 7402 total terms (4.85%)\n",
      "Some OOV terms:\n",
      "['biondi-santi', 'stock-index', 'war-rationed', '37-a-share', '62.625', '449.04', 'bell-ringer', 'uzi-model', 'sogo-shosha', 'electric-utility', 'cotran', 'ntg', '1.457', 'savers\\\\/investors', 'cash-rich', 'custom-chip', 'recession-inspired', '3,288,453', 'index-related', 'when-issued', 'pennview', '705.6', 'foreign-led', 'yen-denominated', 'drobnick', 'ctbs', 'school-board', '382-37', 'replacement-car', 'buttoned-down']\n"
     ]
    }
   ],
   "source": [
    "# Step 2: Find OOV words with respect to some vocabulary\n",
    "def get_OOV_terms(vocab_1: set, vocab_2: set):\n",
    "    return vocab_1.difference(vocab_2)\n",
    "\n",
    "oov_train = get_OOV_terms(train_vocabulary, embedding_vocabulary)\n",
    "\n",
    "print(\"DEBUG: Training set has {} OOV terms over {} total terms ({:.2f}%)\".format(\n",
    "    len(oov_train), len(train_vocabulary), len(oov_train)/len(train_vocabulary)*100\n",
    "))\n",
    "print(\"Some OOV terms:\")\n",
    "print(list(oov_train)[:30])"
   ]
  },
  {
   "cell_type": "markdown",
   "metadata": {},
   "source": [
    "OOVs (for the training set) seem to mostly be: \n",
    "- hyphenated compound words\n",
    "- numbers\n",
    "- foreign words\n",
    "- other uncommon words"
   ]
  },
  {
   "cell_type": "markdown",
   "metadata": {},
   "source": [
    "We update the vocabulary adding these OOV words."
   ]
  },
  {
   "cell_type": "code",
   "execution_count": 19,
   "metadata": {},
   "outputs": [
    {
     "name": "stdout",
     "output_type": "stream",
     "text": [
      "New length of the embedding model: 400359\n"
     ]
    }
   ],
   "source": [
    "embedding_model.add_vectors(list(oov_train), \n",
    "    np.stack([get_random_embedding() for _ in range(len(oov_train))])\n",
    ")\n",
    "train_embedding_vocabulary = set(embedding_model.index_to_key)\n",
    "\n",
    "print(\"New length of the embedding model: {}\".format(len(train_embedding_vocabulary)))"
   ]
  },
  {
   "cell_type": "markdown",
   "metadata": {},
   "source": [
    "We repeat the process for the evaluation and test sets."
   ]
  },
  {
   "cell_type": "markdown",
   "metadata": {},
   "source": [
    "#### Validation OOV terms"
   ]
  },
  {
   "cell_type": "code",
   "execution_count": 20,
   "metadata": {},
   "outputs": [
    {
     "name": "stdout",
     "output_type": "stream",
     "text": [
      "DEBUG: Validation set has 189 OOV terms over 5420 total terms (3.49%)\n",
      "Some OOV terms:\n",
      "['pension-fund', 'mutual-fund', 'band-wagon', 'super-absorbent', 'anku', '95.09', 'house-senate', 'million-a-year', 'write-downs', 'melt-textured', '12\\\\/32', 'property\\\\/casualty', 'seven-million-ton', 'foldability', '1738.1', 'diceon', 'gates-warren', 'one-house', 'express-buick', 'price-depressing', 'walbrecher', 'profit-taking', 'scypher', 'anti-program', 'much-larger', 'labor-backed', 'sidak', 'credit-rating', 'motor-home', 'stock-selection']\n",
      "New length of the embedding model: 400548\n"
     ]
    }
   ],
   "source": [
    "# Find OOV words\n",
    "oov_val = get_OOV_terms(val_vocabulary, train_embedding_vocabulary)\n",
    "print(\"DEBUG: Validation set has {} OOV terms over {} total terms ({:.2f}%)\".format(\n",
    "    len(oov_val), len(val_vocabulary), len(oov_val)/len(val_vocabulary)*100\n",
    "))\n",
    "print(\"Some OOV terms:\")\n",
    "print(list(oov_val)[:30])\n",
    "\n",
    "# Update the model\n",
    "embedding_model.add_vectors(list(oov_val), \n",
    "    np.stack([get_random_embedding() for _ in range(len(oov_val))])\n",
    ")\n",
    "val_embedding_vocabulary = set(embedding_model.index_to_key)\n",
    "\n",
    "print(\"New length of the embedding model: {}\".format(len(val_embedding_vocabulary)))"
   ]
  },
  {
   "cell_type": "markdown",
   "metadata": {},
   "source": [
    "#### Test OOV terms"
   ]
  },
  {
   "cell_type": "code",
   "execution_count": 21,
   "metadata": {},
   "outputs": [
    {
     "name": "stdout",
     "output_type": "stream",
     "text": [
      "DEBUG: Test set has 128 OOV terms over 3407 total terms (3.76%)\n",
      "Some OOV terms:\n",
      "['newspaper-printing', '434.4', 'copper-rich', '170,262', 'tete-a-tete', '43.875', 'blue-chips', '372.14', '608,413', 'early-retirement', 'pro-iranian', 'heavy-truck', '1206.26', '142.84', '1.916', 'manmade-fiber', '11,390,000', 'shareholder-rights', 'derchin', 'inter-tel', 'hasbrouk', 'bread-and-butter', '734.9', '83,206', 'yoshihashi', '40-megabyte', 'near-limit', 'intelogic', '38.875', '5,699']\n",
      "New length of the embedding model: 400676\n"
     ]
    }
   ],
   "source": [
    "# Find OOV words\n",
    "oov_test = get_OOV_terms(test_vocabulary, val_embedding_vocabulary)\n",
    "print(\"DEBUG: Test set has {} OOV terms over {} total terms ({:.2f}%)\".format(\n",
    "    len(oov_test), len(test_vocabulary), len(oov_test)/len(test_vocabulary)*100\n",
    "))\n",
    "print(\"Some OOV terms:\")\n",
    "print(list(oov_test)[:30])\n",
    "\n",
    "# Update the model\n",
    "embedding_model.add_vectors(list(oov_test), \n",
    "    np.stack([get_random_embedding() for _ in range(len(oov_test))])\n",
    ")\n",
    "test_embedding_vocabulary = set(embedding_model.index_to_key)\n",
    "\n",
    "print(\"New length of the embedding model: {}\".format(len(test_embedding_vocabulary)))"
   ]
  },
  {
   "cell_type": "markdown",
   "metadata": {},
   "source": [
    "#### Summary"
   ]
  },
  {
   "cell_type": "markdown",
   "metadata": {},
   "source": [
    "In general, we notice the same pattern we have exposed for training OOV terms also in the OOV of the other splits. \n",
    "\n",
    "Additionally, we report that the number of OOV terms is always less than 5% in all splits, so they shouldn't be a big problem."
   ]
  },
  {
   "cell_type": "markdown",
   "metadata": {},
   "source": [
    "### Padding"
   ]
  },
  {
   "cell_type": "markdown",
   "metadata": {},
   "source": [
    "It's time to think some steps ahead: when we feed our sentences to the model, we usually provide mini-batches of data (for example, a set of 128 sentences at a time). This makes training faster and more stable.\n",
    "\n",
    "A mini-batch of data should be \"rectangular\", meaning that sentences should all have the same number of words. Usually, this translates to using **padding** in the sentences, filling the vectors representing the sentences with zeroes up to a predetermined size."
   ]
  },
  {
   "cell_type": "code",
   "execution_count": 25,
   "metadata": {},
   "outputs": [],
   "source": [
    "embedding_model.add_vector('<PAD>', np.zeros(EMBEDDING_DIMENSION)); # The embedding is a vector of zeroes"
   ]
  },
  {
   "cell_type": "markdown",
   "metadata": {},
   "source": [
    "We should check what the index of the padding vector is."
   ]
  },
  {
   "cell_type": "code",
   "execution_count": 29,
   "metadata": {},
   "outputs": [
    {
     "data": {
      "text/plain": [
       "400676"
      ]
     },
     "execution_count": 29,
     "metadata": {},
     "output_type": "execute_result"
    }
   ],
   "source": [
    "PADDING_IDX = embedding_model.key_to_index['<PAD>']\n",
    "PADDING_IDX"
   ]
  },
  {
   "cell_type": "markdown",
   "metadata": {},
   "source": [
    "We would like to have the padding token as element 0 (because it can be automatically masked when using [Keras's Embedding Layer](https://keras.io/api/layers/core_layers/embedding/))."
   ]
  },
  {
   "cell_type": "markdown",
   "metadata": {},
   "source": [
    "### Final embedding matrix"
   ]
  },
  {
   "cell_type": "code",
   "execution_count": 43,
   "metadata": {},
   "outputs": [
    {
     "name": "stderr",
     "output_type": "stream",
     "text": [
      "100%|██████████| 400677/400677 [00:02<00:00, 154921.87it/s]\n"
     ]
    },
    {
     "name": "stdout",
     "output_type": "stream",
     "text": [
      "DEBUG: Embedding matrix shape: (400677, 100)\n"
     ]
    }
   ],
   "source": [
    "embedding_matrix = create_embedding_matrix(embedding_model)\n",
    "# We need to move the row where the padding index is at the first row and shift the rest of the matrix by 1\n",
    "embedding_matrix = np.append(embedding_matrix[-1:, :], embedding_matrix[:-1, :], axis=0)\n",
    "print(\"DEBUG: Embedding matrix shape: {}\".format(embedding_matrix.shape))"
   ]
  },
  {
   "cell_type": "markdown",
   "metadata": {},
   "source": [
    "## Baseline model"
   ]
  },
  {
   "cell_type": "markdown",
   "metadata": {},
   "source": [
    "As a baseline model, we create a network composd by a (non-trainable) Embedding layer, a single Bidirectional LSTM layer and a Time-Distributed Dense layer on top."
   ]
  },
  {
   "cell_type": "markdown",
   "metadata": {},
   "source": [
    "### Dataset processing pipeline"
   ]
  },
  {
   "cell_type": "markdown",
   "metadata": {},
   "source": [
    "First of all, though, we should provide some utility functions to facilitate inputting data to the networks.\n",
    "\n",
    "We have decided to use TensorFlow's [Dataset](https://www.tensorflow.org/api_docs/python/tf/data/Dataset) class, since it provides many useful functions for dealing with batches and building efficient data preprocessing pipelines."
   ]
  },
  {
   "cell_type": "code",
   "execution_count": 45,
   "metadata": {},
   "outputs": [
    {
     "name": "stdout",
     "output_type": "stream",
     "text": [
      "DEBUG: indexes for sentence 'mr. vinken is chairman of elsevier n.v. , the dutch publishing group .':\n"
     ]
    },
    {
     "data": {
      "text/plain": [
       "[1996, 400059, 15, 664, 4, 43651, 60024, 2, 1, 1693, 3649, 130, 3]"
      ]
     },
     "execution_count": 45,
     "metadata": {},
     "output_type": "execute_result"
    }
   ],
   "source": [
    "# A function that converts a sentence to a list of indices indexing the created vocabulary model\n",
    "def sentence_to_idxs(sentence: pd.DataFrame):\n",
    "    sentence_list = get_list_of_words_from_sentence(sentence)\n",
    "    return [ embedding_model.key_to_index[word] + 1 for word in sentence_list ] # +1 for padding\n",
    "\n",
    "print(\"DEBUG: indexes for sentence '{}':\".format(get_natural_language_sentence(train_sentences[1])))\n",
    "sentence_to_idxs(train_sentences[1])"
   ]
  },
  {
   "cell_type": "markdown",
   "metadata": {},
   "source": [
    "We apply this function to the entire dataset splits."
   ]
  },
  {
   "cell_type": "code",
   "execution_count": 46,
   "metadata": {},
   "outputs": [],
   "source": [
    "X_train = [ sentence_to_idxs(sentence) for sentence in train_sentences ]\n",
    "X_val   = [ sentence_to_idxs(sentence) for sentence in val_sentences   ]\n",
    "X_test  = [ sentence_to_idxs(sentence) for sentence in test_sentences  ]"
   ]
  },
  {
   "cell_type": "markdown",
   "metadata": {},
   "source": [
    "We use [a Tensorflow function](https://www.tensorflow.org/api_docs/python/tf/keras/preprocessing/sequence/pad_sequences) to automatically apply padding to the sequences.\n",
    "\n",
    "In theory, padding should bring all tensors to have as many elements as the longest sentence. We have analyzed before that the training set has some outliers and the longest sequence contains 250 elements, but bringing all sequences to have 250 elements is clearly a waste of memory.\n",
    "\n",
    "Instead, **only for the training set**, we choose to fix a maximum length similar to the other splits. This will cut a part of the outlier sentences, but since they are only used for training it shouldn't be a big problem."
   ]
  },
  {
   "cell_type": "code",
   "execution_count": 68,
   "metadata": {},
   "outputs": [
    {
     "data": {
      "text/plain": [
       "80.00034999999934"
      ]
     },
     "execution_count": 68,
     "metadata": {},
     "output_type": "execute_result"
    }
   ],
   "source": [
    "np.quantile(len_train, 0.99751) # If we choose 80 as maximum length (similar to the other splits), \n",
    "                                # we avoid to cut over 99.75% of the sentences."
   ]
  },
  {
   "cell_type": "code",
   "execution_count": 70,
   "metadata": {},
   "outputs": [],
   "source": [
    "X_train = keras.preprocessing.sequence.pad_sequences(\n",
    "    X_train, maxlen=80, truncating='post'   # truncating='post' means that we cut the last part of the sentence\n",
    ")\n",
    "\n",
    "X_val = keras.preprocessing.sequence.pad_sequences(X_val) # No cutting\n",
    "X_test = keras.preprocessing.sequence.pad_sequences(X_test) # No cutting"
   ]
  },
  {
   "cell_type": "markdown",
   "metadata": {},
   "source": [
    "# TODO: We also need to encode labels and add them to the datasets below"
   ]
  },
  {
   "cell_type": "code",
   "execution_count": 78,
   "metadata": {},
   "outputs": [],
   "source": [
    "train_dataset = tf.data.Dataset.from_tensor_slices(X_train).batch(BATCH_SIZE)\n",
    "val_dataset = tf.data.Dataset.from_tensor_slices(X_val).batch(BATCH_SIZE)\n",
    "test_dataset = tf.data.Dataset.from_tensor_slices(X_test).batch(BATCH_SIZE)"
   ]
  },
  {
   "cell_type": "markdown",
   "metadata": {},
   "source": [
    "## Experiments"
   ]
  },
  {
   "cell_type": "markdown",
   "metadata": {},
   "source": [
    "## Evaluation"
   ]
  },
  {
   "cell_type": "markdown",
   "metadata": {},
   "source": [
    "## Error Analysis"
   ]
  }
 ],
 "metadata": {
  "interpreter": {
   "hash": "c90f87e5ee49fb7af5481158977e62ba01ae4f54defb58032c9ba197b530ea3c"
  },
  "kernelspec": {
   "display_name": "Python 3.8.12 64-bit ('NLP': conda)",
   "language": "python",
   "name": "python3"
  },
  "language_info": {
   "codemirror_mode": {
    "name": "ipython",
    "version": 3
   },
   "file_extension": ".py",
   "mimetype": "text/x-python",
   "name": "python",
   "nbconvert_exporter": "python",
   "pygments_lexer": "ipython3",
   "version": "3.8.12"
  },
  "orig_nbformat": 4
 },
 "nbformat": 4,
 "nbformat_minor": 2
}
