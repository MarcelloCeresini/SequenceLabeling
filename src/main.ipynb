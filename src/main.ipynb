{
 "cells": [
  {
   "cell_type": "code",
   "execution_count": 1,
   "metadata": {
    "colab": {
     "base_uri": "https://localhost:8080/"
    },
    "id": "3Xub2I7wmsiQ",
    "outputId": "df2ad6ac-5aa6-4234-8799-90d6fee69c15"
   },
   "outputs": [],
   "source": [
    "# COLAB ONLY CELLS\n",
    "try:\n",
    "    import google.colab\n",
    "    IN_COLAB = True\n",
    "    !pip install -U gensim  # Install gensim 4\n",
    "    !nvidia-smi             # Check which GPU has been chosen for us\n",
    "    !rm -rf logs\n",
    "except:\n",
    "    IN_COLAB = False"
   ]
  },
  {
   "cell_type": "markdown",
   "metadata": {
    "id": "dPBWIBPLmsiV"
   },
   "source": [
    "# Assignment 1"
   ]
  },
  {
   "cell_type": "markdown",
   "metadata": {
    "id": "1F0Pk2VGmsiW"
   },
   "source": [
    "## Data Preprocessing"
   ]
  },
  {
   "cell_type": "markdown",
   "metadata": {
    "id": "6bAbU4mxmsiX"
   },
   "source": [
    "### Imports"
   ]
  },
  {
   "cell_type": "code",
   "execution_count": 2,
   "metadata": {
    "colab": {
     "base_uri": "https://localhost:8080/"
    },
    "id": "3mSNOKGVmsiX",
    "outputId": "a2b3248b-38c1-4774-9a85-70f375afef94"
   },
   "outputs": [],
   "source": [
    "%load_ext tensorboard\n",
    "\n",
    "import os\n",
    "import requests\n",
    "import zipfile\n",
    "from tqdm import tqdm\n",
    "import time\n",
    "import random\n",
    "import datetime\n",
    "from IPython.display import display\n",
    "from functools import partial\n",
    "\n",
    "from typing import List, Dict, Callable, Sequence, Tuple\n",
    "\n",
    "from sklearn.metrics import f1_score, confusion_matrix, ConfusionMatrixDisplay\n",
    "\n",
    "import json\n",
    "import numpy as np\n",
    "import pandas as pd\n",
    "import matplotlib.pyplot as plt\n",
    "import tensorflow as tf\n",
    "from tensorflow import keras\n",
    "from tensorflow.keras import layers\n",
    "\n",
    "import gensim\n",
    "import gensim.downloader as gloader\n",
    "assert int(gensim.__version__.split('.')[0]) >= 4, \"Install gensim 4.x.x or above (pip install -U gensim)\"\n",
    "\n",
    "%matplotlib inline\n",
    "\n",
    "BATCH_SIZE = 128\n",
    "\n",
    "# Fix random seed for reproducibility\n",
    "RANDOM_SEED = 128\n",
    "np.random.seed(RANDOM_SEED)\n",
    "random.seed(RANDOM_SEED)\n",
    "tf.random.set_seed(RANDOM_SEED)"
   ]
  },
  {
   "cell_type": "markdown",
   "metadata": {
    "id": "GxKZ6fP2msiY"
   },
   "source": [
    "### Downloading the Dataset"
   ]
  },
  {
   "cell_type": "code",
   "execution_count": 3,
   "metadata": {
    "id": "69s_G1OAmsiZ"
   },
   "outputs": [
    {
     "name": "stdout",
     "output_type": "stream",
     "text": [
      "Downloading dataset...\n",
      "Download completed!\n",
      "Extracting dataset...\n",
      "Extraction completed!\n"
     ]
    }
   ],
   "source": [
    "ROOT_PATH = os.path.dirname(os.getcwd())\n",
    "DATA_PATH = os.path.join(ROOT_PATH, 'data')\n",
    "\n",
    "def save_response_content(response, destination):\n",
    "    CHUNK_SIZE = 32768\n",
    "\n",
    "    with open(destination, \"wb\") as f:\n",
    "        for chunk in response.iter_content(CHUNK_SIZE):\n",
    "            if chunk: # filter out keep-alive new chunks\n",
    "                f.write(chunk)\n",
    "\n",
    "def download_data(data_path):\n",
    "    final_path = os.path.join(data_path, 'dependency_treebank.zip')\n",
    "    url = \"https://raw.githubusercontent.com/nltk/nltk_data/gh-pages/packages/corpora/dependency_treebank.zip\"\n",
    "\n",
    "    if not os.path.exists(data_path):\n",
    "        os.makedirs(data_path)\n",
    "\n",
    "    if not os.path.exists(final_path):\n",
    "        print(\"Downloading dataset...\")\n",
    "        with requests.Session() as current_session:\n",
    "            response = current_session.get(url, stream=True)\n",
    "        save_response_content(response, final_path)\n",
    "        print(\"Download completed!\")\n",
    "\n",
    "        print(\"Extracting dataset...\")\n",
    "        with zipfile.ZipFile(final_path) as loaded_zip:\n",
    "            loaded_zip.extractall(data_path)\n",
    "        print(\"Extraction completed!\")\n",
    "\n",
    "download_data(DATA_PATH)\n",
    "\n",
    "# The new data path is:\n",
    "DATA_PATH = os.path.join(DATA_PATH, 'dependency_treebank')"
   ]
  },
  {
   "cell_type": "markdown",
   "metadata": {
    "id": "1Yyndfu4msia"
   },
   "source": [
    "### Dataset Exploration"
   ]
  },
  {
   "cell_type": "markdown",
   "metadata": {
    "id": "Ck7V80VUmsib"
   },
   "source": [
    "The dataset is composed of several files whose naming convention is `wsj_{num}.dp`. We explore the content of the first file:"
   ]
  },
  {
   "cell_type": "code",
   "execution_count": 4,
   "metadata": {
    "colab": {
     "base_uri": "https://localhost:8080/"
    },
    "id": "UyweYwjimsib",
    "outputId": "9f5dd131-e288-438f-d955-18b4576aefb8"
   },
   "outputs": [
    {
     "name": "stdout",
     "output_type": "stream",
     "text": [
      "['Pierre\\tNNP\\t2', 'Vinken\\tNNP\\t8', ',\\t,\\t2', '61\\tCD\\t5', 'years\\tNNS\\t6', 'old\\tJJ\\t2', ',\\t,\\t2', 'will\\tMD\\t0', 'join\\tVB\\t8', 'the\\tDT\\t11', 'board\\tNN\\t9', 'as\\tIN\\t9', 'a\\tDT\\t15', 'nonexecutive\\tJJ\\t15', 'director\\tNN\\t12', 'Nov.\\tNNP\\t9', '29\\tCD\\t16', '.\\t.\\t8', '', 'Mr.\\tNNP\\t2', 'Vinken\\tNNP\\t3', 'is\\tVBZ\\t0', 'chairman\\tNN\\t3', 'of\\tIN\\t4', 'Elsevier\\tNNP\\t7', 'N.V.\\tNNP\\t12', ',\\t,\\t12', 'the\\tDT\\t12', 'Dutch\\tNNP\\t12', 'publishing\\tVBG\\t12', 'group\\tNN\\t5', '.\\t.\\t3']\n"
     ]
    }
   ],
   "source": [
    "with open(os.path.join(DATA_PATH, 'wsj_0001.dp'), 'r') as f:\n",
    "    lines = [l.rstrip() for l in f.readlines()]\n",
    "\n",
    "print(lines)"
   ]
  },
  {
   "cell_type": "markdown",
   "metadata": {
    "id": "PkqNpaA6msic"
   },
   "source": [
    "Each file contains a paragraph of text, optionally composed of multiple sentences. \n",
    "\n",
    "The paragraph is structured as a sequence of lines, each line containing a word, a tag and a number separated by `\\t` tags. We don't care about the number, so we ignore the third element.\n",
    "\n",
    "We can define a function that given a file processes its content and returns a Pandas `DataFrame` for each sentence extracted from the file."
   ]
  },
  {
   "cell_type": "code",
   "execution_count": 5,
   "metadata": {
    "colab": {
     "base_uri": "https://localhost:8080/",
     "height": 1000
    },
    "id": "Pk6Ua-Fdmsid",
    "outputId": "63a64af9-d796-4027-ca3e-a284c7890f51"
   },
   "outputs": [
    {
     "data": {
      "text/html": [
       "<div>\n",
       "<style scoped>\n",
       "    .dataframe tbody tr th:only-of-type {\n",
       "        vertical-align: middle;\n",
       "    }\n",
       "\n",
       "    .dataframe tbody tr th {\n",
       "        vertical-align: top;\n",
       "    }\n",
       "\n",
       "    .dataframe thead th {\n",
       "        text-align: right;\n",
       "    }\n",
       "</style>\n",
       "<table border=\"1\" class=\"dataframe\">\n",
       "  <thead>\n",
       "    <tr style=\"text-align: right;\">\n",
       "      <th></th>\n",
       "      <th>word</th>\n",
       "      <th>tag</th>\n",
       "    </tr>\n",
       "  </thead>\n",
       "  <tbody>\n",
       "    <tr>\n",
       "      <th>0</th>\n",
       "      <td>Pierre</td>\n",
       "      <td>NNP</td>\n",
       "    </tr>\n",
       "    <tr>\n",
       "      <th>1</th>\n",
       "      <td>Vinken</td>\n",
       "      <td>NNP</td>\n",
       "    </tr>\n",
       "    <tr>\n",
       "      <th>2</th>\n",
       "      <td>,</td>\n",
       "      <td>,</td>\n",
       "    </tr>\n",
       "    <tr>\n",
       "      <th>3</th>\n",
       "      <td>61</td>\n",
       "      <td>CD</td>\n",
       "    </tr>\n",
       "    <tr>\n",
       "      <th>4</th>\n",
       "      <td>years</td>\n",
       "      <td>NNS</td>\n",
       "    </tr>\n",
       "    <tr>\n",
       "      <th>5</th>\n",
       "      <td>old</td>\n",
       "      <td>JJ</td>\n",
       "    </tr>\n",
       "    <tr>\n",
       "      <th>6</th>\n",
       "      <td>,</td>\n",
       "      <td>,</td>\n",
       "    </tr>\n",
       "    <tr>\n",
       "      <th>7</th>\n",
       "      <td>will</td>\n",
       "      <td>MD</td>\n",
       "    </tr>\n",
       "    <tr>\n",
       "      <th>8</th>\n",
       "      <td>join</td>\n",
       "      <td>VB</td>\n",
       "    </tr>\n",
       "    <tr>\n",
       "      <th>9</th>\n",
       "      <td>the</td>\n",
       "      <td>DT</td>\n",
       "    </tr>\n",
       "    <tr>\n",
       "      <th>10</th>\n",
       "      <td>board</td>\n",
       "      <td>NN</td>\n",
       "    </tr>\n",
       "    <tr>\n",
       "      <th>11</th>\n",
       "      <td>as</td>\n",
       "      <td>IN</td>\n",
       "    </tr>\n",
       "    <tr>\n",
       "      <th>12</th>\n",
       "      <td>a</td>\n",
       "      <td>DT</td>\n",
       "    </tr>\n",
       "    <tr>\n",
       "      <th>13</th>\n",
       "      <td>nonexecutive</td>\n",
       "      <td>JJ</td>\n",
       "    </tr>\n",
       "    <tr>\n",
       "      <th>14</th>\n",
       "      <td>director</td>\n",
       "      <td>NN</td>\n",
       "    </tr>\n",
       "    <tr>\n",
       "      <th>15</th>\n",
       "      <td>Nov.</td>\n",
       "      <td>NNP</td>\n",
       "    </tr>\n",
       "    <tr>\n",
       "      <th>16</th>\n",
       "      <td>29</td>\n",
       "      <td>CD</td>\n",
       "    </tr>\n",
       "    <tr>\n",
       "      <th>17</th>\n",
       "      <td>.</td>\n",
       "      <td>.</td>\n",
       "    </tr>\n",
       "  </tbody>\n",
       "</table>\n",
       "</div>"
      ],
      "text/plain": [
       "            word  tag\n",
       "0         Pierre  NNP\n",
       "1         Vinken  NNP\n",
       "2              ,    ,\n",
       "3             61   CD\n",
       "4          years  NNS\n",
       "5            old   JJ\n",
       "6              ,    ,\n",
       "7           will   MD\n",
       "8           join   VB\n",
       "9            the   DT\n",
       "10         board   NN\n",
       "11            as   IN\n",
       "12             a   DT\n",
       "13  nonexecutive   JJ\n",
       "14      director   NN\n",
       "15          Nov.  NNP\n",
       "16            29   CD\n",
       "17             .    ."
      ]
     },
     "metadata": {},
     "output_type": "display_data"
    },
    {
     "data": {
      "text/html": [
       "<div>\n",
       "<style scoped>\n",
       "    .dataframe tbody tr th:only-of-type {\n",
       "        vertical-align: middle;\n",
       "    }\n",
       "\n",
       "    .dataframe tbody tr th {\n",
       "        vertical-align: top;\n",
       "    }\n",
       "\n",
       "    .dataframe thead th {\n",
       "        text-align: right;\n",
       "    }\n",
       "</style>\n",
       "<table border=\"1\" class=\"dataframe\">\n",
       "  <thead>\n",
       "    <tr style=\"text-align: right;\">\n",
       "      <th></th>\n",
       "      <th>word</th>\n",
       "      <th>tag</th>\n",
       "    </tr>\n",
       "  </thead>\n",
       "  <tbody>\n",
       "    <tr>\n",
       "      <th>18</th>\n",
       "      <td>Mr.</td>\n",
       "      <td>NNP</td>\n",
       "    </tr>\n",
       "    <tr>\n",
       "      <th>19</th>\n",
       "      <td>Vinken</td>\n",
       "      <td>NNP</td>\n",
       "    </tr>\n",
       "    <tr>\n",
       "      <th>20</th>\n",
       "      <td>is</td>\n",
       "      <td>VBZ</td>\n",
       "    </tr>\n",
       "    <tr>\n",
       "      <th>21</th>\n",
       "      <td>chairman</td>\n",
       "      <td>NN</td>\n",
       "    </tr>\n",
       "    <tr>\n",
       "      <th>22</th>\n",
       "      <td>of</td>\n",
       "      <td>IN</td>\n",
       "    </tr>\n",
       "    <tr>\n",
       "      <th>23</th>\n",
       "      <td>Elsevier</td>\n",
       "      <td>NNP</td>\n",
       "    </tr>\n",
       "    <tr>\n",
       "      <th>24</th>\n",
       "      <td>N.V.</td>\n",
       "      <td>NNP</td>\n",
       "    </tr>\n",
       "    <tr>\n",
       "      <th>25</th>\n",
       "      <td>,</td>\n",
       "      <td>,</td>\n",
       "    </tr>\n",
       "    <tr>\n",
       "      <th>26</th>\n",
       "      <td>the</td>\n",
       "      <td>DT</td>\n",
       "    </tr>\n",
       "    <tr>\n",
       "      <th>27</th>\n",
       "      <td>Dutch</td>\n",
       "      <td>NNP</td>\n",
       "    </tr>\n",
       "    <tr>\n",
       "      <th>28</th>\n",
       "      <td>publishing</td>\n",
       "      <td>VBG</td>\n",
       "    </tr>\n",
       "    <tr>\n",
       "      <th>29</th>\n",
       "      <td>group</td>\n",
       "      <td>NN</td>\n",
       "    </tr>\n",
       "    <tr>\n",
       "      <th>30</th>\n",
       "      <td>.</td>\n",
       "      <td>.</td>\n",
       "    </tr>\n",
       "  </tbody>\n",
       "</table>\n",
       "</div>"
      ],
      "text/plain": [
       "          word  tag\n",
       "18         Mr.  NNP\n",
       "19      Vinken  NNP\n",
       "20          is  VBZ\n",
       "21    chairman   NN\n",
       "22          of   IN\n",
       "23    Elsevier  NNP\n",
       "24        N.V.  NNP\n",
       "25           ,    ,\n",
       "26         the   DT\n",
       "27       Dutch  NNP\n",
       "28  publishing  VBG\n",
       "29       group   NN\n",
       "30           .    ."
      ]
     },
     "metadata": {},
     "output_type": "display_data"
    }
   ],
   "source": [
    "def process_file(filepath: str):\n",
    "    with open(filepath, 'r') as f:\n",
    "        # They are not technically csv files, but they are text files\n",
    "        # so we can still use the same function.\n",
    "        df = pd.read_csv(f, sep='\\t', names=['word','tag','drop'])\n",
    "    # Drop the last column\n",
    "    df = df.drop(['drop'], axis=1)\n",
    "    # Find indices of the dataframe containing points, \n",
    "    # meaning we have found the beginning of a new sentence.\n",
    "    points_indices = df.index[df['word'] == '.']\n",
    "    \n",
    "    # Split dataframes based on those indices\n",
    "    sentences = []\n",
    "    last_index = 0\n",
    "    for idx in points_indices:\n",
    "        sentences.append(df.iloc[last_index:idx+1])\n",
    "        last_index = idx+1\n",
    "    return sentences\n",
    "\n",
    "# Example:\n",
    "test_sentences = process_file(os.path.join(DATA_PATH, 'wsj_0001.dp'))\n",
    "for sentence in test_sentences:\n",
    "    display(sentence)"
   ]
  },
  {
   "cell_type": "markdown",
   "metadata": {
    "id": "xHAoWvFbmsie"
   },
   "source": [
    "### Dataset splits"
   ]
  },
  {
   "cell_type": "markdown",
   "metadata": {
    "id": "cTROSjwVmsie"
   },
   "source": [
    "We are required to split the dataset using:\n",
    "- Documents 1-100 as the train set.\n",
    "- Documents 101-150 as the validation set.\n",
    "- Documents 151-199 as the test set."
   ]
  },
  {
   "cell_type": "markdown",
   "metadata": {
    "id": "nK9JytVEmsif"
   },
   "source": [
    "First, we compute all filenames for the splits."
   ]
  },
  {
   "cell_type": "code",
   "execution_count": 6,
   "metadata": {
    "id": "fkl-ux9Xmsif"
   },
   "outputs": [],
   "source": [
    "train_filenames = [ os.path.join(DATA_PATH, 'wsj_{:04d}.dp'.format(x)) for x in range(1  , 101) ] \n",
    "val_filenames   = [ os.path.join(DATA_PATH, 'wsj_{:04d}.dp'.format(x)) for x in range(101, 151) ]\n",
    "test_filenames  = [ os.path.join(DATA_PATH, 'wsj_{:04d}.dp'.format(x)) for x in range(151, 200) ]"
   ]
  },
  {
   "cell_type": "markdown",
   "metadata": {
    "id": "Ai0O8wbqmsif"
   },
   "source": [
    "Then, we translate the filenames into dataframes."
   ]
  },
  {
   "cell_type": "code",
   "execution_count": 7,
   "metadata": {
    "id": "-dYnf69zmsif"
   },
   "outputs": [],
   "source": [
    "train_sentences = [ sentence for file in train_filenames for sentence in process_file(file) ]\n",
    "val_sentences   = [ sentence for file in val_filenames   for sentence in process_file(file) ]\n",
    "test_sentences  = [ sentence for file in test_filenames  for sentence in process_file(file) ]"
   ]
  },
  {
   "cell_type": "markdown",
   "metadata": {
    "id": "9mW6RwH-msig"
   },
   "source": [
    "Here we define some utility functions that we can use to obtain sentences in other forms."
   ]
  },
  {
   "cell_type": "code",
   "execution_count": 8,
   "metadata": {
    "colab": {
     "base_uri": "https://localhost:8080/"
    },
    "id": "YgVdhAbtmsig",
    "outputId": "fb601969-a069-4e41-f793-d8297281fa08"
   },
   "outputs": [
    {
     "name": "stdout",
     "output_type": "stream",
     "text": [
      "['Mr.', 'Vinken', 'is', 'chairman', 'of', 'Elsevier', 'N.V.', ',', 'the', 'Dutch', 'publishing', 'group', '.']\n",
      "Mr. Vinken is chairman of Elsevier N.V. , the Dutch publishing group .\n"
     ]
    }
   ],
   "source": [
    "def get_list_of_words_from_sentence(sentence: pd.DataFrame):\n",
    "    return list(sentence['word'])\n",
    "\n",
    "def get_natural_language_sentence(sentence):\n",
    "    if isinstance(sentence, pd.DataFrame):\n",
    "        sentence = get_list_of_words_from_sentence(sentence)\n",
    "    return \" \".join(sentence)\n",
    "\n",
    "sen_test = train_sentences[1]\n",
    "print(get_list_of_words_from_sentence(sen_test))\n",
    "print(get_natural_language_sentence(sen_test))"
   ]
  },
  {
   "cell_type": "markdown",
   "metadata": {
    "id": "SEsvKnKImsig"
   },
   "source": [
    "### Dataset Analysis"
   ]
  },
  {
   "cell_type": "markdown",
   "metadata": {
    "id": "F0hhKwOYmsig"
   },
   "source": [
    "We study the distribution of the sentences and the tags."
   ]
  },
  {
   "cell_type": "code",
   "execution_count": 9,
   "metadata": {
    "colab": {
     "base_uri": "https://localhost:8080/",
     "height": 333
    },
    "id": "vSCotC1Ymsih",
    "outputId": "63435b87-ffb1-4ad4-f5d0-30c3310b660c"
   },
   "outputs": [
    {
     "name": "stdout",
     "output_type": "stream",
     "text": [
      "There are 1936 training sentences\n",
      "There are 1256 validation sentences\n",
      "There are 636 test sentences\n"
     ]
    },
    {
     "data": {
      "image/png": "[encoded data removed]",
      "text/plain": [
       "<Figure size 576x288 with 1 Axes>"
      ]
     },
     "metadata": {
      "needs_background": "light"
     },
     "output_type": "display_data"
    }
   ],
   "source": [
    "def plot_instances(train_size, val_size, test_size):\n",
    "    x_values = [train_size, val_size, test_size]\n",
    "    y_values = [\"Training instances\", \"Validation instances\", \"Test instances\"]\n",
    "    y_axis = np.arange(1, 4, 1)\n",
    "    plt.figure(figsize=(8,4))\n",
    "    plt.title(\"Instances distribution on the 3 splits\")\n",
    "    plt.barh(y_axis, x_values, align='center')\n",
    "    plt.yticks(y_axis, y_values)\n",
    "    plt.show()\n",
    "\n",
    "train_size = len(train_sentences)\n",
    "val_size = len(val_sentences)\n",
    "test_size = len(test_sentences)\n",
    "print(\"There are {} training sentences\".format(train_size))\n",
    "print(\"There are {} validation sentences\".format(val_size))\n",
    "print(\"There are {} test sentences\".format(test_size))\n",
    "\n",
    "plot_instances(train_size, val_size, test_size)"
   ]
  },
  {
   "cell_type": "markdown",
   "metadata": {
    "id": "z_ss4uzMmsih"
   },
   "source": [
    "Let's compute the average sentence length."
   ]
  },
  {
   "cell_type": "code",
   "execution_count": 10,
   "metadata": {
    "colab": {
     "base_uri": "https://localhost:8080/",
     "height": 430
    },
    "id": "YVclnunXmsih",
    "outputId": "5e7edc1f-85c2-4624-a19f-dd18ff59d4e8"
   },
   "outputs": [
    {
     "name": "stdout",
     "output_type": "stream",
     "text": [
      "The average sentence length in the training set is 24.45919 with an std of 12.68342 and a max of 250\n",
      "The average sentence length in the validation set is 24.82723 with an std of 11.93318 and a max of 88\n",
      "The average sentence length in the test set is 24.44182 with an std of 10.02017 and a max of 80\n"
     ]
    },
    {
     "data": {
      "image/png": "[encoded data removed]",
      "text/plain": [
       "<Figure size 504x360 with 1 Axes>"
      ]
     },
     "metadata": {
      "needs_background": "light"
     },
     "output_type": "display_data"
    }
   ],
   "source": [
    "len_train = [len(sentence) for sentence in train_sentences]\n",
    "len_val   = [len(sentence) for sentence in val_sentences  ]\n",
    "len_test  = [len(sentence) for sentence in test_sentences ]\n",
    "\n",
    "mean_train, std_train, max_train = np.mean(len_train), np.std(len_train), np.max(len_train)\n",
    "mean_val, std_val, max_val = np.mean(len_val), np.std(len_val), np.max(len_val)\n",
    "mean_test, std_test, max_test = np.mean(len_test), np.std(len_test), np.max(len_test)\n",
    "\n",
    "print(\"The average sentence length in the training set is {:.5f} with an std of {:.5f} and a max of {}\".format(\n",
    "    mean_train, std_train, max_train\n",
    "))\n",
    "print(\"The average sentence length in the validation set is {:.5f} with an std of {:.5f} and a max of {}\".format(\n",
    "    mean_val, std_val, max_val\n",
    "))\n",
    "print(\"The average sentence length in the test set is {:.5f} with an std of {:.5f} and a max of {}\".format(\n",
    "    mean_test, std_test, max_test\n",
    "))\n",
    "\n",
    "len_dict = {'Training sentences':    len_train, \n",
    "            'Validation sentences':  len_val, \n",
    "            'Test sentences':        len_test}\n",
    "\n",
    "fig, ax = plt.subplots(figsize=(7,5));\n",
    "ax.boxplot(len_dict.values());\n",
    "ax.set_xticklabels(len_dict.keys());\n",
    "ax.set_ylim(0, 120)\n",
    "ax.set_ylabel(\"Sentence lengths\")\n",
    "ax.grid()"
   ]
  },
  {
   "cell_type": "markdown",
   "metadata": {
    "id": "KXSouFICmsii"
   },
   "source": [
    "The sentences seem to have approximately the same distribution between the three splits, but there are some clear outliers in the training set.\n",
    "\n",
    "We also compute the distribution of the tags."
   ]
  },
  {
   "cell_type": "code",
   "execution_count": 38,
   "metadata": {
    "colab": {
     "base_uri": "https://localhost:8080/",
     "height": 1000
    },
    "id": "ouJ-MLbjmsii",
    "outputId": "ca8986f0-a702-40da-f5ed-67d9a0089e9f"
   },
   "outputs": [
    {
     "name": "stdout",
     "output_type": "stream",
     "text": [
      "94081\n"
     ]
    },
    {
     "data": {
      "image/png": "[encoded data removed]",
      "text/plain": [
       "<Figure size 1080x360 with 1 Axes>"
      ]
     },
     "metadata": {
      "needs_background": "light"
     },
     "output_type": "display_data"
    }
   ],
   "source": [
    "tags_distribution = pd.concat(train_sentences + val_sentences + test_sentences, axis=0).groupby(['tag']).count().reset_index().sort_values(by=['word'], ascending=False)\n",
    "ax = tags_distribution.plot(kind='bar', figsize=(15, 5))\n",
    "ax.set_xticklabels(tags_distribution[\"tag\"])\n",
    "tags_distribution.head(10)\n",
    "\n",
    "print(\"Total number of tags: \", tags_distribution['word'].sum())\n"
   ]
  },
  {
   "cell_type": "markdown",
   "metadata": {
    "id": "9IakOCuMmsii"
   },
   "source": [
    "Note: see [here](https://www.ling.upenn.edu/courses/Fall_2003/ling001/penn_treebank_pos.html) for the explanation of each tag. Some of the tags simply indicate punctuation."
   ]
  },
  {
   "cell_type": "code",
   "execution_count": 12,
   "metadata": {
    "colab": {
     "base_uri": "https://localhost:8080/"
    },
    "id": "TvRhoTwomsij",
    "outputId": "788e49da-dcf5-41f0-dd55-c3f77cb33892"
   },
   "outputs": [
    {
     "name": "stdout",
     "output_type": "stream",
     "text": [
      "There are 11715 punctuation tags in the dataset\n"
     ]
    }
   ],
   "source": [
    "PUNCTUATION_TAGS = [\"#\", \"$\", \"''\", \",\", \".\", \":\", \"``\", \"-LRB-\", \"-RRB-\", \"SYM\"]\n",
    "print(\"There are {} punctuation tags in the dataset\".format(\n",
    "    sum([ tags_distribution.loc[pun] for pun in PUNCTUATION_TAGS ])['word']\n",
    "))"
   ]
  },
  {
   "cell_type": "markdown",
   "metadata": {
    "id": "DAvmh1SKmsij"
   },
   "source": [
    "### Data Preprocessing"
   ]
  },
  {
   "cell_type": "markdown",
   "metadata": {
    "id": "YTC9_Mwwmsij"
   },
   "source": [
    "In this task, we don't want to remove words because we should provide a one-to-one mapping from words to tags.\n",
    "\n",
    "Therefore, the only sensible preprocessing we can do on the sentences is to bring everything to lowercase.\n",
    "\n",
    "TODO!!"
   ]
  },
  {
   "cell_type": "code",
   "execution_count": 13,
   "metadata": {
    "colab": {
     "base_uri": "https://localhost:8080/",
     "height": 457
    },
    "id": "oqEnrK-Tmsij",
    "outputId": "fcd04b22-5e58-4b41-cc35-92c26efab275"
   },
   "outputs": [
    {
     "data": {
      "text/html": [
       "<div>\n",
       "<style scoped>\n",
       "    .dataframe tbody tr th:only-of-type {\n",
       "        vertical-align: middle;\n",
       "    }\n",
       "\n",
       "    .dataframe tbody tr th {\n",
       "        vertical-align: top;\n",
       "    }\n",
       "\n",
       "    .dataframe thead th {\n",
       "        text-align: right;\n",
       "    }\n",
       "</style>\n",
       "<table border=\"1\" class=\"dataframe\">\n",
       "  <thead>\n",
       "    <tr style=\"text-align: right;\">\n",
       "      <th></th>\n",
       "      <th>word</th>\n",
       "      <th>tag</th>\n",
       "    </tr>\n",
       "  </thead>\n",
       "  <tbody>\n",
       "    <tr>\n",
       "      <th>18</th>\n",
       "      <td>mr.</td>\n",
       "      <td>NNP</td>\n",
       "    </tr>\n",
       "    <tr>\n",
       "      <th>19</th>\n",
       "      <td>vinken</td>\n",
       "      <td>NNP</td>\n",
       "    </tr>\n",
       "    <tr>\n",
       "      <th>20</th>\n",
       "      <td>is</td>\n",
       "      <td>VBZ</td>\n",
       "    </tr>\n",
       "    <tr>\n",
       "      <th>21</th>\n",
       "      <td>chairman</td>\n",
       "      <td>NN</td>\n",
       "    </tr>\n",
       "    <tr>\n",
       "      <th>22</th>\n",
       "      <td>of</td>\n",
       "      <td>IN</td>\n",
       "    </tr>\n",
       "    <tr>\n",
       "      <th>23</th>\n",
       "      <td>elsevier</td>\n",
       "      <td>NNP</td>\n",
       "    </tr>\n",
       "    <tr>\n",
       "      <th>24</th>\n",
       "      <td>n.v.</td>\n",
       "      <td>NNP</td>\n",
       "    </tr>\n",
       "    <tr>\n",
       "      <th>25</th>\n",
       "      <td>,</td>\n",
       "      <td>,</td>\n",
       "    </tr>\n",
       "    <tr>\n",
       "      <th>26</th>\n",
       "      <td>the</td>\n",
       "      <td>DT</td>\n",
       "    </tr>\n",
       "    <tr>\n",
       "      <th>27</th>\n",
       "      <td>dutch</td>\n",
       "      <td>NNP</td>\n",
       "    </tr>\n",
       "    <tr>\n",
       "      <th>28</th>\n",
       "      <td>publishing</td>\n",
       "      <td>VBG</td>\n",
       "    </tr>\n",
       "    <tr>\n",
       "      <th>29</th>\n",
       "      <td>group</td>\n",
       "      <td>NN</td>\n",
       "    </tr>\n",
       "    <tr>\n",
       "      <th>30</th>\n",
       "      <td>.</td>\n",
       "      <td>.</td>\n",
       "    </tr>\n",
       "  </tbody>\n",
       "</table>\n",
       "</div>"
      ],
      "text/plain": [
       "          word  tag\n",
       "18         mr.  NNP\n",
       "19      vinken  NNP\n",
       "20          is  VBZ\n",
       "21    chairman   NN\n",
       "22          of   IN\n",
       "23    elsevier  NNP\n",
       "24        n.v.  NNP\n",
       "25           ,    ,\n",
       "26         the   DT\n",
       "27       dutch  NNP\n",
       "28  publishing  VBG\n",
       "29       group   NN\n",
       "30           .    ."
      ]
     },
     "execution_count": 13,
     "metadata": {},
     "output_type": "execute_result"
    }
   ],
   "source": [
    "def to_lower(word: str):\n",
    "    return word.lower()\n",
    "\n",
    "for sentence_group in [train_sentences, val_sentences, test_sentences]:\n",
    "    for sentence in sentence_group:\n",
    "        sentence['word'] = sentence['word'].apply(to_lower)\n",
    "\n",
    "train_sentences[1]"
   ]
  },
  {
   "cell_type": "markdown",
   "metadata": {
    "id": "Bxs4ye7emsij"
   },
   "source": [
    "## Embeddings"
   ]
  },
  {
   "cell_type": "markdown",
   "metadata": {
    "id": "M0-k8lW9msik"
   },
   "source": [
    "We download GloVe's pretrained embeddings with dimension 100 using the Gensim library."
   ]
  },
  {
   "cell_type": "code",
   "execution_count": 14,
   "metadata": {
    "id": "TVitF6xtmsik"
   },
   "outputs": [],
   "source": [
    "def load_embedding_model(embedding_dimension: int = 50) -> gensim.models.keyedvectors.KeyedVectors:\n",
    "    \"\"\"\n",
    "    Loads GloVe pre-trained word embedding model via gensim library.\n",
    "\n",
    "    Parameters:\n",
    "    - embedding_dimension: size of the embedding space to consider\n",
    "\n",
    "    Returns:\n",
    "        - pre-trained word embedding model (gensim KeyedVectors object)\n",
    "    \"\"\"\n",
    "    assert embedding_dimension in {50,100,200,300}, \"Embedding dimension must be one of 50,100,200,300\"\n",
    "    download_path = \"glove-wiki-gigaword-{}\".format(embedding_dimension)\n",
    "    try:\n",
    "        emb_model = gloader.load(download_path)\n",
    "    except:\n",
    "        print(\"ERROR: No Internet connection available\")\n",
    "        return None\n",
    "    return emb_model\n",
    "\n",
    "EMBEDDING_DIMENSION = 100\n",
    "embedding_model = load_embedding_model(EMBEDDING_DIMENSION)"
   ]
  },
  {
   "cell_type": "markdown",
   "metadata": {
    "id": "dIGGxzfdmsik"
   },
   "source": [
    "### GloVe's vocabulary"
   ]
  },
  {
   "cell_type": "markdown",
   "metadata": {
    "id": "_41gyIUemsil"
   },
   "source": [
    "We use as initial vocabulary the vocabulary of GloVe's pretrained embeddings."
   ]
  },
  {
   "cell_type": "code",
   "execution_count": 15,
   "metadata": {
    "colab": {
     "base_uri": "https://localhost:8080/"
    },
    "id": "KHHlMun5msil",
    "outputId": "528e1b95-ece6-459c-e7c2-68f2c5b48081"
   },
   "outputs": [
    {
     "name": "stdout",
     "output_type": "stream",
     "text": [
      "Starting vocabulary contains 400000 words.\n"
     ]
    }
   ],
   "source": [
    "embedding_vocabulary = set(embedding_model.index_to_key)\n",
    "print(\"Starting vocabulary contains {} words.\".format(len(embedding_vocabulary)))"
   ]
  },
  {
   "cell_type": "markdown",
   "metadata": {
    "id": "QMI3gAoymsil"
   },
   "source": [
    "The vocabulary of the embeddings may not contain all the words that are used in our sentences, so we need to create sensible encodings for OOV words and add them to the vocabulary.\n",
    "\n",
    "A smart idea to create OOV embeddings is to obtain the mean and standard deviation of the GloVe embeddings and to sample new random vectors from a reduced uniform distribution with those parameters. In this way, we make sure that OOV embeddings are at least similar to the real embeddings."
   ]
  },
  {
   "cell_type": "code",
   "execution_count": 16,
   "metadata": {
    "colab": {
     "base_uri": "https://localhost:8080/"
    },
    "id": "6Ervhk-Lmsim",
    "outputId": "97dfd7cb-05e5-40cb-97a0-289470d6e7be"
   },
   "outputs": [
    {
     "name": "stderr",
     "output_type": "stream",
     "text": [
      "100%|███████████████████████████████████████████████████████████████████████| 400000/400000 [00:00<00:00, 727767.78it/s]\n"
     ]
    },
    {
     "name": "stdout",
     "output_type": "stream",
     "text": [
      "Mean embedding vector: 0.004451991990208626\n",
      "Std of embedding vectors: 0.4081574082374573\n"
     ]
    }
   ],
   "source": [
    "# Create an empty matrix that should hold all the embeddings of GloVe's vocabulary\n",
    "def create_embedding_matrix(embedding_model: gensim.models.keyedvectors.KeyedVectors):\n",
    "    embedding_vocabulary = set(embedding_model.index_to_key)\n",
    "    embedding_matrix = np.zeros((len(embedding_vocabulary), EMBEDDING_DIMENSION), dtype=np.float32)\n",
    "\n",
    "    # Loop through the words of the vocabulary\n",
    "    for idx, word in tqdm(enumerate(embedding_model.index_to_key), total=len(embedding_vocabulary)):\n",
    "        try:\n",
    "            # Get the vector representation of the word according to the embedding model\n",
    "            embedding_vector = embedding_model[word]\n",
    "            # Set the corresponding row to the embedding vector\n",
    "            embedding_matrix[idx] = embedding_vector\n",
    "        except (KeyError, TypeError):\n",
    "            pass\n",
    "    \n",
    "    return embedding_matrix\n",
    "\n",
    "embedding_matrix = create_embedding_matrix(embedding_model)\n",
    "\n",
    "# Calculate mean and standard deviation\n",
    "glove_mean = embedding_matrix.mean()\n",
    "glove_std = embedding_matrix.std()\n",
    "\n",
    "print(\"Mean embedding vector: {}\".format(glove_mean))\n",
    "print(\"Std of embedding vectors: {}\".format(glove_std))"
   ]
  },
  {
   "cell_type": "markdown",
   "metadata": {
    "id": "qQqHlAdLmsim"
   },
   "source": [
    "Then we can define a function to create random embeddings for OOV words."
   ]
  },
  {
   "cell_type": "code",
   "execution_count": 17,
   "metadata": {
    "id": "ttz0S50Zmsim"
   },
   "outputs": [],
   "source": [
    "def get_random_embedding():\n",
    "    return np.random.uniform(low=glove_mean-glove_std/10, \n",
    "        high=glove_mean+glove_std/10, size=EMBEDDING_DIMENSION\n",
    "    )"
   ]
  },
  {
   "cell_type": "markdown",
   "metadata": {
    "id": "0QXf68trmsim"
   },
   "source": [
    "### OOV terms"
   ]
  },
  {
   "cell_type": "markdown",
   "metadata": {
    "id": "TPPR-M-Kmsim"
   },
   "source": [
    "We find all OOV terms in the splits independently and build our vocabularies and embedding matrix. "
   ]
  },
  {
   "cell_type": "markdown",
   "metadata": {
    "id": "YWO9W0s9msin"
   },
   "source": [
    "#### Training OOV terms"
   ]
  },
  {
   "cell_type": "code",
   "execution_count": 18,
   "metadata": {
    "id": "naRp9bJymsin"
   },
   "outputs": [],
   "source": [
    "# Step 1: Obtain a set of words (vocabulary) used in each split\n",
    "def get_set_of_words_for_sentences(sentence_seq: Sequence[pd.DataFrame]):\n",
    "    return set(\n",
    "        pd.concat(sentence_seq, axis=0).    # Concatenate all sentences together\n",
    "        groupby(['word']).                  # Group by words\n",
    "        indices.keys()                      # Obtain the sequence of words\n",
    "    )             \n",
    "\n",
    "train_vocabulary = get_set_of_words_for_sentences(train_sentences)\n",
    "val_vocabulary = get_set_of_words_for_sentences(val_sentences)\n",
    "test_vocabulary = get_set_of_words_for_sentences(test_sentences)"
   ]
  },
  {
   "cell_type": "code",
   "execution_count": 19,
   "metadata": {
    "colab": {
     "base_uri": "https://localhost:8080/"
    },
    "id": "rxpVA-R1msin",
    "outputId": "2b33bef3-e9a2-4831-c8b1-8d67b576981d"
   },
   "outputs": [
    {
     "name": "stdout",
     "output_type": "stream",
     "text": [
      "DEBUG: Training set has 359 OOV terms over 7402 total terms (4.85%)\n",
      "Some OOV terms:\n",
      "['sub-markets', '84-month', '3057', 'makato', 'subindustry', 'drobnick', 'direct-investment', 'chinchon', 'highest-pitched', 'low-ball', 'yen-denominated', '14,821', 'biondi-santi', 'monchecourt', 'northy', 'sub-segments', '18,444', 'student-test', 'more-efficient', 'savers\\\\/investors', 'subskills', 'wine-buying', '1.8415', 'unenticing', 'new-home', 'uzi-model', '2,303,328', 'machine-gun-toting', '11,762', 'light-truck']\n"
     ]
    }
   ],
   "source": [
    "# Step 2: Find OOV words with respect to some vocabulary\n",
    "def get_OOV_terms(vocab_1: set, vocab_2: set):\n",
    "    return vocab_1.difference(vocab_2)\n",
    "\n",
    "oov_train = get_OOV_terms(train_vocabulary, embedding_vocabulary)\n",
    "\n",
    "print(\"DEBUG: Training set has {} OOV terms over {} total terms ({:.2f}%)\".format(\n",
    "    len(oov_train), len(train_vocabulary), len(oov_train)/len(train_vocabulary)*100\n",
    "))\n",
    "print(\"Some OOV terms:\")\n",
    "print(list(oov_train)[:30])"
   ]
  },
  {
   "cell_type": "markdown",
   "metadata": {
    "id": "L4RD0ubumsin"
   },
   "source": [
    "OOVs (for the training set) seem to mostly be: \n",
    "- hyphenated compound words\n",
    "- numbers\n",
    "- foreign words\n",
    "- other uncommon words"
   ]
  },
  {
   "cell_type": "markdown",
   "metadata": {
    "id": "UJ4iC_O6msin"
   },
   "source": [
    "We update the vocabulary adding these OOV words."
   ]
  },
  {
   "cell_type": "code",
   "execution_count": 20,
   "metadata": {
    "colab": {
     "base_uri": "https://localhost:8080/"
    },
    "id": "tfj4idjBmsio",
    "outputId": "718477d5-9336-4748-8ea1-1a78735e7353"
   },
   "outputs": [
    {
     "name": "stdout",
     "output_type": "stream",
     "text": [
      "New length of the embedding model: 400359\n"
     ]
    }
   ],
   "source": [
    "embedding_model.add_vectors(list(oov_train), \n",
    "    np.stack([get_random_embedding() for _ in range(len(oov_train))])\n",
    ")\n",
    "train_embedding_vocabulary = set(embedding_model.index_to_key)\n",
    "\n",
    "print(\"New length of the embedding model: {}\".format(len(train_embedding_vocabulary)))"
   ]
  },
  {
   "cell_type": "markdown",
   "metadata": {
    "id": "UCnNvNe4msio"
   },
   "source": [
    "We repeat the process for the evaluation and test sets."
   ]
  },
  {
   "cell_type": "markdown",
   "metadata": {
    "id": "MY5eXFyEmsio"
   },
   "source": [
    "#### Validation OOV terms"
   ]
  },
  {
   "cell_type": "code",
   "execution_count": 21,
   "metadata": {
    "colab": {
     "base_uri": "https://localhost:8080/"
    },
    "id": "hZKNVi4qmsir",
    "outputId": "17e6938a-40c8-423a-924e-623d71d9f3ec"
   },
   "outputs": [
    {
     "name": "stdout",
     "output_type": "stream",
     "text": [
      "DEBUG: Validation set has 189 OOV terms over 5420 total terms (3.49%)\n",
      "Some OOV terms:\n",
      "['wamre', 'multi-crystal', 'lightning-fast', 'flim-flammery', '1738.1', '8.467', 'million-a-year', '16\\\\/32', 'dydee', '13\\\\/16', 'arbitraging', '5.435', '3\\\\/8', '2163.2', 'airline-related', 'walbrecher', 'freshbake', '1928-33', 'financial-services', 'fiber-end', '3,040,000', 'breakey', 'truth-in-lending', 'substance-abusing', 'cleaner-burning', 'pricings', 'takeover-stock', 'credit-rating', 'gates-warren', 'car-development']\n",
      "New length of the embedding model: 400548\n"
     ]
    }
   ],
   "source": [
    "# Find OOV words\n",
    "oov_val = get_OOV_terms(val_vocabulary, train_embedding_vocabulary)\n",
    "print(\"DEBUG: Validation set has {} OOV terms over {} total terms ({:.2f}%)\".format(\n",
    "    len(oov_val), len(val_vocabulary), len(oov_val)/len(val_vocabulary)*100\n",
    "))\n",
    "print(\"Some OOV terms:\")\n",
    "print(list(oov_val)[:30])\n",
    "\n",
    "# Update the model\n",
    "embedding_model.add_vectors(list(oov_val), \n",
    "    np.stack([get_random_embedding() for _ in range(len(oov_val))])\n",
    ")\n",
    "val_embedding_vocabulary = set(embedding_model.index_to_key)\n",
    "\n",
    "print(\"New length of the embedding model: {}\".format(len(val_embedding_vocabulary)))"
   ]
  },
  {
   "cell_type": "markdown",
   "metadata": {
    "id": "Aro5MtR9msis"
   },
   "source": [
    "#### Test OOV terms"
   ]
  },
  {
   "cell_type": "code",
   "execution_count": 22,
   "metadata": {
    "colab": {
     "base_uri": "https://localhost:8080/"
    },
    "id": "JLWrkLgwmsis",
    "outputId": "395b6c01-46ce-487e-958d-631be1812715"
   },
   "outputs": [
    {
     "name": "stdout",
     "output_type": "stream",
     "text": [
      "DEBUG: Test set has 128 OOV terms over 3407 total terms (3.76%)\n",
      "Some OOV terms:\n",
      "['minimum-wage', 'guber\\\\/peters', 'sewing-machine', 'prior-year', '6,799', 'cash-and-stock', '11,390,000', 'yoshihashi', '83,206', 'protein-1', 'cents-a-unit', '19-month-old', 'mariotta', '2,050-passenger', 'nofzinger', 'corn-buying', 'louisiana-pacific', '608,413', '142.84', 'noncompetitively', '129.91', 'passenger-car', '434.4', '1.916', 'waymar', 'sept.30', '34.625', '220.45', 'constitutional-law', '18-a-share']\n",
      "New length of the embedding model: 400676\n"
     ]
    }
   ],
   "source": [
    "# Find OOV words\n",
    "oov_test = get_OOV_terms(test_vocabulary, val_embedding_vocabulary)\n",
    "print(\"DEBUG: Test set has {} OOV terms over {} total terms ({:.2f}%)\".format(\n",
    "    len(oov_test), len(test_vocabulary), len(oov_test)/len(test_vocabulary)*100\n",
    "))\n",
    "print(\"Some OOV terms:\")\n",
    "print(list(oov_test)[:30])\n",
    "\n",
    "# Update the model\n",
    "embedding_model.add_vectors(list(oov_test), \n",
    "    np.stack([get_random_embedding() for _ in range(len(oov_test))])\n",
    ")\n",
    "test_embedding_vocabulary = set(embedding_model.index_to_key)\n",
    "\n",
    "print(\"New length of the embedding model: {}\".format(len(test_embedding_vocabulary)))"
   ]
  },
  {
   "cell_type": "markdown",
   "metadata": {
    "id": "M6Dzyz8Qmsis"
   },
   "source": [
    "#### Summary"
   ]
  },
  {
   "cell_type": "markdown",
   "metadata": {
    "id": "9vSvZCtFmsis"
   },
   "source": [
    "In general, we notice the same pattern we have exposed for training OOV terms also in the OOV of the other splits. \n",
    "\n",
    "Additionally, we report that the number of OOV terms is always less than 5% in all splits, so they shouldn't be a big problem."
   ]
  },
  {
   "cell_type": "markdown",
   "metadata": {
    "id": "h0EGV1zSmsit"
   },
   "source": [
    "### Padding"
   ]
  },
  {
   "cell_type": "markdown",
   "metadata": {
    "id": "I52t-QEjmsit"
   },
   "source": [
    "It's time to think some steps ahead: when we feed our sentences to the model, we usually provide mini-batches of data (for example, a set of 128 sentences at a time). This makes training faster and more stable.\n",
    "\n",
    "A mini-batch of data should be \"rectangular\", meaning that sentences should all have the same number of words. Usually, this translates to using **padding** in the sentences, filling the vectors representing the sentences with zeroes up to a predetermined size."
   ]
  },
  {
   "cell_type": "code",
   "execution_count": 23,
   "metadata": {
    "colab": {
     "base_uri": "https://localhost:8080/"
    },
    "id": "VyPYXTkEmsit",
    "outputId": "340b113a-bb66-4a52-d27f-5ba536357262"
   },
   "outputs": [
    {
     "name": "stderr",
     "output_type": "stream",
     "text": [
      "/home/volpepe/Desktop/SequenceLabeling/.env/lib/python3.8/site-packages/gensim/models/keyedvectors.py:478: UserWarning: Adding single vectors to a KeyedVectors which grows by one each time can be costly. Consider adding in batches or preallocating to the required size.\n",
      "  warnings.warn(\n"
     ]
    }
   ],
   "source": [
    "embedding_model.add_vector('<PAD>', np.zeros(EMBEDDING_DIMENSION)); # The embedding is a vector of zeroes"
   ]
  },
  {
   "cell_type": "markdown",
   "metadata": {
    "id": "0Jr7H1MNmsit"
   },
   "source": [
    "We should check what the index of the padding vector is."
   ]
  },
  {
   "cell_type": "code",
   "execution_count": 24,
   "metadata": {
    "colab": {
     "base_uri": "https://localhost:8080/"
    },
    "id": "kGmOOM_-msit",
    "outputId": "c8c2661f-441d-4d3e-a6e7-0cd77cdb7c39"
   },
   "outputs": [
    {
     "data": {
      "text/plain": [
       "400676"
      ]
     },
     "execution_count": 24,
     "metadata": {},
     "output_type": "execute_result"
    }
   ],
   "source": [
    "PADDING_IDX = embedding_model.key_to_index['<PAD>']\n",
    "PADDING_IDX"
   ]
  },
  {
   "cell_type": "markdown",
   "metadata": {
    "id": "2nbXaIyimsit"
   },
   "source": [
    "We would like to have the padding token as element 0 (because it can be automatically masked when using [Keras's Embedding Layer](https://keras.io/api/layers/core_layers/embedding/))."
   ]
  },
  {
   "cell_type": "markdown",
   "metadata": {
    "id": "fjgYsRNtmsiu"
   },
   "source": [
    "### Final embedding matrix"
   ]
  },
  {
   "cell_type": "code",
   "execution_count": 25,
   "metadata": {
    "colab": {
     "base_uri": "https://localhost:8080/"
    },
    "id": "mi9MeILrmsiu",
    "outputId": "33078d83-17a5-4b07-e926-caba7b416316"
   },
   "outputs": [
    {
     "name": "stderr",
     "output_type": "stream",
     "text": [
      "100%|███████████████████████████████████████████████████████████████████████| 400677/400677 [00:00<00:00, 732764.27it/s]"
     ]
    },
    {
     "name": "stdout",
     "output_type": "stream",
     "text": [
      "DEBUG: Embedding matrix shape: (400677, 100)\n"
     ]
    },
    {
     "name": "stderr",
     "output_type": "stream",
     "text": [
      "\n"
     ]
    }
   ],
   "source": [
    "embedding_matrix = create_embedding_matrix(embedding_model)\n",
    "# We need to move the row where the padding index is at the first row and shift the rest of the matrix by 1\n",
    "embedding_matrix = np.append(embedding_matrix[-1:, :], embedding_matrix[:-1, :], axis=0)\n",
    "print(\"DEBUG: Embedding matrix shape: {}\".format(embedding_matrix.shape))"
   ]
  },
  {
   "cell_type": "markdown",
   "metadata": {
    "id": "YbOZWtYzmsiu"
   },
   "source": [
    "## Baseline model"
   ]
  },
  {
   "cell_type": "markdown",
   "metadata": {
    "id": "gohO82zRmsiu"
   },
   "source": [
    "In this section, we will transform our data so that it's easier to process for our models and build our first baseline model."
   ]
  },
  {
   "cell_type": "markdown",
   "metadata": {
    "id": "QLn_xlXfmsiu"
   },
   "source": [
    "### Dataset processing pipeline"
   ]
  },
  {
   "cell_type": "markdown",
   "metadata": {
    "id": "Op2JqU8xmsiu"
   },
   "source": [
    "First of all, we should provide some utility functions to facilitate inputting data to the networks.\n",
    "\n",
    "We have decided to use TensorFlow's [Dataset](https://www.tensorflow.org/api_docs/python/tf/data/Dataset) class, since it provides many useful functions for dealing with batches and building efficient data preprocessing pipelines."
   ]
  },
  {
   "cell_type": "code",
   "execution_count": 26,
   "metadata": {
    "colab": {
     "base_uri": "https://localhost:8080/"
    },
    "id": "uDygByXwmsiv",
    "outputId": "78126d66-9b27-4487-aada-758d28876dc3"
   },
   "outputs": [
    {
     "name": "stdout",
     "output_type": "stream",
     "text": [
      "DEBUG: indexes for sentence 'mr. vinken is chairman of elsevier n.v. , the dutch publishing group .':\n"
     ]
    },
    {
     "data": {
      "text/plain": [
       "[1996, 400343, 15, 664, 4, 43651, 60024, 2, 1, 1693, 3649, 130, 3]"
      ]
     },
     "execution_count": 26,
     "metadata": {},
     "output_type": "execute_result"
    }
   ],
   "source": [
    "# A function that converts a sentence to a list of indices indexing the created vocabulary model\n",
    "def sentence_to_idxs(sentence: pd.DataFrame):\n",
    "    sentence_list = get_list_of_words_from_sentence(sentence)\n",
    "    return [ embedding_model.key_to_index[word] + 1 for word in sentence_list ] # +1 for padding\n",
    "\n",
    "print(\"DEBUG: indexes for sentence '{}':\".format(get_natural_language_sentence(train_sentences[1])))\n",
    "sentence_to_idxs(train_sentences[1])"
   ]
  },
  {
   "cell_type": "markdown",
   "metadata": {
    "id": "F-aQovf6msiv"
   },
   "source": [
    "We apply this function to the entire dataset splits."
   ]
  },
  {
   "cell_type": "code",
   "execution_count": 27,
   "metadata": {
    "id": "HdDY3phemsiv"
   },
   "outputs": [],
   "source": [
    "X_train = [ sentence_to_idxs(sentence) for sentence in train_sentences ]\n",
    "X_val   = [ sentence_to_idxs(sentence) for sentence in val_sentences   ]\n",
    "X_test  = [ sentence_to_idxs(sentence) for sentence in test_sentences  ]"
   ]
  },
  {
   "cell_type": "markdown",
   "metadata": {
    "id": "G8Tuu18omsiv"
   },
   "source": [
    "We use [a Tensorflow function](https://www.tensorflow.org/api_docs/python/tf/keras/preprocessing/sequence/pad_sequences) to automatically apply padding to the sequences.\n",
    "\n",
    "In theory, padding should bring all tensors to have as many elements as the longest sentence. We have analyzed before that the training set has some outliers and the longest sequence contains 250 elements, but bringing all sequences to have 250 elements is clearly a waste of memory.\n",
    "\n",
    "Instead, we choose to fix a maximum length similar to the other splits. This will cut a part of the outlier training sentences, but since they are only used for training it shouldn't be a big problem."
   ]
  },
  {
   "cell_type": "code",
   "execution_count": 28,
   "metadata": {
    "colab": {
     "base_uri": "https://localhost:8080/"
    },
    "id": "argIjLIXmsiv",
    "outputId": "0ae51f9a-2c39-44db-9c32-6d5046756ffe"
   },
   "outputs": [
    {
     "name": "stdout",
     "output_type": "stream",
     "text": [
      "Max length in training set: 250\n",
      "Max length in validation set: 88\n",
      "Max length in test set: 80\n"
     ]
    }
   ],
   "source": [
    "print(\"Max length in training set: {}\".format(max_train))\n",
    "print(\"Max length in validation set: {}\".format(max_val))\n",
    "print(\"Max length in test set: {}\".format(max_test))"
   ]
  },
  {
   "cell_type": "code",
   "execution_count": 29,
   "metadata": {
    "colab": {
     "base_uri": "https://localhost:8080/"
    },
    "id": "8TjNQCyGmsiw",
    "outputId": "ad923b9d-385a-4661-ff66-309212348aa9"
   },
   "outputs": [
    {
     "name": "stdout",
     "output_type": "stream",
     "text": [
      "We choose 88 as maximum length\n"
     ]
    }
   ],
   "source": [
    "SEQ_MAX_LEN = max(max_val, max_test)\n",
    "print(\"We choose {} as maximum length\".format(SEQ_MAX_LEN))"
   ]
  },
  {
   "cell_type": "markdown",
   "metadata": {
    "id": "VTvhsxS3msiw"
   },
   "source": [
    "If we choose 88 as maximum length for all sequences, only a very small part of the training sentences are cut."
   ]
  },
  {
   "cell_type": "code",
   "execution_count": 30,
   "metadata": {
    "colab": {
     "base_uri": "https://localhost:8080/"
    },
    "id": "zeI0USCNmsiw",
    "outputId": "b642a2c3-9d2c-4516-dd88-9c3860f7db77"
   },
   "outputs": [
    {
     "name": "stdout",
     "output_type": "stream",
     "text": [
      "We keep 1931/1936 (over 99.7417%) of the training sentences\n"
     ]
    }
   ],
   "source": [
    "kept_sentences = np.sum(len_train < SEQ_MAX_LEN)\n",
    "total_sentences = len(len_train)\n",
    "print(\"We keep {}/{} (over {:.4f}%) of the training sentences\".format(\n",
    "    kept_sentences, total_sentences, \n",
    "    kept_sentences / total_sentences * 100\n",
    "))"
   ]
  },
  {
   "cell_type": "code",
   "execution_count": 31,
   "metadata": {
    "id": "4idbFhlEmsiw"
   },
   "outputs": [],
   "source": [
    "X_train = keras.preprocessing.sequence.pad_sequences(\n",
    "    X_train, maxlen=SEQ_MAX_LEN, truncating='post',   # truncating='post' means that we cut the last part of the sentence\n",
    "    padding='post'\n",
    ")\n",
    "\n",
    "X_val = keras.preprocessing.sequence.pad_sequences(X_val, padding='post', maxlen=SEQ_MAX_LEN) # No cutting\n",
    "X_test = keras.preprocessing.sequence.pad_sequences(X_test, padding='post', maxlen=SEQ_MAX_LEN) # No cutting"
   ]
  },
  {
   "cell_type": "markdown",
   "metadata": {
    "id": "ZYzHwk-ymsiw"
   },
   "source": [
    "Then, we also need to encode labels as numbers. Of course, since we padded our sentences, we also need to pad the labels for batch processing. We use 0 as the *padding label* and use the previous structure computed for visualizing the tags distribution for the rest of the list."
   ]
  },
  {
   "cell_type": "code",
   "execution_count": 32,
   "metadata": {
    "colab": {
     "base_uri": "https://localhost:8080/"
    },
    "id": "fEzHwSS4msiw",
    "outputId": "4f159b19-35e1-4e96-9795-f53fc8fa0322"
   },
   "outputs": [
    {
     "name": "stdout",
     "output_type": "stream",
     "text": [
      "DEBUG: index 0 --> label <PAD> --> index 0\n"
     ]
    }
   ],
   "source": [
    "LABELS = ['<PAD>'] + list(tags_distribution.index)\n",
    "\n",
    "def labels_to_idx(label: str):\n",
    "    return LABELS.index(label)\n",
    "\n",
    "def idx_to_label(idx: int):\n",
    "    return LABELS[idx]\n",
    "\n",
    "print(\"DEBUG: index 0 --> label {} --> index {}\".format(idx_to_label(0), labels_to_idx(idx_to_label(0))))"
   ]
  },
  {
   "cell_type": "markdown",
   "metadata": {
    "id": "Vh2rJnfQmsix"
   },
   "source": [
    "With these functions we can convert labels into proper targets for our neural network to learn."
   ]
  },
  {
   "cell_type": "code",
   "execution_count": 33,
   "metadata": {
    "id": "Z6o-UOpBmsix"
   },
   "outputs": [],
   "source": [
    "y_train = [ seq['tag'].apply(labels_to_idx) for seq in train_sentences]\n",
    "y_val   = [ seq['tag'].apply(labels_to_idx) for seq in val_sentences  ]\n",
    "y_test  = [ seq['tag'].apply(labels_to_idx) for seq in test_sentences ]"
   ]
  },
  {
   "cell_type": "markdown",
   "metadata": {
    "id": "G9QVGq7Cmsix"
   },
   "source": [
    "Then, we apply padding."
   ]
  },
  {
   "cell_type": "code",
   "execution_count": 34,
   "metadata": {
    "id": "LtdqPmOFmsix"
   },
   "outputs": [],
   "source": [
    "y_train = keras.preprocessing.sequence.pad_sequences(\n",
    "    y_train, maxlen=SEQ_MAX_LEN, truncating='post',   # truncating='post' means that we cut the last part of the sentence's labels\n",
    "    padding='post'\n",
    ")\n",
    "\n",
    "y_val = keras.preprocessing.sequence.pad_sequences(y_val, padding='post', maxlen=SEQ_MAX_LEN) # No cutting\n",
    "y_test = keras.preprocessing.sequence.pad_sequences(y_test, padding='post', maxlen=SEQ_MAX_LEN) # No cutting"
   ]
  },
  {
   "cell_type": "markdown",
   "metadata": {
    "id": "oANhnXqXmsix"
   },
   "source": [
    "Finally, we can easily create the Dataset object using Keras's functionalities."
   ]
  },
  {
   "cell_type": "code",
   "execution_count": 35,
   "metadata": {
    "colab": {
     "base_uri": "https://localhost:8080/"
    },
    "id": "RyrxVPEmmsix",
    "outputId": "4a3110b3-9294-47fd-bf07-33e5a9d24325"
   },
   "outputs": [
    {
     "name": "stdout",
     "output_type": "stream",
     "text": [
      "Train dataset is: <BatchDataset shapes: ((None, 88), (None, 88)), types: (tf.int32, tf.int32)>\n",
      "Train dataset is: <BatchDataset shapes: ((None, 88), (None, 88)), types: (tf.int32, tf.int32)>\n",
      "Train dataset is: <BatchDataset shapes: ((None, 88), (None, 88)), types: (tf.int32, tf.int32)>\n"
     ]
    },
    {
     "name": "stderr",
     "output_type": "stream",
     "text": [
      "2021-12-16 23:42:09.463577: I tensorflow/stream_executor/cuda/cuda_gpu_executor.cc:939] successful NUMA node read from SysFS had negative value (-1), but there must be at least one NUMA node, so returning NUMA node zero\n",
      "2021-12-16 23:42:09.472821: I tensorflow/stream_executor/cuda/cuda_gpu_executor.cc:939] successful NUMA node read from SysFS had negative value (-1), but there must be at least one NUMA node, so returning NUMA node zero\n",
      "2021-12-16 23:42:09.473171: I tensorflow/stream_executor/cuda/cuda_gpu_executor.cc:939] successful NUMA node read from SysFS had negative value (-1), but there must be at least one NUMA node, so returning NUMA node zero\n",
      "2021-12-16 23:42:09.473970: I tensorflow/core/platform/cpu_feature_guard.cc:151] This TensorFlow binary is optimized with oneAPI Deep Neural Network Library (oneDNN) to use the following CPU instructions in performance-critical operations:  AVX2 FMA\n",
      "To enable them in other operations, rebuild TensorFlow with the appropriate compiler flags.\n",
      "2021-12-16 23:42:09.474579: I tensorflow/stream_executor/cuda/cuda_gpu_executor.cc:939] successful NUMA node read from SysFS had negative value (-1), but there must be at least one NUMA node, so returning NUMA node zero\n",
      "2021-12-16 23:42:09.474937: I tensorflow/stream_executor/cuda/cuda_gpu_executor.cc:939] successful NUMA node read from SysFS had negative value (-1), but there must be at least one NUMA node, so returning NUMA node zero\n",
      "2021-12-16 23:42:09.475251: I tensorflow/stream_executor/cuda/cuda_gpu_executor.cc:939] successful NUMA node read from SysFS had negative value (-1), but there must be at least one NUMA node, so returning NUMA node zero\n",
      "2021-12-16 23:42:09.772678: I tensorflow/stream_executor/cuda/cuda_gpu_executor.cc:939] successful NUMA node read from SysFS had negative value (-1), but there must be at least one NUMA node, so returning NUMA node zero\n",
      "2021-12-16 23:42:09.773022: I tensorflow/stream_executor/cuda/cuda_gpu_executor.cc:939] successful NUMA node read from SysFS had negative value (-1), but there must be at least one NUMA node, so returning NUMA node zero\n",
      "2021-12-16 23:42:09.773325: I tensorflow/stream_executor/cuda/cuda_gpu_executor.cc:939] successful NUMA node read from SysFS had negative value (-1), but there must be at least one NUMA node, so returning NUMA node zero\n",
      "2021-12-16 23:42:09.773613: I tensorflow/core/common_runtime/gpu/gpu_device.cc:1525] Created device /job:localhost/replica:0/task:0/device:GPU:0 with 5702 MB memory:  -> device: 0, name: NVIDIA GeForce RTX 3070, pci bus id: 0000:2b:00.0, compute capability: 8.6\n"
     ]
    }
   ],
   "source": [
    "train_dataset = tf.data.Dataset.from_tensor_slices((X_train, y_train)).batch(BATCH_SIZE)\n",
    "val_dataset = tf.data.Dataset.from_tensor_slices((X_val, y_val)).batch(BATCH_SIZE)\n",
    "test_dataset = tf.data.Dataset.from_tensor_slices((X_test, y_test)).batch(BATCH_SIZE)\n",
    "\n",
    "print(\"Train dataset is: {}\".format(train_dataset))\n",
    "print(\"Train dataset is: {}\".format(val_dataset  ))\n",
    "print(\"Train dataset is: {}\".format(test_dataset ))"
   ]
  },
  {
   "cell_type": "markdown",
   "metadata": {
    "id": "iyWUaXqumsiy"
   },
   "source": [
    "### Building the baseline model"
   ]
  },
  {
   "cell_type": "markdown",
   "metadata": {
    "id": "p_CksLtrmsiy"
   },
   "source": [
    "Now that we have our dataset splits, we can start building our baseline model.\n"
   ]
  },
  {
   "cell_type": "markdown",
   "metadata": {
    "id": "LMdsT5wCmsiy"
   },
   "source": [
    "As a baseline model, we create a network composed by a (non-trainable) Embedding layer, a single Bidirectional LSTM layer and a Time-Distributed Dense layer on top.\n",
    "\n",
    "We need the [Time-Distributed](https://keras.io/api/layers/recurrent_layers/time_distributed/) Dense Layer to produce sequences of outputs of the same length of the input. "
   ]
  },
  {
   "cell_type": "code",
   "execution_count": 36,
   "metadata": {
    "id": "sV4pHpNzmsiy"
   },
   "outputs": [],
   "source": [
    "def build_baseline_model(compiling_info:Dict,\n",
    "                         embedding_matrix:np.array=embedding_matrix, \n",
    "                         lstm_size:int=128, \n",
    "                         out_size:int=len(LABELS),\n",
    "                         verbose:bool=True\n",
    "                         ) -> keras.Model:\n",
    "    inputs = layers.Input(shape=(SEQ_MAX_LEN, ), name=\"input\")\n",
    "    # Step 1: The embedding layer\n",
    "    embeddings = layers.Embedding(\n",
    "        input_dim=embedding_matrix.shape[0],\n",
    "        output_dim=embedding_matrix.shape[1],\n",
    "        mask_zero=True,             # Produces masks for padding tokens so that later layers (eg. recurrent layers) will ignore them.\n",
    "        input_length=SEQ_MAX_LEN,\n",
    "        weights=[embedding_matrix], # Set the weights of the layer using our pre-build embedding matrix.\n",
    "        name=\"embedding_layer\",\n",
    "        trainable=False             # Set trainable to False: the embeddings must be completely static.\n",
    "    )(inputs)\n",
    "    # Step 2: Bidirectional LSTM\n",
    "    x = layers.Bidirectional(layers.LSTM(lstm_size, return_sequences=True), # Produce all output sequences\n",
    "        merge_mode='concat',         # Concatenate the outputs from the two directions\n",
    "        name='bidirectional_lstm'\n",
    "    )(embeddings)\n",
    "    # Step 3: Time-Distributed Dense Layer\n",
    "    logits = layers.TimeDistributed(\n",
    "        layers.Dense(out_size),      # We use one-hot encoding, so the output size must be equal to the number of tokens.\n",
    "        name=\"time_distributed_dense\"\n",
    "    )(x)\n",
    "    outputs = layers.Activation('softmax', name='softmax')(logits)  # Apply softmax to produce a proper probability distribution\n",
    "    model = keras.Model(inputs, outputs, name=\"baseline_model\")     # Instantiate the model using Keras's functional API\n",
    "    if verbose:\n",
    "        model.summary()                 # Produce a summary of the model\n",
    "    model.compile(**compiling_info) # Compile the model using the chosen compilation parameters\n",
    "    return model"
   ]
  },
  {
   "cell_type": "markdown",
   "metadata": {
    "id": "fageoN5cmsiy"
   },
   "source": [
    "The model outputs a sequence of probability distributions (eg. `[88, 46]` tensors, with a tensor of 46 probabilities for each of the 88 tokens in the sentence), so to compare this with our labels we need to either:\n",
    "- Transform the labels into one-hot encoded labels\n",
    "- Transform the probability distribution into a single value by taking the $argmax$\n",
    "    - In reality, we can instead use the `SparseCategoricalCrossentropy` loss function by Keras that works by passing indexes rather than one-hot encoded labels.\n",
    "\n",
    "Between the two, we choose the second alternative because it's more efficient."
   ]
  },
  {
   "cell_type": "code",
   "execution_count": 37,
   "metadata": {
    "colab": {
     "base_uri": "https://localhost:8080/"
    },
    "id": "Vk-OhngWmsiy",
    "outputId": "bcab96d0-6c4c-4be6-b166-953299f4aa79"
   },
   "outputs": [
    {
     "name": "stdout",
     "output_type": "stream",
     "text": [
      "Model: \"baseline_model\"\n",
      "_________________________________________________________________\n",
      " Layer (type)                Output Shape              Param #   \n",
      "=================================================================\n",
      " input (InputLayer)          [(None, 88)]              0         \n",
      "                                                                 \n",
      " embedding_layer (Embedding)  (None, 88, 100)          40067700  \n",
      "                                                                 \n",
      " bidirectional_lstm (Bidirec  (None, 88, 256)          234496    \n",
      " tional)                                                         \n",
      "                                                                 \n",
      " time_distributed_dense (Tim  (None, 88, 46)           11822     \n",
      " eDistributed)                                                   \n",
      "                                                                 \n",
      " softmax (Activation)        (None, 88, 46)            0         \n",
      "                                                                 \n",
      "=================================================================\n",
      "Total params: 40,314,018\n",
      "Trainable params: 246,318\n",
      "Non-trainable params: 40,067,700\n",
      "_________________________________________________________________\n"
     ]
    }
   ],
   "source": [
    "COMPILING_INFO = {\n",
    "    'optimizer': keras.optimizers.Adam(learning_rate=1e-3), # Adam optimizer\n",
    "    'loss': 'sparse_categorical_crossentropy',              # Categorical crossentropy between probability distributions\n",
    "    'metrics': [keras.metrics.SparseCategoricalAccuracy()],\n",
    "}\n",
    "\n",
    "baseline_model = build_baseline_model(COMPILING_INFO)"
   ]
  },
  {
   "cell_type": "markdown",
   "metadata": {
    "id": "JSNQp57bmsiz"
   },
   "source": [
    "We run two epochs of training to check that everything is working properly."
   ]
  },
  {
   "cell_type": "code",
   "execution_count": 38,
   "metadata": {
    "colab": {
     "base_uri": "https://localhost:8080/"
    },
    "id": "pUFbPVt_msiz",
    "outputId": "8de738aa-098c-415a-b484-6dec2801f197"
   },
   "outputs": [
    {
     "name": "stdout",
     "output_type": "stream",
     "text": [
      "Epoch 1/2\n"
     ]
    },
    {
     "name": "stderr",
     "output_type": "stream",
     "text": [
      "2021-12-16 23:42:14.566178: I tensorflow/stream_executor/cuda/cuda_dnn.cc:366] Loaded cuDNN version 8301\n",
      "Could not load symbol cublasGetSmCountTarget from libcublas.so.11. Error: /usr/local/cuda-11.2/targets/x86_64-linux/lib/libcublas.so.11: undefined symbol: cublasGetSmCountTarget\n",
      "2021-12-16 23:42:14.655117: I tensorflow/stream_executor/cuda/cuda_blas.cc:1774] TensorFloat-32 will be used for the matrix multiplication. This will only be logged once.\n"
     ]
    },
    {
     "name": "stdout",
     "output_type": "stream",
     "text": [
      "16/16 [==============================] - 6s 101ms/step - loss: 0.8855 - sparse_categorical_accuracy: 0.1712 - val_loss: 0.7792 - val_sparse_categorical_accuracy: 0.3784\n",
      "Epoch 2/2\n",
      "16/16 [==============================] - 0s 14ms/step - loss: 0.7017 - sparse_categorical_accuracy: 0.3733 - val_loss: 0.6450 - val_sparse_categorical_accuracy: 0.4455\n"
     ]
    },
    {
     "data": {
      "text/plain": [
       "<keras.callbacks.History at 0x7f54575623a0>"
      ]
     },
     "execution_count": 38,
     "metadata": {},
     "output_type": "execute_result"
    }
   ],
   "source": [
    "baseline_model.fit(\n",
    "    train_dataset, \n",
    "    batch_size=BATCH_SIZE, \n",
    "    epochs=2, \n",
    "    validation_data=val_dataset, \n",
    "    shuffle=True,\n",
    "    verbose=1\n",
    ")"
   ]
  },
  {
   "cell_type": "markdown",
   "metadata": {
    "id": "-_AwgXE0msiz"
   },
   "source": [
    "The loss is decreasing and the accuracy is growing as it should. We can move on and experiment with some more architectures."
   ]
  },
  {
   "cell_type": "markdown",
   "metadata": {
    "id": "bUb_4hftmsiz"
   },
   "source": [
    "## Experiments"
   ]
  },
  {
   "cell_type": "markdown",
   "metadata": {
    "id": "LVchP-22msiz"
   },
   "source": [
    "### Architectural Experiments"
   ]
  },
  {
   "cell_type": "markdown",
   "metadata": {
    "id": "QJAOpIvKmsi0"
   },
   "source": [
    "We try some variants of this baseline architecture, namely:\n",
    "- We try to use a GRU instead of an LSTM\n",
    "- We try adding an additional LSTM layer\n",
    "- We try to add an additional dense layer"
   ]
  },
  {
   "cell_type": "markdown",
   "metadata": {
    "id": "qrhc4sOOmsi0"
   },
   "source": [
    "#### 1. GRU"
   ]
  },
  {
   "cell_type": "markdown",
   "metadata": {
    "id": "s6AFho7amsi0"
   },
   "source": [
    "We try to use a different recurrent cell architecture: the [GRU](https://arxiv.org/abs/1406.1078)."
   ]
  },
  {
   "cell_type": "code",
   "execution_count": 39,
   "metadata": {
    "id": "pPxFRVLHmsi0"
   },
   "outputs": [],
   "source": [
    "def build_GRU_model(compiling_info: Dict,\n",
    "                    embedding_matrix:np.array=embedding_matrix, \n",
    "                    gru_size:int=128, \n",
    "                    out_size:int=len(LABELS),\n",
    "                    verbose:bool=True\n",
    "                    ) -> keras.Model:\n",
    "    # The structure is pretty much the same, up until the Bidirectional layer\n",
    "    inputs = layers.Input(shape=(SEQ_MAX_LEN, ), name=\"input\")\n",
    "    embeddings = layers.Embedding(\n",
    "        input_dim=embedding_matrix.shape[0],\n",
    "        output_dim=embedding_matrix.shape[1],\n",
    "        mask_zero=True,             \n",
    "        input_length=SEQ_MAX_LEN,\n",
    "        weights=[embedding_matrix],\n",
    "        name=\"embedding_layer\",\n",
    "        trainable=False\n",
    "    )(inputs)\n",
    "    # DIFFERENCE: Bidirectional GRU\n",
    "    x = layers.Bidirectional(layers.GRU(gru_size, return_sequences=True), # Keras has pretty much the same API for all RNNs\n",
    "        merge_mode='concat',\n",
    "        name='bidirectional_gru'\n",
    "    )(embeddings)\n",
    "    logits = layers.TimeDistributed(\n",
    "        layers.Dense(out_size),\n",
    "        name=\"time_distributed_dense\"\n",
    "    )(x)\n",
    "    outputs = layers.Activation('softmax', name='softmax')(logits)\n",
    "    \n",
    "    model = keras.Model(inputs, outputs, name=\"gru_model\") \n",
    "    \n",
    "    if verbose:\n",
    "        model.summary()                 # Produce a summary of the model\n",
    "    model.compile(**compiling_info) # Compile the model using the chosen compilation parameters\n",
    "\n",
    "    return model"
   ]
  },
  {
   "cell_type": "markdown",
   "metadata": {
    "id": "00ftF0ylmsi0"
   },
   "source": [
    "#### 2. Additional Dense Layer"
   ]
  },
  {
   "cell_type": "markdown",
   "metadata": {
    "id": "PylHPyRrmsi0"
   },
   "source": [
    "We try to make the classification part of the model a little deeper."
   ]
  },
  {
   "cell_type": "code",
   "execution_count": 40,
   "metadata": {
    "id": "3tcv7ZSTmsi1"
   },
   "outputs": [],
   "source": [
    "def build_densex2_model(compiling_info: Dict,\n",
    "                        embedding_matrix:np.array=embedding_matrix, \n",
    "                        lstm_size:int=128, \n",
    "                        dense_1_size:int=128,\n",
    "                        out_size:int=len(LABELS),\n",
    "                        verbose:bool=True\n",
    "                        ) -> keras.Model:\n",
    "    # The structure is pretty much the same, up until the classificator part\n",
    "    inputs = layers.Input(shape=(SEQ_MAX_LEN, ), name=\"input\")\n",
    "    embeddings = layers.Embedding(\n",
    "        input_dim=embedding_matrix.shape[0],\n",
    "        output_dim=embedding_matrix.shape[1],\n",
    "        mask_zero=True,             \n",
    "        input_length=SEQ_MAX_LEN,\n",
    "        weights=[embedding_matrix],\n",
    "        name=\"embedding_layer\",\n",
    "        trainable=False\n",
    "    )(inputs)\n",
    "    x = layers.Bidirectional(layers.LSTM(lstm_size, return_sequences=True),\n",
    "        merge_mode='concat',\n",
    "        name='bidirectional_lstm'\n",
    "    )(embeddings)\n",
    "    x = layers.TimeDistributed(\n",
    "        layers.Dense(dense_1_size),     # We reduce the RNN representation to 128 before dropping down to the final probability distribution \n",
    "        name=\"time_distributed_dense_1\"\n",
    "    )(x)\n",
    "    logits = layers.TimeDistributed(\n",
    "        layers.Dense(out_size),\n",
    "        name=\"time_distributed_dense_2\"\n",
    "    )(x)\n",
    "    outputs = layers.Activation('softmax', name='softmax')(logits)\n",
    "\n",
    "    model = keras.Model(inputs, outputs, name=\"deeper_classification_model\") \n",
    "\n",
    "    if verbose:\n",
    "        model.summary()                 # Produce a summary of the model\n",
    "    model.compile(**compiling_info) # Compile the model using the chosen compilation parameters\n",
    "\n",
    "    return model"
   ]
  },
  {
   "cell_type": "markdown",
   "metadata": {
    "id": "4FWDgT57msi1"
   },
   "source": [
    "#### 3. Additional LSTM layer"
   ]
  },
  {
   "cell_type": "markdown",
   "metadata": {
    "id": "9-Gwgfummsi1"
   },
   "source": [
    "We try to make the recurrent part of the network a little deeper."
   ]
  },
  {
   "cell_type": "code",
   "execution_count": 41,
   "metadata": {
    "id": "YnIKNXJzmsi1"
   },
   "outputs": [],
   "source": [
    "def build_lstmx2_model( compiling_info: Dict,\n",
    "                        embedding_matrix:np.array=embedding_matrix, \n",
    "                        lstm_1_size:int=128, \n",
    "                        lstm_2_size:int=64,\n",
    "                        out_size:int=len(LABELS),\n",
    "                        verbose:bool=True\n",
    "                        ) -> keras.Model:\n",
    "    # The structure is pretty much the same, but we have two bidirectional LSTM layers\n",
    "    inputs = layers.Input(shape=(SEQ_MAX_LEN, ), name=\"input\")\n",
    "    embeddings = layers.Embedding(\n",
    "        input_dim=embedding_matrix.shape[0],\n",
    "        output_dim=embedding_matrix.shape[1],\n",
    "        mask_zero=True,             \n",
    "        input_length=SEQ_MAX_LEN,\n",
    "        weights=[embedding_matrix],\n",
    "        name=\"embedding_layer\",\n",
    "        trainable=False\n",
    "    )(inputs)\n",
    "    x = layers.Bidirectional(layers.LSTM(lstm_1_size, return_sequences=True),\n",
    "        merge_mode='concat',\n",
    "        name='bidirectional_lstm_1'\n",
    "    )(embeddings)\n",
    "    # We add an additional Bidirectional LSTM layer with reduced output size\n",
    "    x = layers.Bidirectional(layers.LSTM(lstm_2_size, return_sequences=True),\n",
    "        merge_mode='concat',\n",
    "        name='bidirectional_lstm_2'\n",
    "    )(x)\n",
    "    logits = layers.TimeDistributed(\n",
    "        layers.Dense(out_size),\n",
    "        name=\"time_distributed_dense\"\n",
    "    )(x)\n",
    "    outputs = layers.Activation('softmax', name='softmax')(logits)\n",
    "\n",
    "    model = keras.Model(inputs, outputs, name=\"deeper_rnn_model\") \n",
    "\n",
    "    if verbose:\n",
    "        model.summary()                 # Produce a summary of the model\n",
    "    model.compile(**compiling_info) # Compile the model using the chosen compilation parameters\n",
    "    \n",
    "    return model"
   ]
  },
  {
   "cell_type": "markdown",
   "metadata": {
    "id": "aCXnQU8hmsi1"
   },
   "source": [
    "### Evaluation of the architectural changes"
   ]
  },
  {
   "cell_type": "markdown",
   "metadata": {
    "id": "CtHFJcBEmsi1"
   },
   "source": [
    "We explore which architectural change was more successful with respect to the baseline performance. To do this, we set up a checkpoint management pipeline, that is luckily handled by [Keras's callbacks](https://keras.io/api/callbacks/)(https://www.tensorflow.org/tensorboard)."
   ]
  },
  {
   "cell_type": "markdown",
   "metadata": {
    "id": "l7R5utl7msi2"
   },
   "source": [
    "Here we define our training pipeline. In particular:\n",
    "- We use the [`EarlyStopping`](https://keras.io/api/callbacks/early_stopping/) callback to dynamically stop trainings whenever the validation categorical accuracy does not increase after 10 epochs\n",
    "- We save model weights into the `training` folder\n",
    "- Model weights are saved automatically by the [`ModelCheckpoint`](https://keras.io/api/callbacks/model_checkpoint/) callback\n",
    "- Note: we wanted to use TensorBoard for visualization, but for some reason it uses so much RAM that Colab crashes and our home PCs slow down. Some comments online suggest that it's a possible memory leak in the Keras version we have used, but we're not completely sure. For now, the callback has been commented out. "
   ]
  },
  {
   "cell_type": "code",
   "execution_count": 42,
   "metadata": {
    "id": "vzl8QKaxmsi2"
   },
   "outputs": [],
   "source": [
    "EPOCHS = 70\n",
    "histories = {}\n",
    "\n",
    "def train_all(models_to_train: List[partial]):\n",
    "    '''\n",
    "    Trains models from a list of functions returning model (for efficiency)\n",
    "    It also manages TensorBoard logs and saves the best obtained weights.\n",
    "\n",
    "    Inputs:\n",
    "    - models_to_train: A List of models to be trained.\n",
    "\n",
    "    Side-Effects:\n",
    "    - TensorBoard saves logs into the \"logs/fit\" folder. If it doesn't exist, the folder is created automatically.\n",
    "    - The \"training\" folder is created and a Keras callback stores the best weights obtaind for the model in it.\n",
    "        - Note: models are saved by their names, so give expressive names to different models!\n",
    "    - The \"histories.json\" file is created at the end of the training procedure, containing the history of metrics for the training.\n",
    "    '''\n",
    "    # Creates the logs/fit folder if needed\n",
    "    os.makedirs('logs/fit', exist_ok=True)\n",
    "    # Creates the training folder if needed\n",
    "    os.makedirs('training', exist_ok=True)\n",
    "    for model_func in models_to_train:\n",
    "        model = model_func()\n",
    "        name = model.name\n",
    "        print(\"Training model {}\".format(name))\n",
    "        # Store the logs inside different subdirectories\n",
    "        log_dir = os.path.join(\"logs\", \"fit\", name + datetime.datetime.now().strftime(\"%Y%m%d-%H%M%S\"))\n",
    "        tensorboard_callback = keras.callbacks.TensorBoard(log_dir=log_dir, histogram_freq=1)\n",
    "        # Save checkpoints of models\n",
    "        checkpoint_path = os.path.join(\"training\", model.name, \"cp-{epoch:04d}.ckpt\")\n",
    "        cp_callback = tf.keras.callbacks.ModelCheckpoint(filepath=checkpoint_path,\n",
    "            monitor='val_sparse_categorical_accuracy',\n",
    "            save_weights_only=True,\n",
    "            save_best_only=True,\n",
    "            verbose=1)\n",
    "        # Early stopping callback to avoid overfitting\n",
    "        early_stopping_callback = tf.keras.callbacks.EarlyStopping(\n",
    "            monitor=\"val_sparse_categorical_accuracy\",\n",
    "            patience=10,\n",
    "            verbose=1,\n",
    "            restore_best_weights=True\n",
    "        )\n",
    "        # We save the initial model weights...\n",
    "        model.save_weights(checkpoint_path.format(epoch=0))\n",
    "        # ...and then fit the model\n",
    "        history = model.fit(train_dataset, \n",
    "            epochs=EPOCHS, \n",
    "            batch_size=BATCH_SIZE,\n",
    "            validation_data=val_dataset, \n",
    "            shuffle=True,\n",
    "            callbacks=[\n",
    "                early_stopping_callback,\n",
    "                cp_callback\n",
    "                #tensorboard_callback,     # Seems to have problems, disabling for now.\n",
    "            ],\n",
    "            verbose=1\n",
    "        )\n",
    "\n",
    "        histories[name] = history.history\n",
    "\n",
    "    # Save histories\n",
    "    with open('histories.json', 'w') as file:\n",
    "        json.dump(histories, file)  "
   ]
  },
  {
   "cell_type": "markdown",
   "metadata": {
    "id": "wlyBF9F3msi2"
   },
   "source": [
    "Then we are ready to create and fit our models."
   ]
  },
  {
   "cell_type": "code",
   "execution_count": 43,
   "metadata": {
    "id": "HqpMdeUjmsi2"
   },
   "outputs": [],
   "source": [
    "models_to_train = [\n",
    "    partial(build_baseline_model, COMPILING_INFO),\n",
    "    partial(build_GRU_model, COMPILING_INFO),\n",
    "    partial(build_densex2_model, COMPILING_INFO),\n",
    "    partial(build_lstmx2_model, COMPILING_INFO)\n",
    "]"
   ]
  },
  {
   "cell_type": "code",
   "execution_count": 44,
   "metadata": {
    "colab": {
     "base_uri": "https://localhost:8080/"
    },
    "id": "m2YdVJs3msi2",
    "outputId": "4b466518-c9d5-4771-f238-7122c589421b",
    "scrolled": true,
    "tags": []
   },
   "outputs": [
    {
     "name": "stdout",
     "output_type": "stream",
     "text": [
      "Model: \"baseline_model\"\n",
      "_________________________________________________________________\n",
      " Layer (type)                Output Shape              Param #   \n",
      "=================================================================\n",
      " input (InputLayer)          [(None, 88)]              0         \n",
      "                                                                 \n",
      " embedding_layer (Embedding)  (None, 88, 100)          40067700  \n",
      "                                                                 \n",
      " bidirectional_lstm (Bidirec  (None, 88, 256)          234496    \n",
      " tional)                                                         \n",
      "                                                                 \n",
      " time_distributed_dense (Tim  (None, 88, 46)           11822     \n",
      " eDistributed)                                                   \n",
      "                                                                 \n",
      " softmax (Activation)        (None, 88, 46)            0         \n",
      "                                                                 \n",
      "=================================================================\n",
      "Total params: 40,314,018\n",
      "Trainable params: 246,318\n",
      "Non-trainable params: 40,067,700\n",
      "_________________________________________________________________\n",
      "Training model baseline_model\n",
      "Epoch 1/70\n",
      "11/16 [===================>..........] - ETA: 0s - loss: 0.9184 - sparse_categorical_accuracy: 0.2793\n",
      "Epoch 00001: val_sparse_categorical_accuracy improved from -inf to 0.34506, saving model to training/baseline_model/cp-0001.ckpt\n",
      "16/16 [==============================] - 6s 157ms/step - loss: 0.8818 - sparse_categorical_accuracy: 0.2831 - val_loss: 0.7587 - val_sparse_categorical_accuracy: 0.3451\n",
      "Epoch 2/70\n",
      "11/16 [===================>..........] - ETA: 0s - loss: 0.6850 - sparse_categorical_accuracy: 0.3761\n",
      "Epoch 00002: val_sparse_categorical_accuracy improved from 0.34506 to 0.48918, saving model to training/baseline_model/cp-0002.ckpt\n",
      "16/16 [==============================] - 1s 62ms/step - loss: 0.6633 - sparse_categorical_accuracy: 0.4038 - val_loss: 0.5820 - val_sparse_categorical_accuracy: 0.4892\n",
      "Epoch 3/70\n",
      "11/16 [===================>..........] - ETA: 0s - loss: 0.5130 - sparse_categorical_accuracy: 0.5290\n",
      "Epoch 00003: val_sparse_categorical_accuracy improved from 0.48918 to 0.61046, saving model to training/baseline_model/cp-0003.ckpt\n",
      "16/16 [==============================] - 1s 66ms/step - loss: 0.4927 - sparse_categorical_accuracy: 0.5520 - val_loss: 0.4276 - val_sparse_categorical_accuracy: 0.6105\n",
      "Epoch 4/70\n",
      "11/16 [===================>..........] - ETA: 0s - loss: 0.3742 - sparse_categorical_accuracy: 0.6620\n",
      "Epoch 00004: val_sparse_categorical_accuracy improved from 0.61046 to 0.70590, saving model to training/baseline_model/cp-0004.ckpt\n",
      "16/16 [==============================] - 1s 60ms/step - loss: 0.3614 - sparse_categorical_accuracy: 0.6759 - val_loss: 0.3295 - val_sparse_categorical_accuracy: 0.7059\n",
      "Epoch 5/70\n",
      "12/16 [=====================>........] - ETA: 0s - loss: 0.2854 - sparse_categorical_accuracy: 0.7433\n",
      "Epoch 00005: val_sparse_categorical_accuracy improved from 0.70590 to 0.75201, saving model to training/baseline_model/cp-0005.ckpt\n",
      "16/16 [==============================] - 1s 61ms/step - loss: 0.2823 - sparse_categorical_accuracy: 0.7478 - val_loss: 0.2712 - val_sparse_categorical_accuracy: 0.7520\n",
      "Epoch 6/70\n",
      "11/16 [===================>..........] - ETA: 0s - loss: 0.2401 - sparse_categorical_accuracy: 0.7839\n",
      "Epoch 00006: val_sparse_categorical_accuracy improved from 0.75201 to 0.78187, saving model to training/baseline_model/cp-0006.ckpt\n",
      "16/16 [==============================] - 1s 63ms/step - loss: 0.2351 - sparse_categorical_accuracy: 0.7874 - val_loss: 0.2343 - val_sparse_categorical_accuracy: 0.7819\n",
      "Epoch 7/70\n",
      "11/16 [===================>..........] - ETA: 0s - loss: 0.2079 - sparse_categorical_accuracy: 0.8080\n",
      "Epoch 00007: val_sparse_categorical_accuracy improved from 0.78187 to 0.80800, saving model to training/baseline_model/cp-0007.ckpt\n",
      "16/16 [==============================] - 1s 63ms/step - loss: 0.2042 - sparse_categorical_accuracy: 0.8121 - val_loss: 0.2086 - val_sparse_categorical_accuracy: 0.8080\n",
      "Epoch 8/70\n",
      "16/16 [==============================] - ETA: 0s - loss: 0.1820 - sparse_categorical_accuracy: 0.8336\n",
      "Epoch 00008: val_sparse_categorical_accuracy improved from 0.80800 to 0.82792, saving model to training/baseline_model/cp-0008.ckpt\n",
      "16/16 [==============================] - 1s 66ms/step - loss: 0.1820 - sparse_categorical_accuracy: 0.8336 - val_loss: 0.1897 - val_sparse_categorical_accuracy: 0.8279\n",
      "Epoch 9/70\n",
      "16/16 [==============================] - ETA: 0s - loss: 0.1653 - sparse_categorical_accuracy: 0.8498\n",
      "Epoch 00009: val_sparse_categorical_accuracy improved from 0.82792 to 0.84078, saving model to training/baseline_model/cp-0009.ckpt\n",
      "16/16 [==============================] - 1s 61ms/step - loss: 0.1653 - sparse_categorical_accuracy: 0.8498 - val_loss: 0.1751 - val_sparse_categorical_accuracy: 0.8408\n",
      "Epoch 10/70\n",
      "12/16 [=====================>........] - ETA: 0s - loss: 0.1525 - sparse_categorical_accuracy: 0.8593\n",
      "Epoch 00010: val_sparse_categorical_accuracy improved from 0.84078 to 0.84960, saving model to training/baseline_model/cp-0010.ckpt\n",
      "16/16 [==============================] - 1s 60ms/step - loss: 0.1522 - sparse_categorical_accuracy: 0.8619 - val_loss: 0.1638 - val_sparse_categorical_accuracy: 0.8496\n",
      "Epoch 11/70\n",
      "16/16 [==============================] - ETA: 0s - loss: 0.1417 - sparse_categorical_accuracy: 0.8699\n",
      "Epoch 00011: val_sparse_categorical_accuracy improved from 0.84960 to 0.85566, saving model to training/baseline_model/cp-0011.ckpt\n",
      "16/16 [==============================] - 1s 65ms/step - loss: 0.1417 - sparse_categorical_accuracy: 0.8699 - val_loss: 0.1548 - val_sparse_categorical_accuracy: 0.8557\n",
      "Epoch 12/70\n",
      "11/16 [===================>..........] - ETA: 0s - loss: 0.1348 - sparse_categorical_accuracy: 0.8736\n",
      "Epoch 00012: val_sparse_categorical_accuracy improved from 0.85566 to 0.86057, saving model to training/baseline_model/cp-0012.ckpt\n",
      "16/16 [==============================] - 1s 60ms/step - loss: 0.1330 - sparse_categorical_accuracy: 0.8763 - val_loss: 0.1473 - val_sparse_categorical_accuracy: 0.8606\n",
      "Epoch 13/70\n",
      "11/16 [===================>..........] - ETA: 0s - loss: 0.1273 - sparse_categorical_accuracy: 0.8790\n",
      "Epoch 00013: val_sparse_categorical_accuracy improved from 0.86057 to 0.86563, saving model to training/baseline_model/cp-0013.ckpt\n",
      "16/16 [==============================] - 1s 63ms/step - loss: 0.1257 - sparse_categorical_accuracy: 0.8815 - val_loss: 0.1410 - val_sparse_categorical_accuracy: 0.8656\n",
      "Epoch 14/70\n",
      "12/16 [=====================>........] - ETA: 0s - loss: 0.1195 - sparse_categorical_accuracy: 0.8841\n",
      "Epoch 00014: val_sparse_categorical_accuracy improved from 0.86563 to 0.86964, saving model to training/baseline_model/cp-0014.ckpt\n",
      "16/16 [==============================] - 1s 61ms/step - loss: 0.1193 - sparse_categorical_accuracy: 0.8862 - val_loss: 0.1356 - val_sparse_categorical_accuracy: 0.8696\n",
      "Epoch 15/70\n",
      "11/16 [===================>..........] - ETA: 0s - loss: 0.1152 - sparse_categorical_accuracy: 0.8893\n",
      "Epoch 00015: val_sparse_categorical_accuracy improved from 0.86964 to 0.87275, saving model to training/baseline_model/cp-0015.ckpt\n",
      "16/16 [==============================] - 1s 61ms/step - loss: 0.1138 - sparse_categorical_accuracy: 0.8912 - val_loss: 0.1310 - val_sparse_categorical_accuracy: 0.8728\n",
      "Epoch 16/70\n",
      "12/16 [=====================>........] - ETA: 0s - loss: 0.1089 - sparse_categorical_accuracy: 0.8932\n",
      "Epoch 00016: val_sparse_categorical_accuracy improved from 0.87275 to 0.87567, saving model to training/baseline_model/cp-0016.ckpt\n",
      "16/16 [==============================] - 1s 64ms/step - loss: 0.1088 - sparse_categorical_accuracy: 0.8948 - val_loss: 0.1269 - val_sparse_categorical_accuracy: 0.8757\n",
      "Epoch 17/70\n",
      "11/16 [===================>..........] - ETA: 0s - loss: 0.1056 - sparse_categorical_accuracy: 0.8973\n",
      "Epoch 00017: val_sparse_categorical_accuracy improved from 0.87567 to 0.87865, saving model to training/baseline_model/cp-0017.ckpt\n",
      "16/16 [==============================] - 1s 61ms/step - loss: 0.1044 - sparse_categorical_accuracy: 0.8989 - val_loss: 0.1232 - val_sparse_categorical_accuracy: 0.8787\n",
      "Epoch 18/70\n",
      "11/16 [===================>..........] - ETA: 0s - loss: 0.1015 - sparse_categorical_accuracy: 0.9015\n",
      "Epoch 00018: val_sparse_categorical_accuracy improved from 0.87865 to 0.88147, saving model to training/baseline_model/cp-0018.ckpt\n",
      "16/16 [==============================] - 1s 65ms/step - loss: 0.1003 - sparse_categorical_accuracy: 0.9032 - val_loss: 0.1200 - val_sparse_categorical_accuracy: 0.8815\n",
      "Epoch 19/70\n",
      "16/16 [==============================] - ETA: 0s - loss: 0.0965 - sparse_categorical_accuracy: 0.9064\n",
      "Epoch 00019: val_sparse_categorical_accuracy improved from 0.88147 to 0.88359, saving model to training/baseline_model/cp-0019.ckpt\n",
      "16/16 [==============================] - 1s 61ms/step - loss: 0.0965 - sparse_categorical_accuracy: 0.9064 - val_loss: 0.1171 - val_sparse_categorical_accuracy: 0.8836\n",
      "Epoch 20/70\n",
      "12/16 [=====================>........] - ETA: 0s - loss: 0.0930 - sparse_categorical_accuracy: 0.9084\n",
      "Epoch 00020: val_sparse_categorical_accuracy improved from 0.88359 to 0.88635, saving model to training/baseline_model/cp-0020.ckpt\n",
      "16/16 [==============================] - 1s 63ms/step - loss: 0.0930 - sparse_categorical_accuracy: 0.9098 - val_loss: 0.1146 - val_sparse_categorical_accuracy: 0.8863\n",
      "Epoch 21/70\n",
      "11/16 [===================>..........] - ETA: 0s - loss: 0.0907 - sparse_categorical_accuracy: 0.9113\n",
      "Epoch 00021: val_sparse_categorical_accuracy improved from 0.88635 to 0.88901, saving model to training/baseline_model/cp-0021.ckpt\n",
      "16/16 [==============================] - 1s 64ms/step - loss: 0.0897 - sparse_categorical_accuracy: 0.9127 - val_loss: 0.1123 - val_sparse_categorical_accuracy: 0.8890\n",
      "Epoch 22/70\n",
      "16/16 [==============================] - ETA: 0s - loss: 0.0866 - sparse_categorical_accuracy: 0.9163\n",
      "Epoch 00022: val_sparse_categorical_accuracy improved from 0.88901 to 0.89106, saving model to training/baseline_model/cp-0022.ckpt\n",
      "16/16 [==============================] - 1s 63ms/step - loss: 0.0866 - sparse_categorical_accuracy: 0.9163 - val_loss: 0.1103 - val_sparse_categorical_accuracy: 0.8911\n",
      "Epoch 23/70\n",
      "16/16 [==============================] - ETA: 0s - loss: 0.0837 - sparse_categorical_accuracy: 0.9192\n",
      "Epoch 00023: val_sparse_categorical_accuracy improved from 0.89106 to 0.89241, saving model to training/baseline_model/cp-0023.ckpt\n",
      "16/16 [==============================] - 1s 66ms/step - loss: 0.0837 - sparse_categorical_accuracy: 0.9192 - val_loss: 0.1084 - val_sparse_categorical_accuracy: 0.8924\n",
      "Epoch 24/70\n",
      "12/16 [=====================>........] - ETA: 0s - loss: 0.0808 - sparse_categorical_accuracy: 0.9211\n",
      "Epoch 00024: val_sparse_categorical_accuracy improved from 0.89241 to 0.89379, saving model to training/baseline_model/cp-0024.ckpt\n",
      "16/16 [==============================] - 1s 62ms/step - loss: 0.0809 - sparse_categorical_accuracy: 0.9220 - val_loss: 0.1068 - val_sparse_categorical_accuracy: 0.8938\n",
      "Epoch 25/70\n",
      "16/16 [==============================] - ETA: 0s - loss: 0.0782 - sparse_categorical_accuracy: 0.9247\n",
      "Epoch 00025: val_sparse_categorical_accuracy improved from 0.89379 to 0.89469, saving model to training/baseline_model/cp-0025.ckpt\n",
      "16/16 [==============================] - 1s 61ms/step - loss: 0.0782 - sparse_categorical_accuracy: 0.9247 - val_loss: 0.1053 - val_sparse_categorical_accuracy: 0.8947\n",
      "Epoch 26/70\n",
      "11/16 [===================>..........] - ETA: 0s - loss: 0.0764 - sparse_categorical_accuracy: 0.9266\n",
      "Epoch 00026: val_sparse_categorical_accuracy improved from 0.89469 to 0.89587, saving model to training/baseline_model/cp-0026.ckpt\n",
      "16/16 [==============================] - 1s 62ms/step - loss: 0.0756 - sparse_categorical_accuracy: 0.9276 - val_loss: 0.1040 - val_sparse_categorical_accuracy: 0.8959\n",
      "Epoch 27/70\n",
      "11/16 [===================>..........] - ETA: 0s - loss: 0.0739 - sparse_categorical_accuracy: 0.9293\n",
      "Epoch 00027: val_sparse_categorical_accuracy improved from 0.89587 to 0.89664, saving model to training/baseline_model/cp-0027.ckpt\n",
      "16/16 [==============================] - 1s 63ms/step - loss: 0.0732 - sparse_categorical_accuracy: 0.9299 - val_loss: 0.1028 - val_sparse_categorical_accuracy: 0.8966\n",
      "Epoch 28/70\n",
      "12/16 [=====================>........] - ETA: 0s - loss: 0.0707 - sparse_categorical_accuracy: 0.9325\n",
      "Epoch 00028: val_sparse_categorical_accuracy improved from 0.89664 to 0.89709, saving model to training/baseline_model/cp-0028.ckpt\n",
      "16/16 [==============================] - 1s 64ms/step - loss: 0.0708 - sparse_categorical_accuracy: 0.9327 - val_loss: 0.1018 - val_sparse_categorical_accuracy: 0.8971\n",
      "Epoch 29/70\n",
      "16/16 [==============================] - ETA: 0s - loss: 0.0686 - sparse_categorical_accuracy: 0.9351\n",
      "Epoch 00029: val_sparse_categorical_accuracy improved from 0.89709 to 0.89764, saving model to training/baseline_model/cp-0029.ckpt\n",
      "16/16 [==============================] - 1s 63ms/step - loss: 0.0686 - sparse_categorical_accuracy: 0.9351 - val_loss: 0.1008 - val_sparse_categorical_accuracy: 0.8976\n",
      "Epoch 30/70\n",
      "11/16 [===================>..........] - ETA: 0s - loss: 0.0670 - sparse_categorical_accuracy: 0.9374\n",
      "Epoch 00030: val_sparse_categorical_accuracy improved from 0.89764 to 0.89821, saving model to training/baseline_model/cp-0030.ckpt\n",
      "16/16 [==============================] - 1s 67ms/step - loss: 0.0664 - sparse_categorical_accuracy: 0.9377 - val_loss: 0.0999 - val_sparse_categorical_accuracy: 0.8982\n",
      "Epoch 31/70\n",
      "12/16 [=====================>........] - ETA: 0s - loss: 0.0641 - sparse_categorical_accuracy: 0.9392\n",
      "Epoch 00031: val_sparse_categorical_accuracy improved from 0.89821 to 0.89927, saving model to training/baseline_model/cp-0031.ckpt\n",
      "16/16 [==============================] - 1s 60ms/step - loss: 0.0643 - sparse_categorical_accuracy: 0.9393 - val_loss: 0.0991 - val_sparse_categorical_accuracy: 0.8993\n",
      "Epoch 32/70\n",
      "12/16 [=====================>........] - ETA: 0s - loss: 0.0620 - sparse_categorical_accuracy: 0.9412\n",
      "Epoch 00032: val_sparse_categorical_accuracy improved from 0.89927 to 0.89988, saving model to training/baseline_model/cp-0032.ckpt\n",
      "16/16 [==============================] - 1s 62ms/step - loss: 0.0622 - sparse_categorical_accuracy: 0.9414 - val_loss: 0.0984 - val_sparse_categorical_accuracy: 0.8999\n",
      "Epoch 33/70\n",
      "16/16 [==============================] - ETA: 0s - loss: 0.0602 - sparse_categorical_accuracy: 0.9435\n",
      "Epoch 00033: val_sparse_categorical_accuracy improved from 0.89988 to 0.90014, saving model to training/baseline_model/cp-0033.ckpt\n",
      "16/16 [==============================] - 1s 66ms/step - loss: 0.0602 - sparse_categorical_accuracy: 0.9435 - val_loss: 0.0976 - val_sparse_categorical_accuracy: 0.9001\n",
      "Epoch 34/70\n",
      "11/16 [===================>..........] - ETA: 0s - loss: 0.0587 - sparse_categorical_accuracy: 0.9454\n",
      "Epoch 00034: val_sparse_categorical_accuracy improved from 0.90014 to 0.90059, saving model to training/baseline_model/cp-0034.ckpt\n",
      "16/16 [==============================] - 1s 60ms/step - loss: 0.0583 - sparse_categorical_accuracy: 0.9454 - val_loss: 0.0970 - val_sparse_categorical_accuracy: 0.9006\n",
      "Epoch 35/70\n",
      "11/16 [===================>..........] - ETA: 0s - loss: 0.0568 - sparse_categorical_accuracy: 0.9475\n",
      "Epoch 00035: val_sparse_categorical_accuracy improved from 0.90059 to 0.90075, saving model to training/baseline_model/cp-0035.ckpt\n",
      "16/16 [==============================] - 1s 65ms/step - loss: 0.0565 - sparse_categorical_accuracy: 0.9474 - val_loss: 0.0963 - val_sparse_categorical_accuracy: 0.9007\n",
      "Epoch 36/70\n",
      "16/16 [==============================] - ETA: 0s - loss: 0.0551 - sparse_categorical_accuracy: 0.9488\n",
      "Epoch 00036: val_sparse_categorical_accuracy did not improve from 0.90075\n",
      "16/16 [==============================] - 0s 14ms/step - loss: 0.0551 - sparse_categorical_accuracy: 0.9488 - val_loss: 0.1013 - val_sparse_categorical_accuracy: 0.8946\n",
      "Epoch 37/70\n",
      "11/16 [===================>..........] - ETA: 0s - loss: 0.0553 - sparse_categorical_accuracy: 0.9472\n",
      "Epoch 00037: val_sparse_categorical_accuracy did not improve from 0.90075\n",
      "16/16 [==============================] - 0s 13ms/step - loss: 0.0547 - sparse_categorical_accuracy: 0.9480 - val_loss: 0.0990 - val_sparse_categorical_accuracy: 0.8973\n",
      "Epoch 38/70\n",
      "16/16 [==============================] - ETA: 0s - loss: 0.0543 - sparse_categorical_accuracy: 0.9487\n",
      "Epoch 00038: val_sparse_categorical_accuracy improved from 0.90075 to 0.90296, saving model to training/baseline_model/cp-0038.ckpt\n",
      "16/16 [==============================] - 1s 62ms/step - loss: 0.0543 - sparse_categorical_accuracy: 0.9487 - val_loss: 0.0942 - val_sparse_categorical_accuracy: 0.9030\n",
      "Epoch 39/70\n",
      "12/16 [=====================>........] - ETA: 0s - loss: 0.0532 - sparse_categorical_accuracy: 0.9483\n",
      "Epoch 00039: val_sparse_categorical_accuracy did not improve from 0.90296\n",
      "16/16 [==============================] - 0s 14ms/step - loss: 0.0531 - sparse_categorical_accuracy: 0.9488 - val_loss: 0.0939 - val_sparse_categorical_accuracy: 0.9015\n",
      "Epoch 40/70\n",
      "11/16 [===================>..........] - ETA: 0s - loss: 0.0513 - sparse_categorical_accuracy: 0.9511\n",
      "Epoch 00040: val_sparse_categorical_accuracy did not improve from 0.90296\n",
      "16/16 [==============================] - 0s 13ms/step - loss: 0.0512 - sparse_categorical_accuracy: 0.9512 - val_loss: 0.0983 - val_sparse_categorical_accuracy: 0.8971\n",
      "Epoch 41/70\n",
      "11/16 [===================>..........] - ETA: 0s - loss: 0.0522 - sparse_categorical_accuracy: 0.9489\n",
      "Epoch 00041: val_sparse_categorical_accuracy did not improve from 0.90296\n",
      "16/16 [==============================] - 0s 13ms/step - loss: 0.0526 - sparse_categorical_accuracy: 0.9481 - val_loss: 0.1115 - val_sparse_categorical_accuracy: 0.8845\n",
      "Epoch 42/70\n",
      "16/16 [==============================] - ETA: 0s - loss: 0.0543 - sparse_categorical_accuracy: 0.9460\n",
      "Epoch 00042: val_sparse_categorical_accuracy did not improve from 0.90296\n",
      "16/16 [==============================] - 0s 14ms/step - loss: 0.0543 - sparse_categorical_accuracy: 0.9460 - val_loss: 0.0995 - val_sparse_categorical_accuracy: 0.8957\n",
      "Epoch 43/70\n",
      "11/16 [===================>..........] - ETA: 0s - loss: 0.0496 - sparse_categorical_accuracy: 0.9518\n",
      "Epoch 00043: val_sparse_categorical_accuracy did not improve from 0.90296\n",
      "16/16 [==============================] - 0s 14ms/step - loss: 0.0491 - sparse_categorical_accuracy: 0.9522 - val_loss: 0.0929 - val_sparse_categorical_accuracy: 0.9027\n",
      "Epoch 44/70\n",
      "11/16 [===================>..........] - ETA: 0s - loss: 0.0459 - sparse_categorical_accuracy: 0.9582\n",
      "Epoch 00044: val_sparse_categorical_accuracy improved from 0.90296 to 0.90309, saving model to training/baseline_model/cp-0044.ckpt\n",
      "16/16 [==============================] - 1s 63ms/step - loss: 0.0455 - sparse_categorical_accuracy: 0.9583 - val_loss: 0.0919 - val_sparse_categorical_accuracy: 0.9031\n",
      "Epoch 45/70\n",
      "16/16 [==============================] - ETA: 0s - loss: 0.0435 - sparse_categorical_accuracy: 0.9610\n",
      "Epoch 00045: val_sparse_categorical_accuracy improved from 0.90309 to 0.90363, saving model to training/baseline_model/cp-0045.ckpt\n",
      "16/16 [==============================] - 1s 64ms/step - loss: 0.0435 - sparse_categorical_accuracy: 0.9610 - val_loss: 0.0914 - val_sparse_categorical_accuracy: 0.9036\n",
      "Epoch 46/70\n",
      "16/16 [==============================] - ETA: 0s - loss: 0.0420 - sparse_categorical_accuracy: 0.9633\n",
      "Epoch 00046: val_sparse_categorical_accuracy did not improve from 0.90363\n",
      "16/16 [==============================] - 0s 14ms/step - loss: 0.0420 - sparse_categorical_accuracy: 0.9633 - val_loss: 0.0917 - val_sparse_categorical_accuracy: 0.9034\n",
      "Epoch 47/70\n",
      "11/16 [===================>..........] - ETA: 0s - loss: 0.0407 - sparse_categorical_accuracy: 0.9650\n",
      "Epoch 00047: val_sparse_categorical_accuracy improved from 0.90363 to 0.90453, saving model to training/baseline_model/cp-0047.ckpt\n",
      "16/16 [==============================] - 0s 31ms/step - loss: 0.0406 - sparse_categorical_accuracy: 0.9648 - val_loss: 0.0910 - val_sparse_categorical_accuracy: 0.9045\n",
      "Epoch 48/70\n",
      "16/16 [==============================] - ETA: 0s - loss: 0.0394 - sparse_categorical_accuracy: 0.9665\n",
      "Epoch 00048: val_sparse_categorical_accuracy did not improve from 0.90453\n",
      "16/16 [==============================] - 0s 14ms/step - loss: 0.0394 - sparse_categorical_accuracy: 0.9665 - val_loss: 0.0911 - val_sparse_categorical_accuracy: 0.9042\n",
      "Epoch 49/70\n",
      "12/16 [=====================>........] - ETA: 0s - loss: 0.0377 - sparse_categorical_accuracy: 0.9688\n",
      "Epoch 00049: val_sparse_categorical_accuracy did not improve from 0.90453\n",
      "16/16 [==============================] - 0s 13ms/step - loss: 0.0382 - sparse_categorical_accuracy: 0.9681 - val_loss: 0.0910 - val_sparse_categorical_accuracy: 0.9042\n",
      "Epoch 50/70\n",
      "16/16 [==============================] - ETA: 0s - loss: 0.0370 - sparse_categorical_accuracy: 0.9695\n",
      "Epoch 00050: val_sparse_categorical_accuracy improved from 0.90453 to 0.90508, saving model to training/baseline_model/cp-0050.ckpt\n",
      "16/16 [==============================] - 0s 31ms/step - loss: 0.0370 - sparse_categorical_accuracy: 0.9695 - val_loss: 0.0906 - val_sparse_categorical_accuracy: 0.9051\n",
      "Epoch 51/70\n",
      "16/16 [==============================] - ETA: 0s - loss: 0.0358 - sparse_categorical_accuracy: 0.9709\n",
      "Epoch 00051: val_sparse_categorical_accuracy improved from 0.90508 to 0.90540, saving model to training/baseline_model/cp-0051.ckpt\n",
      "16/16 [==============================] - 0s 31ms/step - loss: 0.0358 - sparse_categorical_accuracy: 0.9709 - val_loss: 0.0906 - val_sparse_categorical_accuracy: 0.9054\n",
      "Epoch 52/70\n",
      "11/16 [===================>..........] - ETA: 0s - loss: 0.0346 - sparse_categorical_accuracy: 0.9729\n",
      "Epoch 00052: val_sparse_categorical_accuracy improved from 0.90540 to 0.90543, saving model to training/baseline_model/cp-0052.ckpt\n",
      "16/16 [==============================] - 1s 60ms/step - loss: 0.0347 - sparse_categorical_accuracy: 0.9725 - val_loss: 0.0909 - val_sparse_categorical_accuracy: 0.9054\n",
      "Epoch 53/70\n",
      "16/16 [==============================] - ETA: 0s - loss: 0.0336 - sparse_categorical_accuracy: 0.9737\n",
      "Epoch 00053: val_sparse_categorical_accuracy did not improve from 0.90543\n",
      "16/16 [==============================] - 0s 14ms/step - loss: 0.0336 - sparse_categorical_accuracy: 0.9737 - val_loss: 0.0913 - val_sparse_categorical_accuracy: 0.9046\n",
      "Epoch 54/70\n",
      "16/16 [==============================] - ETA: 0s - loss: 0.0325 - sparse_categorical_accuracy: 0.9749\n",
      "Epoch 00054: val_sparse_categorical_accuracy did not improve from 0.90543\n",
      "16/16 [==============================] - 0s 15ms/step - loss: 0.0325 - sparse_categorical_accuracy: 0.9749 - val_loss: 0.0919 - val_sparse_categorical_accuracy: 0.9041\n",
      "Epoch 55/70\n",
      "16/16 [==============================] - ETA: 0s - loss: 0.0315 - sparse_categorical_accuracy: 0.9759\n",
      "Epoch 00055: val_sparse_categorical_accuracy did not improve from 0.90543\n",
      "16/16 [==============================] - 0s 15ms/step - loss: 0.0315 - sparse_categorical_accuracy: 0.9759 - val_loss: 0.0924 - val_sparse_categorical_accuracy: 0.9036\n",
      "Epoch 56/70\n",
      "11/16 [===================>..........] - ETA: 0s - loss: 0.0308 - sparse_categorical_accuracy: 0.9773\n",
      "Epoch 00056: val_sparse_categorical_accuracy did not improve from 0.90543\n",
      "16/16 [==============================] - 0s 14ms/step - loss: 0.0306 - sparse_categorical_accuracy: 0.9773 - val_loss: 0.0928 - val_sparse_categorical_accuracy: 0.9030\n",
      "Epoch 57/70\n",
      "11/16 [===================>..........] - ETA: 0s - loss: 0.0298 - sparse_categorical_accuracy: 0.9780\n",
      "Epoch 00057: val_sparse_categorical_accuracy did not improve from 0.90543\n",
      "16/16 [==============================] - 0s 14ms/step - loss: 0.0297 - sparse_categorical_accuracy: 0.9778 - val_loss: 0.0930 - val_sparse_categorical_accuracy: 0.9028\n",
      "Epoch 58/70\n",
      "16/16 [==============================] - ETA: 0s - loss: 0.0288 - sparse_categorical_accuracy: 0.9792\n",
      "Epoch 00058: val_sparse_categorical_accuracy did not improve from 0.90543\n",
      "16/16 [==============================] - 0s 14ms/step - loss: 0.0288 - sparse_categorical_accuracy: 0.9792 - val_loss: 0.0926 - val_sparse_categorical_accuracy: 0.9032\n",
      "Epoch 59/70\n",
      "16/16 [==============================] - ETA: 0s - loss: 0.0281 - sparse_categorical_accuracy: 0.9798\n",
      "Epoch 00059: val_sparse_categorical_accuracy did not improve from 0.90543\n",
      "16/16 [==============================] - 0s 14ms/step - loss: 0.0281 - sparse_categorical_accuracy: 0.9798 - val_loss: 0.0913 - val_sparse_categorical_accuracy: 0.9050\n",
      "Epoch 60/70\n",
      "16/16 [==============================] - ETA: 0s - loss: 0.0283 - sparse_categorical_accuracy: 0.9786\n",
      "Epoch 00060: val_sparse_categorical_accuracy did not improve from 0.90543\n",
      "16/16 [==============================] - 0s 14ms/step - loss: 0.0283 - sparse_categorical_accuracy: 0.9786 - val_loss: 0.0940 - val_sparse_categorical_accuracy: 0.9024\n",
      "Epoch 61/70\n",
      "16/16 [==============================] - ETA: 0s - loss: 0.0297 - sparse_categorical_accuracy: 0.9750\n",
      "Epoch 00061: val_sparse_categorical_accuracy did not improve from 0.90543\n",
      "16/16 [==============================] - 0s 14ms/step - loss: 0.0297 - sparse_categorical_accuracy: 0.9750 - val_loss: 0.1077 - val_sparse_categorical_accuracy: 0.8912\n",
      "Epoch 62/70\n",
      "16/16 [==============================] - ETA: 0s - loss: 0.0327 - sparse_categorical_accuracy: 0.9693Restoring model weights from the end of the best epoch: 52.\n",
      "\n",
      "Epoch 00062: val_sparse_categorical_accuracy did not improve from 0.90543\n",
      "16/16 [==============================] - 0s 18ms/step - loss: 0.0327 - sparse_categorical_accuracy: 0.9693 - val_loss: 0.1046 - val_sparse_categorical_accuracy: 0.8905\n",
      "Epoch 00062: early stopping\n",
      "Model: \"gru_model\"\n",
      "_________________________________________________________________\n",
      " Layer (type)                Output Shape              Param #   \n",
      "=================================================================\n",
      " input (InputLayer)          [(None, 88)]              0         \n",
      "                                                                 \n",
      " embedding_layer (Embedding)  (None, 88, 100)          40067700  \n",
      "                                                                 \n",
      " bidirectional_gru (Bidirect  (None, 88, 256)          176640    \n",
      " ional)                                                          \n",
      "                                                                 \n",
      " time_distributed_dense (Tim  (None, 88, 46)           11822     \n",
      " eDistributed)                                                   \n",
      "                                                                 \n",
      " softmax (Activation)        (None, 88, 46)            0         \n",
      "                                                                 \n",
      "=================================================================\n",
      "Total params: 40,256,162\n",
      "Trainable params: 188,462\n",
      "Non-trainable params: 40,067,700\n",
      "_________________________________________________________________\n",
      "Training model gru_model\n",
      "Epoch 1/70\n",
      "12/16 [=====================>........] - ETA: 0s - loss: 0.6898 - sparse_categorical_accuracy: 0.6086\n",
      "Epoch 00001: val_sparse_categorical_accuracy improved from -inf to 0.68473, saving model to training/gru_model/cp-0001.ckpt\n",
      "16/16 [==============================] - 6s 151ms/step - loss: 0.6274 - sparse_categorical_accuracy: 0.6146 - val_loss: 0.3234 - val_sparse_categorical_accuracy: 0.6847\n",
      "Epoch 2/70\n",
      "12/16 [=====================>........] - ETA: 0s - loss: 0.2406 - sparse_categorical_accuracy: 0.7599\n",
      "Epoch 00002: val_sparse_categorical_accuracy improved from 0.68473 to 0.81926, saving model to training/gru_model/cp-0002.ckpt\n",
      "16/16 [==============================] - 1s 61ms/step - loss: 0.2296 - sparse_categorical_accuracy: 0.7742 - val_loss: 0.1859 - val_sparse_categorical_accuracy: 0.8193\n",
      "Epoch 3/70\n",
      "13/16 [=======================>......] - ETA: 0s - loss: 0.1525 - sparse_categorical_accuracy: 0.8463\n",
      "Epoch 00003: val_sparse_categorical_accuracy improved from 0.81926 to 0.85406, saving model to training/gru_model/cp-0003.ckpt\n",
      "16/16 [==============================] - 1s 65ms/step - loss: 0.1484 - sparse_categorical_accuracy: 0.8521 - val_loss: 0.1453 - val_sparse_categorical_accuracy: 0.8541\n",
      "Epoch 4/70\n",
      "13/16 [=======================>......] - ETA: 0s - loss: 0.1223 - sparse_categorical_accuracy: 0.8743\n",
      "Epoch 00004: val_sparse_categorical_accuracy improved from 0.85406 to 0.87451, saving model to training/gru_model/cp-0004.ckpt\n",
      "16/16 [==============================] - 1s 61ms/step - loss: 0.1196 - sparse_categorical_accuracy: 0.8789 - val_loss: 0.1259 - val_sparse_categorical_accuracy: 0.8745\n",
      "Epoch 5/70\n",
      "11/16 [===================>..........] - ETA: 0s - loss: 0.1063 - sparse_categorical_accuracy: 0.8926\n",
      "Epoch 00005: val_sparse_categorical_accuracy improved from 0.87451 to 0.88305, saving model to training/gru_model/cp-0005.ckpt\n",
      "16/16 [==============================] - 1s 64ms/step - loss: 0.1037 - sparse_categorical_accuracy: 0.8960 - val_loss: 0.1152 - val_sparse_categorical_accuracy: 0.8830\n",
      "Epoch 6/70\n",
      "13/16 [=======================>......] - ETA: 0s - loss: 0.0951 - sparse_categorical_accuracy: 0.9041\n",
      "Epoch 00006: val_sparse_categorical_accuracy improved from 0.88305 to 0.89125, saving model to training/gru_model/cp-0006.ckpt\n",
      "16/16 [==============================] - 1s 58ms/step - loss: 0.0932 - sparse_categorical_accuracy: 0.9073 - val_loss: 0.1077 - val_sparse_categorical_accuracy: 0.8913\n",
      "Epoch 7/70\n",
      "13/16 [=======================>......] - ETA: 0s - loss: 0.0868 - sparse_categorical_accuracy: 0.9122\n",
      "Epoch 00007: val_sparse_categorical_accuracy improved from 0.89125 to 0.89565, saving model to training/gru_model/cp-0007.ckpt\n",
      "16/16 [==============================] - 1s 61ms/step - loss: 0.0851 - sparse_categorical_accuracy: 0.9151 - val_loss: 0.1022 - val_sparse_categorical_accuracy: 0.8956\n",
      "Epoch 8/70\n",
      "13/16 [=======================>......] - ETA: 0s - loss: 0.0800 - sparse_categorical_accuracy: 0.9189\n",
      "Epoch 00008: val_sparse_categorical_accuracy improved from 0.89565 to 0.89918, saving model to training/gru_model/cp-0008.ckpt\n",
      "16/16 [==============================] - 1s 63ms/step - loss: 0.0785 - sparse_categorical_accuracy: 0.9213 - val_loss: 0.0981 - val_sparse_categorical_accuracy: 0.8992\n",
      "Epoch 9/70\n",
      "13/16 [=======================>......] - ETA: 0s - loss: 0.0744 - sparse_categorical_accuracy: 0.9246\n",
      "Epoch 00009: val_sparse_categorical_accuracy improved from 0.89918 to 0.90136, saving model to training/gru_model/cp-0009.ckpt\n",
      "16/16 [==============================] - 1s 60ms/step - loss: 0.0730 - sparse_categorical_accuracy: 0.9269 - val_loss: 0.0949 - val_sparse_categorical_accuracy: 0.9014\n",
      "Epoch 10/70\n",
      "13/16 [=======================>......] - ETA: 0s - loss: 0.0695 - sparse_categorical_accuracy: 0.9295\n",
      "Epoch 00010: val_sparse_categorical_accuracy did not improve from 0.90136\n",
      "16/16 [==============================] - 0s 13ms/step - loss: 0.0682 - sparse_categorical_accuracy: 0.9315 - val_loss: 0.0930 - val_sparse_categorical_accuracy: 0.9009\n",
      "Epoch 11/70\n",
      "13/16 [=======================>......] - ETA: 0s - loss: 0.0654 - sparse_categorical_accuracy: 0.9338\n",
      "Epoch 00011: val_sparse_categorical_accuracy did not improve from 0.90136\n",
      "16/16 [==============================] - 0s 13ms/step - loss: 0.0642 - sparse_categorical_accuracy: 0.9359 - val_loss: 0.0932 - val_sparse_categorical_accuracy: 0.9008\n",
      "Epoch 12/70\n",
      "13/16 [=======================>......] - ETA: 0s - loss: 0.0621 - sparse_categorical_accuracy: 0.9364\n",
      "Epoch 00012: val_sparse_categorical_accuracy improved from 0.90136 to 0.90421, saving model to training/gru_model/cp-0012.ckpt\n",
      "16/16 [==============================] - 1s 64ms/step - loss: 0.0610 - sparse_categorical_accuracy: 0.9385 - val_loss: 0.0900 - val_sparse_categorical_accuracy: 0.9042\n",
      "Epoch 13/70\n",
      "12/16 [=====================>........] - ETA: 0s - loss: 0.0577 - sparse_categorical_accuracy: 0.9426\n",
      "Epoch 00013: val_sparse_categorical_accuracy improved from 0.90421 to 0.90636, saving model to training/gru_model/cp-0013.ckpt\n",
      "16/16 [==============================] - 1s 62ms/step - loss: 0.0574 - sparse_categorical_accuracy: 0.9431 - val_loss: 0.0886 - val_sparse_categorical_accuracy: 0.9064\n",
      "Epoch 14/70\n",
      "13/16 [=======================>......] - ETA: 0s - loss: 0.0551 - sparse_categorical_accuracy: 0.9446\n",
      "Epoch 00014: val_sparse_categorical_accuracy improved from 0.90636 to 0.90902, saving model to training/gru_model/cp-0014.ckpt\n",
      "16/16 [==============================] - 1s 61ms/step - loss: 0.0541 - sparse_categorical_accuracy: 0.9464 - val_loss: 0.0857 - val_sparse_categorical_accuracy: 0.9090\n",
      "Epoch 15/70\n",
      "13/16 [=======================>......] - ETA: 0s - loss: 0.0515 - sparse_categorical_accuracy: 0.9486\n",
      "Epoch 00015: val_sparse_categorical_accuracy did not improve from 0.90902\n",
      "16/16 [==============================] - 0s 13ms/step - loss: 0.0507 - sparse_categorical_accuracy: 0.9499 - val_loss: 0.0873 - val_sparse_categorical_accuracy: 0.9061\n",
      "Epoch 16/70\n",
      "13/16 [=======================>......] - ETA: 0s - loss: 0.0491 - sparse_categorical_accuracy: 0.9519\n",
      "Epoch 00016: val_sparse_categorical_accuracy improved from 0.90902 to 0.91155, saving model to training/gru_model/cp-0016.ckpt\n",
      "16/16 [==============================] - 1s 65ms/step - loss: 0.0483 - sparse_categorical_accuracy: 0.9532 - val_loss: 0.0832 - val_sparse_categorical_accuracy: 0.9116\n",
      "Epoch 17/70\n",
      "13/16 [=======================>......] - ETA: 0s - loss: 0.0456 - sparse_categorical_accuracy: 0.9566\n",
      "Epoch 00017: val_sparse_categorical_accuracy improved from 0.91155 to 0.91316, saving model to training/gru_model/cp-0017.ckpt\n",
      "16/16 [==============================] - 1s 59ms/step - loss: 0.0449 - sparse_categorical_accuracy: 0.9575 - val_loss: 0.0815 - val_sparse_categorical_accuracy: 0.9132\n",
      "Epoch 18/70\n",
      "13/16 [=======================>......] - ETA: 0s - loss: 0.0426 - sparse_categorical_accuracy: 0.9596\n",
      "Epoch 00018: val_sparse_categorical_accuracy did not improve from 0.91316\n",
      "16/16 [==============================] - 0s 13ms/step - loss: 0.0422 - sparse_categorical_accuracy: 0.9602 - val_loss: 0.0823 - val_sparse_categorical_accuracy: 0.9119\n",
      "Epoch 19/70\n",
      "11/16 [===================>..........] - ETA: 0s - loss: 0.0404 - sparse_categorical_accuracy: 0.9621\n",
      "Epoch 00019: val_sparse_categorical_accuracy did not improve from 0.91316\n",
      "16/16 [==============================] - 0s 13ms/step - loss: 0.0399 - sparse_categorical_accuracy: 0.9624 - val_loss: 0.0810 - val_sparse_categorical_accuracy: 0.9127\n",
      "Epoch 20/70\n",
      "12/16 [=====================>........] - ETA: 0s - loss: 0.0373 - sparse_categorical_accuracy: 0.9658\n",
      "Epoch 00020: val_sparse_categorical_accuracy did not improve from 0.91316\n",
      "16/16 [==============================] - 0s 13ms/step - loss: 0.0372 - sparse_categorical_accuracy: 0.9659 - val_loss: 0.0811 - val_sparse_categorical_accuracy: 0.9128\n",
      "Epoch 21/70\n",
      "13/16 [=======================>......] - ETA: 0s - loss: 0.0356 - sparse_categorical_accuracy: 0.9676\n",
      "Epoch 00021: val_sparse_categorical_accuracy improved from 0.91316 to 0.91329, saving model to training/gru_model/cp-0021.ckpt\n",
      "16/16 [==============================] - 0s 30ms/step - loss: 0.0351 - sparse_categorical_accuracy: 0.9682 - val_loss: 0.0801 - val_sparse_categorical_accuracy: 0.9133\n",
      "Epoch 22/70\n",
      "13/16 [=======================>......] - ETA: 0s - loss: 0.0334 - sparse_categorical_accuracy: 0.9708\n",
      "Epoch 00022: val_sparse_categorical_accuracy did not improve from 0.91329\n",
      "16/16 [==============================] - 0s 13ms/step - loss: 0.0329 - sparse_categorical_accuracy: 0.9714 - val_loss: 0.0821 - val_sparse_categorical_accuracy: 0.9115\n",
      "Epoch 23/70\n",
      "13/16 [=======================>......] - ETA: 0s - loss: 0.0316 - sparse_categorical_accuracy: 0.9728\n",
      "Epoch 00023: val_sparse_categorical_accuracy improved from 0.91329 to 0.91386, saving model to training/gru_model/cp-0023.ckpt\n",
      "16/16 [==============================] - 1s 62ms/step - loss: 0.0312 - sparse_categorical_accuracy: 0.9733 - val_loss: 0.0804 - val_sparse_categorical_accuracy: 0.9139\n",
      "Epoch 24/70\n",
      "13/16 [=======================>......] - ETA: 0s - loss: 0.0295 - sparse_categorical_accuracy: 0.9753\n",
      "Epoch 00024: val_sparse_categorical_accuracy did not improve from 0.91386\n",
      "16/16 [==============================] - 0s 13ms/step - loss: 0.0291 - sparse_categorical_accuracy: 0.9758 - val_loss: 0.0807 - val_sparse_categorical_accuracy: 0.9137\n",
      "Epoch 25/70\n",
      "13/16 [=======================>......] - ETA: 0s - loss: 0.0278 - sparse_categorical_accuracy: 0.9781\n",
      "Epoch 00025: val_sparse_categorical_accuracy did not improve from 0.91386\n",
      "16/16 [==============================] - 0s 13ms/step - loss: 0.0275 - sparse_categorical_accuracy: 0.9784 - val_loss: 0.0819 - val_sparse_categorical_accuracy: 0.9119\n",
      "Epoch 26/70\n",
      "13/16 [=======================>......] - ETA: 0s - loss: 0.0263 - sparse_categorical_accuracy: 0.9796\n",
      "Epoch 00026: val_sparse_categorical_accuracy did not improve from 0.91386\n",
      "16/16 [==============================] - 0s 13ms/step - loss: 0.0260 - sparse_categorical_accuracy: 0.9800 - val_loss: 0.0819 - val_sparse_categorical_accuracy: 0.9120\n",
      "Epoch 27/70\n",
      "13/16 [=======================>......] - ETA: 0s - loss: 0.0247 - sparse_categorical_accuracy: 0.9812\n",
      "Epoch 00027: val_sparse_categorical_accuracy did not improve from 0.91386\n",
      "16/16 [==============================] - 0s 12ms/step - loss: 0.0244 - sparse_categorical_accuracy: 0.9817 - val_loss: 0.0825 - val_sparse_categorical_accuracy: 0.9121\n",
      "Epoch 28/70\n",
      "13/16 [=======================>......] - ETA: 0s - loss: 0.0235 - sparse_categorical_accuracy: 0.9827\n",
      "Epoch 00028: val_sparse_categorical_accuracy did not improve from 0.91386\n",
      "16/16 [==============================] - 0s 13ms/step - loss: 0.0232 - sparse_categorical_accuracy: 0.9830 - val_loss: 0.0819 - val_sparse_categorical_accuracy: 0.9119\n",
      "Epoch 29/70\n",
      "13/16 [=======================>......] - ETA: 0s - loss: 0.0221 - sparse_categorical_accuracy: 0.9847\n",
      "Epoch 00029: val_sparse_categorical_accuracy did not improve from 0.91386\n",
      "16/16 [==============================] - 0s 13ms/step - loss: 0.0218 - sparse_categorical_accuracy: 0.9849 - val_loss: 0.0841 - val_sparse_categorical_accuracy: 0.9103\n",
      "Epoch 30/70\n",
      "13/16 [=======================>......] - ETA: 0s - loss: 0.0209 - sparse_categorical_accuracy: 0.9858\n",
      "Epoch 00030: val_sparse_categorical_accuracy did not improve from 0.91386\n",
      "16/16 [==============================] - 0s 12ms/step - loss: 0.0206 - sparse_categorical_accuracy: 0.9861 - val_loss: 0.0834 - val_sparse_categorical_accuracy: 0.9115\n",
      "Epoch 31/70\n",
      "11/16 [===================>..........] - ETA: 0s - loss: 0.0198 - sparse_categorical_accuracy: 0.9868\n",
      "Epoch 00031: val_sparse_categorical_accuracy did not improve from 0.91386\n",
      "16/16 [==============================] - 0s 13ms/step - loss: 0.0195 - sparse_categorical_accuracy: 0.9872 - val_loss: 0.0832 - val_sparse_categorical_accuracy: 0.9111\n",
      "Epoch 32/70\n",
      "13/16 [=======================>......] - ETA: 0s - loss: 0.0187 - sparse_categorical_accuracy: 0.9887\n",
      "Epoch 00032: val_sparse_categorical_accuracy did not improve from 0.91386\n",
      "16/16 [==============================] - 0s 13ms/step - loss: 0.0184 - sparse_categorical_accuracy: 0.9887 - val_loss: 0.0844 - val_sparse_categorical_accuracy: 0.9103\n",
      "Epoch 33/70\n",
      "13/16 [=======================>......] - ETA: 0s - loss: 0.0177 - sparse_categorical_accuracy: 0.9894Restoring model weights from the end of the best epoch: 23.\n",
      "\n",
      "Epoch 00033: val_sparse_categorical_accuracy did not improve from 0.91386\n",
      "16/16 [==============================] - 0s 16ms/step - loss: 0.0174 - sparse_categorical_accuracy: 0.9896 - val_loss: 0.0838 - val_sparse_categorical_accuracy: 0.9118\n",
      "Epoch 00033: early stopping\n",
      "Model: \"deeper_classification_model\"\n",
      "_________________________________________________________________\n",
      " Layer (type)                Output Shape              Param #   \n",
      "=================================================================\n",
      " input (InputLayer)          [(None, 88)]              0         \n",
      "                                                                 \n",
      " embedding_layer (Embedding)  (None, 88, 100)          40067700  \n",
      "                                                                 \n",
      " bidirectional_lstm (Bidirec  (None, 88, 256)          234496    \n",
      " tional)                                                         \n",
      "                                                                 \n",
      " time_distributed_dense_1 (T  (None, 88, 128)          32896     \n",
      " imeDistributed)                                                 \n",
      "                                                                 \n",
      " time_distributed_dense_2 (T  (None, 88, 46)           5934      \n",
      " imeDistributed)                                                 \n",
      "                                                                 \n",
      " softmax (Activation)        (None, 88, 46)            0         \n",
      "                                                                 \n",
      "=================================================================\n",
      "Total params: 40,341,026\n",
      "Trainable params: 273,326\n",
      "Non-trainable params: 40,067,700\n",
      "_________________________________________________________________\n",
      "Training model deeper_classification_model\n",
      "Epoch 1/70\n",
      "16/16 [==============================] - ETA: 0s - loss: 0.6988 - sparse_categorical_accuracy: 0.5584\n",
      "Epoch 00001: val_sparse_categorical_accuracy improved from -inf to 0.63820, saving model to training/deeper_classification_model/cp-0001.ckpt\n",
      "16/16 [==============================] - 6s 157ms/step - loss: 0.6988 - sparse_categorical_accuracy: 0.5584 - val_loss: 0.3781 - val_sparse_categorical_accuracy: 0.6382\n",
      "Epoch 2/70\n",
      "11/16 [===================>..........] - ETA: 0s - loss: 0.2788 - sparse_categorical_accuracy: 0.7205\n",
      "Epoch 00002: val_sparse_categorical_accuracy improved from 0.63820 to 0.81086, saving model to training/deeper_classification_model/cp-0002.ckpt\n",
      "16/16 [==============================] - 1s 61ms/step - loss: 0.2567 - sparse_categorical_accuracy: 0.7419 - val_loss: 0.1890 - val_sparse_categorical_accuracy: 0.8109\n",
      "Epoch 3/70\n",
      "16/16 [==============================] - ETA: 0s - loss: 0.1491 - sparse_categorical_accuracy: 0.8480\n",
      "Epoch 00003: val_sparse_categorical_accuracy improved from 0.81086 to 0.85367, saving model to training/deeper_classification_model/cp-0003.ckpt\n",
      "16/16 [==============================] - 1s 65ms/step - loss: 0.1491 - sparse_categorical_accuracy: 0.8480 - val_loss: 0.1419 - val_sparse_categorical_accuracy: 0.8537\n",
      "Epoch 4/70\n",
      "16/16 [==============================] - ETA: 0s - loss: 0.1146 - sparse_categorical_accuracy: 0.8809\n",
      "Epoch 00004: val_sparse_categorical_accuracy improved from 0.85367 to 0.87609, saving model to training/deeper_classification_model/cp-0004.ckpt\n",
      "16/16 [==============================] - 1s 64ms/step - loss: 0.1146 - sparse_categorical_accuracy: 0.8809 - val_loss: 0.1193 - val_sparse_categorical_accuracy: 0.8761\n",
      "Epoch 5/70\n",
      "11/16 [===================>..........] - ETA: 0s - loss: 0.1000 - sparse_categorical_accuracy: 0.8950\n",
      "Epoch 00005: val_sparse_categorical_accuracy improved from 0.87609 to 0.88850, saving model to training/deeper_classification_model/cp-0005.ckpt\n",
      "16/16 [==============================] - 1s 62ms/step - loss: 0.0973 - sparse_categorical_accuracy: 0.8979 - val_loss: 0.1076 - val_sparse_categorical_accuracy: 0.8885\n",
      "Epoch 6/70\n",
      "16/16 [==============================] - ETA: 0s - loss: 0.0855 - sparse_categorical_accuracy: 0.9116\n",
      "Epoch 00006: val_sparse_categorical_accuracy improved from 0.88850 to 0.89026, saving model to training/deeper_classification_model/cp-0006.ckpt\n",
      "16/16 [==============================] - 1s 64ms/step - loss: 0.0855 - sparse_categorical_accuracy: 0.9116 - val_loss: 0.1044 - val_sparse_categorical_accuracy: 0.8903\n",
      "Epoch 7/70\n",
      "16/16 [==============================] - ETA: 0s - loss: 0.0762 - sparse_categorical_accuracy: 0.9208\n",
      "Epoch 00007: val_sparse_categorical_accuracy improved from 0.89026 to 0.89882, saving model to training/deeper_classification_model/cp-0007.ckpt\n",
      "16/16 [==============================] - 1s 63ms/step - loss: 0.0762 - sparse_categorical_accuracy: 0.9208 - val_loss: 0.0965 - val_sparse_categorical_accuracy: 0.8988\n",
      "Epoch 8/70\n",
      "16/16 [==============================] - ETA: 0s - loss: 0.0679 - sparse_categorical_accuracy: 0.9301\n",
      "Epoch 00008: val_sparse_categorical_accuracy improved from 0.89882 to 0.90325, saving model to training/deeper_classification_model/cp-0008.ckpt\n",
      "16/16 [==============================] - 1s 64ms/step - loss: 0.0679 - sparse_categorical_accuracy: 0.9301 - val_loss: 0.0925 - val_sparse_categorical_accuracy: 0.9032\n",
      "Epoch 9/70\n",
      "16/16 [==============================] - ETA: 0s - loss: 0.0614 - sparse_categorical_accuracy: 0.9381\n",
      "Epoch 00009: val_sparse_categorical_accuracy did not improve from 0.90325\n",
      "16/16 [==============================] - 0s 14ms/step - loss: 0.0614 - sparse_categorical_accuracy: 0.9381 - val_loss: 0.0922 - val_sparse_categorical_accuracy: 0.9029\n",
      "Epoch 10/70\n",
      "16/16 [==============================] - ETA: 0s - loss: 0.0553 - sparse_categorical_accuracy: 0.9446\n",
      "Epoch 00010: val_sparse_categorical_accuracy improved from 0.90325 to 0.90719, saving model to training/deeper_classification_model/cp-0010.ckpt\n",
      "16/16 [==============================] - 1s 63ms/step - loss: 0.0553 - sparse_categorical_accuracy: 0.9446 - val_loss: 0.0885 - val_sparse_categorical_accuracy: 0.9072\n",
      "Epoch 11/70\n",
      "12/16 [=====================>........] - ETA: 0s - loss: 0.0502 - sparse_categorical_accuracy: 0.9494\n",
      "Epoch 00011: val_sparse_categorical_accuracy improved from 0.90719 to 0.90748, saving model to training/deeper_classification_model/cp-0011.ckpt\n",
      "16/16 [==============================] - 1s 63ms/step - loss: 0.0497 - sparse_categorical_accuracy: 0.9505 - val_loss: 0.0877 - val_sparse_categorical_accuracy: 0.9075\n",
      "Epoch 12/70\n",
      "16/16 [==============================] - ETA: 0s - loss: 0.0449 - sparse_categorical_accuracy: 0.9556\n",
      "Epoch 00012: val_sparse_categorical_accuracy did not improve from 0.90748\n",
      "16/16 [==============================] - 0s 14ms/step - loss: 0.0449 - sparse_categorical_accuracy: 0.9556 - val_loss: 0.0873 - val_sparse_categorical_accuracy: 0.9071\n",
      "Epoch 13/70\n",
      "16/16 [==============================] - ETA: 0s - loss: 0.0405 - sparse_categorical_accuracy: 0.9605\n",
      "Epoch 00013: val_sparse_categorical_accuracy did not improve from 0.90748\n",
      "16/16 [==============================] - 0s 14ms/step - loss: 0.0405 - sparse_categorical_accuracy: 0.9605 - val_loss: 0.0878 - val_sparse_categorical_accuracy: 0.9072\n",
      "Epoch 14/70\n",
      "11/16 [===================>..........] - ETA: 0s - loss: 0.0375 - sparse_categorical_accuracy: 0.9638\n",
      "Epoch 00014: val_sparse_categorical_accuracy did not improve from 0.90748\n",
      "16/16 [==============================] - 0s 14ms/step - loss: 0.0367 - sparse_categorical_accuracy: 0.9648 - val_loss: 0.0913 - val_sparse_categorical_accuracy: 0.9036\n",
      "Epoch 15/70\n",
      "11/16 [===================>..........] - ETA: 0s - loss: 0.0345 - sparse_categorical_accuracy: 0.9666\n",
      "Epoch 00015: val_sparse_categorical_accuracy did not improve from 0.90748\n",
      "16/16 [==============================] - 0s 13ms/step - loss: 0.0338 - sparse_categorical_accuracy: 0.9677 - val_loss: 0.0949 - val_sparse_categorical_accuracy: 0.9009\n",
      "Epoch 16/70\n",
      "16/16 [==============================] - ETA: 0s - loss: 0.0329 - sparse_categorical_accuracy: 0.9672\n",
      "Epoch 00016: val_sparse_categorical_accuracy did not improve from 0.90748\n",
      "16/16 [==============================] - 0s 14ms/step - loss: 0.0329 - sparse_categorical_accuracy: 0.9672 - val_loss: 0.0983 - val_sparse_categorical_accuracy: 0.8982\n",
      "Epoch 17/70\n",
      "11/16 [===================>..........] - ETA: 0s - loss: 0.0375 - sparse_categorical_accuracy: 0.9587\n",
      "Epoch 00017: val_sparse_categorical_accuracy did not improve from 0.90748\n",
      "16/16 [==============================] - 0s 14ms/step - loss: 0.0373 - sparse_categorical_accuracy: 0.9592 - val_loss: 0.0930 - val_sparse_categorical_accuracy: 0.9059\n",
      "Epoch 18/70\n",
      "16/16 [==============================] - ETA: 0s - loss: 0.0351 - sparse_categorical_accuracy: 0.9620\n",
      "Epoch 00018: val_sparse_categorical_accuracy did not improve from 0.90748\n",
      "16/16 [==============================] - 0s 14ms/step - loss: 0.0351 - sparse_categorical_accuracy: 0.9620 - val_loss: 0.0948 - val_sparse_categorical_accuracy: 0.9047\n",
      "Epoch 19/70\n",
      "16/16 [==============================] - ETA: 0s - loss: 0.0290 - sparse_categorical_accuracy: 0.9704\n",
      "Epoch 00019: val_sparse_categorical_accuracy improved from 0.90748 to 0.91011, saving model to training/deeper_classification_model/cp-0019.ckpt\n",
      "16/16 [==============================] - 0s 32ms/step - loss: 0.0290 - sparse_categorical_accuracy: 0.9704 - val_loss: 0.0888 - val_sparse_categorical_accuracy: 0.9101\n",
      "Epoch 20/70\n",
      "16/16 [==============================] - ETA: 0s - loss: 0.0255 - sparse_categorical_accuracy: 0.9746\n",
      "Epoch 00020: val_sparse_categorical_accuracy did not improve from 0.91011\n",
      "16/16 [==============================] - 0s 14ms/step - loss: 0.0255 - sparse_categorical_accuracy: 0.9746 - val_loss: 0.0962 - val_sparse_categorical_accuracy: 0.9029\n",
      "Epoch 21/70\n",
      "16/16 [==============================] - ETA: 0s - loss: 0.0222 - sparse_categorical_accuracy: 0.9797\n",
      "Epoch 00021: val_sparse_categorical_accuracy did not improve from 0.91011\n",
      "16/16 [==============================] - 0s 14ms/step - loss: 0.0222 - sparse_categorical_accuracy: 0.9797 - val_loss: 0.0937 - val_sparse_categorical_accuracy: 0.9072\n",
      "Epoch 22/70\n",
      "16/16 [==============================] - ETA: 0s - loss: 0.0199 - sparse_categorical_accuracy: 0.9828\n",
      "Epoch 00022: val_sparse_categorical_accuracy did not improve from 0.91011\n",
      "16/16 [==============================] - 0s 14ms/step - loss: 0.0199 - sparse_categorical_accuracy: 0.9828 - val_loss: 0.0911 - val_sparse_categorical_accuracy: 0.9097\n",
      "Epoch 23/70\n",
      "16/16 [==============================] - ETA: 0s - loss: 0.0172 - sparse_categorical_accuracy: 0.9866\n",
      "Epoch 00023: val_sparse_categorical_accuracy improved from 0.91011 to 0.91030, saving model to training/deeper_classification_model/cp-0023.ckpt\n",
      "16/16 [==============================] - 0s 31ms/step - loss: 0.0172 - sparse_categorical_accuracy: 0.9866 - val_loss: 0.0910 - val_sparse_categorical_accuracy: 0.9103\n",
      "Epoch 24/70\n",
      "16/16 [==============================] - ETA: 0s - loss: 0.0150 - sparse_categorical_accuracy: 0.9895\n",
      "Epoch 00024: val_sparse_categorical_accuracy did not improve from 0.91030\n",
      "16/16 [==============================] - 0s 14ms/step - loss: 0.0150 - sparse_categorical_accuracy: 0.9895 - val_loss: 0.0935 - val_sparse_categorical_accuracy: 0.9086\n",
      "Epoch 25/70\n",
      "16/16 [==============================] - ETA: 0s - loss: 0.0137 - sparse_categorical_accuracy: 0.9908\n",
      "Epoch 00025: val_sparse_categorical_accuracy did not improve from 0.91030\n",
      "16/16 [==============================] - 0s 14ms/step - loss: 0.0137 - sparse_categorical_accuracy: 0.9908 - val_loss: 0.0960 - val_sparse_categorical_accuracy: 0.9074\n",
      "Epoch 26/70\n",
      "16/16 [==============================] - ETA: 0s - loss: 0.0130 - sparse_categorical_accuracy: 0.9909\n",
      "Epoch 00026: val_sparse_categorical_accuracy did not improve from 0.91030\n",
      "16/16 [==============================] - 0s 14ms/step - loss: 0.0130 - sparse_categorical_accuracy: 0.9909 - val_loss: 0.0945 - val_sparse_categorical_accuracy: 0.9097\n",
      "Epoch 27/70\n",
      "11/16 [===================>..........] - ETA: 0s - loss: 0.0117 - sparse_categorical_accuracy: 0.9925\n",
      "Epoch 00027: val_sparse_categorical_accuracy did not improve from 0.91030\n",
      "16/16 [==============================] - 0s 14ms/step - loss: 0.0119 - sparse_categorical_accuracy: 0.9920 - val_loss: 0.0971 - val_sparse_categorical_accuracy: 0.9100\n",
      "Epoch 28/70\n",
      "16/16 [==============================] - ETA: 0s - loss: 0.0107 - sparse_categorical_accuracy: 0.9935\n",
      "Epoch 00028: val_sparse_categorical_accuracy did not improve from 0.91030\n",
      "16/16 [==============================] - 0s 14ms/step - loss: 0.0107 - sparse_categorical_accuracy: 0.9935 - val_loss: 0.1026 - val_sparse_categorical_accuracy: 0.9057\n",
      "Epoch 29/70\n",
      "16/16 [==============================] - ETA: 0s - loss: 0.0098 - sparse_categorical_accuracy: 0.9938\n",
      "Epoch 00029: val_sparse_categorical_accuracy did not improve from 0.91030\n",
      "16/16 [==============================] - 0s 14ms/step - loss: 0.0098 - sparse_categorical_accuracy: 0.9938 - val_loss: 0.1014 - val_sparse_categorical_accuracy: 0.9091\n",
      "Epoch 30/70\n",
      "11/16 [===================>..........] - ETA: 0s - loss: 0.0088 - sparse_categorical_accuracy: 0.9957\n",
      "Epoch 00030: val_sparse_categorical_accuracy improved from 0.91030 to 0.91127, saving model to training/deeper_classification_model/cp-0030.ckpt\n",
      "16/16 [==============================] - 0s 32ms/step - loss: 0.0088 - sparse_categorical_accuracy: 0.9954 - val_loss: 0.1007 - val_sparse_categorical_accuracy: 0.9113\n",
      "Epoch 31/70\n",
      "16/16 [==============================] - ETA: 0s - loss: 0.0073 - sparse_categorical_accuracy: 0.9972\n",
      "Epoch 00031: val_sparse_categorical_accuracy did not improve from 0.91127\n",
      "16/16 [==============================] - 0s 14ms/step - loss: 0.0073 - sparse_categorical_accuracy: 0.9972 - val_loss: 0.1046 - val_sparse_categorical_accuracy: 0.9089\n",
      "Epoch 32/70\n",
      "16/16 [==============================] - ETA: 0s - loss: 0.0064 - sparse_categorical_accuracy: 0.9979\n",
      "Epoch 00032: val_sparse_categorical_accuracy did not improve from 0.91127\n",
      "16/16 [==============================] - 0s 14ms/step - loss: 0.0064 - sparse_categorical_accuracy: 0.9979 - val_loss: 0.1054 - val_sparse_categorical_accuracy: 0.9092\n",
      "Epoch 33/70\n",
      "16/16 [==============================] - ETA: 0s - loss: 0.0057 - sparse_categorical_accuracy: 0.9984\n",
      "Epoch 00033: val_sparse_categorical_accuracy did not improve from 0.91127\n",
      "16/16 [==============================] - 0s 15ms/step - loss: 0.0057 - sparse_categorical_accuracy: 0.9984 - val_loss: 0.1076 - val_sparse_categorical_accuracy: 0.9080\n",
      "Epoch 34/70\n",
      "16/16 [==============================] - ETA: 0s - loss: 0.0053 - sparse_categorical_accuracy: 0.9985\n",
      "Epoch 00034: val_sparse_categorical_accuracy did not improve from 0.91127\n",
      "16/16 [==============================] - 0s 14ms/step - loss: 0.0053 - sparse_categorical_accuracy: 0.9985 - val_loss: 0.1128 - val_sparse_categorical_accuracy: 0.9046\n",
      "Epoch 35/70\n",
      "16/16 [==============================] - ETA: 0s - loss: 0.0050 - sparse_categorical_accuracy: 0.9990\n",
      "Epoch 00035: val_sparse_categorical_accuracy did not improve from 0.91127\n",
      "16/16 [==============================] - 0s 14ms/step - loss: 0.0050 - sparse_categorical_accuracy: 0.9990 - val_loss: 0.1138 - val_sparse_categorical_accuracy: 0.9041\n",
      "Epoch 36/70\n",
      "11/16 [===================>..........] - ETA: 0s - loss: 0.0048 - sparse_categorical_accuracy: 0.9987\n",
      "Epoch 00036: val_sparse_categorical_accuracy did not improve from 0.91127\n",
      "16/16 [==============================] - 0s 14ms/step - loss: 0.0048 - sparse_categorical_accuracy: 0.9987 - val_loss: 0.1137 - val_sparse_categorical_accuracy: 0.9061\n",
      "Epoch 37/70\n",
      "16/16 [==============================] - ETA: 0s - loss: 0.0047 - sparse_categorical_accuracy: 0.9991\n",
      "Epoch 00037: val_sparse_categorical_accuracy did not improve from 0.91127\n",
      "16/16 [==============================] - 0s 14ms/step - loss: 0.0047 - sparse_categorical_accuracy: 0.9991 - val_loss: 0.1121 - val_sparse_categorical_accuracy: 0.9074\n",
      "Epoch 38/70\n",
      "16/16 [==============================] - ETA: 0s - loss: 0.0046 - sparse_categorical_accuracy: 0.9989\n",
      "Epoch 00038: val_sparse_categorical_accuracy did not improve from 0.91127\n",
      "16/16 [==============================] - 0s 14ms/step - loss: 0.0046 - sparse_categorical_accuracy: 0.9989 - val_loss: 0.1183 - val_sparse_categorical_accuracy: 0.9049\n",
      "Epoch 39/70\n",
      "16/16 [==============================] - ETA: 0s - loss: 0.0045 - sparse_categorical_accuracy: 0.9985\n",
      "Epoch 00039: val_sparse_categorical_accuracy did not improve from 0.91127\n",
      "16/16 [==============================] - 0s 14ms/step - loss: 0.0045 - sparse_categorical_accuracy: 0.9985 - val_loss: 0.1177 - val_sparse_categorical_accuracy: 0.9059\n",
      "Epoch 40/70\n",
      "16/16 [==============================] - ETA: 0s - loss: 0.0046 - sparse_categorical_accuracy: 0.9985Restoring model weights from the end of the best epoch: 30.\n",
      "\n",
      "Epoch 00040: val_sparse_categorical_accuracy did not improve from 0.91127\n",
      "16/16 [==============================] - 0s 18ms/step - loss: 0.0046 - sparse_categorical_accuracy: 0.9985 - val_loss: 0.1129 - val_sparse_categorical_accuracy: 0.9100\n",
      "Epoch 00040: early stopping\n",
      "Model: \"deeper_rnn_model\"\n",
      "_________________________________________________________________\n",
      " Layer (type)                Output Shape              Param #   \n",
      "=================================================================\n",
      " input (InputLayer)          [(None, 88)]              0         \n",
      "                                                                 \n",
      " embedding_layer (Embedding)  (None, 88, 100)          40067700  \n",
      "                                                                 \n",
      " bidirectional_lstm_1 (Bidir  (None, 88, 256)          234496    \n",
      " ectional)                                                       \n",
      "                                                                 \n",
      " bidirectional_lstm_2 (Bidir  (None, 88, 128)          164352    \n",
      " ectional)                                                       \n",
      "                                                                 \n",
      " time_distributed_dense (Tim  (None, 88, 46)           5934      \n",
      " eDistributed)                                                   \n",
      "                                                                 \n",
      " softmax (Activation)        (None, 88, 46)            0         \n",
      "                                                                 \n",
      "=================================================================\n",
      "Total params: 40,472,482\n",
      "Trainable params: 404,782\n",
      "Non-trainable params: 40,067,700\n",
      "_________________________________________________________________\n",
      "Training model deeper_rnn_model\n",
      "Epoch 1/70\n",
      "13/16 [=======================>......] - ETA: 0s - loss: 0.8335 - sparse_categorical_accuracy: 0.4985\n",
      "Epoch 00001: val_sparse_categorical_accuracy improved from -inf to 0.38608, saving model to training/deeper_rnn_model/cp-0001.ckpt\n",
      "16/16 [==============================] - 11s 249ms/step - loss: 0.8176 - sparse_categorical_accuracy: 0.4860 - val_loss: 0.6860 - val_sparse_categorical_accuracy: 0.3861\n",
      "Epoch 2/70\n",
      "14/16 [=========================>....] - ETA: 0s - loss: 0.5180 - sparse_categorical_accuracy: 0.5015\n",
      "Epoch 00002: val_sparse_categorical_accuracy improved from 0.38608 to 0.64006, saving model to training/deeper_rnn_model/cp-0002.ckpt\n",
      "16/16 [==============================] - 1s 71ms/step - loss: 0.5082 - sparse_categorical_accuracy: 0.5151 - val_loss: 0.3778 - val_sparse_categorical_accuracy: 0.6401\n",
      "Epoch 3/70\n",
      "16/16 [==============================] - ETA: 0s - loss: 0.2929 - sparse_categorical_accuracy: 0.7164\n",
      "Epoch 00003: val_sparse_categorical_accuracy improved from 0.64006 to 0.76484, saving model to training/deeper_rnn_model/cp-0003.ckpt\n",
      "16/16 [==============================] - 1s 70ms/step - loss: 0.2929 - sparse_categorical_accuracy: 0.7164 - val_loss: 0.2474 - val_sparse_categorical_accuracy: 0.7648\n",
      "Epoch 4/70\n",
      "16/16 [==============================] - ETA: 0s - loss: 0.2017 - sparse_categorical_accuracy: 0.8112\n",
      "Epoch 00004: val_sparse_categorical_accuracy improved from 0.76484 to 0.82250, saving model to training/deeper_rnn_model/cp-0004.ckpt\n",
      "16/16 [==============================] - 1s 69ms/step - loss: 0.2017 - sparse_categorical_accuracy: 0.8112 - val_loss: 0.1895 - val_sparse_categorical_accuracy: 0.8225\n",
      "Epoch 5/70\n",
      "16/16 [==============================] - ETA: 0s - loss: 0.1581 - sparse_categorical_accuracy: 0.8522\n",
      "Epoch 00005: val_sparse_categorical_accuracy improved from 0.82250 to 0.85011, saving model to training/deeper_rnn_model/cp-0005.ckpt\n",
      "16/16 [==============================] - 1s 73ms/step - loss: 0.1581 - sparse_categorical_accuracy: 0.8522 - val_loss: 0.1609 - val_sparse_categorical_accuracy: 0.8501\n",
      "Epoch 6/70\n",
      "16/16 [==============================] - ETA: 0s - loss: 0.1337 - sparse_categorical_accuracy: 0.8733\n",
      "Epoch 00006: val_sparse_categorical_accuracy improved from 0.85011 to 0.86339, saving model to training/deeper_rnn_model/cp-0006.ckpt\n",
      "16/16 [==============================] - 1s 69ms/step - loss: 0.1337 - sparse_categorical_accuracy: 0.8733 - val_loss: 0.1438 - val_sparse_categorical_accuracy: 0.8634\n",
      "Epoch 7/70\n",
      "16/16 [==============================] - ETA: 0s - loss: 0.1180 - sparse_categorical_accuracy: 0.8882\n",
      "Epoch 00007: val_sparse_categorical_accuracy improved from 0.86339 to 0.87589, saving model to training/deeper_rnn_model/cp-0007.ckpt\n",
      "16/16 [==============================] - 1s 75ms/step - loss: 0.1180 - sparse_categorical_accuracy: 0.8882 - val_loss: 0.1301 - val_sparse_categorical_accuracy: 0.8759\n",
      "Epoch 8/70\n",
      "16/16 [==============================] - ETA: 0s - loss: 0.1058 - sparse_categorical_accuracy: 0.8985\n",
      "Epoch 00008: val_sparse_categorical_accuracy improved from 0.87589 to 0.88090, saving model to training/deeper_rnn_model/cp-0008.ckpt\n",
      "16/16 [==============================] - 2s 109ms/step - loss: 0.1058 - sparse_categorical_accuracy: 0.8985 - val_loss: 0.1221 - val_sparse_categorical_accuracy: 0.8809\n",
      "Epoch 9/70\n",
      "13/16 [=======================>......] - ETA: 0s - loss: 0.0974 - sparse_categorical_accuracy: 0.9049\n",
      "Epoch 00009: val_sparse_categorical_accuracy improved from 0.88090 to 0.88760, saving model to training/deeper_rnn_model/cp-0009.ckpt\n",
      "16/16 [==============================] - 2s 102ms/step - loss: 0.0959 - sparse_categorical_accuracy: 0.9078 - val_loss: 0.1131 - val_sparse_categorical_accuracy: 0.8876\n",
      "Epoch 10/70\n",
      "13/16 [=======================>......] - ETA: 0s - loss: 0.0887 - sparse_categorical_accuracy: 0.9138\n",
      "Epoch 00010: val_sparse_categorical_accuracy improved from 0.88760 to 0.88981, saving model to training/deeper_rnn_model/cp-0010.ckpt\n",
      "16/16 [==============================] - 1s 72ms/step - loss: 0.0873 - sparse_categorical_accuracy: 0.9159 - val_loss: 0.1095 - val_sparse_categorical_accuracy: 0.8898\n",
      "Epoch 11/70\n",
      "13/16 [=======================>......] - ETA: 0s - loss: 0.0824 - sparse_categorical_accuracy: 0.9195\n",
      "Epoch 00011: val_sparse_categorical_accuracy improved from 0.88981 to 0.89449, saving model to training/deeper_rnn_model/cp-0011.ckpt\n",
      "16/16 [==============================] - 1s 69ms/step - loss: 0.0811 - sparse_categorical_accuracy: 0.9218 - val_loss: 0.1054 - val_sparse_categorical_accuracy: 0.8945\n",
      "Epoch 12/70\n",
      "16/16 [==============================] - ETA: 0s - loss: 0.0746 - sparse_categorical_accuracy: 0.9296\n",
      "Epoch 00012: val_sparse_categorical_accuracy improved from 0.89449 to 0.89902, saving model to training/deeper_rnn_model/cp-0012.ckpt\n",
      "16/16 [==============================] - 1s 74ms/step - loss: 0.0746 - sparse_categorical_accuracy: 0.9296 - val_loss: 0.1011 - val_sparse_categorical_accuracy: 0.8990\n",
      "Epoch 13/70\n",
      "16/16 [==============================] - ETA: 0s - loss: 0.0689 - sparse_categorical_accuracy: 0.9346\n",
      "Epoch 00013: val_sparse_categorical_accuracy improved from 0.89902 to 0.90033, saving model to training/deeper_rnn_model/cp-0013.ckpt\n",
      "16/16 [==============================] - 1s 70ms/step - loss: 0.0689 - sparse_categorical_accuracy: 0.9346 - val_loss: 0.0986 - val_sparse_categorical_accuracy: 0.9003\n",
      "Epoch 14/70\n",
      "16/16 [==============================] - ETA: 0s - loss: 0.0645 - sparse_categorical_accuracy: 0.9383\n",
      "Epoch 00014: val_sparse_categorical_accuracy improved from 0.90033 to 0.90088, saving model to training/deeper_rnn_model/cp-0014.ckpt\n",
      "16/16 [==============================] - 1s 76ms/step - loss: 0.0645 - sparse_categorical_accuracy: 0.9383 - val_loss: 0.0966 - val_sparse_categorical_accuracy: 0.9009\n",
      "Epoch 15/70\n",
      "16/16 [==============================] - ETA: 0s - loss: 0.0607 - sparse_categorical_accuracy: 0.9422\n",
      "Epoch 00015: val_sparse_categorical_accuracy improved from 0.90088 to 0.90668, saving model to training/deeper_rnn_model/cp-0015.ckpt\n",
      "16/16 [==============================] - 1s 74ms/step - loss: 0.0607 - sparse_categorical_accuracy: 0.9422 - val_loss: 0.0923 - val_sparse_categorical_accuracy: 0.9067\n",
      "Epoch 16/70\n",
      "16/16 [==============================] - ETA: 0s - loss: 0.0592 - sparse_categorical_accuracy: 0.9423\n",
      "Epoch 00016: val_sparse_categorical_accuracy did not improve from 0.90668\n",
      "16/16 [==============================] - 0s 23ms/step - loss: 0.0592 - sparse_categorical_accuracy: 0.9423 - val_loss: 0.0979 - val_sparse_categorical_accuracy: 0.8992\n",
      "Epoch 17/70\n",
      "16/16 [==============================] - ETA: 0s - loss: 0.0599 - sparse_categorical_accuracy: 0.9395\n",
      "Epoch 00017: val_sparse_categorical_accuracy did not improve from 0.90668\n",
      "16/16 [==============================] - 0s 23ms/step - loss: 0.0599 - sparse_categorical_accuracy: 0.9395 - val_loss: 0.0984 - val_sparse_categorical_accuracy: 0.8990\n",
      "Epoch 18/70\n",
      "16/16 [==============================] - ETA: 0s - loss: 0.0542 - sparse_categorical_accuracy: 0.9463\n",
      "Epoch 00018: val_sparse_categorical_accuracy did not improve from 0.90668\n",
      "16/16 [==============================] - 0s 23ms/step - loss: 0.0542 - sparse_categorical_accuracy: 0.9463 - val_loss: 0.0942 - val_sparse_categorical_accuracy: 0.9018\n",
      "Epoch 19/70\n",
      "16/16 [==============================] - ETA: 0s - loss: 0.0489 - sparse_categorical_accuracy: 0.9534\n",
      "Epoch 00019: val_sparse_categorical_accuracy improved from 0.90668 to 0.90851, saving model to training/deeper_rnn_model/cp-0019.ckpt\n",
      "16/16 [==============================] - 1s 75ms/step - loss: 0.0489 - sparse_categorical_accuracy: 0.9534 - val_loss: 0.0887 - val_sparse_categorical_accuracy: 0.9085\n",
      "Epoch 20/70\n",
      "13/16 [=======================>......] - ETA: 0s - loss: 0.0459 - sparse_categorical_accuracy: 0.9570\n",
      "Epoch 00020: val_sparse_categorical_accuracy improved from 0.90851 to 0.91037, saving model to training/deeper_rnn_model/cp-0020.ckpt\n",
      "16/16 [==============================] - 1s 74ms/step - loss: 0.0451 - sparse_categorical_accuracy: 0.9582 - val_loss: 0.0865 - val_sparse_categorical_accuracy: 0.9104\n",
      "Epoch 21/70\n",
      "16/16 [==============================] - ETA: 0s - loss: 0.0419 - sparse_categorical_accuracy: 0.9624\n",
      "Epoch 00021: val_sparse_categorical_accuracy improved from 0.91037 to 0.91297, saving model to training/deeper_rnn_model/cp-0021.ckpt\n",
      "16/16 [==============================] - 1s 71ms/step - loss: 0.0419 - sparse_categorical_accuracy: 0.9624 - val_loss: 0.0851 - val_sparse_categorical_accuracy: 0.9130\n",
      "Epoch 22/70\n",
      "16/16 [==============================] - ETA: 0s - loss: 0.0392 - sparse_categorical_accuracy: 0.9655\n",
      "Epoch 00022: val_sparse_categorical_accuracy did not improve from 0.91297\n",
      "16/16 [==============================] - 0s 23ms/step - loss: 0.0392 - sparse_categorical_accuracy: 0.9655 - val_loss: 0.0855 - val_sparse_categorical_accuracy: 0.9105\n",
      "Epoch 23/70\n",
      "16/16 [==============================] - ETA: 0s - loss: 0.0371 - sparse_categorical_accuracy: 0.9680\n",
      "Epoch 00023: val_sparse_categorical_accuracy did not improve from 0.91297\n",
      "16/16 [==============================] - 0s 23ms/step - loss: 0.0371 - sparse_categorical_accuracy: 0.9680 - val_loss: 0.0852 - val_sparse_categorical_accuracy: 0.9108\n",
      "Epoch 24/70\n",
      "16/16 [==============================] - ETA: 0s - loss: 0.0351 - sparse_categorical_accuracy: 0.9702\n",
      "Epoch 00024: val_sparse_categorical_accuracy improved from 0.91297 to 0.91396, saving model to training/deeper_rnn_model/cp-0024.ckpt\n",
      "16/16 [==============================] - 1s 79ms/step - loss: 0.0351 - sparse_categorical_accuracy: 0.9702 - val_loss: 0.0828 - val_sparse_categorical_accuracy: 0.9140\n",
      "Epoch 25/70\n",
      "16/16 [==============================] - ETA: 0s - loss: 0.0329 - sparse_categorical_accuracy: 0.9728\n",
      "Epoch 00025: val_sparse_categorical_accuracy improved from 0.91396 to 0.91470, saving model to training/deeper_rnn_model/cp-0025.ckpt\n",
      "16/16 [==============================] - 1s 71ms/step - loss: 0.0329 - sparse_categorical_accuracy: 0.9728 - val_loss: 0.0818 - val_sparse_categorical_accuracy: 0.9147\n",
      "Epoch 26/70\n",
      "16/16 [==============================] - ETA: 0s - loss: 0.0307 - sparse_categorical_accuracy: 0.9749\n",
      "Epoch 00026: val_sparse_categorical_accuracy improved from 0.91470 to 0.91492, saving model to training/deeper_rnn_model/cp-0026.ckpt\n",
      "16/16 [==============================] - 1s 75ms/step - loss: 0.0307 - sparse_categorical_accuracy: 0.9749 - val_loss: 0.0820 - val_sparse_categorical_accuracy: 0.9149\n",
      "Epoch 27/70\n",
      "16/16 [==============================] - ETA: 0s - loss: 0.0287 - sparse_categorical_accuracy: 0.9774\n",
      "Epoch 00027: val_sparse_categorical_accuracy improved from 0.91492 to 0.91556, saving model to training/deeper_rnn_model/cp-0027.ckpt\n",
      "16/16 [==============================] - 1s 73ms/step - loss: 0.0287 - sparse_categorical_accuracy: 0.9774 - val_loss: 0.0819 - val_sparse_categorical_accuracy: 0.9156\n",
      "Epoch 28/70\n",
      "16/16 [==============================] - ETA: 0s - loss: 0.0269 - sparse_categorical_accuracy: 0.9793\n",
      "Epoch 00028: val_sparse_categorical_accuracy did not improve from 0.91556\n",
      "16/16 [==============================] - 0s 22ms/step - loss: 0.0269 - sparse_categorical_accuracy: 0.9793 - val_loss: 0.0840 - val_sparse_categorical_accuracy: 0.9143\n",
      "Epoch 29/70\n",
      "16/16 [==============================] - ETA: 0s - loss: 0.0254 - sparse_categorical_accuracy: 0.9809\n",
      "Epoch 00029: val_sparse_categorical_accuracy did not improve from 0.91556\n",
      "16/16 [==============================] - 0s 23ms/step - loss: 0.0254 - sparse_categorical_accuracy: 0.9809 - val_loss: 0.0856 - val_sparse_categorical_accuracy: 0.9125\n",
      "Epoch 30/70\n",
      "16/16 [==============================] - ETA: 0s - loss: 0.0242 - sparse_categorical_accuracy: 0.9822\n",
      "Epoch 00030: val_sparse_categorical_accuracy improved from 0.91556 to 0.91643, saving model to training/deeper_rnn_model/cp-0030.ckpt\n",
      "16/16 [==============================] - 1s 75ms/step - loss: 0.0242 - sparse_categorical_accuracy: 0.9822 - val_loss: 0.0820 - val_sparse_categorical_accuracy: 0.9164\n",
      "Epoch 31/70\n",
      "13/16 [=======================>......] - ETA: 0s - loss: 0.0231 - sparse_categorical_accuracy: 0.9834\n",
      "Epoch 00031: val_sparse_categorical_accuracy did not improve from 0.91643\n",
      "16/16 [==============================] - 0s 23ms/step - loss: 0.0229 - sparse_categorical_accuracy: 0.9835 - val_loss: 0.0842 - val_sparse_categorical_accuracy: 0.9126\n",
      "Epoch 32/70\n",
      "16/16 [==============================] - ETA: 0s - loss: 0.0220 - sparse_categorical_accuracy: 0.9840\n",
      "Epoch 00032: val_sparse_categorical_accuracy did not improve from 0.91643\n",
      "16/16 [==============================] - 0s 23ms/step - loss: 0.0220 - sparse_categorical_accuracy: 0.9840 - val_loss: 0.0825 - val_sparse_categorical_accuracy: 0.9153\n",
      "Epoch 33/70\n",
      "16/16 [==============================] - ETA: 0s - loss: 0.0212 - sparse_categorical_accuracy: 0.9847\n",
      "Epoch 00033: val_sparse_categorical_accuracy did not improve from 0.91643\n",
      "16/16 [==============================] - 0s 23ms/step - loss: 0.0212 - sparse_categorical_accuracy: 0.9847 - val_loss: 0.0896 - val_sparse_categorical_accuracy: 0.9098\n",
      "Epoch 34/70\n",
      "14/16 [=========================>....] - ETA: 0s - loss: 0.0210 - sparse_categorical_accuracy: 0.9849\n",
      "Epoch 00034: val_sparse_categorical_accuracy did not improve from 0.91643\n",
      "16/16 [==============================] - 0s 23ms/step - loss: 0.0208 - sparse_categorical_accuracy: 0.9851 - val_loss: 0.0841 - val_sparse_categorical_accuracy: 0.9151\n",
      "Epoch 35/70\n",
      "16/16 [==============================] - ETA: 0s - loss: 0.0188 - sparse_categorical_accuracy: 0.9874\n",
      "Epoch 00035: val_sparse_categorical_accuracy did not improve from 0.91643\n",
      "16/16 [==============================] - 0s 23ms/step - loss: 0.0188 - sparse_categorical_accuracy: 0.9874 - val_loss: 0.0902 - val_sparse_categorical_accuracy: 0.9088\n",
      "Epoch 36/70\n",
      "16/16 [==============================] - ETA: 0s - loss: 0.0183 - sparse_categorical_accuracy: 0.9878\n",
      "Epoch 00036: val_sparse_categorical_accuracy did not improve from 0.91643\n",
      "16/16 [==============================] - 0s 23ms/step - loss: 0.0183 - sparse_categorical_accuracy: 0.9878 - val_loss: 0.0895 - val_sparse_categorical_accuracy: 0.9107\n",
      "Epoch 37/70\n",
      "13/16 [=======================>......] - ETA: 0s - loss: 0.0177 - sparse_categorical_accuracy: 0.9886\n",
      "Epoch 00037: val_sparse_categorical_accuracy did not improve from 0.91643\n",
      "16/16 [==============================] - 0s 23ms/step - loss: 0.0173 - sparse_categorical_accuracy: 0.9891 - val_loss: 0.0859 - val_sparse_categorical_accuracy: 0.9134\n",
      "Epoch 38/70\n",
      "16/16 [==============================] - ETA: 0s - loss: 0.0158 - sparse_categorical_accuracy: 0.9907\n",
      "Epoch 00038: val_sparse_categorical_accuracy did not improve from 0.91643\n",
      "16/16 [==============================] - 0s 23ms/step - loss: 0.0158 - sparse_categorical_accuracy: 0.9907 - val_loss: 0.0849 - val_sparse_categorical_accuracy: 0.9150\n",
      "Epoch 39/70\n",
      "16/16 [==============================] - ETA: 0s - loss: 0.0140 - sparse_categorical_accuracy: 0.9922\n",
      "Epoch 00039: val_sparse_categorical_accuracy did not improve from 0.91643\n",
      "16/16 [==============================] - 0s 22ms/step - loss: 0.0140 - sparse_categorical_accuracy: 0.9922 - val_loss: 0.0862 - val_sparse_categorical_accuracy: 0.9132\n",
      "Epoch 40/70\n",
      "16/16 [==============================] - ETA: 0s - loss: 0.0131 - sparse_categorical_accuracy: 0.9931Restoring model weights from the end of the best epoch: 30.\n",
      "\n",
      "Epoch 00040: val_sparse_categorical_accuracy did not improve from 0.91643\n",
      "16/16 [==============================] - 0s 27ms/step - loss: 0.0131 - sparse_categorical_accuracy: 0.9931 - val_loss: 0.0867 - val_sparse_categorical_accuracy: 0.9134\n",
      "Epoch 00040: early stopping\n",
      "CPU times: user 1min 53s, sys: 27.1 s, total: 2min 20s\n",
      "Wall time: 2min 24s\n"
     ]
    }
   ],
   "source": [
    "%%time\n",
    "# COMMENT IF YOU WANT TO SKIP TRAINING\n",
    "train_all(models_to_train)"
   ]
  },
  {
   "cell_type": "markdown",
   "metadata": {
    "id": "Jd-Frtcomsi3"
   },
   "source": [
    "## Evaluation"
   ]
  },
  {
   "cell_type": "markdown",
   "metadata": {
    "id": "FTunf2iTmsi3"
   },
   "source": [
    "We can easily evaluate these models by loading their best weights and letting them predict the POS on the validation set.\n",
    "\n",
    "The main measure we are intersted on is the F1-Macro without considering punctuation classes. This kind of measure does not take label imbalance into account: it first calculates the F1 metric for each label, then averages them. Basically:\n",
    "\n",
    "$$\n",
    "\\frac{1}{N}\\sum^N_{i=0}\\operatorname{F1-Score}_i\n",
    "$$\n",
    "\n",
    "We ignore punctuation classes by only considering elements whose groundtruth label is not the `<PAD>` token or one of the following:"
   ]
  },
  {
   "cell_type": "code",
   "execution_count": 45,
   "metadata": {
    "colab": {
     "base_uri": "https://localhost:8080/"
    },
    "id": "GcHrTVvymsi3",
    "outputId": "644c8af1-5ab5-4a67-e3a7-2f5f0452a134"
   },
   "outputs": [
    {
     "data": {
      "text/plain": [
       "['#', '$', \"''\", ',', '.', ':', '``', '-LRB-', '-RRB-', 'SYM']"
      ]
     },
     "execution_count": 45,
     "metadata": {},
     "output_type": "execute_result"
    }
   ],
   "source": [
    "PUNCTUATION_TAGS"
   ]
  },
  {
   "cell_type": "markdown",
   "metadata": {
    "id": "lQADS_DStr4v"
   },
   "source": [
    "\n",
    "Note that since the embedding layer is **masking** the padding tokens, the neural network is completely ignoring them and predictions on the `<PAD>` tokens have no meaning. \n",
    "\n",
    "From our analysis we have seen that for the padding token, our model always predicts the \"dot\" class (.), probably because it has learnt that a sentence always ends with a dot. \n",
    "\n",
    "Luckily, we ignore padding tokens in our analysis, so it shouldn't be a problem, but for real applications we would need to post-process the output so to cut it at the first dot."
   ]
  },
  {
   "cell_type": "markdown",
   "metadata": {
    "id": "biqZtTYqmsi3"
   },
   "source": [
    "We use the following functions for evaluation:"
   ]
  },
  {
   "cell_type": "code",
   "execution_count": 46,
   "metadata": {
    "colab": {
     "base_uri": "https://localhost:8080/"
    },
    "id": "9YgQgFS8msi3",
    "outputId": "a32d90ba-e5de-46e1-ce4e-4a5e3f232c98"
   },
   "outputs": [],
   "source": [
    "IGNORE_IDXS = set( [ labels_to_idx(tag) for tag in PUNCTUATION_TAGS +  ['<PAD>'] ] )\n",
    "KEEP_IDXS   = set( [ labels_to_idx(L) for L in LABELS ] ).difference(IGNORE_IDXS)\n",
    "\n",
    "def obtain_best_model(model_func: partial) -> keras.Model:\n",
    "    # Instantiate the model\n",
    "    model: keras.Model = model_func(verbose=False)\n",
    "\n",
    "    # Load best available weights\n",
    "    print(\"Loading weights for model {}\".format(model.name))\n",
    "    checkpoint_path = os.path.join(\"training\", model.name, \"cp-{epoch:04d}.ckpt\")\n",
    "    checkpoint_dir = os.path.dirname(checkpoint_path)\n",
    "    latest = tf.train.latest_checkpoint(checkpoint_dir)\n",
    "    model.load_weights(latest)\n",
    "\n",
    "    return model\n",
    "\n",
    "def compute_predictions(model_func: partial, dataset: tf.data.Dataset, \n",
    "    y_split: np.array, labels: set, show_confusion_matrix=False) -> keras.Model:\n",
    "    '''\n",
    "    Evaluates a model against a dataset split (eg. validation or test) ignoring a number of labels\n",
    "    we may not be interested about. The evaluation is expressed as an F1-Score.\n",
    "    Optionally, the confusion matrix is shown. A confusion matrix is always preduced and \n",
    "    returned by this method, as well as the predictions.\n",
    "    '''\n",
    "    # Obtain model\n",
    "    model = obtain_best_model(model_func)\n",
    "\n",
    "    # Compute predictions on the dataset\n",
    "    print(\"Computing predictions using model {}\".format(model.name))\n",
    "    predictions = model.predict(dataset, \n",
    "        batch_size=BATCH_SIZE, verbose=1\n",
    "    )\n",
    "\n",
    "    # Compute evaluation for the model\n",
    "    print(\"Computing evaluation F1-Score for model {}\".format(model.name))\n",
    "    # We flatten the arrays of predictions/groundtruths so to get 1D-arrays\n",
    "    predicted_labels = np.argmax(predictions, axis=2).flatten()\n",
    "    real_labels = y_split.flatten()\n",
    "    # Compute a mask of where elements that correspond to the idxs we want to keep are\n",
    "    # in the groundtruth array\n",
    "    keep_mask = np.array([item in KEEP_IDXS for item in real_labels])\n",
    "    masked_real = real_labels[keep_mask]\n",
    "    masked_predicted = predicted_labels[keep_mask]\n",
    "    # We compute the F1-Score, instructing the scoring \n",
    "    # function to ignore the punctuation tags\n",
    "    score = f1_score(\n",
    "        y_true=real_labels, \n",
    "        y_pred=predicted_labels, \n",
    "        labels=list(labels),     # Compute only for these labels\n",
    "        average='macro'             # Macro average\n",
    "    )\n",
    "    print(\"\\tDEBUG:\")\n",
    "    print(\"\\tPredicted: {}...\".format(predicted_labels[:20]))\n",
    "    print(\"\\tReal:      {}...\".format(real_labels[:20]))\n",
    "    print(\"F1-Score (macro-weighted): {}\".format(score))\n",
    "    print()\n",
    "    if show_confusion_matrix:\n",
    "        # Display confusion matrix\n",
    "        _, ax = plt.subplots(1,1, figsize=(15,15))\n",
    "        ConfusionMatrixDisplay.from_predictions(y_true=masked_real, \n",
    "            y_pred=masked_predicted, cmap='YlGn', ax=ax)\n",
    "    \n",
    "    cmatr = confusion_matrix(y_true=masked_real, \n",
    "            y_pred=masked_predicted)\n",
    "    \n",
    "    return predictions, cmatr"
   ]
  },
  {
   "cell_type": "code",
   "execution_count": 47,
   "metadata": {},
   "outputs": [
    {
     "name": "stdout",
     "output_type": "stream",
     "text": [
      "Loading weights for model baseline_model\n",
      "Computing predictions using model baseline_model\n",
      "10/10 [==============================] - 1s 4ms/step\n",
      "Computing evaluation F1-Score for model baseline_model\n",
      "\tDEBUG:\n",
      "\tPredicted: [11 15 20 36 15 23 14 11 20 14 16 14  2 10 10 14 15 20 14 21]...\n",
      "\tReal:      [11 21 20 36 15 23 14 11 20 14 16 14  2 10 10 14 15 20 14 21]...\n",
      "F1-Score (macro-weighted): 0.7432932702283868\n",
      "\n",
      "Loading weights for model gru_model\n",
      "Computing predictions using model gru_model\n",
      "10/10 [==============================] - 1s 4ms/step\n",
      "Computing evaluation F1-Score for model gru_model\n",
      "\tDEBUG:\n",
      "\tPredicted: [11 15 20 36 15 20 14 11 20 14 16 14  2 10 10 14 15 20 14 21]...\n",
      "\tReal:      [11 21 20 36 15 23 14 11 20 14 16 14  2 10 10 14 15 20 14 21]...\n",
      "F1-Score (macro-weighted): 0.7652030681500995\n",
      "\n",
      "Loading weights for model deeper_classification_model\n",
      "Computing predictions using model deeper_classification_model\n",
      "10/10 [==============================] - 1s 4ms/step\n",
      "Computing evaluation F1-Score for model deeper_classification_model\n",
      "\tDEBUG:\n",
      "\tPredicted: [11 15 20 36 15 15 14 11 20 14 29 14  2 10 10 14 15 23 14 21]...\n",
      "\tReal:      [11 21 20 36 15 23 14 11 20 14 16 14  2 10 10 14 15 20 14 21]...\n",
      "F1-Score (macro-weighted): 0.7559566460817627\n",
      "\n",
      "Loading weights for model deeper_rnn_model\n",
      "Computing predictions using model deeper_rnn_model\n",
      "10/10 [==============================] - 3s 7ms/step\n",
      "Computing evaluation F1-Score for model deeper_rnn_model\n",
      "\tDEBUG:\n",
      "\tPredicted: [11 15 20 36 15 23 14 11 20 14 16 14  2 10 10 14 15 20 14 21]...\n",
      "\tReal:      [11 21 20 36 15 23 14 11 20 14 16 14  2 10 10 14 15 20 14 21]...\n",
      "F1-Score (macro-weighted): 0.7360211958936199\n",
      "\n"
     ]
    }
   ],
   "source": [
    "for model_func in models_to_train:\n",
    "    compute_predictions(model_func, dataset=val_dataset, y_split=y_val, labels=KEEP_IDXS)"
   ]
  },
  {
   "cell_type": "markdown",
   "metadata": {
    "id": "QT44JUqlDEdV"
   },
   "source": [
    "It looks like the best architectural changes were:\n",
    "- Replacing the LSTM with a GRU layer (`gru_model`)\n",
    "- Deepening the classifier part of the model (`deeper_classification_model`)"
   ]
  },
  {
   "cell_type": "markdown",
   "metadata": {
    "id": "QMdq1Nmfmsi4"
   },
   "source": [
    "## Error Analysis"
   ]
  },
  {
   "cell_type": "markdown",
   "metadata": {},
   "source": [
    "We analyze the performance of the best two models we have obtained on the test set to obtain trustworthy measurements."
   ]
  },
  {
   "cell_type": "markdown",
   "metadata": {},
   "source": [
    "### Performance of the GRU model on the test set"
   ]
  },
  {
   "cell_type": "code",
   "execution_count": 50,
   "metadata": {},
   "outputs": [
    {
     "name": "stdout",
     "output_type": "stream",
     "text": [
      "Loading weights for model gru_model\n",
      "Computing predictions using model gru_model\n",
      "5/5 [==============================] - 1s 4ms/step\n",
      "Computing evaluation F1-Score for model gru_model\n",
      "\tDEBUG:\n",
      "\tPredicted: [21 21 21  4 21 21  4 21  4 36 26 36 10 10 23  4  9 28 10 20]...\n",
      "\tReal:      [21 21 21  4 21 21  4 21  4 36 26 36 10 10 23  4  9 14 10 20]...\n",
      "F1-Score (macro-weighted): 0.7399737259117465\n",
      "\n"
     ]
    },
    {
     "name": "stderr",
     "output_type": "stream",
     "text": [
      "/home/volpepe/Desktop/SequenceLabeling/.env/lib/python3.8/site-packages/sklearn/metrics/_classification.py:1570: UndefinedMetricWarning: F-score is ill-defined and being set to 0.0 in labels with no true nor predicted samples. Use `zero_division` parameter to control this behavior.\n",
      "  _warn_prf(average, \"true nor predicted\", \"F-score is\", len(true_sum))\n"
     ]
    },
    {
     "data": {
      "image/png": "[encoded data removed]",
      "text/plain": [
       "<Figure size 1080x1080 with 2 Axes>"
      ]
     },
     "metadata": {
      "needs_background": "light"
     },
     "output_type": "display_data"
    }
   ],
   "source": [
    "predictions_gru, cmatr_gru = compute_predictions(partial(build_GRU_model, COMPILING_INFO), \n",
    "    test_dataset, y_test, labels=KEEP_IDXS, show_confusion_matrix=True)"
   ]
  },
  {
   "cell_type": "markdown",
   "metadata": {},
   "source": [
    "### Performance of the deeper-classifier model on the test set"
   ]
  },
  {
   "cell_type": "code",
   "execution_count": 51,
   "metadata": {},
   "outputs": [
    {
     "name": "stdout",
     "output_type": "stream",
     "text": [
      "Loading weights for model deeper_classification_model\n",
      "Computing predictions using model deeper_classification_model\n",
      "5/5 [==============================] - 1s 4ms/step\n",
      "Computing evaluation F1-Score for model deeper_classification_model\n",
      "\tDEBUG:\n",
      "\tPredicted: [21 21 21  4 21 21  4 21  4 36 26 36 10 10 23  4  9 28 10 20]...\n",
      "\tReal:      [21 21 21  4 21 21  4 21  4 36 26 36 10 10 23  4  9 14 10 20]...\n",
      "F1-Score (macro-weighted): 0.7263810197356974\n",
      "\n"
     ]
    },
    {
     "name": "stderr",
     "output_type": "stream",
     "text": [
      "/home/volpepe/Desktop/SequenceLabeling/.env/lib/python3.8/site-packages/sklearn/metrics/_classification.py:1570: UndefinedMetricWarning: F-score is ill-defined and being set to 0.0 in labels with no true nor predicted samples. Use `zero_division` parameter to control this behavior.\n",
      "  _warn_prf(average, \"true nor predicted\", \"F-score is\", len(true_sum))\n"
     ]
    },
    {
     "data": {
      "image/png": "[encoded data removed]",
      "text/plain": [
       "<Figure size 1080x1080 with 2 Axes>"
      ]
     },
     "metadata": {
      "needs_background": "light"
     },
     "output_type": "display_data"
    }
   ],
   "source": [
    "predictions_densex2, cmatr_densex2 = compute_predictions(partial(build_densex2_model, COMPILING_INFO), \n",
    "    test_dataset, y_test, labels=KEEP_IDXS, show_confusion_matrix=True)"
   ]
  },
  {
   "cell_type": "markdown",
   "metadata": {},
   "source": [
    "### Comments"
   ]
  },
  {
   "cell_type": "markdown",
   "metadata": {},
   "source": [
    "Some of the things we observe from the previous analysis:\n",
    "- The F1-Score is similar to the scores we obtained on the validation set, so the training seems to have been successful.\n",
    "- The model sometimes (rarely) predicts some legit tokens as punctuation.\n",
    "- The largest mistakes of both our models seem to happen for labels 15, 20, 21, 23, 28, 38.\n",
    "    - Groundtruth labels 20 and 21 are sometimes interchanged by our predictor, or confused with a 15.\n",
    "    - Groundtruth labels 15 are also sometimes predicted as 20/21\n",
    "    - Groundtruth labels 23 are sometimes predicted as 20/21 and viceversa\n",
    "    - Groundtruth labels 28 are sometimes predicted as 14/15 and viceversa\n",
    "    - 38 and 15 are also confused sometimes.\n",
    "- Mistakes on the previously mentioned labels account for a great deal of the total errors. We can show this with the following code:"
   ]
  },
  {
   "cell_type": "code",
   "execution_count": 55,
   "metadata": {},
   "outputs": [
    {
     "name": "stdout",
     "output_type": "stream",
     "text": [
      "Errors for problematic labels [15, 20, 21, 23, 28, 38] in the GRU model account for 70.09% of the total errors\n",
      "Errors for problematic labels [15, 20, 21, 23, 28, 38] in the deeper dense model account for 68.77% of the total errors\n"
     ]
    }
   ],
   "source": [
    "ERR_LABELS = [15, 20, 21, 23, 28, 38]\n",
    "# Note: \n",
    "# On gru_c_matr, labels 15, 20, 21, 23, 28, 38 are on rows 9, 13, 14, 16, 21, 29\n",
    "# On cmatr_densex2, the same labels are on rows 9, 14, 15, 17, 22, 30\n",
    "idxs_dense = [ 9, 14, 15, 17, 22, 30]\n",
    "idxs_gru = [9, 13, 14, 16, 21, 29]\n",
    "# Obtain the number of correct predictions by sampling on the diagonal from the \n",
    "# rows of the labels we are claiming to be full of errors.\n",
    "ok_values_gru = cmatr_gru[idxs_gru, idxs_gru]\n",
    "ok_values_dense = cmatr_densex2[idxs_dense, idxs_dense]\n",
    "# Sum the total number of values in the matrix. It is the same for both matrices.\n",
    "tot_vals = np.sum(cmatr_gru)\n",
    "# Then, obtain how many errors are there in the whole matrix. \n",
    "# We can do this by subtracting from the total amount of examined labels,\n",
    "# The sum of the labels that are on the diagonal of the matrix (the correctly\n",
    "# predicted labels)\n",
    "total_errors_gru = tot_vals - np.sum(np.diag(cmatr_gru))\n",
    "total_errors_dense = tot_vals - np.sum(np.diag(cmatr_densex2))\n",
    "# To understand how many errors are done on the rows of interest,\n",
    "# we sum over the whole rows obtaining a vector of counts for each row,\n",
    "# then we subtract the previously computed number of correct predictions\n",
    "# for that row.\n",
    "errors_gru = np.sum(np.sum(cmatr_gru[idxs_gru], axis=1) - ok_values_gru)\n",
    "errors_dense = np.sum(np.sum(cmatr_densex2[idxs_dense], axis=1) - ok_values_dense)\n",
    "# Finally, we normalize these results to obtain probabilities\n",
    "norm_errors_gru = errors_gru / total_errors_gru\n",
    "norm_errors_dense = errors_dense / total_errors_dense\n",
    "\n",
    "print(\"Errors for problematic labels {} in the GRU model account for {:.2f}% of the total errors\".format(ERR_LABELS, norm_errors_gru*100))\n",
    "print(\"Errors for problematic labels {} in the deeper dense model account for {:.2f}% of the total errors\".format(ERR_LABELS, norm_errors_dense*100))"
   ]
  },
  {
   "cell_type": "markdown",
   "metadata": {},
   "source": [
    "These 6 tags are responsible for over $70\\%$ of the mistakes of the models. To get a clearer view, these labels correspond to the following POS tags:"
   ]
  },
  {
   "cell_type": "code",
   "execution_count": 56,
   "metadata": {},
   "outputs": [
    {
     "data": {
      "text/plain": [
       "['JJ', 'NN', 'NNP', 'NNS', 'RB', 'VBN']"
      ]
     },
     "execution_count": 56,
     "metadata": {},
     "output_type": "execute_result"
    }
   ],
   "source": [
    "[idx_to_label(idx) for idx in [15, 20, 21, 23, 28, 38]]"
   ]
  },
  {
   "cell_type": "markdown",
   "metadata": {},
   "source": [
    "Where:\n",
    "- JJ (15) are Adjectives\n",
    "- NN (20) are Singular Nouns\n",
    "- NNP (21) are Proper Nouns\n",
    "- NNS (23) are Plural Nouns\n",
    "- RB (28) are Adverbs\n",
    "- VBN (38) are Verbs at past principle\n",
    "\n",
    "It makes sense that some singular nouns are confused with proper nouns, that there is some confusion between singular and plural and that the model has trouble understanding when adjectives are **actual** adjectives and when they are something else. We as humans often have the same problems!\n",
    "\n",
    "Let's explore some of the sentences where the model makes such mistakes."
   ]
  },
  {
   "cell_type": "markdown",
   "metadata": {},
   "source": [
    "#### Error Exploration"
   ]
  },
  {
   "cell_type": "markdown",
   "metadata": {},
   "source": [
    "With this utility function we can easily visualize a sentence, its groundtruth tags and the predicted tags.\n",
    "\n",
    "We use the deeper classification model, which is the better performing one, but the confusion matrix for the GRU model tells us that similar results would be obtained."
   ]
  },
  {
   "cell_type": "code",
   "execution_count": 57,
   "metadata": {},
   "outputs": [
    {
     "name": "stdout",
     "output_type": "stream",
     "text": [
      "Sentence: the van nuys , calif. , thrift had net income of $ 132,000 , or three cents a share , a year ago .\n"
     ]
    },
    {
     "data": {
      "text/html": [
       "<div>\n",
       "<style scoped>\n",
       "    .dataframe tbody tr th:only-of-type {\n",
       "        vertical-align: middle;\n",
       "    }\n",
       "\n",
       "    .dataframe tbody tr th {\n",
       "        vertical-align: top;\n",
       "    }\n",
       "\n",
       "    .dataframe thead th {\n",
       "        text-align: right;\n",
       "    }\n",
       "</style>\n",
       "<table border=\"1\" class=\"dataframe\">\n",
       "  <thead>\n",
       "    <tr style=\"text-align: right;\">\n",
       "      <th></th>\n",
       "      <th>0</th>\n",
       "      <th>1</th>\n",
       "      <th>2</th>\n",
       "      <th>3</th>\n",
       "      <th>4</th>\n",
       "      <th>5</th>\n",
       "      <th>6</th>\n",
       "      <th>7</th>\n",
       "      <th>8</th>\n",
       "      <th>9</th>\n",
       "      <th>...</th>\n",
       "      <th>14</th>\n",
       "      <th>15</th>\n",
       "      <th>16</th>\n",
       "      <th>17</th>\n",
       "      <th>18</th>\n",
       "      <th>19</th>\n",
       "      <th>20</th>\n",
       "      <th>21</th>\n",
       "      <th>22</th>\n",
       "      <th>23</th>\n",
       "    </tr>\n",
       "  </thead>\n",
       "  <tbody>\n",
       "    <tr>\n",
       "      <th>word</th>\n",
       "      <td>the</td>\n",
       "      <td>van</td>\n",
       "      <td>nuys</td>\n",
       "      <td>,</td>\n",
       "      <td>calif.</td>\n",
       "      <td>,</td>\n",
       "      <td>thrift</td>\n",
       "      <td>had</td>\n",
       "      <td>net</td>\n",
       "      <td>income</td>\n",
       "      <td>...</td>\n",
       "      <td>or</td>\n",
       "      <td>three</td>\n",
       "      <td>cents</td>\n",
       "      <td>a</td>\n",
       "      <td>share</td>\n",
       "      <td>,</td>\n",
       "      <td>a</td>\n",
       "      <td>year</td>\n",
       "      <td>ago</td>\n",
       "      <td>.</td>\n",
       "    </tr>\n",
       "    <tr>\n",
       "      <th>tag</th>\n",
       "      <td>DT</td>\n",
       "      <td>NNP</td>\n",
       "      <td>NNP</td>\n",
       "      <td>,</td>\n",
       "      <td>NNP</td>\n",
       "      <td>,</td>\n",
       "      <td>NN</td>\n",
       "      <td>VBD</td>\n",
       "      <td>JJ</td>\n",
       "      <td>NN</td>\n",
       "      <td>...</td>\n",
       "      <td>CC</td>\n",
       "      <td>CD</td>\n",
       "      <td>NNS</td>\n",
       "      <td>DT</td>\n",
       "      <td>NN</td>\n",
       "      <td>,</td>\n",
       "      <td>DT</td>\n",
       "      <td>NN</td>\n",
       "      <td>IN</td>\n",
       "      <td>.</td>\n",
       "    </tr>\n",
       "    <tr>\n",
       "      <th>prediction</th>\n",
       "      <td>DT</td>\n",
       "      <td>NNP</td>\n",
       "      <td>NNP</td>\n",
       "      <td>,</td>\n",
       "      <td>NNP</td>\n",
       "      <td>,</td>\n",
       "      <td>NN</td>\n",
       "      <td>VBD</td>\n",
       "      <td>JJ</td>\n",
       "      <td>NN</td>\n",
       "      <td>...</td>\n",
       "      <td>CC</td>\n",
       "      <td>CD</td>\n",
       "      <td>NNS</td>\n",
       "      <td>DT</td>\n",
       "      <td>NN</td>\n",
       "      <td>,</td>\n",
       "      <td>DT</td>\n",
       "      <td>NN</td>\n",
       "      <td>RB</td>\n",
       "      <td>.</td>\n",
       "    </tr>\n",
       "  </tbody>\n",
       "</table>\n",
       "<p>3 rows × 24 columns</p>\n",
       "</div>"
      ],
      "text/plain": [
       "             0    1     2  3       4  5       6    7    8       9   ...  14  \\\n",
       "word        the  van  nuys  ,  calif.  ,  thrift  had  net  income  ...  or   \n",
       "tag          DT  NNP   NNP  ,     NNP  ,      NN  VBD   JJ      NN  ...  CC   \n",
       "prediction   DT  NNP   NNP  ,     NNP  ,      NN  VBD   JJ      NN  ...  CC   \n",
       "\n",
       "               15     16  17     18 19  20    21   22 23  \n",
       "word        three  cents   a  share  ,   a  year  ago  .  \n",
       "tag            CD    NNS  DT     NN  ,  DT    NN   IN  .  \n",
       "prediction     CD    NNS  DT     NN  ,  DT    NN   RB  .  \n",
       "\n",
       "[3 rows x 24 columns]"
      ]
     },
     "execution_count": 57,
     "metadata": {},
     "output_type": "execute_result"
    }
   ],
   "source": [
    "prediction_array = np.argmax(predictions_densex2, axis=2)\n",
    "\n",
    "def get_comparison(idx=None, verbose=True):\n",
    "    # Call with no parameters to get random sentence\n",
    "    if idx is None:\n",
    "        idx = random.choice(range(len(test_sentences)))\n",
    "    if verbose:\n",
    "        print(\"Sentence: {}\".format(get_natural_language_sentence(test_sentences[idx])))\n",
    "    # Create dataframe for the comparison\n",
    "    rand_df = test_sentences[idx].reset_index().drop(['index'], axis=1).T\n",
    "    rand_pred = prediction_array[idx]\n",
    "    # Drop whatever is after the point in the prediction\n",
    "    rand_pred = rand_pred[0:np.where(rand_pred == 7)[0][0] + 1]\n",
    "    # Appen the prediction to the last line\n",
    "    rand_pred = pd.Series([ idx_to_label(idx) for idx in rand_pred ], name=\"prediction\")\n",
    "    rand_df = rand_df.append(rand_pred)\n",
    "    return rand_df\n",
    "\n",
    "# Eg. get a random comparison\n",
    "random_comparison = get_comparison()\n",
    "random_comparison"
   ]
  },
  {
   "cell_type": "markdown",
   "metadata": {},
   "source": [
    "With this function we can specify which errors we want to look for."
   ]
  },
  {
   "cell_type": "code",
   "execution_count": 58,
   "metadata": {},
   "outputs": [],
   "source": [
    "def select_comparisons_with_given_errors(check_gt_label=ERR_LABELS, \n",
    "                                         check_pred_label=ERR_LABELS, \n",
    "                                         num=5,\n",
    "                                         use_indices:list=[]):\n",
    "    count = 0\n",
    "    skip = set()\n",
    "    while count < num and len(skip) < len(test_sentences):\n",
    "        if len(use_indices) == 0:\n",
    "            # Get random comparisons until we found num satisfying the checks\n",
    "            idx = np.random.randint(0, len(test_sentences))\n",
    "        else:\n",
    "            # Use an index from the list (for showing specific examples)\n",
    "            idx = use_indices.pop(0)\n",
    "        if idx not in skip:\n",
    "            skip.add(idx)\n",
    "            comparison = get_comparison(idx, verbose=False)\n",
    "            # Translate them to indices\n",
    "            mapped_pred = comparison.iloc[2,:].apply(labels_to_idx)\n",
    "            mapped_gt = comparison.iloc[1,:].apply(labels_to_idx)\n",
    "            # Obtain a map of where the predictions are wrong\n",
    "            error_map = ~(mapped_pred == mapped_gt)\n",
    "            # Check if any of the prediction is in the set of labels to be checked\n",
    "            if np.any(np.isin(mapped_pred[error_map], check_pred_label)):\n",
    "                # Check if any of the gt labels for those positions is in the set of labels to be checked\n",
    "                gt_check = [idx for idx in np.where(error_map)[0] if mapped_pred[idx] in check_pred_label]\n",
    "                if np.any(np.isin(mapped_gt[gt_check], check_gt_label)):\n",
    "                    print(\"Index {}, Sentence: {}\".format(idx, ' '.join(comparison.iloc[0, :])))\n",
    "                    print(\"Matched error at index {}\".format([idx for idx in gt_check if mapped_gt[idx] in check_gt_label]))\n",
    "                    display(comparison)\n",
    "                    count += 1"
   ]
  },
  {
   "cell_type": "markdown",
   "metadata": {},
   "source": [
    "For example, we can find some examples of the model predicting a plural noun when the word was a singular noun."
   ]
  },
  {
   "cell_type": "code",
   "execution_count": 59,
   "metadata": {},
   "outputs": [
    {
     "name": "stdout",
     "output_type": "stream",
     "text": [
      "Index 191, Sentence: sales totaled 1.916 trillion yen , climbing 17 % from 1.637 trillion yen in the year-earlier period .\n",
      "Matched error at index [4, 12]\n"
     ]
    },
    {
     "data": {
      "text/html": [
       "<div>\n",
       "<style scoped>\n",
       "    .dataframe tbody tr th:only-of-type {\n",
       "        vertical-align: middle;\n",
       "    }\n",
       "\n",
       "    .dataframe tbody tr th {\n",
       "        vertical-align: top;\n",
       "    }\n",
       "\n",
       "    .dataframe thead th {\n",
       "        text-align: right;\n",
       "    }\n",
       "</style>\n",
       "<table border=\"1\" class=\"dataframe\">\n",
       "  <thead>\n",
       "    <tr style=\"text-align: right;\">\n",
       "      <th></th>\n",
       "      <th>0</th>\n",
       "      <th>1</th>\n",
       "      <th>2</th>\n",
       "      <th>3</th>\n",
       "      <th>4</th>\n",
       "      <th>5</th>\n",
       "      <th>6</th>\n",
       "      <th>7</th>\n",
       "      <th>8</th>\n",
       "      <th>9</th>\n",
       "      <th>10</th>\n",
       "      <th>11</th>\n",
       "      <th>12</th>\n",
       "      <th>13</th>\n",
       "      <th>14</th>\n",
       "      <th>15</th>\n",
       "      <th>16</th>\n",
       "      <th>17</th>\n",
       "    </tr>\n",
       "  </thead>\n",
       "  <tbody>\n",
       "    <tr>\n",
       "      <th>word</th>\n",
       "      <td>sales</td>\n",
       "      <td>totaled</td>\n",
       "      <td>1.916</td>\n",
       "      <td>trillion</td>\n",
       "      <td>yen</td>\n",
       "      <td>,</td>\n",
       "      <td>climbing</td>\n",
       "      <td>17</td>\n",
       "      <td>%</td>\n",
       "      <td>from</td>\n",
       "      <td>1.637</td>\n",
       "      <td>trillion</td>\n",
       "      <td>yen</td>\n",
       "      <td>in</td>\n",
       "      <td>the</td>\n",
       "      <td>year-earlier</td>\n",
       "      <td>period</td>\n",
       "      <td>.</td>\n",
       "    </tr>\n",
       "    <tr>\n",
       "      <th>tag</th>\n",
       "      <td>NNS</td>\n",
       "      <td>VBD</td>\n",
       "      <td>CD</td>\n",
       "      <td>CD</td>\n",
       "      <td>NN</td>\n",
       "      <td>,</td>\n",
       "      <td>VBG</td>\n",
       "      <td>CD</td>\n",
       "      <td>NN</td>\n",
       "      <td>IN</td>\n",
       "      <td>CD</td>\n",
       "      <td>CD</td>\n",
       "      <td>NN</td>\n",
       "      <td>IN</td>\n",
       "      <td>DT</td>\n",
       "      <td>JJ</td>\n",
       "      <td>NN</td>\n",
       "      <td>.</td>\n",
       "    </tr>\n",
       "    <tr>\n",
       "      <th>prediction</th>\n",
       "      <td>NNS</td>\n",
       "      <td>VBD</td>\n",
       "      <td>CD</td>\n",
       "      <td>CD</td>\n",
       "      <td>NNS</td>\n",
       "      <td>,</td>\n",
       "      <td>VBG</td>\n",
       "      <td>CD</td>\n",
       "      <td>NN</td>\n",
       "      <td>IN</td>\n",
       "      <td>CD</td>\n",
       "      <td>CD</td>\n",
       "      <td>NNS</td>\n",
       "      <td>IN</td>\n",
       "      <td>DT</td>\n",
       "      <td>JJ</td>\n",
       "      <td>NN</td>\n",
       "      <td>.</td>\n",
       "    </tr>\n",
       "  </tbody>\n",
       "</table>\n",
       "</div>"
      ],
      "text/plain": [
       "               0        1      2         3    4  5         6   7   8     9   \\\n",
       "word        sales  totaled  1.916  trillion  yen  ,  climbing  17   %  from   \n",
       "tag           NNS      VBD     CD        CD   NN  ,       VBG  CD  NN    IN   \n",
       "prediction    NNS      VBD     CD        CD  NNS  ,       VBG  CD  NN    IN   \n",
       "\n",
       "               10        11   12  13   14            15      16 17  \n",
       "word        1.637  trillion  yen  in  the  year-earlier  period  .  \n",
       "tag            CD        CD   NN  IN   DT            JJ      NN  .  \n",
       "prediction     CD        CD  NNS  IN   DT            JJ      NN  .  "
      ]
     },
     "metadata": {},
     "output_type": "display_data"
    },
    {
     "name": "stdout",
     "output_type": "stream",
     "text": [
      "Index 572, Sentence: `` the recent rally in precious metals was a result of uncertainty and volatility in equities , '' he said .\n",
      "Matched error at index [13]\n"
     ]
    },
    {
     "data": {
      "text/html": [
       "<div>\n",
       "<style scoped>\n",
       "    .dataframe tbody tr th:only-of-type {\n",
       "        vertical-align: middle;\n",
       "    }\n",
       "\n",
       "    .dataframe tbody tr th {\n",
       "        vertical-align: top;\n",
       "    }\n",
       "\n",
       "    .dataframe thead th {\n",
       "        text-align: right;\n",
       "    }\n",
       "</style>\n",
       "<table border=\"1\" class=\"dataframe\">\n",
       "  <thead>\n",
       "    <tr style=\"text-align: right;\">\n",
       "      <th></th>\n",
       "      <th>0</th>\n",
       "      <th>1</th>\n",
       "      <th>2</th>\n",
       "      <th>3</th>\n",
       "      <th>4</th>\n",
       "      <th>5</th>\n",
       "      <th>6</th>\n",
       "      <th>7</th>\n",
       "      <th>8</th>\n",
       "      <th>9</th>\n",
       "      <th>...</th>\n",
       "      <th>11</th>\n",
       "      <th>12</th>\n",
       "      <th>13</th>\n",
       "      <th>14</th>\n",
       "      <th>15</th>\n",
       "      <th>16</th>\n",
       "      <th>17</th>\n",
       "      <th>18</th>\n",
       "      <th>19</th>\n",
       "      <th>20</th>\n",
       "    </tr>\n",
       "  </thead>\n",
       "  <tbody>\n",
       "    <tr>\n",
       "      <th>word</th>\n",
       "      <td>``</td>\n",
       "      <td>the</td>\n",
       "      <td>recent</td>\n",
       "      <td>rally</td>\n",
       "      <td>in</td>\n",
       "      <td>precious</td>\n",
       "      <td>metals</td>\n",
       "      <td>was</td>\n",
       "      <td>a</td>\n",
       "      <td>result</td>\n",
       "      <td>...</td>\n",
       "      <td>uncertainty</td>\n",
       "      <td>and</td>\n",
       "      <td>volatility</td>\n",
       "      <td>in</td>\n",
       "      <td>equities</td>\n",
       "      <td>,</td>\n",
       "      <td>''</td>\n",
       "      <td>he</td>\n",
       "      <td>said</td>\n",
       "      <td>.</td>\n",
       "    </tr>\n",
       "    <tr>\n",
       "      <th>tag</th>\n",
       "      <td>``</td>\n",
       "      <td>DT</td>\n",
       "      <td>JJ</td>\n",
       "      <td>NN</td>\n",
       "      <td>IN</td>\n",
       "      <td>JJ</td>\n",
       "      <td>NNS</td>\n",
       "      <td>VBD</td>\n",
       "      <td>DT</td>\n",
       "      <td>NN</td>\n",
       "      <td>...</td>\n",
       "      <td>NN</td>\n",
       "      <td>CC</td>\n",
       "      <td>NN</td>\n",
       "      <td>IN</td>\n",
       "      <td>NNS</td>\n",
       "      <td>,</td>\n",
       "      <td>''</td>\n",
       "      <td>PRP</td>\n",
       "      <td>VBD</td>\n",
       "      <td>.</td>\n",
       "    </tr>\n",
       "    <tr>\n",
       "      <th>prediction</th>\n",
       "      <td>``</td>\n",
       "      <td>DT</td>\n",
       "      <td>NN</td>\n",
       "      <td>NN</td>\n",
       "      <td>IN</td>\n",
       "      <td>JJ</td>\n",
       "      <td>NNS</td>\n",
       "      <td>VBD</td>\n",
       "      <td>DT</td>\n",
       "      <td>NN</td>\n",
       "      <td>...</td>\n",
       "      <td>NN</td>\n",
       "      <td>CC</td>\n",
       "      <td>NNS</td>\n",
       "      <td>IN</td>\n",
       "      <td>NNS</td>\n",
       "      <td>,</td>\n",
       "      <td>''</td>\n",
       "      <td>PRP</td>\n",
       "      <td>VBD</td>\n",
       "      <td>.</td>\n",
       "    </tr>\n",
       "  </tbody>\n",
       "</table>\n",
       "<p>3 rows × 21 columns</p>\n",
       "</div>"
      ],
      "text/plain": [
       "            0    1       2      3   4         5       6    7   8       9   \\\n",
       "word        ``  the  recent  rally  in  precious  metals  was   a  result   \n",
       "tag         ``   DT      JJ     NN  IN        JJ     NNS  VBD  DT      NN   \n",
       "prediction  ``   DT      NN     NN  IN        JJ     NNS  VBD  DT      NN   \n",
       "\n",
       "            ...           11   12          13  14        15 16  17   18    19  \\\n",
       "word        ...  uncertainty  and  volatility  in  equities  ,  ''   he  said   \n",
       "tag         ...           NN   CC          NN  IN       NNS  ,  ''  PRP   VBD   \n",
       "prediction  ...           NN   CC         NNS  IN       NNS  ,  ''  PRP   VBD   \n",
       "\n",
       "           20  \n",
       "word        .  \n",
       "tag         .  \n",
       "prediction  .  \n",
       "\n",
       "[3 rows x 21 columns]"
      ]
     },
     "metadata": {},
     "output_type": "display_data"
    },
    {
     "name": "stdout",
     "output_type": "stream",
     "text": [
      "Index 201, Sentence: heritage owns and operates television and radio stations and in-store advertising and promotion programs .\n",
      "Matched error at index [4]\n"
     ]
    },
    {
     "data": {
      "text/html": [
       "<div>\n",
       "<style scoped>\n",
       "    .dataframe tbody tr th:only-of-type {\n",
       "        vertical-align: middle;\n",
       "    }\n",
       "\n",
       "    .dataframe tbody tr th {\n",
       "        vertical-align: top;\n",
       "    }\n",
       "\n",
       "    .dataframe thead th {\n",
       "        text-align: right;\n",
       "    }\n",
       "</style>\n",
       "<table border=\"1\" class=\"dataframe\">\n",
       "  <thead>\n",
       "    <tr style=\"text-align: right;\">\n",
       "      <th></th>\n",
       "      <th>0</th>\n",
       "      <th>1</th>\n",
       "      <th>2</th>\n",
       "      <th>3</th>\n",
       "      <th>4</th>\n",
       "      <th>5</th>\n",
       "      <th>6</th>\n",
       "      <th>7</th>\n",
       "      <th>8</th>\n",
       "      <th>9</th>\n",
       "      <th>10</th>\n",
       "      <th>11</th>\n",
       "      <th>12</th>\n",
       "      <th>13</th>\n",
       "      <th>14</th>\n",
       "    </tr>\n",
       "  </thead>\n",
       "  <tbody>\n",
       "    <tr>\n",
       "      <th>word</th>\n",
       "      <td>heritage</td>\n",
       "      <td>owns</td>\n",
       "      <td>and</td>\n",
       "      <td>operates</td>\n",
       "      <td>television</td>\n",
       "      <td>and</td>\n",
       "      <td>radio</td>\n",
       "      <td>stations</td>\n",
       "      <td>and</td>\n",
       "      <td>in-store</td>\n",
       "      <td>advertising</td>\n",
       "      <td>and</td>\n",
       "      <td>promotion</td>\n",
       "      <td>programs</td>\n",
       "      <td>.</td>\n",
       "    </tr>\n",
       "    <tr>\n",
       "      <th>tag</th>\n",
       "      <td>NNP</td>\n",
       "      <td>VBZ</td>\n",
       "      <td>CC</td>\n",
       "      <td>VBZ</td>\n",
       "      <td>NN</td>\n",
       "      <td>CC</td>\n",
       "      <td>NN</td>\n",
       "      <td>NNS</td>\n",
       "      <td>CC</td>\n",
       "      <td>JJ</td>\n",
       "      <td>NN</td>\n",
       "      <td>CC</td>\n",
       "      <td>NN</td>\n",
       "      <td>NNS</td>\n",
       "      <td>.</td>\n",
       "    </tr>\n",
       "    <tr>\n",
       "      <th>prediction</th>\n",
       "      <td>NNP</td>\n",
       "      <td>NNP</td>\n",
       "      <td>CC</td>\n",
       "      <td>VBZ</td>\n",
       "      <td>NNS</td>\n",
       "      <td>CC</td>\n",
       "      <td>NN</td>\n",
       "      <td>NNS</td>\n",
       "      <td>CC</td>\n",
       "      <td>JJ</td>\n",
       "      <td>NN</td>\n",
       "      <td>CC</td>\n",
       "      <td>NN</td>\n",
       "      <td>NNS</td>\n",
       "      <td>.</td>\n",
       "    </tr>\n",
       "  </tbody>\n",
       "</table>\n",
       "</div>"
      ],
      "text/plain": [
       "                  0     1    2         3           4    5      6         7   \\\n",
       "word        heritage  owns  and  operates  television  and  radio  stations   \n",
       "tag              NNP   VBZ   CC       VBZ          NN   CC     NN       NNS   \n",
       "prediction       NNP   NNP   CC       VBZ         NNS   CC     NN       NNS   \n",
       "\n",
       "             8         9            10   11         12        13 14  \n",
       "word        and  in-store  advertising  and  promotion  programs  .  \n",
       "tag          CC        JJ           NN   CC         NN       NNS  .  \n",
       "prediction   CC        JJ           NN   CC         NN       NNS  .  "
      ]
     },
     "metadata": {},
     "output_type": "display_data"
    },
    {
     "name": "stdout",
     "output_type": "stream",
     "text": [
      "Index 155, Sentence: prudential-bache securities boosted the stock 's short-term investment rating in response to the departure ; analyst john mcmillin said he believes the company will turn to new management `` that 's more financially oriented .\n",
      "Matched error at index [8]\n"
     ]
    },
    {
     "data": {
      "text/html": [
       "<div>\n",
       "<style scoped>\n",
       "    .dataframe tbody tr th:only-of-type {\n",
       "        vertical-align: middle;\n",
       "    }\n",
       "\n",
       "    .dataframe tbody tr th {\n",
       "        vertical-align: top;\n",
       "    }\n",
       "\n",
       "    .dataframe thead th {\n",
       "        text-align: right;\n",
       "    }\n",
       "</style>\n",
       "<table border=\"1\" class=\"dataframe\">\n",
       "  <thead>\n",
       "    <tr style=\"text-align: right;\">\n",
       "      <th></th>\n",
       "      <th>0</th>\n",
       "      <th>1</th>\n",
       "      <th>2</th>\n",
       "      <th>3</th>\n",
       "      <th>4</th>\n",
       "      <th>5</th>\n",
       "      <th>6</th>\n",
       "      <th>7</th>\n",
       "      <th>8</th>\n",
       "      <th>9</th>\n",
       "      <th>...</th>\n",
       "      <th>25</th>\n",
       "      <th>26</th>\n",
       "      <th>27</th>\n",
       "      <th>28</th>\n",
       "      <th>29</th>\n",
       "      <th>30</th>\n",
       "      <th>31</th>\n",
       "      <th>32</th>\n",
       "      <th>33</th>\n",
       "      <th>34</th>\n",
       "    </tr>\n",
       "  </thead>\n",
       "  <tbody>\n",
       "    <tr>\n",
       "      <th>word</th>\n",
       "      <td>prudential-bache</td>\n",
       "      <td>securities</td>\n",
       "      <td>boosted</td>\n",
       "      <td>the</td>\n",
       "      <td>stock</td>\n",
       "      <td>'s</td>\n",
       "      <td>short-term</td>\n",
       "      <td>investment</td>\n",
       "      <td>rating</td>\n",
       "      <td>in</td>\n",
       "      <td>...</td>\n",
       "      <td>to</td>\n",
       "      <td>new</td>\n",
       "      <td>management</td>\n",
       "      <td>``</td>\n",
       "      <td>that</td>\n",
       "      <td>'s</td>\n",
       "      <td>more</td>\n",
       "      <td>financially</td>\n",
       "      <td>oriented</td>\n",
       "      <td>.</td>\n",
       "    </tr>\n",
       "    <tr>\n",
       "      <th>tag</th>\n",
       "      <td>NNP</td>\n",
       "      <td>NNPS</td>\n",
       "      <td>VBD</td>\n",
       "      <td>DT</td>\n",
       "      <td>NN</td>\n",
       "      <td>POS</td>\n",
       "      <td>JJ</td>\n",
       "      <td>NN</td>\n",
       "      <td>NN</td>\n",
       "      <td>IN</td>\n",
       "      <td>...</td>\n",
       "      <td>TO</td>\n",
       "      <td>JJ</td>\n",
       "      <td>NN</td>\n",
       "      <td>``</td>\n",
       "      <td>DT</td>\n",
       "      <td>VBZ</td>\n",
       "      <td>RBR</td>\n",
       "      <td>RB</td>\n",
       "      <td>VBN</td>\n",
       "      <td>.</td>\n",
       "    </tr>\n",
       "    <tr>\n",
       "      <th>prediction</th>\n",
       "      <td>NNP</td>\n",
       "      <td>NNS</td>\n",
       "      <td>VBD</td>\n",
       "      <td>DT</td>\n",
       "      <td>NN</td>\n",
       "      <td>POS</td>\n",
       "      <td>JJ</td>\n",
       "      <td>NN</td>\n",
       "      <td>NNS</td>\n",
       "      <td>IN</td>\n",
       "      <td>...</td>\n",
       "      <td>TO</td>\n",
       "      <td>JJ</td>\n",
       "      <td>NN</td>\n",
       "      <td>``</td>\n",
       "      <td>DT</td>\n",
       "      <td>VBZ</td>\n",
       "      <td>RBR</td>\n",
       "      <td>RB</td>\n",
       "      <td>JJ</td>\n",
       "      <td>.</td>\n",
       "    </tr>\n",
       "  </tbody>\n",
       "</table>\n",
       "<p>3 rows × 35 columns</p>\n",
       "</div>"
      ],
      "text/plain": [
       "                          0           1        2    3      4    5   \\\n",
       "word        prudential-bache  securities  boosted  the  stock   's   \n",
       "tag                      NNP        NNPS      VBD   DT     NN  POS   \n",
       "prediction               NNP         NNS      VBD   DT     NN  POS   \n",
       "\n",
       "                    6           7       8   9   ...  25   26          27  28  \\\n",
       "word        short-term  investment  rating  in  ...  to  new  management  ``   \n",
       "tag                 JJ          NN      NN  IN  ...  TO   JJ          NN  ``   \n",
       "prediction          JJ          NN     NNS  IN  ...  TO   JJ          NN  ``   \n",
       "\n",
       "              29   30    31           32        33 34  \n",
       "word        that   's  more  financially  oriented  .  \n",
       "tag           DT  VBZ   RBR           RB       VBN  .  \n",
       "prediction    DT  VBZ   RBR           RB        JJ  .  \n",
       "\n",
       "[3 rows x 35 columns]"
      ]
     },
     "metadata": {},
     "output_type": "display_data"
    }
   ],
   "source": [
    "select_comparisons_with_given_errors(check_gt_label=[20], check_pred_label=[23], num=4, use_indices=[191, 572, 595])"
   ]
  },
  {
   "cell_type": "markdown",
   "metadata": {},
   "source": [
    "The model confuses word about money for plural: it makes sense because they are predeced by plural numbers!\n",
    "\n",
    "In other examples, though, the common pattern seems to be that the model may think that abstract concepts (volatility, demand, pricing, ...) are plural."
   ]
  },
  {
   "cell_type": "markdown",
   "metadata": {},
   "source": [
    "What about Adjectives and Adverbs?"
   ]
  },
  {
   "cell_type": "code",
   "execution_count": 60,
   "metadata": {},
   "outputs": [
    {
     "name": "stdout",
     "output_type": "stream",
     "text": [
      "Index 532, Sentence: but it is particularly difficult this autumn because of low water levels on the mississippi river , on which flows much of the u.s. corn that is shipped overseas .\n",
      "Matched error at index [20]\n"
     ]
    },
    {
     "data": {
      "text/html": [
       "<div>\n",
       "<style scoped>\n",
       "    .dataframe tbody tr th:only-of-type {\n",
       "        vertical-align: middle;\n",
       "    }\n",
       "\n",
       "    .dataframe tbody tr th {\n",
       "        vertical-align: top;\n",
       "    }\n",
       "\n",
       "    .dataframe thead th {\n",
       "        text-align: right;\n",
       "    }\n",
       "</style>\n",
       "<table border=\"1\" class=\"dataframe\">\n",
       "  <thead>\n",
       "    <tr style=\"text-align: right;\">\n",
       "      <th></th>\n",
       "      <th>0</th>\n",
       "      <th>1</th>\n",
       "      <th>2</th>\n",
       "      <th>3</th>\n",
       "      <th>4</th>\n",
       "      <th>5</th>\n",
       "      <th>6</th>\n",
       "      <th>7</th>\n",
       "      <th>8</th>\n",
       "      <th>9</th>\n",
       "      <th>...</th>\n",
       "      <th>20</th>\n",
       "      <th>21</th>\n",
       "      <th>22</th>\n",
       "      <th>23</th>\n",
       "      <th>24</th>\n",
       "      <th>25</th>\n",
       "      <th>26</th>\n",
       "      <th>27</th>\n",
       "      <th>28</th>\n",
       "      <th>29</th>\n",
       "    </tr>\n",
       "  </thead>\n",
       "  <tbody>\n",
       "    <tr>\n",
       "      <th>word</th>\n",
       "      <td>but</td>\n",
       "      <td>it</td>\n",
       "      <td>is</td>\n",
       "      <td>particularly</td>\n",
       "      <td>difficult</td>\n",
       "      <td>this</td>\n",
       "      <td>autumn</td>\n",
       "      <td>because</td>\n",
       "      <td>of</td>\n",
       "      <td>low</td>\n",
       "      <td>...</td>\n",
       "      <td>much</td>\n",
       "      <td>of</td>\n",
       "      <td>the</td>\n",
       "      <td>u.s.</td>\n",
       "      <td>corn</td>\n",
       "      <td>that</td>\n",
       "      <td>is</td>\n",
       "      <td>shipped</td>\n",
       "      <td>overseas</td>\n",
       "      <td>.</td>\n",
       "    </tr>\n",
       "    <tr>\n",
       "      <th>tag</th>\n",
       "      <td>CC</td>\n",
       "      <td>PRP</td>\n",
       "      <td>VBZ</td>\n",
       "      <td>RB</td>\n",
       "      <td>JJ</td>\n",
       "      <td>DT</td>\n",
       "      <td>NN</td>\n",
       "      <td>IN</td>\n",
       "      <td>IN</td>\n",
       "      <td>JJ</td>\n",
       "      <td>...</td>\n",
       "      <td>JJ</td>\n",
       "      <td>IN</td>\n",
       "      <td>DT</td>\n",
       "      <td>NNP</td>\n",
       "      <td>NN</td>\n",
       "      <td>WDT</td>\n",
       "      <td>VBZ</td>\n",
       "      <td>VBN</td>\n",
       "      <td>RB</td>\n",
       "      <td>.</td>\n",
       "    </tr>\n",
       "    <tr>\n",
       "      <th>prediction</th>\n",
       "      <td>CC</td>\n",
       "      <td>PRP</td>\n",
       "      <td>VBZ</td>\n",
       "      <td>RB</td>\n",
       "      <td>JJ</td>\n",
       "      <td>DT</td>\n",
       "      <td>NN</td>\n",
       "      <td>IN</td>\n",
       "      <td>IN</td>\n",
       "      <td>JJ</td>\n",
       "      <td>...</td>\n",
       "      <td>RB</td>\n",
       "      <td>IN</td>\n",
       "      <td>DT</td>\n",
       "      <td>NNP</td>\n",
       "      <td>NN</td>\n",
       "      <td>WDT</td>\n",
       "      <td>VBZ</td>\n",
       "      <td>VBN</td>\n",
       "      <td>NNS</td>\n",
       "      <td>.</td>\n",
       "    </tr>\n",
       "  </tbody>\n",
       "</table>\n",
       "<p>3 rows × 30 columns</p>\n",
       "</div>"
      ],
      "text/plain": [
       "             0    1    2             3          4     5       6        7   8   \\\n",
       "word        but   it   is  particularly  difficult  this  autumn  because  of   \n",
       "tag          CC  PRP  VBZ            RB         JJ    DT      NN       IN  IN   \n",
       "prediction   CC  PRP  VBZ            RB         JJ    DT      NN       IN  IN   \n",
       "\n",
       "             9   ...    20  21   22    23    24    25   26       27        28  \\\n",
       "word        low  ...  much  of  the  u.s.  corn  that   is  shipped  overseas   \n",
       "tag          JJ  ...    JJ  IN   DT   NNP    NN   WDT  VBZ      VBN        RB   \n",
       "prediction   JJ  ...    RB  IN   DT   NNP    NN   WDT  VBZ      VBN       NNS   \n",
       "\n",
       "           29  \n",
       "word        .  \n",
       "tag         .  \n",
       "prediction  .  \n",
       "\n",
       "[3 rows x 30 columns]"
      ]
     },
     "metadata": {},
     "output_type": "display_data"
    },
    {
     "name": "stdout",
     "output_type": "stream",
     "text": [
      "Index 430, Sentence: '' the program , available to upjohn employees 55 years old or older , could increase an individual 's retirement benefits 10 % to 20 % .\n",
      "Matched error at index [4]\n"
     ]
    },
    {
     "data": {
      "text/html": [
       "<div>\n",
       "<style scoped>\n",
       "    .dataframe tbody tr th:only-of-type {\n",
       "        vertical-align: middle;\n",
       "    }\n",
       "\n",
       "    .dataframe tbody tr th {\n",
       "        vertical-align: top;\n",
       "    }\n",
       "\n",
       "    .dataframe thead th {\n",
       "        text-align: right;\n",
       "    }\n",
       "</style>\n",
       "<table border=\"1\" class=\"dataframe\">\n",
       "  <thead>\n",
       "    <tr style=\"text-align: right;\">\n",
       "      <th></th>\n",
       "      <th>0</th>\n",
       "      <th>1</th>\n",
       "      <th>2</th>\n",
       "      <th>3</th>\n",
       "      <th>4</th>\n",
       "      <th>5</th>\n",
       "      <th>6</th>\n",
       "      <th>7</th>\n",
       "      <th>8</th>\n",
       "      <th>9</th>\n",
       "      <th>...</th>\n",
       "      <th>17</th>\n",
       "      <th>18</th>\n",
       "      <th>19</th>\n",
       "      <th>20</th>\n",
       "      <th>21</th>\n",
       "      <th>22</th>\n",
       "      <th>23</th>\n",
       "      <th>24</th>\n",
       "      <th>25</th>\n",
       "      <th>26</th>\n",
       "    </tr>\n",
       "  </thead>\n",
       "  <tbody>\n",
       "    <tr>\n",
       "      <th>word</th>\n",
       "      <td>''</td>\n",
       "      <td>the</td>\n",
       "      <td>program</td>\n",
       "      <td>,</td>\n",
       "      <td>available</td>\n",
       "      <td>to</td>\n",
       "      <td>upjohn</td>\n",
       "      <td>employees</td>\n",
       "      <td>55</td>\n",
       "      <td>years</td>\n",
       "      <td>...</td>\n",
       "      <td>individual</td>\n",
       "      <td>'s</td>\n",
       "      <td>retirement</td>\n",
       "      <td>benefits</td>\n",
       "      <td>10</td>\n",
       "      <td>%</td>\n",
       "      <td>to</td>\n",
       "      <td>20</td>\n",
       "      <td>%</td>\n",
       "      <td>.</td>\n",
       "    </tr>\n",
       "    <tr>\n",
       "      <th>tag</th>\n",
       "      <td>''</td>\n",
       "      <td>DT</td>\n",
       "      <td>NN</td>\n",
       "      <td>,</td>\n",
       "      <td>JJ</td>\n",
       "      <td>TO</td>\n",
       "      <td>NNP</td>\n",
       "      <td>NNS</td>\n",
       "      <td>CD</td>\n",
       "      <td>NNS</td>\n",
       "      <td>...</td>\n",
       "      <td>NN</td>\n",
       "      <td>POS</td>\n",
       "      <td>NN</td>\n",
       "      <td>NNS</td>\n",
       "      <td>CD</td>\n",
       "      <td>NN</td>\n",
       "      <td>TO</td>\n",
       "      <td>CD</td>\n",
       "      <td>NN</td>\n",
       "      <td>.</td>\n",
       "    </tr>\n",
       "    <tr>\n",
       "      <th>prediction</th>\n",
       "      <td>''</td>\n",
       "      <td>DT</td>\n",
       "      <td>NN</td>\n",
       "      <td>,</td>\n",
       "      <td>RB</td>\n",
       "      <td>TO</td>\n",
       "      <td>NNP</td>\n",
       "      <td>NNS</td>\n",
       "      <td>CD</td>\n",
       "      <td>NNS</td>\n",
       "      <td>...</td>\n",
       "      <td>NN</td>\n",
       "      <td>POS</td>\n",
       "      <td>NN</td>\n",
       "      <td>IN</td>\n",
       "      <td>CD</td>\n",
       "      <td>NN</td>\n",
       "      <td>TO</td>\n",
       "      <td>CD</td>\n",
       "      <td>NN</td>\n",
       "      <td>.</td>\n",
       "    </tr>\n",
       "  </tbody>\n",
       "</table>\n",
       "<p>3 rows × 27 columns</p>\n",
       "</div>"
      ],
      "text/plain": [
       "            0    1        2  3          4   5       6          7   8      9   \\\n",
       "word        ''  the  program  ,  available  to  upjohn  employees  55  years   \n",
       "tag         ''   DT       NN  ,         JJ  TO     NNP        NNS  CD    NNS   \n",
       "prediction  ''   DT       NN  ,         RB  TO     NNP        NNS  CD    NNS   \n",
       "\n",
       "            ...          17   18          19        20  21  22  23  24  25 26  \n",
       "word        ...  individual   's  retirement  benefits  10   %  to  20   %  .  \n",
       "tag         ...          NN  POS          NN       NNS  CD  NN  TO  CD  NN  .  \n",
       "prediction  ...          NN  POS          NN        IN  CD  NN  TO  CD  NN  .  \n",
       "\n",
       "[3 rows x 27 columns]"
      ]
     },
     "metadata": {},
     "output_type": "display_data"
    },
    {
     "name": "stdout",
     "output_type": "stream",
     "text": [
      "Index 383, Sentence: it is n't clear how much a restructuring would help columbia stockholders .\n",
      "Matched error at index [5]\n"
     ]
    },
    {
     "data": {
      "text/html": [
       "<div>\n",
       "<style scoped>\n",
       "    .dataframe tbody tr th:only-of-type {\n",
       "        vertical-align: middle;\n",
       "    }\n",
       "\n",
       "    .dataframe tbody tr th {\n",
       "        vertical-align: top;\n",
       "    }\n",
       "\n",
       "    .dataframe thead th {\n",
       "        text-align: right;\n",
       "    }\n",
       "</style>\n",
       "<table border=\"1\" class=\"dataframe\">\n",
       "  <thead>\n",
       "    <tr style=\"text-align: right;\">\n",
       "      <th></th>\n",
       "      <th>0</th>\n",
       "      <th>1</th>\n",
       "      <th>2</th>\n",
       "      <th>3</th>\n",
       "      <th>4</th>\n",
       "      <th>5</th>\n",
       "      <th>6</th>\n",
       "      <th>7</th>\n",
       "      <th>8</th>\n",
       "      <th>9</th>\n",
       "      <th>10</th>\n",
       "      <th>11</th>\n",
       "      <th>12</th>\n",
       "    </tr>\n",
       "  </thead>\n",
       "  <tbody>\n",
       "    <tr>\n",
       "      <th>word</th>\n",
       "      <td>it</td>\n",
       "      <td>is</td>\n",
       "      <td>n't</td>\n",
       "      <td>clear</td>\n",
       "      <td>how</td>\n",
       "      <td>much</td>\n",
       "      <td>a</td>\n",
       "      <td>restructuring</td>\n",
       "      <td>would</td>\n",
       "      <td>help</td>\n",
       "      <td>columbia</td>\n",
       "      <td>stockholders</td>\n",
       "      <td>.</td>\n",
       "    </tr>\n",
       "    <tr>\n",
       "      <th>tag</th>\n",
       "      <td>PRP</td>\n",
       "      <td>VBZ</td>\n",
       "      <td>RB</td>\n",
       "      <td>JJ</td>\n",
       "      <td>WRB</td>\n",
       "      <td>JJ</td>\n",
       "      <td>DT</td>\n",
       "      <td>NN</td>\n",
       "      <td>MD</td>\n",
       "      <td>VB</td>\n",
       "      <td>NNP</td>\n",
       "      <td>NNS</td>\n",
       "      <td>.</td>\n",
       "    </tr>\n",
       "    <tr>\n",
       "      <th>prediction</th>\n",
       "      <td>PRP</td>\n",
       "      <td>VBZ</td>\n",
       "      <td>RB</td>\n",
       "      <td>JJ</td>\n",
       "      <td>WRB</td>\n",
       "      <td>RB</td>\n",
       "      <td>DT</td>\n",
       "      <td>NN</td>\n",
       "      <td>MD</td>\n",
       "      <td>VB</td>\n",
       "      <td>NNP</td>\n",
       "      <td>NNS</td>\n",
       "      <td>.</td>\n",
       "    </tr>\n",
       "  </tbody>\n",
       "</table>\n",
       "</div>"
      ],
      "text/plain": [
       "             0    1    2      3    4     5   6              7      8     9   \\\n",
       "word         it   is  n't  clear  how  much   a  restructuring  would  help   \n",
       "tag         PRP  VBZ   RB     JJ  WRB    JJ  DT             NN     MD    VB   \n",
       "prediction  PRP  VBZ   RB     JJ  WRB    RB  DT             NN     MD    VB   \n",
       "\n",
       "                  10            11 12  \n",
       "word        columbia  stockholders  .  \n",
       "tag              NNP           NNS  .  \n",
       "prediction       NNP           NNS  .  "
      ]
     },
     "metadata": {},
     "output_type": "display_data"
    }
   ],
   "source": [
    "# Adjectives are 15 (JJ), adverbs are 28 (RB)\n",
    "select_comparisons_with_given_errors(check_gt_label=[15,28], check_pred_label=[15,28], num=3, use_indices=[532, 377])"
   ]
  },
  {
   "cell_type": "markdown",
   "metadata": {},
   "source": [
    "Much, enough, ... are all sources of problems because they can be both adjectives and adverbs depending on the context. It's a hard classification task even for humans."
   ]
  },
  {
   "cell_type": "markdown",
   "metadata": {},
   "source": [
    "What about adjectives predicted as nouns and vice-versa?"
   ]
  },
  {
   "cell_type": "code",
   "execution_count": 61,
   "metadata": {},
   "outputs": [
    {
     "name": "stdout",
     "output_type": "stream",
     "text": [
      "Index 90, Sentence: equitable of iowa cos. , des moines , had been seeking a buyer for the 36-store younkers chain since june , when it announced its intention to free up capital to expand its insurance business .\n",
      "Matched error at index [15]\n"
     ]
    },
    {
     "data": {
      "text/html": [
       "<div>\n",
       "<style scoped>\n",
       "    .dataframe tbody tr th:only-of-type {\n",
       "        vertical-align: middle;\n",
       "    }\n",
       "\n",
       "    .dataframe tbody tr th {\n",
       "        vertical-align: top;\n",
       "    }\n",
       "\n",
       "    .dataframe thead th {\n",
       "        text-align: right;\n",
       "    }\n",
       "</style>\n",
       "<table border=\"1\" class=\"dataframe\">\n",
       "  <thead>\n",
       "    <tr style=\"text-align: right;\">\n",
       "      <th></th>\n",
       "      <th>0</th>\n",
       "      <th>1</th>\n",
       "      <th>2</th>\n",
       "      <th>3</th>\n",
       "      <th>4</th>\n",
       "      <th>5</th>\n",
       "      <th>6</th>\n",
       "      <th>7</th>\n",
       "      <th>8</th>\n",
       "      <th>9</th>\n",
       "      <th>...</th>\n",
       "      <th>26</th>\n",
       "      <th>27</th>\n",
       "      <th>28</th>\n",
       "      <th>29</th>\n",
       "      <th>30</th>\n",
       "      <th>31</th>\n",
       "      <th>32</th>\n",
       "      <th>33</th>\n",
       "      <th>34</th>\n",
       "      <th>35</th>\n",
       "    </tr>\n",
       "  </thead>\n",
       "  <tbody>\n",
       "    <tr>\n",
       "      <th>word</th>\n",
       "      <td>equitable</td>\n",
       "      <td>of</td>\n",
       "      <td>iowa</td>\n",
       "      <td>cos.</td>\n",
       "      <td>,</td>\n",
       "      <td>des</td>\n",
       "      <td>moines</td>\n",
       "      <td>,</td>\n",
       "      <td>had</td>\n",
       "      <td>been</td>\n",
       "      <td>...</td>\n",
       "      <td>to</td>\n",
       "      <td>free</td>\n",
       "      <td>up</td>\n",
       "      <td>capital</td>\n",
       "      <td>to</td>\n",
       "      <td>expand</td>\n",
       "      <td>its</td>\n",
       "      <td>insurance</td>\n",
       "      <td>business</td>\n",
       "      <td>.</td>\n",
       "    </tr>\n",
       "    <tr>\n",
       "      <th>tag</th>\n",
       "      <td>NNP</td>\n",
       "      <td>IN</td>\n",
       "      <td>NNP</td>\n",
       "      <td>NNP</td>\n",
       "      <td>,</td>\n",
       "      <td>NNP</td>\n",
       "      <td>NNP</td>\n",
       "      <td>,</td>\n",
       "      <td>VBD</td>\n",
       "      <td>VBN</td>\n",
       "      <td>...</td>\n",
       "      <td>TO</td>\n",
       "      <td>VB</td>\n",
       "      <td>RP</td>\n",
       "      <td>NN</td>\n",
       "      <td>TO</td>\n",
       "      <td>VB</td>\n",
       "      <td>PRP$</td>\n",
       "      <td>NN</td>\n",
       "      <td>NN</td>\n",
       "      <td>.</td>\n",
       "    </tr>\n",
       "    <tr>\n",
       "      <th>prediction</th>\n",
       "      <td>NNP</td>\n",
       "      <td>IN</td>\n",
       "      <td>NNP</td>\n",
       "      <td>NNP</td>\n",
       "      <td>,</td>\n",
       "      <td>NNP</td>\n",
       "      <td>NNP</td>\n",
       "      <td>,</td>\n",
       "      <td>VBD</td>\n",
       "      <td>VBN</td>\n",
       "      <td>...</td>\n",
       "      <td>TO</td>\n",
       "      <td>VB</td>\n",
       "      <td>RP</td>\n",
       "      <td>NN</td>\n",
       "      <td>TO</td>\n",
       "      <td>VB</td>\n",
       "      <td>PRP$</td>\n",
       "      <td>NN</td>\n",
       "      <td>NN</td>\n",
       "      <td>.</td>\n",
       "    </tr>\n",
       "  </tbody>\n",
       "</table>\n",
       "<p>3 rows × 36 columns</p>\n",
       "</div>"
      ],
      "text/plain": [
       "                   0   1     2     3  4    5       6  7    8     9   ...  26  \\\n",
       "word        equitable  of  iowa  cos.  ,  des  moines  ,  had  been  ...  to   \n",
       "tag               NNP  IN   NNP   NNP  ,  NNP     NNP  ,  VBD   VBN  ...  TO   \n",
       "prediction        NNP  IN   NNP   NNP  ,  NNP     NNP  ,  VBD   VBN  ...  TO   \n",
       "\n",
       "              27  28       29  30      31    32         33        34 35  \n",
       "word        free  up  capital  to  expand   its  insurance  business  .  \n",
       "tag           VB  RP       NN  TO      VB  PRP$         NN        NN  .  \n",
       "prediction    VB  RP       NN  TO      VB  PRP$         NN        NN  .  \n",
       "\n",
       "[3 rows x 36 columns]"
      ]
     },
     "metadata": {},
     "output_type": "display_data"
    },
    {
     "name": "stdout",
     "output_type": "stream",
     "text": [
      "Index 429, Sentence: but the pharmaceutical company said it `` anticipates the long-term savings resulting from the plan 's implementation will more than offset short-term costs .\n",
      "Matched error at index [2]\n"
     ]
    },
    {
     "data": {
      "text/html": [
       "<div>\n",
       "<style scoped>\n",
       "    .dataframe tbody tr th:only-of-type {\n",
       "        vertical-align: middle;\n",
       "    }\n",
       "\n",
       "    .dataframe tbody tr th {\n",
       "        vertical-align: top;\n",
       "    }\n",
       "\n",
       "    .dataframe thead th {\n",
       "        text-align: right;\n",
       "    }\n",
       "</style>\n",
       "<table border=\"1\" class=\"dataframe\">\n",
       "  <thead>\n",
       "    <tr style=\"text-align: right;\">\n",
       "      <th></th>\n",
       "      <th>0</th>\n",
       "      <th>1</th>\n",
       "      <th>2</th>\n",
       "      <th>3</th>\n",
       "      <th>4</th>\n",
       "      <th>5</th>\n",
       "      <th>6</th>\n",
       "      <th>7</th>\n",
       "      <th>8</th>\n",
       "      <th>9</th>\n",
       "      <th>...</th>\n",
       "      <th>14</th>\n",
       "      <th>15</th>\n",
       "      <th>16</th>\n",
       "      <th>17</th>\n",
       "      <th>18</th>\n",
       "      <th>19</th>\n",
       "      <th>20</th>\n",
       "      <th>21</th>\n",
       "      <th>22</th>\n",
       "      <th>23</th>\n",
       "    </tr>\n",
       "  </thead>\n",
       "  <tbody>\n",
       "    <tr>\n",
       "      <th>word</th>\n",
       "      <td>but</td>\n",
       "      <td>the</td>\n",
       "      <td>pharmaceutical</td>\n",
       "      <td>company</td>\n",
       "      <td>said</td>\n",
       "      <td>it</td>\n",
       "      <td>``</td>\n",
       "      <td>anticipates</td>\n",
       "      <td>the</td>\n",
       "      <td>long-term</td>\n",
       "      <td>...</td>\n",
       "      <td>plan</td>\n",
       "      <td>'s</td>\n",
       "      <td>implementation</td>\n",
       "      <td>will</td>\n",
       "      <td>more</td>\n",
       "      <td>than</td>\n",
       "      <td>offset</td>\n",
       "      <td>short-term</td>\n",
       "      <td>costs</td>\n",
       "      <td>.</td>\n",
       "    </tr>\n",
       "    <tr>\n",
       "      <th>tag</th>\n",
       "      <td>CC</td>\n",
       "      <td>DT</td>\n",
       "      <td>JJ</td>\n",
       "      <td>NN</td>\n",
       "      <td>VBD</td>\n",
       "      <td>PRP</td>\n",
       "      <td>``</td>\n",
       "      <td>VBZ</td>\n",
       "      <td>DT</td>\n",
       "      <td>JJ</td>\n",
       "      <td>...</td>\n",
       "      <td>NN</td>\n",
       "      <td>POS</td>\n",
       "      <td>NN</td>\n",
       "      <td>MD</td>\n",
       "      <td>RBR</td>\n",
       "      <td>IN</td>\n",
       "      <td>VBN</td>\n",
       "      <td>JJ</td>\n",
       "      <td>NNS</td>\n",
       "      <td>.</td>\n",
       "    </tr>\n",
       "    <tr>\n",
       "      <th>prediction</th>\n",
       "      <td>CC</td>\n",
       "      <td>DT</td>\n",
       "      <td>NN</td>\n",
       "      <td>NN</td>\n",
       "      <td>VBD</td>\n",
       "      <td>PRP</td>\n",
       "      <td>``</td>\n",
       "      <td>VBZ</td>\n",
       "      <td>DT</td>\n",
       "      <td>JJ</td>\n",
       "      <td>...</td>\n",
       "      <td>NN</td>\n",
       "      <td>POS</td>\n",
       "      <td>NN</td>\n",
       "      <td>MD</td>\n",
       "      <td>RBR</td>\n",
       "      <td>IN</td>\n",
       "      <td>JJ</td>\n",
       "      <td>JJ</td>\n",
       "      <td>NNS</td>\n",
       "      <td>.</td>\n",
       "    </tr>\n",
       "  </tbody>\n",
       "</table>\n",
       "<p>3 rows × 24 columns</p>\n",
       "</div>"
      ],
      "text/plain": [
       "             0    1               2        3     4    5   6            7   \\\n",
       "word        but  the  pharmaceutical  company  said   it  ``  anticipates   \n",
       "tag          CC   DT              JJ       NN   VBD  PRP  ``          VBZ   \n",
       "prediction   CC   DT              NN       NN   VBD  PRP  ``          VBZ   \n",
       "\n",
       "             8          9   ...    14   15              16    17    18    19  \\\n",
       "word        the  long-term  ...  plan   's  implementation  will  more  than   \n",
       "tag          DT         JJ  ...    NN  POS              NN    MD   RBR    IN   \n",
       "prediction   DT         JJ  ...    NN  POS              NN    MD   RBR    IN   \n",
       "\n",
       "                20          21     22 23  \n",
       "word        offset  short-term  costs  .  \n",
       "tag            VBN          JJ    NNS  .  \n",
       "prediction      JJ          JJ    NNS  .  \n",
       "\n",
       "[3 rows x 24 columns]"
      ]
     },
     "metadata": {},
     "output_type": "display_data"
    },
    {
     "name": "stdout",
     "output_type": "stream",
     "text": [
      "Index 129, Sentence: savin corp. reported a third-quarter net loss of $ 35.2 million , or 31 cents a share , compared with year-earlier profit of $ 3.8 million , or one cent a share .\n",
      "Matched error at index [4]\n"
     ]
    },
    {
     "data": {
      "text/html": [
       "<div>\n",
       "<style scoped>\n",
       "    .dataframe tbody tr th:only-of-type {\n",
       "        vertical-align: middle;\n",
       "    }\n",
       "\n",
       "    .dataframe tbody tr th {\n",
       "        vertical-align: top;\n",
       "    }\n",
       "\n",
       "    .dataframe thead th {\n",
       "        text-align: right;\n",
       "    }\n",
       "</style>\n",
       "<table border=\"1\" class=\"dataframe\">\n",
       "  <thead>\n",
       "    <tr style=\"text-align: right;\">\n",
       "      <th></th>\n",
       "      <th>0</th>\n",
       "      <th>1</th>\n",
       "      <th>2</th>\n",
       "      <th>3</th>\n",
       "      <th>4</th>\n",
       "      <th>5</th>\n",
       "      <th>6</th>\n",
       "      <th>7</th>\n",
       "      <th>8</th>\n",
       "      <th>9</th>\n",
       "      <th>...</th>\n",
       "      <th>23</th>\n",
       "      <th>24</th>\n",
       "      <th>25</th>\n",
       "      <th>26</th>\n",
       "      <th>27</th>\n",
       "      <th>28</th>\n",
       "      <th>29</th>\n",
       "      <th>30</th>\n",
       "      <th>31</th>\n",
       "      <th>32</th>\n",
       "    </tr>\n",
       "  </thead>\n",
       "  <tbody>\n",
       "    <tr>\n",
       "      <th>word</th>\n",
       "      <td>savin</td>\n",
       "      <td>corp.</td>\n",
       "      <td>reported</td>\n",
       "      <td>a</td>\n",
       "      <td>third-quarter</td>\n",
       "      <td>net</td>\n",
       "      <td>loss</td>\n",
       "      <td>of</td>\n",
       "      <td>$</td>\n",
       "      <td>35.2</td>\n",
       "      <td>...</td>\n",
       "      <td>$</td>\n",
       "      <td>3.8</td>\n",
       "      <td>million</td>\n",
       "      <td>,</td>\n",
       "      <td>or</td>\n",
       "      <td>one</td>\n",
       "      <td>cent</td>\n",
       "      <td>a</td>\n",
       "      <td>share</td>\n",
       "      <td>.</td>\n",
       "    </tr>\n",
       "    <tr>\n",
       "      <th>tag</th>\n",
       "      <td>NNP</td>\n",
       "      <td>NNP</td>\n",
       "      <td>VBD</td>\n",
       "      <td>DT</td>\n",
       "      <td>NN</td>\n",
       "      <td>JJ</td>\n",
       "      <td>NN</td>\n",
       "      <td>IN</td>\n",
       "      <td>$</td>\n",
       "      <td>CD</td>\n",
       "      <td>...</td>\n",
       "      <td>$</td>\n",
       "      <td>CD</td>\n",
       "      <td>CD</td>\n",
       "      <td>,</td>\n",
       "      <td>CC</td>\n",
       "      <td>CD</td>\n",
       "      <td>NN</td>\n",
       "      <td>DT</td>\n",
       "      <td>NN</td>\n",
       "      <td>.</td>\n",
       "    </tr>\n",
       "    <tr>\n",
       "      <th>prediction</th>\n",
       "      <td>NNP</td>\n",
       "      <td>NNP</td>\n",
       "      <td>VBD</td>\n",
       "      <td>DT</td>\n",
       "      <td>JJ</td>\n",
       "      <td>NN</td>\n",
       "      <td>NN</td>\n",
       "      <td>IN</td>\n",
       "      <td>$</td>\n",
       "      <td>CD</td>\n",
       "      <td>...</td>\n",
       "      <td>$</td>\n",
       "      <td>CD</td>\n",
       "      <td>CD</td>\n",
       "      <td>,</td>\n",
       "      <td>CC</td>\n",
       "      <td>CD</td>\n",
       "      <td>NN</td>\n",
       "      <td>DT</td>\n",
       "      <td>NN</td>\n",
       "      <td>.</td>\n",
       "    </tr>\n",
       "  </tbody>\n",
       "</table>\n",
       "<p>3 rows × 33 columns</p>\n",
       "</div>"
      ],
      "text/plain": [
       "               0      1         2   3              4    5     6   7  8     9   \\\n",
       "word        savin  corp.  reported   a  third-quarter  net  loss  of  $  35.2   \n",
       "tag           NNP    NNP       VBD  DT             NN   JJ    NN  IN  $    CD   \n",
       "prediction    NNP    NNP       VBD  DT             JJ   NN    NN  IN  $    CD   \n",
       "\n",
       "            ... 23   24       25 26  27   28    29  30     31 32  \n",
       "word        ...  $  3.8  million  ,  or  one  cent   a  share  .  \n",
       "tag         ...  $   CD       CD  ,  CC   CD    NN  DT     NN  .  \n",
       "prediction  ...  $   CD       CD  ,  CC   CD    NN  DT     NN  .  \n",
       "\n",
       "[3 rows x 33 columns]"
      ]
     },
     "metadata": {},
     "output_type": "display_data"
    },
    {
     "name": "stdout",
     "output_type": "stream",
     "text": [
      "Index 206, Sentence: harry millis , an analyst at mcdonald & co. in cleveland , said gencorp 's unanticipated losses come largely from an accident at a government-owned assembly plant in kansas , run by a private subcontractor , that makes cluster bombs for gencorp 's aerojet ordnance business .\n",
      "Matched error at index [43]\n"
     ]
    },
    {
     "data": {
      "text/html": [
       "<div>\n",
       "<style scoped>\n",
       "    .dataframe tbody tr th:only-of-type {\n",
       "        vertical-align: middle;\n",
       "    }\n",
       "\n",
       "    .dataframe tbody tr th {\n",
       "        vertical-align: top;\n",
       "    }\n",
       "\n",
       "    .dataframe thead th {\n",
       "        text-align: right;\n",
       "    }\n",
       "</style>\n",
       "<table border=\"1\" class=\"dataframe\">\n",
       "  <thead>\n",
       "    <tr style=\"text-align: right;\">\n",
       "      <th></th>\n",
       "      <th>0</th>\n",
       "      <th>1</th>\n",
       "      <th>2</th>\n",
       "      <th>3</th>\n",
       "      <th>4</th>\n",
       "      <th>5</th>\n",
       "      <th>6</th>\n",
       "      <th>7</th>\n",
       "      <th>8</th>\n",
       "      <th>9</th>\n",
       "      <th>...</th>\n",
       "      <th>37</th>\n",
       "      <th>38</th>\n",
       "      <th>39</th>\n",
       "      <th>40</th>\n",
       "      <th>41</th>\n",
       "      <th>42</th>\n",
       "      <th>43</th>\n",
       "      <th>44</th>\n",
       "      <th>45</th>\n",
       "      <th>46</th>\n",
       "    </tr>\n",
       "  </thead>\n",
       "  <tbody>\n",
       "    <tr>\n",
       "      <th>word</th>\n",
       "      <td>harry</td>\n",
       "      <td>millis</td>\n",
       "      <td>,</td>\n",
       "      <td>an</td>\n",
       "      <td>analyst</td>\n",
       "      <td>at</td>\n",
       "      <td>mcdonald</td>\n",
       "      <td>&amp;</td>\n",
       "      <td>co.</td>\n",
       "      <td>in</td>\n",
       "      <td>...</td>\n",
       "      <td>makes</td>\n",
       "      <td>cluster</td>\n",
       "      <td>bombs</td>\n",
       "      <td>for</td>\n",
       "      <td>gencorp</td>\n",
       "      <td>'s</td>\n",
       "      <td>aerojet</td>\n",
       "      <td>ordnance</td>\n",
       "      <td>business</td>\n",
       "      <td>.</td>\n",
       "    </tr>\n",
       "    <tr>\n",
       "      <th>tag</th>\n",
       "      <td>NNP</td>\n",
       "      <td>NNP</td>\n",
       "      <td>,</td>\n",
       "      <td>DT</td>\n",
       "      <td>NN</td>\n",
       "      <td>IN</td>\n",
       "      <td>NNP</td>\n",
       "      <td>CC</td>\n",
       "      <td>NNP</td>\n",
       "      <td>IN</td>\n",
       "      <td>...</td>\n",
       "      <td>VBZ</td>\n",
       "      <td>NN</td>\n",
       "      <td>NNS</td>\n",
       "      <td>IN</td>\n",
       "      <td>NNP</td>\n",
       "      <td>POS</td>\n",
       "      <td>NNP</td>\n",
       "      <td>NNP</td>\n",
       "      <td>NN</td>\n",
       "      <td>.</td>\n",
       "    </tr>\n",
       "    <tr>\n",
       "      <th>prediction</th>\n",
       "      <td>NNP</td>\n",
       "      <td>NNP</td>\n",
       "      <td>,</td>\n",
       "      <td>DT</td>\n",
       "      <td>NN</td>\n",
       "      <td>IN</td>\n",
       "      <td>NNP</td>\n",
       "      <td>CC</td>\n",
       "      <td>NNP</td>\n",
       "      <td>IN</td>\n",
       "      <td>...</td>\n",
       "      <td>VBZ</td>\n",
       "      <td>VBZ</td>\n",
       "      <td>NNS</td>\n",
       "      <td>IN</td>\n",
       "      <td>NNP</td>\n",
       "      <td>POS</td>\n",
       "      <td>JJ</td>\n",
       "      <td>NN</td>\n",
       "      <td>NN</td>\n",
       "      <td>.</td>\n",
       "    </tr>\n",
       "  </tbody>\n",
       "</table>\n",
       "<p>3 rows × 47 columns</p>\n",
       "</div>"
      ],
      "text/plain": [
       "               0       1  2   3        4   5         6   7    8   9   ...  \\\n",
       "word        harry  millis  ,  an  analyst  at  mcdonald   &  co.  in  ...   \n",
       "tag           NNP     NNP  ,  DT       NN  IN       NNP  CC  NNP  IN  ...   \n",
       "prediction    NNP     NNP  ,  DT       NN  IN       NNP  CC  NNP  IN  ...   \n",
       "\n",
       "               37       38     39   40       41   42       43        44  \\\n",
       "word        makes  cluster  bombs  for  gencorp   's  aerojet  ordnance   \n",
       "tag           VBZ       NN    NNS   IN      NNP  POS      NNP       NNP   \n",
       "prediction    VBZ      VBZ    NNS   IN      NNP  POS       JJ        NN   \n",
       "\n",
       "                  45 46  \n",
       "word        business  .  \n",
       "tag               NN  .  \n",
       "prediction        NN  .  \n",
       "\n",
       "[3 rows x 47 columns]"
      ]
     },
     "metadata": {},
     "output_type": "display_data"
    }
   ],
   "source": [
    "select_comparisons_with_given_errors(check_gt_label=[15], check_pred_label=[20,21], num=2)\n",
    "select_comparisons_with_given_errors(check_gt_label=[20,21], check_pred_label=[15], num=2)"
   ]
  },
  {
   "cell_type": "markdown",
   "metadata": {},
   "source": [
    "We notice that some of the adjectives are pretty specific and complex, so the model may have thought they were representative enough to be nouns. Also, some adjectives are also commonly used as nouns and viceversa, causing some problems."
   ]
  }
 ],
 "metadata": {
  "accelerator": "GPU",
  "colab": {
   "name": "main.ipynb",
   "provenance": []
  },
  "interpreter": {
   "hash": "c90f87e5ee49fb7af5481158977e62ba01ae4f54defb58032c9ba197b530ea3c"
  },
  "kernelspec": {
   "display_name": "Python 3 (ipykernel)",
   "language": "python",
   "name": "python3"
  },
  "language_info": {
   "codemirror_mode": {
    "name": "ipython",
    "version": 3
   },
   "file_extension": ".py",
   "mimetype": "text/x-python",
   "name": "python",
   "nbconvert_exporter": "python",
   "pygments_lexer": "ipython3",
   "version": "3.8.10"
  }
 },
 "nbformat": 4,
 "nbformat_minor": 4
}
